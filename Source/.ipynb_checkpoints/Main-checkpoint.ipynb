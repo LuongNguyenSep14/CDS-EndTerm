{
 "cells": [
  {
   "cell_type": "markdown",
   "id": "a34efdcf",
   "metadata": {},
   "source": [
    "# Import Library"
   ]
  },
  {
   "cell_type": "code",
   "execution_count": 1,
   "id": "b2b0ba94",
   "metadata": {},
   "outputs": [],
   "source": [
    "import pandas as pd\n",
    "import numpy as np\n",
    "import seaborn as sns\n",
    "from matplotlib import pyplot as plt\n",
    "pd.set_option(\"display.max_columns\", None)"
   ]
  },
  {
   "cell_type": "markdown",
   "id": "780e616e",
   "metadata": {},
   "source": [
    "---"
   ]
  },
  {
   "cell_type": "markdown",
   "id": "ab9e4b88",
   "metadata": {},
   "source": [
    "# Thu thập dữ liệu"
   ]
  },
  {
   "cell_type": "markdown",
   "id": "2f04eb50",
   "metadata": {},
   "source": [
    "**Dữ liệu được sử dụng trong NoteBook này là thông tin về các phần mềm có trên của hàng Google Play Store của hệ điều hành Android.**\n",
    "> Điện thoại thông minh sử dụng hệ điều hành Android bán chạy nhất trên toàn thế giới kể từ năm 2011 và trên máy tính bảng kể từ năm 2013. Tính đến tháng 5 năm 2017, nó có hơn hai tỷ người dùng hoạt động hàng tháng, cơ sở được cài đặt lớn nhất trong số các hệ điều hành và tính đến tháng 8 năm 2020, Google Play Store có hơn 3 triệu ứng dụng.\n",
    "\n",
    "**Phần mô tả của dữ liệu:**\n",
    "> **Context**:\\\n",
    "While many public datasets (on Kaggle and the like) provide Apple App Store data, there are not many counterpart datasets available for Google Play Store apps anywhere on the web. On digging deeper, I found out that iTunes App Store page deploys a nicely indexed appendix-like structure to allow for simple and easy web scraping. On the other hand, Google Play Store uses sophisticated modern-day techniques (like dynamic page load) using JQuery making scraping more challenging.\n",
    ">\n",
    ">**Content**:\\\n",
    "Each app (row) has values for catergory, rating, size, and more.\n",
    ">\n",
    ">**Acknowledgements:**\\\n",
    "This information is scraped from the Google Play Store. This app information would not be available without it.\n",
    ">\n",
    ">**Inspiration:**\\\n",
    "The Play Store apps data has enormous potential to drive app-making businesses to success. Actionable insights can be drawn for developers to work on and capture the Android market!\n",
    "\n",
    "**Dữ liệu này được Public trên trang Kaggle nhằm mục đích học tập với license như sau:**\n",
    "> This work is licensed under the Creative Commons Attribution 3.0 Unported License. To view a copy of this license, visit http://creativecommons.org/licenses/by/3.0/.\n",
    "\n",
    "**Theo mô tả của tập dữ liệu thì:**\n",
    "- Dữ liệu này được thu thập từ trang Google Play Store và chỉ gồm những thông tin của những phần mềm hiện đang có trên Google Play Store.\n",
    "\n",
    "**Cám ơn [Lavanya](@lavanyagupta) đã cung cấp tập dữ liệu này**\n",
    "\n",
    "**Mình download dữ liệu tại đây [kaggle](https://www.kaggle.com/lava18/google-play-store-apps?select=googleplaystore.csv)**"
   ]
  },
  {
   "cell_type": "markdown",
   "id": "b7f353f0",
   "metadata": {},
   "source": [
    "---"
   ]
  },
  {
   "cell_type": "markdown",
   "id": "41d34111",
   "metadata": {},
   "source": [
    "# Khám phá dữ liệu"
   ]
  },
  {
   "cell_type": "markdown",
   "id": "29a2da60",
   "metadata": {},
   "source": [
    "## Đọc dữ liệu từ file .csv"
   ]
  },
  {
   "cell_type": "markdown",
   "id": "88a84ccc",
   "metadata": {},
   "source": [
    "**Tập dữ liệu `googleplaystore.csv`**"
   ]
  },
  {
   "cell_type": "code",
   "execution_count": 2,
   "id": "40ea1d59",
   "metadata": {},
   "outputs": [],
   "source": [
    "apps = pd.read_csv(\"../Data/googleplaystore.csv\")"
   ]
  },
  {
   "cell_type": "markdown",
   "id": "b1aad741",
   "metadata": {},
   "source": [
    "Hiển thị vài dòng đầu:"
   ]
  },
  {
   "cell_type": "code",
   "execution_count": 3,
   "id": "be1936af",
   "metadata": {
    "scrolled": true
   },
   "outputs": [
    {
     "data": {
      "text/html": [
       "<div>\n",
       "<style scoped>\n",
       "    .dataframe tbody tr th:only-of-type {\n",
       "        vertical-align: middle;\n",
       "    }\n",
       "\n",
       "    .dataframe tbody tr th {\n",
       "        vertical-align: top;\n",
       "    }\n",
       "\n",
       "    .dataframe thead th {\n",
       "        text-align: right;\n",
       "    }\n",
       "</style>\n",
       "<table border=\"1\" class=\"dataframe\">\n",
       "  <thead>\n",
       "    <tr style=\"text-align: right;\">\n",
       "      <th></th>\n",
       "      <th>App</th>\n",
       "      <th>Category</th>\n",
       "      <th>Rating</th>\n",
       "      <th>Reviews</th>\n",
       "      <th>Size</th>\n",
       "      <th>Installs</th>\n",
       "      <th>Type</th>\n",
       "      <th>Price</th>\n",
       "      <th>Content Rating</th>\n",
       "      <th>Genres</th>\n",
       "      <th>Last Updated</th>\n",
       "      <th>Current Ver</th>\n",
       "      <th>Android Ver</th>\n",
       "    </tr>\n",
       "  </thead>\n",
       "  <tbody>\n",
       "    <tr>\n",
       "      <th>0</th>\n",
       "      <td>Photo Editor &amp; Candy Camera &amp; Grid &amp; ScrapBook</td>\n",
       "      <td>ART_AND_DESIGN</td>\n",
       "      <td>4.1</td>\n",
       "      <td>159</td>\n",
       "      <td>19M</td>\n",
       "      <td>10,000+</td>\n",
       "      <td>Free</td>\n",
       "      <td>0</td>\n",
       "      <td>Everyone</td>\n",
       "      <td>Art &amp; Design</td>\n",
       "      <td>January 7, 2018</td>\n",
       "      <td>1.0.0</td>\n",
       "      <td>4.0.3 and up</td>\n",
       "    </tr>\n",
       "    <tr>\n",
       "      <th>1</th>\n",
       "      <td>Coloring book moana</td>\n",
       "      <td>ART_AND_DESIGN</td>\n",
       "      <td>3.9</td>\n",
       "      <td>967</td>\n",
       "      <td>14M</td>\n",
       "      <td>500,000+</td>\n",
       "      <td>Free</td>\n",
       "      <td>0</td>\n",
       "      <td>Everyone</td>\n",
       "      <td>Art &amp; Design;Pretend Play</td>\n",
       "      <td>January 15, 2018</td>\n",
       "      <td>2.0.0</td>\n",
       "      <td>4.0.3 and up</td>\n",
       "    </tr>\n",
       "    <tr>\n",
       "      <th>2</th>\n",
       "      <td>U Launcher Lite – FREE Live Cool Themes, Hide ...</td>\n",
       "      <td>ART_AND_DESIGN</td>\n",
       "      <td>4.7</td>\n",
       "      <td>87510</td>\n",
       "      <td>8.7M</td>\n",
       "      <td>5,000,000+</td>\n",
       "      <td>Free</td>\n",
       "      <td>0</td>\n",
       "      <td>Everyone</td>\n",
       "      <td>Art &amp; Design</td>\n",
       "      <td>August 1, 2018</td>\n",
       "      <td>1.2.4</td>\n",
       "      <td>4.0.3 and up</td>\n",
       "    </tr>\n",
       "    <tr>\n",
       "      <th>3</th>\n",
       "      <td>Sketch - Draw &amp; Paint</td>\n",
       "      <td>ART_AND_DESIGN</td>\n",
       "      <td>4.5</td>\n",
       "      <td>215644</td>\n",
       "      <td>25M</td>\n",
       "      <td>50,000,000+</td>\n",
       "      <td>Free</td>\n",
       "      <td>0</td>\n",
       "      <td>Teen</td>\n",
       "      <td>Art &amp; Design</td>\n",
       "      <td>June 8, 2018</td>\n",
       "      <td>Varies with device</td>\n",
       "      <td>4.2 and up</td>\n",
       "    </tr>\n",
       "    <tr>\n",
       "      <th>4</th>\n",
       "      <td>Pixel Draw - Number Art Coloring Book</td>\n",
       "      <td>ART_AND_DESIGN</td>\n",
       "      <td>4.3</td>\n",
       "      <td>967</td>\n",
       "      <td>2.8M</td>\n",
       "      <td>100,000+</td>\n",
       "      <td>Free</td>\n",
       "      <td>0</td>\n",
       "      <td>Everyone</td>\n",
       "      <td>Art &amp; Design;Creativity</td>\n",
       "      <td>June 20, 2018</td>\n",
       "      <td>1.1</td>\n",
       "      <td>4.4 and up</td>\n",
       "    </tr>\n",
       "  </tbody>\n",
       "</table>\n",
       "</div>"
      ],
      "text/plain": [
       "                                                 App        Category  Rating  \\\n",
       "0     Photo Editor & Candy Camera & Grid & ScrapBook  ART_AND_DESIGN     4.1   \n",
       "1                                Coloring book moana  ART_AND_DESIGN     3.9   \n",
       "2  U Launcher Lite – FREE Live Cool Themes, Hide ...  ART_AND_DESIGN     4.7   \n",
       "3                              Sketch - Draw & Paint  ART_AND_DESIGN     4.5   \n",
       "4              Pixel Draw - Number Art Coloring Book  ART_AND_DESIGN     4.3   \n",
       "\n",
       "  Reviews  Size     Installs  Type Price Content Rating  \\\n",
       "0     159   19M      10,000+  Free     0       Everyone   \n",
       "1     967   14M     500,000+  Free     0       Everyone   \n",
       "2   87510  8.7M   5,000,000+  Free     0       Everyone   \n",
       "3  215644   25M  50,000,000+  Free     0           Teen   \n",
       "4     967  2.8M     100,000+  Free     0       Everyone   \n",
       "\n",
       "                      Genres      Last Updated         Current Ver  \\\n",
       "0               Art & Design   January 7, 2018               1.0.0   \n",
       "1  Art & Design;Pretend Play  January 15, 2018               2.0.0   \n",
       "2               Art & Design    August 1, 2018               1.2.4   \n",
       "3               Art & Design      June 8, 2018  Varies with device   \n",
       "4    Art & Design;Creativity     June 20, 2018                 1.1   \n",
       "\n",
       "    Android Ver  \n",
       "0  4.0.3 and up  \n",
       "1  4.0.3 and up  \n",
       "2  4.0.3 and up  \n",
       "3    4.2 and up  \n",
       "4    4.4 and up  "
      ]
     },
     "execution_count": 3,
     "metadata": {},
     "output_type": "execute_result"
    }
   ],
   "source": [
    "apps.head()"
   ]
  },
  {
   "cell_type": "markdown",
   "id": "986bad25",
   "metadata": {},
   "source": [
    "Hiển thị vài dòng cuối:"
   ]
  },
  {
   "cell_type": "code",
   "execution_count": 4,
   "id": "0251bde8",
   "metadata": {
    "scrolled": false
   },
   "outputs": [
    {
     "data": {
      "text/html": [
       "<div>\n",
       "<style scoped>\n",
       "    .dataframe tbody tr th:only-of-type {\n",
       "        vertical-align: middle;\n",
       "    }\n",
       "\n",
       "    .dataframe tbody tr th {\n",
       "        vertical-align: top;\n",
       "    }\n",
       "\n",
       "    .dataframe thead th {\n",
       "        text-align: right;\n",
       "    }\n",
       "</style>\n",
       "<table border=\"1\" class=\"dataframe\">\n",
       "  <thead>\n",
       "    <tr style=\"text-align: right;\">\n",
       "      <th></th>\n",
       "      <th>App</th>\n",
       "      <th>Category</th>\n",
       "      <th>Rating</th>\n",
       "      <th>Reviews</th>\n",
       "      <th>Size</th>\n",
       "      <th>Installs</th>\n",
       "      <th>Type</th>\n",
       "      <th>Price</th>\n",
       "      <th>Content Rating</th>\n",
       "      <th>Genres</th>\n",
       "      <th>Last Updated</th>\n",
       "      <th>Current Ver</th>\n",
       "      <th>Android Ver</th>\n",
       "    </tr>\n",
       "  </thead>\n",
       "  <tbody>\n",
       "    <tr>\n",
       "      <th>10836</th>\n",
       "      <td>Sya9a Maroc - FR</td>\n",
       "      <td>FAMILY</td>\n",
       "      <td>4.5</td>\n",
       "      <td>38</td>\n",
       "      <td>53M</td>\n",
       "      <td>5,000+</td>\n",
       "      <td>Free</td>\n",
       "      <td>0</td>\n",
       "      <td>Everyone</td>\n",
       "      <td>Education</td>\n",
       "      <td>July 25, 2017</td>\n",
       "      <td>1.48</td>\n",
       "      <td>4.1 and up</td>\n",
       "    </tr>\n",
       "    <tr>\n",
       "      <th>10837</th>\n",
       "      <td>Fr. Mike Schmitz Audio Teachings</td>\n",
       "      <td>FAMILY</td>\n",
       "      <td>5.0</td>\n",
       "      <td>4</td>\n",
       "      <td>3.6M</td>\n",
       "      <td>100+</td>\n",
       "      <td>Free</td>\n",
       "      <td>0</td>\n",
       "      <td>Everyone</td>\n",
       "      <td>Education</td>\n",
       "      <td>July 6, 2018</td>\n",
       "      <td>1.0</td>\n",
       "      <td>4.1 and up</td>\n",
       "    </tr>\n",
       "    <tr>\n",
       "      <th>10838</th>\n",
       "      <td>Parkinson Exercices FR</td>\n",
       "      <td>MEDICAL</td>\n",
       "      <td>NaN</td>\n",
       "      <td>3</td>\n",
       "      <td>9.5M</td>\n",
       "      <td>1,000+</td>\n",
       "      <td>Free</td>\n",
       "      <td>0</td>\n",
       "      <td>Everyone</td>\n",
       "      <td>Medical</td>\n",
       "      <td>January 20, 2017</td>\n",
       "      <td>1.0</td>\n",
       "      <td>2.2 and up</td>\n",
       "    </tr>\n",
       "    <tr>\n",
       "      <th>10839</th>\n",
       "      <td>The SCP Foundation DB fr nn5n</td>\n",
       "      <td>BOOKS_AND_REFERENCE</td>\n",
       "      <td>4.5</td>\n",
       "      <td>114</td>\n",
       "      <td>Varies with device</td>\n",
       "      <td>1,000+</td>\n",
       "      <td>Free</td>\n",
       "      <td>0</td>\n",
       "      <td>Mature 17+</td>\n",
       "      <td>Books &amp; Reference</td>\n",
       "      <td>January 19, 2015</td>\n",
       "      <td>Varies with device</td>\n",
       "      <td>Varies with device</td>\n",
       "    </tr>\n",
       "    <tr>\n",
       "      <th>10840</th>\n",
       "      <td>iHoroscope - 2018 Daily Horoscope &amp; Astrology</td>\n",
       "      <td>LIFESTYLE</td>\n",
       "      <td>4.5</td>\n",
       "      <td>398307</td>\n",
       "      <td>19M</td>\n",
       "      <td>10,000,000+</td>\n",
       "      <td>Free</td>\n",
       "      <td>0</td>\n",
       "      <td>Everyone</td>\n",
       "      <td>Lifestyle</td>\n",
       "      <td>July 25, 2018</td>\n",
       "      <td>Varies with device</td>\n",
       "      <td>Varies with device</td>\n",
       "    </tr>\n",
       "  </tbody>\n",
       "</table>\n",
       "</div>"
      ],
      "text/plain": [
       "                                                 App             Category  \\\n",
       "10836                               Sya9a Maroc - FR               FAMILY   \n",
       "10837               Fr. Mike Schmitz Audio Teachings               FAMILY   \n",
       "10838                         Parkinson Exercices FR              MEDICAL   \n",
       "10839                  The SCP Foundation DB fr nn5n  BOOKS_AND_REFERENCE   \n",
       "10840  iHoroscope - 2018 Daily Horoscope & Astrology            LIFESTYLE   \n",
       "\n",
       "       Rating Reviews                Size     Installs  Type Price  \\\n",
       "10836     4.5      38                 53M       5,000+  Free     0   \n",
       "10837     5.0       4                3.6M         100+  Free     0   \n",
       "10838     NaN       3                9.5M       1,000+  Free     0   \n",
       "10839     4.5     114  Varies with device       1,000+  Free     0   \n",
       "10840     4.5  398307                 19M  10,000,000+  Free     0   \n",
       "\n",
       "      Content Rating             Genres      Last Updated         Current Ver  \\\n",
       "10836       Everyone          Education     July 25, 2017                1.48   \n",
       "10837       Everyone          Education      July 6, 2018                 1.0   \n",
       "10838       Everyone            Medical  January 20, 2017                 1.0   \n",
       "10839     Mature 17+  Books & Reference  January 19, 2015  Varies with device   \n",
       "10840       Everyone          Lifestyle     July 25, 2018  Varies with device   \n",
       "\n",
       "              Android Ver  \n",
       "10836          4.1 and up  \n",
       "10837          4.1 and up  \n",
       "10838          2.2 and up  \n",
       "10839  Varies with device  \n",
       "10840  Varies with device  "
      ]
     },
     "execution_count": 4,
     "metadata": {},
     "output_type": "execute_result"
    }
   ],
   "source": [
    "apps.tail()"
   ]
  },
  {
   "cell_type": "markdown",
   "id": "4032e23e",
   "metadata": {},
   "source": [
    "**Tập dữ liệu `googleplaystore_user_reviews.csv`**"
   ]
  },
  {
   "cell_type": "code",
   "execution_count": 5,
   "id": "fecd4053",
   "metadata": {},
   "outputs": [],
   "source": [
    "reviews = pd.read_csv(\"../Data/googleplaystore_user_reviews.csv\")"
   ]
  },
  {
   "cell_type": "markdown",
   "id": "030eb503",
   "metadata": {},
   "source": [
    "Hiển thị vài dòng đầu:"
   ]
  },
  {
   "cell_type": "code",
   "execution_count": 6,
   "id": "486a6070",
   "metadata": {},
   "outputs": [
    {
     "data": {
      "text/html": [
       "<div>\n",
       "<style scoped>\n",
       "    .dataframe tbody tr th:only-of-type {\n",
       "        vertical-align: middle;\n",
       "    }\n",
       "\n",
       "    .dataframe tbody tr th {\n",
       "        vertical-align: top;\n",
       "    }\n",
       "\n",
       "    .dataframe thead th {\n",
       "        text-align: right;\n",
       "    }\n",
       "</style>\n",
       "<table border=\"1\" class=\"dataframe\">\n",
       "  <thead>\n",
       "    <tr style=\"text-align: right;\">\n",
       "      <th></th>\n",
       "      <th>App</th>\n",
       "      <th>Translated_Review</th>\n",
       "      <th>Sentiment</th>\n",
       "      <th>Sentiment_Polarity</th>\n",
       "      <th>Sentiment_Subjectivity</th>\n",
       "    </tr>\n",
       "  </thead>\n",
       "  <tbody>\n",
       "    <tr>\n",
       "      <th>0</th>\n",
       "      <td>10 Best Foods for You</td>\n",
       "      <td>I like eat delicious food. That's I'm cooking ...</td>\n",
       "      <td>Positive</td>\n",
       "      <td>1.00</td>\n",
       "      <td>0.533333</td>\n",
       "    </tr>\n",
       "    <tr>\n",
       "      <th>1</th>\n",
       "      <td>10 Best Foods for You</td>\n",
       "      <td>This help eating healthy exercise regular basis</td>\n",
       "      <td>Positive</td>\n",
       "      <td>0.25</td>\n",
       "      <td>0.288462</td>\n",
       "    </tr>\n",
       "    <tr>\n",
       "      <th>2</th>\n",
       "      <td>10 Best Foods for You</td>\n",
       "      <td>NaN</td>\n",
       "      <td>NaN</td>\n",
       "      <td>NaN</td>\n",
       "      <td>NaN</td>\n",
       "    </tr>\n",
       "    <tr>\n",
       "      <th>3</th>\n",
       "      <td>10 Best Foods for You</td>\n",
       "      <td>Works great especially going grocery store</td>\n",
       "      <td>Positive</td>\n",
       "      <td>0.40</td>\n",
       "      <td>0.875000</td>\n",
       "    </tr>\n",
       "    <tr>\n",
       "      <th>4</th>\n",
       "      <td>10 Best Foods for You</td>\n",
       "      <td>Best idea us</td>\n",
       "      <td>Positive</td>\n",
       "      <td>1.00</td>\n",
       "      <td>0.300000</td>\n",
       "    </tr>\n",
       "  </tbody>\n",
       "</table>\n",
       "</div>"
      ],
      "text/plain": [
       "                     App                                  Translated_Review  \\\n",
       "0  10 Best Foods for You  I like eat delicious food. That's I'm cooking ...   \n",
       "1  10 Best Foods for You    This help eating healthy exercise regular basis   \n",
       "2  10 Best Foods for You                                                NaN   \n",
       "3  10 Best Foods for You         Works great especially going grocery store   \n",
       "4  10 Best Foods for You                                       Best idea us   \n",
       "\n",
       "  Sentiment  Sentiment_Polarity  Sentiment_Subjectivity  \n",
       "0  Positive                1.00                0.533333  \n",
       "1  Positive                0.25                0.288462  \n",
       "2       NaN                 NaN                     NaN  \n",
       "3  Positive                0.40                0.875000  \n",
       "4  Positive                1.00                0.300000  "
      ]
     },
     "execution_count": 6,
     "metadata": {},
     "output_type": "execute_result"
    }
   ],
   "source": [
    "reviews.head()"
   ]
  },
  {
   "cell_type": "markdown",
   "id": "804ea48b",
   "metadata": {},
   "source": [
    "Hiển thị vài dòng cuối:"
   ]
  },
  {
   "cell_type": "code",
   "execution_count": 7,
   "id": "8bf66297",
   "metadata": {
    "scrolled": false
   },
   "outputs": [
    {
     "data": {
      "text/html": [
       "<div>\n",
       "<style scoped>\n",
       "    .dataframe tbody tr th:only-of-type {\n",
       "        vertical-align: middle;\n",
       "    }\n",
       "\n",
       "    .dataframe tbody tr th {\n",
       "        vertical-align: top;\n",
       "    }\n",
       "\n",
       "    .dataframe thead th {\n",
       "        text-align: right;\n",
       "    }\n",
       "</style>\n",
       "<table border=\"1\" class=\"dataframe\">\n",
       "  <thead>\n",
       "    <tr style=\"text-align: right;\">\n",
       "      <th></th>\n",
       "      <th>App</th>\n",
       "      <th>Translated_Review</th>\n",
       "      <th>Sentiment</th>\n",
       "      <th>Sentiment_Polarity</th>\n",
       "      <th>Sentiment_Subjectivity</th>\n",
       "    </tr>\n",
       "  </thead>\n",
       "  <tbody>\n",
       "    <tr>\n",
       "      <th>64290</th>\n",
       "      <td>Houzz Interior Design Ideas</td>\n",
       "      <td>NaN</td>\n",
       "      <td>NaN</td>\n",
       "      <td>NaN</td>\n",
       "      <td>NaN</td>\n",
       "    </tr>\n",
       "    <tr>\n",
       "      <th>64291</th>\n",
       "      <td>Houzz Interior Design Ideas</td>\n",
       "      <td>NaN</td>\n",
       "      <td>NaN</td>\n",
       "      <td>NaN</td>\n",
       "      <td>NaN</td>\n",
       "    </tr>\n",
       "    <tr>\n",
       "      <th>64292</th>\n",
       "      <td>Houzz Interior Design Ideas</td>\n",
       "      <td>NaN</td>\n",
       "      <td>NaN</td>\n",
       "      <td>NaN</td>\n",
       "      <td>NaN</td>\n",
       "    </tr>\n",
       "    <tr>\n",
       "      <th>64293</th>\n",
       "      <td>Houzz Interior Design Ideas</td>\n",
       "      <td>NaN</td>\n",
       "      <td>NaN</td>\n",
       "      <td>NaN</td>\n",
       "      <td>NaN</td>\n",
       "    </tr>\n",
       "    <tr>\n",
       "      <th>64294</th>\n",
       "      <td>Houzz Interior Design Ideas</td>\n",
       "      <td>NaN</td>\n",
       "      <td>NaN</td>\n",
       "      <td>NaN</td>\n",
       "      <td>NaN</td>\n",
       "    </tr>\n",
       "  </tbody>\n",
       "</table>\n",
       "</div>"
      ],
      "text/plain": [
       "                               App Translated_Review Sentiment  \\\n",
       "64290  Houzz Interior Design Ideas               NaN       NaN   \n",
       "64291  Houzz Interior Design Ideas               NaN       NaN   \n",
       "64292  Houzz Interior Design Ideas               NaN       NaN   \n",
       "64293  Houzz Interior Design Ideas               NaN       NaN   \n",
       "64294  Houzz Interior Design Ideas               NaN       NaN   \n",
       "\n",
       "       Sentiment_Polarity  Sentiment_Subjectivity  \n",
       "64290                 NaN                     NaN  \n",
       "64291                 NaN                     NaN  \n",
       "64292                 NaN                     NaN  \n",
       "64293                 NaN                     NaN  \n",
       "64294                 NaN                     NaN  "
      ]
     },
     "execution_count": 7,
     "metadata": {},
     "output_type": "execute_result"
    }
   ],
   "source": [
    "reviews.tail()"
   ]
  },
  {
   "cell_type": "markdown",
   "id": "4d6497da",
   "metadata": {},
   "source": [
    "## Dữ liệu có bao nhiêu dòng và bao nhiêu cột?"
   ]
  },
  {
   "cell_type": "code",
   "execution_count": 8,
   "id": "af83800e",
   "metadata": {},
   "outputs": [
    {
     "name": "stdout",
     "output_type": "stream",
     "text": [
      "Apps Dataset have 10841 rows and 13 columns\n"
     ]
    }
   ],
   "source": [
    "apps_nrows, apps_ncols = apps.shape\n",
    "\n",
    "print(\"Apps Dataset have {} rows and {} columns\".format(apps_nrows, apps_ncols))"
   ]
  },
  {
   "cell_type": "code",
   "execution_count": 9,
   "id": "73b47969",
   "metadata": {},
   "outputs": [
    {
     "name": "stdout",
     "output_type": "stream",
     "text": [
      "Reviews Dataset have 64295 rows and 5 columns\n"
     ]
    }
   ],
   "source": [
    "reviews_nrows, reviews_ncols = reviews.shape\n",
    "\n",
    "print(\"Reviews Dataset have {} rows and {} columns\".format(reviews_nrows, reviews_ncols))"
   ]
  },
  {
   "cell_type": "markdown",
   "id": "5c01c0ad",
   "metadata": {},
   "source": [
    "## Mỗi dòng có ý nghĩa gì? Có vấn đề các dòng có ý nghĩa khác nhau không?"
   ]
  },
  {
   "cell_type": "markdown",
   "id": "4eecf70b",
   "metadata": {},
   "source": [
    "- Ở tập dữ liệu `googleplaystore.csv`:\n",
    "    - Mỗi 1 dòng là 1 reviews về 1 phần mềm nào đó (các phần mêm có thể trùng nhau).\n",
    "- Ở tập dữ liệu `googleplaystore_user_reviews.csv`\n",
    "    - Mỗi 1 dòng là 1 thông tin về 1 phần mềm hiện đang có trong Google Play Store."
   ]
  },
  {
   "cell_type": "markdown",
   "id": "16f81730",
   "metadata": {},
   "source": [
    "## Dữ liệu có các dòng bị lặp không?"
   ]
  },
  {
   "cell_type": "code",
   "execution_count": 10,
   "id": "a4fcbc9f",
   "metadata": {},
   "outputs": [
    {
     "name": "stdout",
     "output_type": "stream",
     "text": [
      "Number of duplicated rows in Apps Dataset: 483\n"
     ]
    }
   ],
   "source": [
    "num_duplicated_apps = len(apps) - len(apps.drop_duplicates())\n",
    "\n",
    "print(\"Number of duplicated rows in Apps Dataset: {}\".format(num_duplicated_apps))"
   ]
  },
  {
   "cell_type": "markdown",
   "id": "d7cf191e",
   "metadata": {},
   "source": [
    "$\\to$ tiến hành xóa các dòng bị trùng lắp."
   ]
  },
  {
   "cell_type": "code",
   "execution_count": 11,
   "id": "6670914a",
   "metadata": {},
   "outputs": [],
   "source": [
    "apps.drop_duplicates(keep=\"first\", inplace=True)"
   ]
  },
  {
   "cell_type": "markdown",
   "id": "8f4bcaab",
   "metadata": {},
   "source": [
    "`shape` của tập dữ liệu sau khi xóa các dòng trùng lắp"
   ]
  },
  {
   "cell_type": "code",
   "execution_count": 12,
   "id": "94878684",
   "metadata": {},
   "outputs": [
    {
     "data": {
      "text/plain": [
       "(10358, 13)"
      ]
     },
     "execution_count": 12,
     "metadata": {},
     "output_type": "execute_result"
    }
   ],
   "source": [
    "apps.shape"
   ]
  },
  {
   "cell_type": "code",
   "execution_count": 13,
   "id": "0c8784f3",
   "metadata": {},
   "outputs": [
    {
     "name": "stdout",
     "output_type": "stream",
     "text": [
      "Number of duplicated rows in Reviews Dataset: 33616\n"
     ]
    }
   ],
   "source": [
    "num_duplicated_reviews = len(reviews) - len(reviews.drop_duplicates())\n",
    "\n",
    "print(\"Number of duplicated rows in Reviews Dataset: {}\".format(num_duplicated_reviews))"
   ]
  },
  {
   "cell_type": "markdown",
   "id": "1d77c5a0",
   "metadata": {},
   "source": [
    "$\\to$ tiến hành xóa các dòng bị trùng lắp."
   ]
  },
  {
   "cell_type": "code",
   "execution_count": 14,
   "id": "dff62e6d",
   "metadata": {},
   "outputs": [],
   "source": [
    "reviews.drop_duplicates(inplace=True)"
   ]
  },
  {
   "cell_type": "markdown",
   "id": "eca4c264",
   "metadata": {},
   "source": [
    "`shape` của tập dữ liệu sau khi xóa các dòng trùng lắp"
   ]
  },
  {
   "cell_type": "code",
   "execution_count": 15,
   "id": "0cc853f6",
   "metadata": {},
   "outputs": [
    {
     "data": {
      "text/plain": [
       "(30679, 5)"
      ]
     },
     "execution_count": 15,
     "metadata": {},
     "output_type": "execute_result"
    }
   ],
   "source": [
    "reviews.shape"
   ]
  },
  {
   "cell_type": "markdown",
   "id": "391e0c52",
   "metadata": {},
   "source": [
    "## Mỗi cột có ý nghĩa gì?"
   ]
  },
  {
   "cell_type": "markdown",
   "id": "a3b3494b",
   "metadata": {},
   "source": [
    "**Tập dữ liệu `googleplaystore.csv`**\n",
    "> Details of the applications on Google Play. There are 13 features thstrong strong texttextat describe a given app.. Expilo. Ed"
   ]
  },
  {
   "cell_type": "markdown",
   "id": "217a2089",
   "metadata": {},
   "source": [
    "|tên cột|ý nghĩa|\n",
    "|-|-|\n",
    "|App|Application name|\n",
    "|Category|Category the app belongs to|\n",
    "|Rating|Overall user rating of the app (as when scraped)|\n",
    "|Reviews|Number of user reviews for the app (as when scraped)|\n",
    "|Size|Size of the app (as when scraped)|\n",
    "|Installs|Number of user downloads/installs for the app (as when scraped)|\n",
    "|Type|Paid or Free|\n",
    "|Price|Price of the app (as when scraped)|\n",
    "|Content Rating|Age group the app is targeted at - Children / Mature 21+ / Adult|\n",
    "|Genres|An app can belong to multiple genres (apart from its main category). For eg, a musical family game will belong to|\n",
    "|Last Updated|Date when the app was last updated on Play Store (as when scraped)|\n",
    "|Current Ver|Current version of the app available on Play Store (as when scraped)|\n",
    "|Android Ver|Min required Android version (as when scraped)|"
   ]
  },
  {
   "cell_type": "markdown",
   "id": "a9959ac0",
   "metadata": {},
   "source": [
    "**Tập dữ liệu `googleplaystore_user_reviews.csv`**\n",
    "> This file contains the first 'most relevant' 100 reviews for each app. Each review text/comment has been pre-processed and attributed with 3 new features - Sentiment, Sentiment Polarity and Sentiment Subjectivity."
   ]
  },
  {
   "cell_type": "markdown",
   "id": "579c33fa",
   "metadata": {},
   "source": [
    "|tên cột|ý nghĩa|\n",
    "|-|-|\n",
    "|App|Application name|\n",
    "|Translated_Review|User review (Preprocessed and translated to English)|\n",
    "|Sentiment|Positive/Negative/Neutral (Preprocessed)|\n",
    "|Sentiment_Polarity|Sentiment polarity score|\n",
    "|Sentiment_Subjectivity|Sentiment subjectivity score|"
   ]
  },
  {
   "cell_type": "markdown",
   "id": "dc4aae6b",
   "metadata": {},
   "source": [
    "## Mỗi cột hiện đang có kiểu dữ liệu gì? Có cột nào có kiểu dữ liệu chưa phù hợp để có thể xử lý tiếp không?"
   ]
  },
  {
   "cell_type": "code",
   "execution_count": 16,
   "id": "ca32b037",
   "metadata": {},
   "outputs": [
    {
     "data": {
      "text/plain": [
       "App                object\n",
       "Category           object\n",
       "Rating            float64\n",
       "Reviews            object\n",
       "Size               object\n",
       "Installs           object\n",
       "Type               object\n",
       "Price              object\n",
       "Content Rating     object\n",
       "Genres             object\n",
       "Last Updated       object\n",
       "Current Ver        object\n",
       "Android Ver        object\n",
       "dtype: object"
      ]
     },
     "execution_count": 16,
     "metadata": {},
     "output_type": "execute_result"
    }
   ],
   "source": [
    "apps.dtypes"
   ]
  },
  {
   "cell_type": "code",
   "execution_count": 17,
   "id": "57208721",
   "metadata": {
    "scrolled": true
   },
   "outputs": [
    {
     "data": {
      "text/plain": [
       "App                        object\n",
       "Translated_Review          object\n",
       "Sentiment                  object\n",
       "Sentiment_Polarity        float64\n",
       "Sentiment_Subjectivity    float64\n",
       "dtype: object"
      ]
     },
     "execution_count": 17,
     "metadata": {},
     "output_type": "execute_result"
    }
   ],
   "source": [
    "reviews.dtypes"
   ]
  },
  {
   "cell_type": "markdown",
   "id": "52c3b3e9",
   "metadata": {},
   "source": [
    "Ta thấy cột `Size`, `Install`, `Price`, `Reviews` của tập dữ liệu `googleplaystore.csv` nên có kiểu dữ liệu số."
   ]
  },
  {
   "cell_type": "code",
   "execution_count": 18,
   "id": "32557c6a",
   "metadata": {
    "scrolled": true
   },
   "outputs": [
    {
     "data": {
      "text/plain": [
       "array(['19M', '14M', '8.7M', '25M', '2.8M', '5.6M', '29M', '33M', '3.1M',\n",
       "       '28M', '12M', '20M', '21M', '37M', '2.7M', '5.5M', '17M', '39M',\n",
       "       '31M', '4.2M', '7.0M', '23M', '6.0M', '6.1M', '4.6M', '9.2M',\n",
       "       '5.2M', '11M', '24M', 'Varies with device', '9.4M', '15M', '10M',\n",
       "       '1.2M', '26M', '8.0M', '7.9M', '56M', '57M', '35M', '54M', '201k',\n",
       "       '3.6M', '5.7M', '8.6M', '2.4M', '27M', '2.5M', '16M', '3.4M',\n",
       "       '8.9M', '3.9M', '2.9M', '38M', '32M', '5.4M', '18M', '1.1M',\n",
       "       '2.2M', '4.5M', '9.8M', '52M', '9.0M', '6.7M', '30M', '2.6M',\n",
       "       '7.1M', '3.7M', '22M', '7.4M', '6.4M', '3.2M', '8.2M', '9.9M',\n",
       "       '4.9M', '9.5M', '5.0M', '5.9M', '13M', '73M', '6.8M', '3.5M',\n",
       "       '4.0M', '2.3M', '7.2M', '2.1M', '42M', '7.3M', '9.1M', '55M',\n",
       "       '23k', '6.5M', '1.5M', '7.5M', '51M', '41M', '48M', '8.5M', '46M',\n",
       "       '8.3M', '4.3M', '4.7M', '3.3M', '40M', '7.8M', '8.8M', '6.6M',\n",
       "       '5.1M', '61M', '66M', '79k', '8.4M', '118k', '44M', '695k', '1.6M',\n",
       "       '6.2M', '18k', '53M', '1.4M', '3.0M', '5.8M', '3.8M', '9.6M',\n",
       "       '45M', '63M', '49M', '77M', '4.4M', '4.8M', '70M', '6.9M', '9.3M',\n",
       "       '10.0M', '8.1M', '36M', '84M', '97M', '2.0M', '1.9M', '1.8M',\n",
       "       '5.3M', '47M', '556k', '526k', '76M', '7.6M', '59M', '9.7M', '78M',\n",
       "       '72M', '43M', '7.7M', '6.3M', '334k', '34M', '93M', '65M', '79M',\n",
       "       '100M', '58M', '50M', '68M', '64M', '67M', '60M', '94M', '232k',\n",
       "       '99M', '624k', '95M', '8.5k', '41k', '292k', '11k', '80M', '1.7M',\n",
       "       '74M', '62M', '69M', '75M', '98M', '85M', '82M', '96M', '87M',\n",
       "       '71M', '86M', '91M', '81M', '92M', '83M', '88M', '704k', '862k',\n",
       "       '899k', '378k', '266k', '375k', '1.3M', '975k', '980k', '4.1M',\n",
       "       '89M', '696k', '544k', '525k', '920k', '779k', '853k', '720k',\n",
       "       '713k', '772k', '318k', '58k', '241k', '196k', '857k', '51k',\n",
       "       '953k', '865k', '251k', '930k', '540k', '313k', '746k', '203k',\n",
       "       '26k', '314k', '239k', '371k', '220k', '730k', '756k', '91k',\n",
       "       '293k', '17k', '74k', '14k', '317k', '78k', '924k', '902k', '818k',\n",
       "       '81k', '939k', '169k', '45k', '475k', '965k', '90M', '545k', '61k',\n",
       "       '283k', '655k', '714k', '93k', '872k', '121k', '322k', '1.0M',\n",
       "       '976k', '172k', '238k', '549k', '206k', '954k', '444k', '717k',\n",
       "       '210k', '609k', '308k', '705k', '306k', '904k', '473k', '175k',\n",
       "       '350k', '383k', '454k', '421k', '70k', '812k', '442k', '842k',\n",
       "       '417k', '412k', '459k', '478k', '335k', '782k', '721k', '430k',\n",
       "       '429k', '192k', '200k', '460k', '728k', '496k', '816k', '414k',\n",
       "       '506k', '887k', '613k', '243k', '569k', '778k', '683k', '592k',\n",
       "       '319k', '186k', '840k', '647k', '191k', '373k', '437k', '598k',\n",
       "       '716k', '585k', '982k', '222k', '219k', '55k', '948k', '323k',\n",
       "       '691k', '511k', '951k', '963k', '25k', '554k', '351k', '27k',\n",
       "       '82k', '208k', '913k', '514k', '551k', '29k', '103k', '898k',\n",
       "       '743k', '116k', '153k', '209k', '353k', '499k', '173k', '597k',\n",
       "       '809k', '122k', '411k', '400k', '801k', '787k', '237k', '50k',\n",
       "       '643k', '986k', '97k', '516k', '837k', '780k', '961k', '269k',\n",
       "       '20k', '498k', '600k', '749k', '642k', '881k', '72k', '656k',\n",
       "       '601k', '221k', '228k', '108k', '940k', '176k', '33k', '663k',\n",
       "       '34k', '942k', '259k', '164k', '458k', '245k', '629k', '28k',\n",
       "       '288k', '775k', '785k', '636k', '916k', '994k', '309k', '485k',\n",
       "       '914k', '903k', '608k', '500k', '54k', '562k', '847k', '957k',\n",
       "       '688k', '811k', '270k', '48k', '329k', '523k', '921k', '874k',\n",
       "       '981k', '784k', '280k', '24k', '518k', '754k', '892k', '154k',\n",
       "       '860k', '364k', '387k', '626k', '161k', '879k', '39k', '970k',\n",
       "       '170k', '141k', '160k', '144k', '143k', '190k', '376k', '193k',\n",
       "       '246k', '73k', '658k', '992k', '253k', '420k', '404k', '1,000+',\n",
       "       '470k', '226k', '240k', '89k', '234k', '257k', '861k', '467k',\n",
       "       '157k', '44k', '676k', '67k', '552k', '885k', '1020k', '582k',\n",
       "       '619k'], dtype=object)"
      ]
     },
     "execution_count": 18,
     "metadata": {},
     "output_type": "execute_result"
    }
   ],
   "source": [
    "apps[\"Size\"].unique()"
   ]
  },
  {
   "cell_type": "code",
   "execution_count": 19,
   "id": "c8c379bb",
   "metadata": {},
   "outputs": [
    {
     "data": {
      "text/plain": [
       "0            10,000+\n",
       "1           500,000+\n",
       "2         5,000,000+\n",
       "3        50,000,000+\n",
       "4           100,000+\n",
       "            ...     \n",
       "10836         5,000+\n",
       "10837           100+\n",
       "10838         1,000+\n",
       "10839         1,000+\n",
       "10840    10,000,000+\n",
       "Name: Installs, Length: 10358, dtype: object"
      ]
     },
     "execution_count": 19,
     "metadata": {},
     "output_type": "execute_result"
    }
   ],
   "source": [
    "apps.Installs"
   ]
  },
  {
   "cell_type": "code",
   "execution_count": 20,
   "id": "f5cf423e",
   "metadata": {
    "scrolled": true
   },
   "outputs": [
    {
     "data": {
      "text/plain": [
       "array(['0', '$4.99', '$3.99', '$6.99', '$1.49', '$2.99', '$7.99', '$5.99',\n",
       "       '$3.49', '$1.99', '$9.99', '$7.49', '$0.99', '$9.00', '$5.49',\n",
       "       '$10.00', '$24.99', '$11.99', '$79.99', '$16.99', '$14.99',\n",
       "       '$1.00', '$29.99', '$12.99', '$2.49', '$10.99', '$1.50', '$19.99',\n",
       "       '$15.99', '$33.99', '$74.99', '$39.99', '$3.95', '$4.49', '$1.70',\n",
       "       '$8.99', '$2.00', '$3.88', '$25.99', '$399.99', '$17.99',\n",
       "       '$400.00', '$3.02', '$1.76', '$4.84', '$4.77', '$1.61', '$2.50',\n",
       "       '$1.59', '$6.49', '$1.29', '$5.00', '$13.99', '$299.99', '$379.99',\n",
       "       '$37.99', '$18.99', '$389.99', '$19.90', '$8.49', '$1.75',\n",
       "       '$14.00', '$4.85', '$46.99', '$109.99', '$154.99', '$3.08',\n",
       "       '$2.59', '$4.80', '$1.96', '$19.40', '$3.90', '$4.59', '$15.46',\n",
       "       '$3.04', '$4.29', '$2.60', '$3.28', '$4.60', '$28.99', '$2.95',\n",
       "       '$2.90', '$1.97', '$200.00', '$89.99', '$2.56', '$30.99', '$3.61',\n",
       "       '$394.99', '$1.26', 'Everyone', '$1.20', '$1.04'], dtype=object)"
      ]
     },
     "execution_count": 20,
     "metadata": {},
     "output_type": "execute_result"
    }
   ],
   "source": [
    "apps.Price.unique()"
   ]
  },
  {
   "cell_type": "code",
   "execution_count": 21,
   "id": "e37e1577",
   "metadata": {},
   "outputs": [
    {
     "data": {
      "text/plain": [
       "3673        400\n",
       "8251       2557\n",
       "5913         87\n",
       "9416        146\n",
       "3306      33509\n",
       "7485          0\n",
       "7077     516917\n",
       "10244       670\n",
       "8728          3\n",
       "1043          5\n",
       "Name: Reviews, dtype: object"
      ]
     },
     "execution_count": 21,
     "metadata": {},
     "output_type": "execute_result"
    }
   ],
   "source": [
    "apps.Reviews.sample(10)"
   ]
  },
  {
   "cell_type": "markdown",
   "id": "923b9966",
   "metadata": {},
   "source": [
    "---"
   ]
  },
  {
   "cell_type": "markdown",
   "id": "a305d641",
   "metadata": {},
   "source": [
    "# Tiền xử lý"
   ]
  },
  {
   "cell_type": "markdown",
   "id": "0370c23b",
   "metadata": {},
   "source": [
    "Chuyển cột `size` về dạng số.\n",
    "* nếu là `K` thì chia cho 1000\n",
    "* nếu là `M` thì giữ nguyên\n",
    "* nếu là `Varies with device` thì gán là 0."
   ]
  },
  {
   "cell_type": "markdown",
   "id": "dcfcd5aa",
   "metadata": {},
   "source": [
    "Tự định nghĩa hàm để chuyển đổi `dtype` cho cột `size`:"
   ]
  },
  {
   "cell_type": "code",
   "execution_count": 22,
   "id": "7ab0ef4e",
   "metadata": {},
   "outputs": [],
   "source": [
    "def conv2Num4Size(row):\n",
    "    new_row = None\n",
    "    if 'M' in row:\n",
    "        new_row = float(row.replace('M', ''))\n",
    "    elif 'K' in row:\n",
    "        new_row = float(row.replace('K', '')/1000)\n",
    "    else:\n",
    "        return 0\n",
    "    return new_row"
   ]
  },
  {
   "cell_type": "code",
   "execution_count": 23,
   "id": "0c62ec38",
   "metadata": {},
   "outputs": [],
   "source": [
    "apps[\"Size\"] = apps[\"Size\"].apply(conv2Num4Size)"
   ]
  },
  {
   "cell_type": "markdown",
   "id": "d0c1b01b",
   "metadata": {},
   "source": [
    "Xem lại kiểu dữ liệu của cột `Size`"
   ]
  },
  {
   "cell_type": "code",
   "execution_count": 24,
   "id": "82a270ae",
   "metadata": {},
   "outputs": [
    {
     "data": {
      "text/plain": [
       "dtype('float64')"
      ]
     },
     "execution_count": 24,
     "metadata": {},
     "output_type": "execute_result"
    }
   ],
   "source": [
    "apps.Size.dtype"
   ]
  },
  {
   "cell_type": "markdown",
   "id": "1a7862e6",
   "metadata": {},
   "source": [
    "Chuyển cột `Installs` về dạng số\n",
    "* xóa dấu `+` và dấu `,` sau đó chuyển về kiểu `int`"
   ]
  },
  {
   "cell_type": "code",
   "execution_count": 25,
   "id": "84e00ea0",
   "metadata": {},
   "outputs": [],
   "source": [
    "apps[\"Installs\"] = apps[\"Installs\"].apply(lambda x: int(x.replace('+','').replace(',',''))\\\n",
    "                                         if x != \"Free\" else 0)"
   ]
  },
  {
   "cell_type": "markdown",
   "id": "e58d7b52",
   "metadata": {},
   "source": [
    "Xem lại kiểu dữ liệu của cột `Installs`"
   ]
  },
  {
   "cell_type": "code",
   "execution_count": 26,
   "id": "b2861f49",
   "metadata": {},
   "outputs": [
    {
     "data": {
      "text/plain": [
       "dtype('int64')"
      ]
     },
     "execution_count": 26,
     "metadata": {},
     "output_type": "execute_result"
    }
   ],
   "source": [
    "apps.Installs.dtype"
   ]
  },
  {
   "cell_type": "markdown",
   "id": "6c0d427d",
   "metadata": {},
   "source": [
    "Chuyển cột `Price` về dạng số\n",
    "* Xóa dấu `$` và chuyển về kiểu `float`\n",
    "* Nếu bị thiếu thì điền vào là `0`.\n",
    "* Nếu là `Everyone` thì điền vào là `0`."
   ]
  },
  {
   "cell_type": "markdown",
   "id": "94c208cb",
   "metadata": {},
   "source": [
    "Tự định nghĩa hàm để chuyển kiểu dữ liệu cho cột `Price`:"
   ]
  },
  {
   "cell_type": "code",
   "execution_count": 27,
   "id": "48a40674",
   "metadata": {},
   "outputs": [],
   "source": [
    "def conv2Num4Price(row):\n",
    "    if row == \"Everyone\":\n",
    "        return 0\n",
    "    else:\n",
    "        new_row = row.replace(\",\",'').replace('$','')\n",
    "        return float(new_row)"
   ]
  },
  {
   "cell_type": "code",
   "execution_count": 28,
   "id": "2776f2c6",
   "metadata": {},
   "outputs": [],
   "source": [
    "apps[\"Price\"] = apps[\"Price\"].apply(conv2Num4Price)"
   ]
  },
  {
   "cell_type": "markdown",
   "id": "3f72f73f",
   "metadata": {},
   "source": [
    "Xem lại kiểu dữ liệu của cột `Price`:"
   ]
  },
  {
   "cell_type": "code",
   "execution_count": 29,
   "id": "eb7b75a8",
   "metadata": {},
   "outputs": [
    {
     "data": {
      "text/plain": [
       "dtype('float64')"
      ]
     },
     "execution_count": 29,
     "metadata": {},
     "output_type": "execute_result"
    }
   ],
   "source": [
    "apps[\"Price\"].dtype"
   ]
  },
  {
   "cell_type": "markdown",
   "id": "7695165f",
   "metadata": {},
   "source": [
    "Cuối cùng là chuyển cột `Reviews` về dạng số:"
   ]
  },
  {
   "cell_type": "code",
   "execution_count": 30,
   "id": "a27f0e90",
   "metadata": {},
   "outputs": [],
   "source": [
    "apps[\"Reviews\"] = apps[\"Reviews\"].apply(lambda x: int(float(x.replace(\"M\", ''))*1000) if 'M' in x else int(x))"
   ]
  },
  {
   "cell_type": "markdown",
   "id": "a254a648",
   "metadata": {},
   "source": [
    "Xem lại kiểu dữ liệu của cột `Reviews`"
   ]
  },
  {
   "cell_type": "code",
   "execution_count": 31,
   "id": "a44832df",
   "metadata": {},
   "outputs": [
    {
     "data": {
      "text/plain": [
       "dtype('int64')"
      ]
     },
     "execution_count": 31,
     "metadata": {},
     "output_type": "execute_result"
    }
   ],
   "source": [
    "apps.Reviews.dtype"
   ]
  },
  {
   "cell_type": "markdown",
   "id": "0dcd6163",
   "metadata": {},
   "source": [
    "---"
   ]
  },
  {
   "cell_type": "markdown",
   "id": "4e8c10f5",
   "metadata": {},
   "source": [
    "# Quay lại bước khám phá dữ liệu"
   ]
  },
  {
   "cell_type": "markdown",
   "id": "a303d39e",
   "metadata": {},
   "source": [
    "## Với mỗi cột có kiểu dữ liệu dạng số (numerical), các giá trị được phân bố như thế nào?"
   ]
  },
  {
   "cell_type": "code",
   "execution_count": 32,
   "id": "6b3d027d",
   "metadata": {
    "scrolled": true
   },
   "outputs": [
    {
     "data": {
      "text/html": [
       "<div>\n",
       "<style scoped>\n",
       "    .dataframe tbody tr th:only-of-type {\n",
       "        vertical-align: middle;\n",
       "    }\n",
       "\n",
       "    .dataframe tbody tr th {\n",
       "        vertical-align: top;\n",
       "    }\n",
       "\n",
       "    .dataframe thead th {\n",
       "        text-align: right;\n",
       "    }\n",
       "</style>\n",
       "<table border=\"1\" class=\"dataframe\">\n",
       "  <thead>\n",
       "    <tr style=\"text-align: right;\">\n",
       "      <th></th>\n",
       "      <th>Rating</th>\n",
       "      <th>Reviews</th>\n",
       "      <th>Size</th>\n",
       "      <th>Installs</th>\n",
       "      <th>Price</th>\n",
       "    </tr>\n",
       "  </thead>\n",
       "  <tbody>\n",
       "    <tr>\n",
       "      <th>count</th>\n",
       "      <td>8893.000000</td>\n",
       "      <td>1.035800e+04</td>\n",
       "      <td>10358.000000</td>\n",
       "      <td>1.035800e+04</td>\n",
       "      <td>10358.000000</td>\n",
       "    </tr>\n",
       "    <tr>\n",
       "      <th>mean</th>\n",
       "      <td>4.189542</td>\n",
       "      <td>4.058657e+05</td>\n",
       "      <td>18.135847</td>\n",
       "      <td>1.415639e+07</td>\n",
       "      <td>1.030701</td>\n",
       "    </tr>\n",
       "    <tr>\n",
       "      <th>std</th>\n",
       "      <td>0.545452</td>\n",
       "      <td>2.696651e+06</td>\n",
       "      <td>22.149628</td>\n",
       "      <td>8.023580e+07</td>\n",
       "      <td>16.277843</td>\n",
       "    </tr>\n",
       "    <tr>\n",
       "      <th>min</th>\n",
       "      <td>1.000000</td>\n",
       "      <td>0.000000e+00</td>\n",
       "      <td>0.000000</td>\n",
       "      <td>0.000000e+00</td>\n",
       "      <td>0.000000</td>\n",
       "    </tr>\n",
       "    <tr>\n",
       "      <th>25%</th>\n",
       "      <td>4.000000</td>\n",
       "      <td>3.200000e+01</td>\n",
       "      <td>2.700000</td>\n",
       "      <td>1.000000e+03</td>\n",
       "      <td>0.000000</td>\n",
       "    </tr>\n",
       "    <tr>\n",
       "      <th>50%</th>\n",
       "      <td>4.300000</td>\n",
       "      <td>1.683000e+03</td>\n",
       "      <td>9.100000</td>\n",
       "      <td>1.000000e+05</td>\n",
       "      <td>0.000000</td>\n",
       "    </tr>\n",
       "    <tr>\n",
       "      <th>75%</th>\n",
       "      <td>4.500000</td>\n",
       "      <td>4.640425e+04</td>\n",
       "      <td>26.000000</td>\n",
       "      <td>1.000000e+06</td>\n",
       "      <td>0.000000</td>\n",
       "    </tr>\n",
       "    <tr>\n",
       "      <th>max</th>\n",
       "      <td>19.000000</td>\n",
       "      <td>7.815831e+07</td>\n",
       "      <td>100.000000</td>\n",
       "      <td>1.000000e+09</td>\n",
       "      <td>400.000000</td>\n",
       "    </tr>\n",
       "  </tbody>\n",
       "</table>\n",
       "</div>"
      ],
      "text/plain": [
       "            Rating       Reviews          Size      Installs         Price\n",
       "count  8893.000000  1.035800e+04  10358.000000  1.035800e+04  10358.000000\n",
       "mean      4.189542  4.058657e+05     18.135847  1.415639e+07      1.030701\n",
       "std       0.545452  2.696651e+06     22.149628  8.023580e+07     16.277843\n",
       "min       1.000000  0.000000e+00      0.000000  0.000000e+00      0.000000\n",
       "25%       4.000000  3.200000e+01      2.700000  1.000000e+03      0.000000\n",
       "50%       4.300000  1.683000e+03      9.100000  1.000000e+05      0.000000\n",
       "75%       4.500000  4.640425e+04     26.000000  1.000000e+06      0.000000\n",
       "max      19.000000  7.815831e+07    100.000000  1.000000e+09    400.000000"
      ]
     },
     "execution_count": 32,
     "metadata": {},
     "output_type": "execute_result"
    }
   ],
   "source": [
    "apps.describe()"
   ]
  },
  {
   "cell_type": "markdown",
   "id": "0baf3804",
   "metadata": {},
   "source": [
    "ở cột `Rating` có 1 điểm dữ liệu bị sai là `19`, `Rating` cao nhất chỉ là `5` thôi!!!\n",
    "$\\to$ xóa dòng chứa giá trị này."
   ]
  },
  {
   "cell_type": "markdown",
   "id": "85a5da64",
   "metadata": {},
   "source": [
    "# Tiền xử lý"
   ]
  },
  {
   "cell_type": "markdown",
   "id": "879c4447",
   "metadata": {},
   "source": [
    "Xóa dòng chứa `Rating = 19`"
   ]
  },
  {
   "cell_type": "code",
   "execution_count": 45,
   "id": "50c354d7",
   "metadata": {},
   "outputs": [],
   "source": [
    "apps.drop(apps[apps.Rating == 19].index, axis=0, inplace=True)"
   ]
  },
  {
   "cell_type": "markdown",
   "id": "57272e44",
   "metadata": {},
   "source": [
    "----"
   ]
  },
  {
   "cell_type": "markdown",
   "id": "8491818e",
   "metadata": {},
   "source": [
    "# Quay lại bước khám phá dữ liệu"
   ]
  },
  {
   "cell_type": "markdown",
   "id": "3956bd2d",
   "metadata": {},
   "source": [
    "## Với mỗi cột có kiểu dữ liệu không phải dạng số, các giá trị được phân bố như thế nào?"
   ]
  },
  {
   "cell_type": "markdown",
   "id": "abbf9019",
   "metadata": {},
   "source": [
    "Ở cột `Genres` 1 App có thể có nhiều `Gernes` kết hợp lại và phân tách nhau bởi dấu `;` nên chúng ta cần phải chuyển nó về thành list các **Gerne**."
   ]
  },
  {
   "cell_type": "code",
   "execution_count": 60,
   "id": "d6d152ce",
   "metadata": {},
   "outputs": [],
   "source": [
    "apps.Genres = apps.Genres.str.split(';')"
   ]
  },
  {
   "cell_type": "code",
   "execution_count": 61,
   "id": "49a74712",
   "metadata": {},
   "outputs": [
    {
     "data": {
      "text/plain": [
       "0                  [Art & Design]\n",
       "1    [Art & Design, Pretend Play]\n",
       "2                  [Art & Design]\n",
       "3                  [Art & Design]\n",
       "4      [Art & Design, Creativity]\n",
       "Name: Genres, dtype: object"
      ]
     },
     "execution_count": 61,
     "metadata": {},
     "output_type": "execute_result"
    }
   ],
   "source": [
    "apps.Genres.head()"
   ]
  },
  {
   "cell_type": "markdown",
   "id": "b234f843",
   "metadata": {},
   "source": [
    "**% của mỗi Gerne trong cột `Gernes`**"
   ]
  },
  {
   "cell_type": "code",
   "execution_count": 65,
   "id": "4fbc4ebe",
   "metadata": {
    "scrolled": true
   },
   "outputs": [
    {
     "data": {
      "text/plain": [
       "Tools                      8.139423\n",
       "Education                  6.922854\n",
       "Entertainment              6.063532\n",
       "Business                   4.122815\n",
       "Medical                    3.939365\n",
       "Productivity               3.929709\n",
       "Personalization            3.746259\n",
       "Lifestyle                  3.611084\n",
       "Action                     3.582118\n",
       "Sports                     3.553152\n",
       "Communication              3.543497\n",
       "Finance                    3.475910\n",
       "Photography                3.109008\n",
       "Health & Fitness           2.973834\n",
       "Social                     2.703486\n",
       "News & Magazines           2.549001\n",
       "Casual                     2.539345\n",
       "Travel & Local             2.288307\n",
       "Arcade                     2.259342\n",
       "Books & Reference          2.249686\n",
       "Shopping                   2.162788\n",
       "Simulation                 2.085546\n",
       "Dating                     1.892440\n",
       "Video Players & Editors    1.718644\n",
       "Puzzle                     1.564160\n",
       "Maps & Navigation          1.322777\n",
       "Action & Adventure         1.235879\n",
       "Food & Drink               1.197258\n",
       "Role Playing               1.158637\n",
       "Racing                     1.148981\n",
       "Strategy                   1.052428\n",
       "Educational                1.023462\n",
       "Adventure                  0.878633\n",
       "Libraries & Demo           0.820701\n",
       "Auto & Vehicles            0.820701\n",
       "Weather                    0.791735\n",
       "Pretend Play               0.772424\n",
       "House & Home               0.772424\n",
       "Brain Games                0.666216\n",
       "Art & Design               0.666216\n",
       "Events                     0.617940\n",
       "Board                      0.608284\n",
       "Comics                     0.579318\n",
       "Parenting                  0.579318\n",
       "Beauty                     0.511731\n",
       "Card                       0.492421\n",
       "Music & Video              0.395868\n",
       "Trivia                     0.376557\n",
       "Casino                     0.376557\n",
       "Creativity                 0.357246\n",
       "Word                       0.270349\n",
       "Music                      0.231727\n",
       "Music & Audio              0.009655\n",
       "Name: Genres, dtype: float64"
      ]
     },
     "execution_count": 65,
     "metadata": {},
     "output_type": "execute_result"
    }
   ],
   "source": [
    "(apps.Genres.explode().value_counts() / apps.shape[0]) * 100"
   ]
  },
  {
   "cell_type": "markdown",
   "id": "507d0ffa",
   "metadata": {},
   "source": [
    "# Đặt câu hỏi "
   ]
  },
  {
   "cell_type": "code",
   "execution_count": null,
   "id": "380b9809",
   "metadata": {},
   "outputs": [],
   "source": []
  },
  {
   "cell_type": "code",
   "execution_count": null,
   "id": "f128bd87",
   "metadata": {},
   "outputs": [],
   "source": []
  },
  {
   "cell_type": "code",
   "execution_count": null,
   "id": "95e4ea38",
   "metadata": {},
   "outputs": [],
   "source": []
  },
  {
   "cell_type": "code",
   "execution_count": null,
   "id": "b4ca2742",
   "metadata": {},
   "outputs": [],
   "source": []
  },
  {
   "cell_type": "code",
   "execution_count": null,
   "id": "5eea00b6",
   "metadata": {},
   "outputs": [],
   "source": []
  },
  {
   "cell_type": "code",
   "execution_count": null,
   "id": "f840ab7d",
   "metadata": {},
   "outputs": [],
   "source": []
  },
  {
   "cell_type": "code",
   "execution_count": null,
   "id": "ba5ba67c",
   "metadata": {},
   "outputs": [],
   "source": []
  },
  {
   "cell_type": "code",
   "execution_count": null,
   "id": "715a1a93",
   "metadata": {},
   "outputs": [],
   "source": []
  },
  {
   "cell_type": "code",
   "execution_count": null,
   "id": "9ad9a283",
   "metadata": {},
   "outputs": [],
   "source": []
  },
  {
   "cell_type": "code",
   "execution_count": null,
   "id": "00baead3",
   "metadata": {},
   "outputs": [],
   "source": []
  },
  {
   "cell_type": "code",
   "execution_count": null,
   "id": "21a85a6c",
   "metadata": {},
   "outputs": [],
   "source": []
  },
  {
   "cell_type": "code",
   "execution_count": null,
   "id": "023d81ba",
   "metadata": {},
   "outputs": [],
   "source": []
  }
 ],
 "metadata": {
  "kernelspec": {
   "display_name": "Python 3 (ipykernel)",
   "language": "python",
   "name": "python3"
  },
  "language_info": {
   "codemirror_mode": {
    "name": "ipython",
    "version": 3
   },
   "file_extension": ".py",
   "mimetype": "text/x-python",
   "name": "python",
   "nbconvert_exporter": "python",
   "pygments_lexer": "ipython3",
   "version": "3.8.8"
  }
 },
 "nbformat": 4,
 "nbformat_minor": 5
}
