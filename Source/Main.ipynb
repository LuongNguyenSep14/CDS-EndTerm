{
 "cells": [
  {
   "cell_type": "markdown",
   "id": "a34efdcf",
   "metadata": {},
   "source": [
    "# Import Library"
   ]
  },
  {
   "cell_type": "code",
   "execution_count": null,
   "id": "b2b0ba94",
   "metadata": {},
   "outputs": [],
   "source": [
    "import pandas as pd\n",
    "import numpy as np\n",
    "import seaborn as sns\n",
    "from matplotlib import pyplot as plt\n",
    "pd.set_option(\"display.max_columns\", None)"
   ]
  },
  {
   "cell_type": "markdown",
   "id": "780e616e",
   "metadata": {},
   "source": [
    "---"
   ]
  },
  {
   "cell_type": "markdown",
   "id": "ab9e4b88",
   "metadata": {},
   "source": [
    "# Thu thập dữ liệu"
   ]
  },
  {
   "cell_type": "markdown",
   "id": "59191777",
   "metadata": {},
   "source": [
    "**Dữ liệu được sử dụng trong NoteBook này là thông tin về các khách hàng tham gia cuộc khảo sát để tìm ra khách hàng lý tưởng. Để giúp cho doanh nghiệp hiểu tốt hơn về khách hàng**\n",
    "> **Context**\\\n",
    "**Problem Statement**\\\n",
    "Customer Personality Analysis is a detailed analysis of a company’s ideal customers. It helps a business to better understand its customers and makes it easier for them to modify products according to the specific needs, behaviors and concerns of different types of customers.\n",
    ">\n",
    ">Customer personality analysis helps a business to modify its product based on its target customers from different types of customer segments. For example, instead of spending money to market a new product to every customer in the company’s database, a company can analyze which customer segment is most likely to buy the product and then market the product only on that particular segment.\n",
    "\n",
    "**Phần mô tả của dữ liệu:**\n",
    ">**Attributes**\\\n",
    "**People**\n",
    ">\n",
    ">- ID: Customer's unique identifier\n",
    ">- Year_Birth: Customer's birth year\n",
    ">- Education: Customer's education level\n",
    ">- Marital_Status: Customer's marital status\n",
    ">- Income: Customer's yearly household income\n",
    ">- Kidhome: Number of children in customer's household\n",
    ">- Teenhome: Number of teenagers in customer's household\n",
    ">- Dt_Customer: Date of customer's enrollment with the company\n",
    ">- Recency: Number of days since customer's last purchase\n",
    ">- Complain: 1 if the customer complained in the last 2 years, 0 otherwise\n",
    ">\n",
    ">**Products**\n",
    ">\n",
    ">- MntWines: Amount spent on wine in last 2 years\n",
    ">- MntFruits: Amount spent on fruits in last 2 years\n",
    ">- MntMeatProducts: Amount spent on meat in last 2 years\n",
    ">- MntFishProducts: Amount spent on fish in last 2 years\n",
    ">- MntSweetProducts: Amount spent on sweets in last 2 years\n",
    ">- MntGoldProds: Amount spent on gold in last 2 years\n",
    ">\n",
    ">**Promotion**\n",
    ">\n",
    ">- NumDealsPurchases: Number of purchases made with a discount\n",
    ">- AcceptedCmp1: 1 if customer accepted the offer in the 1st campaign, 0 otherwise\n",
    ">- AcceptedCmp2: 1 if customer accepted the offer in the 2nd campaign, 0 otherwise\n",
    ">- AcceptedCmp3: 1 if customer accepted the offer in the 3rd campaign, 0 otherwise\n",
    ">- AcceptedCmp4: 1 if customer accepted the offer in the 4th campaign, 0 otherwise\n",
    ">- AcceptedCmp5: 1 if customer accepted the offer in the 5th campaign, 0 otherwise\n",
    ">- Response: 1 if customer accepted the offer in the last campaign, 0 otherwise\n",
    ">\n",
    ">**Place**\n",
    ">\n",
    ">- NumWebPurchases: Number of purchases made through the company’s website\n",
    ">- NumCatalogPurchases: Number of purchases made using a catalogue\n",
    ">- NumStorePurchases: Number of purchases made directly in stores\n",
    ">- NumWebVisitsMonth: Number of visits to company’s website in the last month\n",
    "\n",
    "**Dữ liệu này được Public trên trang Kaggle nhằm mục đích học tập với license như sau:**\n",
    "> License CC0: Public Domain\n",
    "\n",
    "\n",
    "**Cám ơn [LavanyaAkash Patel](https://www.kaggle.com/imakash3011) đã cung cấp tập dữ liệu này**\n",
    "\n",
    "\n",
    "**Mình download dữ liệu tại đây [kaggle](https://www.kaggle.com/imakash3011/customer-personality-analysis)**"
   ]
  },
  {
   "cell_type": "markdown",
   "id": "b7f353f0",
   "metadata": {},
   "source": [
    "---"
   ]
  },
  {
   "cell_type": "markdown",
   "id": "41d34111",
   "metadata": {},
   "source": [
    "# Khám phá dữ liệu"
   ]
  },
  {
   "cell_type": "markdown",
   "id": "29a2da60",
   "metadata": {},
   "source": [
    "## Đọc dữ liệu từ file .csv"
   ]
  },
  {
   "cell_type": "code",
   "execution_count": null,
   "id": "701a8235",
   "metadata": {
    "scrolled": true
   },
   "outputs": [],
   "source": [
    "mkt_df = pd.read_csv(\"../Data/marketing_campaign.csv\", sep='\\t') # mkt = marketing\n",
    "mkt_df.head()"
   ]
  },
  {
   "cell_type": "markdown",
   "id": "4d6497da",
   "metadata": {},
   "source": [
    "## Dữ liệu có bao nhiêu dòng và bao nhiêu cột?"
   ]
  },
  {
   "cell_type": "code",
   "execution_count": null,
   "id": "af83800e",
   "metadata": {},
   "outputs": [],
   "source": [
    "mkt_df_nrows, mkt_df_ncols = mkt_df.shape\n",
    "print(f\"Marketing dataset have {mkt_df_nrows} rows and {mkt_df_ncols} columns\")"
   ]
  },
  {
   "cell_type": "markdown",
   "id": "5c01c0ad",
   "metadata": {},
   "source": [
    "## Mỗi dòng có ý nghĩa gì? Có vấn đề các dòng có ý nghĩa khác nhau không?"
   ]
  },
  {
   "cell_type": "markdown",
   "id": "4eecf70b",
   "metadata": {},
   "source": [
    "- Theo Kaggle, mỗi dòng là thông tin cá nhân + thông tin mua hàng của 1 khách hàng. Nhìn chung các dòng có cùng ý nghĩa với nhau"
   ]
  },
  {
   "cell_type": "markdown",
   "id": "16f81730",
   "metadata": {},
   "source": [
    "## Dữ liệu có các dòng bị lặp không?"
   ]
  },
  {
   "cell_type": "code",
   "execution_count": null,
   "id": "a4fcbc9f",
   "metadata": {},
   "outputs": [],
   "source": [
    "num_duplicated_apps = mkt_df.duplicated().sum()\n",
    "num_duplicated_ids = mkt_df['ID'].duplicated().sum()\n",
    "\n",
    "print(f\"Number of duplicated rows in Marketing dataset: {num_duplicated_apps}\")\n",
    "print(f\"Number of duplicated ids in Marketing dataset: {num_duplicated_ids}\")"
   ]
  },
  {
   "cell_type": "markdown",
   "id": "2691f943",
   "metadata": {},
   "source": [
    "$\\to$ Các dòng không bị trùng nhau hoàn toàn hoặc trùng nhau về ID"
   ]
  },
  {
   "cell_type": "markdown",
   "id": "391e0c52",
   "metadata": {},
   "source": [
    "## Mỗi cột có ý nghĩa gì?"
   ]
  },
  {
   "cell_type": "markdown",
   "id": "a3b3494b",
   "metadata": {},
   "source": [
    "Ý nghĩa của các cột được lưu vào file `columns_explain.csv`, ta sẽ đọc file này vào 1 dataframe gồm 2 cột tên là `Attribute` và `Meaning`"
   ]
  },
  {
   "cell_type": "code",
   "execution_count": null,
   "id": "efb020ad",
   "metadata": {},
   "outputs": [],
   "source": [
    "pd.set_option('display.max_colwidth', None) # in đầy đủ thông tin, thay vì \"...\" \n",
    "pd.read_csv('../Data/columns_explain.csv', sep='\\t', names = ['Attribute', 'Meaning'])"
   ]
  },
  {
   "cell_type": "markdown",
   "id": "95baf9f4",
   "metadata": {},
   "source": [
    "- Thấy rằng tổng cộng có 29 thuộc tính nhưng chỉ có 27 thuộc tính được mô tả, thiếu 2 thuộc tính `Z_CostContact` và `Z_Revenue`. Vì không rõ ý nghĩa của 2 thuộc tính này nên nhóm quyết định bỏ đi 2 cột này. Mặt khác, chính tác giả trong 1 bài discussion trên kaggle cũng nói rằng nên bỏ 2 cột này đi (Link discussion: https://www.kaggle.com/imakash3011/customer-personality-analysis/discussion/267556)\n",
    "- Ngoài ra, theo mô tả cột `Response` thì nó chính là AcceptedCmp thứ 6, hay `AcceptedCmp6`. Ta sẽ đổi tên cột này\n",
    "- Tên các cột khá dài, gây phiền phức cho bước phân tích dữ liệu về sau. Ta sẽ đổi tên cho hầu hết các cột"
   ]
  },
  {
   "cell_type": "code",
   "execution_count": null,
   "id": "9a8c86e5",
   "metadata": {},
   "outputs": [],
   "source": [
    "mkt_df = mkt_df.drop(columns=['Z_CostContact', 'Z_Revenue']) # bỏ đi 2 cột\n",
    "\n",
    "# Đổi tên cột (bao gồm cột Response)\n",
    "mkt_df.rename(columns={'MntWines': 'Wines', 'MntFruits': 'Fruits', 'MntMeatProducts': 'Meats', 'MntFishProducts': 'Fish', \n",
    "   'MntSweetProducts': 'Sweets', 'MntGoldProds': 'Golds', 'NumWebPurchases': 'Web', 'NumCatalogPurchases': 'Catalog',\n",
    "   'NumStorePurchases': 'Store', 'Marital_Status': 'Relationship', 'NumDealsPurchases': 'DiscountDeals', \n",
    "   'NumWebVisitsMonth': 'WebVisit', 'AcceptedCmp1': 'Camp1', 'AcceptedCmp2': 'Camp2', 'AcceptedCmp3': 'Camp3',\n",
    "    'AcceptedCmp4': 'Camp4', 'AcceptedCmp5': 'Camp5', 'Response': 'Camp6'}, inplace=True)\n",
    "mkt_df.columns"
   ]
  },
  {
   "cell_type": "markdown",
   "id": "0ca2019a",
   "metadata": {},
   "source": [
    "Xem lại DataFrame 1 lần nữa để kiểm tra"
   ]
  },
  {
   "cell_type": "code",
   "execution_count": null,
   "id": "d5a0f339",
   "metadata": {},
   "outputs": [],
   "source": [
    "mkt_df.head()"
   ]
  },
  {
   "cell_type": "markdown",
   "id": "dc4aae6b",
   "metadata": {},
   "source": [
    "## Mỗi cột hiện đang có kiểu dữ liệu gì? Có cột nào có kiểu dữ liệu chưa phù hợp để có thể xử lý tiếp không?"
   ]
  },
  {
   "cell_type": "code",
   "execution_count": null,
   "id": "ca32b037",
   "metadata": {},
   "outputs": [],
   "source": [
    "mkt_df.dtypes.to_frame(name='type')"
   ]
  },
  {
   "cell_type": "markdown",
   "id": "8dbee9a6",
   "metadata": {},
   "source": [
    "Cột `Dt_Customer` nên có kiểu dữ liệu dạng ngày tháng, nhưng hiện giờ đang có kiểu dữ liệu `object`. Ta hãy thử tìm hiểu về các giá trị của cột này."
   ]
  },
  {
   "cell_type": "code",
   "execution_count": null,
   "id": "2cedf4df",
   "metadata": {},
   "outputs": [],
   "source": [
    "mkt_df[\"Dt_Customer\"].sample(10)"
   ]
  },
  {
   "cell_type": "markdown",
   "id": "f141d746",
   "metadata": {},
   "source": [
    "$\\to$ Ta nên đưa cột này về dạng `datetime` có dạng **dd-mm-yyy** để có thể tiếp tục khám phá (tính min, max, median,...)"
   ]
  },
  {
   "cell_type": "markdown",
   "id": "923b9966",
   "metadata": {},
   "source": [
    "---"
   ]
  },
  {
   "cell_type": "markdown",
   "id": "a305d641",
   "metadata": {},
   "source": [
    "# Tiền xử lý"
   ]
  },
  {
   "cell_type": "code",
   "execution_count": null,
   "id": "3e84653c",
   "metadata": {},
   "outputs": [],
   "source": [
    "mkt_df['Dt_Customer'] = pd.to_datetime(mkt_df['Dt_Customer'], format='%d-%m-%Y')\n",
    "mkt_df[\"Dt_Customer\"].dtype # Xem lại kiểu dữ liệu của cột `Dt_Customer`"
   ]
  },
  {
   "cell_type": "markdown",
   "id": "6e59e2c2",
   "metadata": {},
   "source": [
    "## Phân bố dữ liệu"
   ]
  },
  {
   "cell_type": "markdown",
   "id": "41b4c150",
   "metadata": {},
   "source": [
    "### Với mỗi cột có kiểu dữ liệu dạng numeric, các giá trị được phân bố như thế nào? "
   ]
  },
  {
   "cell_type": "markdown",
   "id": "2192b228",
   "metadata": {},
   "source": [
    "- Nhóm cột numeric = tất cả các cột - [`ID`, `Education`, `Relationship`]. Lưu ý: xếp cột `Dt_Customer` có kiểu DateTime vào nhóm các cột numeric luôn\n",
    "- Với mỗi cột numeric, tính các giá trị sau và xuất ra dưới dạng DataFrame:\n",
    "    - `missing_ratio`: Tỉ lệ % giá trị thiếu (từ 0 đến 100)\n",
    "    - `min`\n",
    "    - `max`\n",
    "    - `nunique`: số lượng các phần tử khác nhau (unique) của từng cột "
   ]
  },
  {
   "cell_type": "code",
   "execution_count": null,
   "id": "3607e388",
   "metadata": {
    "scrolled": true
   },
   "outputs": [],
   "source": [
    "nume_cols = mkt_df.select_dtypes([np.int64, np.float64, np.datetime64]).columns[1:] # bỏ index 0, tức cột ID\n",
    "def missing_ratio(s):\n",
    "    return s.isna().sum() * 100 / len(s)\n",
    "\n",
    "nume_describe = mkt_df[nume_cols].agg([missing_ratio, pd.Series.min, pd.Series.max, pd.Series.nunique])\n",
    "nume_describe"
   ]
  },
  {
   "cell_type": "markdown",
   "id": "14a5d7b9",
   "metadata": {},
   "source": [
    "$\\to$ Cột `Year_Birth` có min là 1893, tức nếu năm nay là năm 2021 thì người này đã được 128 tuổi! Ta tiền xử lý cột này ở cell dưới\n",
    "\n",
    "$\\to$ Cột `Income` thiếu khoảng 1% giá trị cột. Vì khá ít nên quyết định bỏ đi những mẫu thiếu `Income`"
   ]
  },
  {
   "cell_type": "markdown",
   "id": "03fa89d2",
   "metadata": {},
   "source": [
    "## Tiền xử lý"
   ]
  },
  {
   "cell_type": "markdown",
   "id": "96a3cef7",
   "metadata": {},
   "source": [
    "Cột `Year_Birth`\n",
    "- Vì ta không biết được dữ liệu được lấy vào năm bao nhiêu, nên ta sẽ lấy ngày lớn nhất trong cột `Dt_Customer` làm gốc thời gian để tính tuổi. Trong bối cảnh phân tích thì cần loại bỏ đi những khách hàng đã quá 100 tuổi\n",
    "- Như vậy, cột `Year_Birth` cũng nên được thay bằng cột `Age` để vừa thuận tiện cho khai thác dữ liệu lúc sau, vừa để dễ nhìn hơn"
   ]
  },
  {
   "cell_type": "code",
   "execution_count": null,
   "id": "6a8f7c6a",
   "metadata": {},
   "outputs": [],
   "source": [
    "max_dt = nume_describe.loc['max', 'Dt_Customer'] # tỉm ngày lớn nhất trong cột Dt_Customer\n",
    "mkt_df['Age'] = max_dt.year - mkt_df['Year_Birth'] # thêm cột Age vào mkt_df\n",
    "mkt_df = mkt_df.drop(columns='Year_Birth') # xóa cột Year_Birth vì nó không giúp ích\n",
    "mkt_df.shape"
   ]
  },
  {
   "cell_type": "markdown",
   "id": "25acbba0",
   "metadata": {},
   "source": [
    "- Loại bỏ khách hàng có tuổi >= 100"
   ]
  },
  {
   "cell_type": "code",
   "execution_count": null,
   "id": "2031b93f",
   "metadata": {},
   "outputs": [],
   "source": [
    "mkt_df.drop(mkt_df[mkt_df['Age'] >= 100].index, inplace=True)\n",
    "mkt_df.shape"
   ]
  },
  {
   "cell_type": "markdown",
   "id": "79076a87",
   "metadata": {},
   "source": [
    "Cột `Income`\n",
    "- Xóa các dòng có chứa giá trị bị thiếu ở cột `Income`"
   ]
  },
  {
   "cell_type": "code",
   "execution_count": null,
   "id": "74f57103",
   "metadata": {},
   "outputs": [],
   "source": [
    "mask = mkt_df[\"Income\"].isna()\n",
    "mkt_df.drop(mkt_df[mask].index, inplace=True)"
   ]
  },
  {
   "cell_type": "markdown",
   "id": "4d9801fd",
   "metadata": {},
   "source": [
    "- Kiểm tra lại cột `Income`"
   ]
  },
  {
   "cell_type": "code",
   "execution_count": null,
   "id": "b7d9fd1e",
   "metadata": {
    "scrolled": false
   },
   "outputs": [],
   "source": [
    "mkt_df[\"Income\"].isna().sum()"
   ]
  },
  {
   "cell_type": "markdown",
   "id": "e89795b4",
   "metadata": {},
   "source": [
    "---"
   ]
  },
  {
   "cell_type": "markdown",
   "id": "7f3ca0ba",
   "metadata": {},
   "source": [
    "# Quay lại bước khám phá dữ liệu"
   ]
  },
  {
   "cell_type": "markdown",
   "id": "eb3026a1",
   "metadata": {},
   "source": [
    "### Với mỗi cột có kiểu dữ liệu không phải dạng số, các giá trị được phân bố như thế nào?"
   ]
  },
  {
   "cell_type": "markdown",
   "id": "b7ead8eb",
   "metadata": {},
   "source": [
    "Lấy ra các cột dữ liệu không phải dạng số"
   ]
  },
  {
   "cell_type": "code",
   "execution_count": null,
   "id": "b64dc11b",
   "metadata": {},
   "outputs": [],
   "source": [
    "cat_cols = mkt_df.select_dtypes(include=[\"object\"])"
   ]
  },
  {
   "cell_type": "markdown",
   "id": "a14b79b5",
   "metadata": {},
   "source": [
    "Tên của các cột"
   ]
  },
  {
   "cell_type": "code",
   "execution_count": null,
   "id": "b1cde638",
   "metadata": {},
   "outputs": [],
   "source": [
    "cat_cols.columns"
   ]
  },
  {
   "cell_type": "markdown",
   "id": "8951b4bb",
   "metadata": {},
   "source": [
    "Xem giá trị missing_ratio, min và max của các cột không phải dữ liệu numeric"
   ]
  },
  {
   "cell_type": "code",
   "execution_count": null,
   "id": "d05b5b57",
   "metadata": {},
   "outputs": [],
   "source": [
    "def min(df:pd.DataFrame):\n",
    "    return df.value_counts().idxmin()\n",
    "\n",
    "def max(df:pd.DataFrame):\n",
    "    return df.value_counts().idxmax()\n",
    "\n",
    "cat_cols.apply([missing_ratio, min, max])"
   ]
  },
  {
   "cell_type": "markdown",
   "id": "145257c9",
   "metadata": {},
   "source": [
    "- cột `Education`: ta coi thử các giá trị unique có gì bất thường không"
   ]
  },
  {
   "cell_type": "code",
   "execution_count": null,
   "id": "7c1c41b9",
   "metadata": {},
   "outputs": [],
   "source": [
    "mkt_df['Education'].value_counts()"
   ]
  },
  {
   "cell_type": "markdown",
   "id": "57e93a60",
   "metadata": {},
   "source": [
    "- cột `Relationship`. Đầu tiên, coi thử các giá trị unique của cột này"
   ]
  },
  {
   "cell_type": "code",
   "execution_count": null,
   "id": "eccded83",
   "metadata": {},
   "outputs": [],
   "source": [
    "cat_cols[\"Relationship\"].unique()"
   ]
  },
  {
   "cell_type": "markdown",
   "id": "75ffb0e4",
   "metadata": {},
   "source": [
    "Vể mặt ngữ nghĩa, dễ thấy rằng các giá trị cột này thực chất có thể phân vào 2 nhóm: \n",
    "- `Married`: Married, Together\n",
    "- `Single`: Single, Divorced, Widow, Alone, Absurd, YOLO (You Only Live Once)"
   ]
  },
  {
   "cell_type": "code",
   "execution_count": null,
   "id": "466a7130",
   "metadata": {},
   "outputs": [],
   "source": [
    "mkt_df[\"Relationship\"] = mkt_df[\"Relationship\"].apply(\n",
    "    lambda status: 'Married' if status in ['Married', 'Together'] else 'Single'\n",
    ")"
   ]
  },
  {
   "cell_type": "markdown",
   "id": "def75a0a",
   "metadata": {},
   "source": [
    "Xem lại các giá trị của cột `Relationship`"
   ]
  },
  {
   "cell_type": "code",
   "execution_count": null,
   "id": "f9b45450",
   "metadata": {},
   "outputs": [],
   "source": [
    "mkt_df['Relationship'].unique()"
   ]
  },
  {
   "cell_type": "markdown",
   "id": "579a1b05",
   "metadata": {},
   "source": [
    "# Đặt câu hỏi "
   ]
  },
  {
   "cell_type": "markdown",
   "id": "b403b987",
   "metadata": {},
   "source": [
    "## I. Phân tích cơ bản\n",
    "Ở phần này, 1 số câu hỏi + đồ thị đơn giản được đưa ra để hiểu hơn về tập dữ liệu nhằm phụ vụ cho các câu hỏi mang tính chuyên sâu ở mục II. Trong quá trình trả lời 1 số câu hỏi ở phần này, nhóm sẽ rút trích 1 số insight nếu có"
   ]
  },
  {
   "cell_type": "markdown",
   "id": "1b3a2718",
   "metadata": {},
   "source": [
    "**1. Phân bố tình trạng hôn nhân của khách hàng khảo sát**"
   ]
  },
  {
   "cell_type": "code",
   "execution_count": null,
   "id": "d1f36006",
   "metadata": {},
   "outputs": [],
   "source": [
    "plt.figure(figsize= (10,7), facecolor='white') # set white background\n",
    "mkt_df['Relationship'].value_counts().plot.pie(figsize=(7, 5), autopct='%.1f%%');"
   ]
  },
  {
   "cell_type": "markdown",
   "id": "e0bfcf2d",
   "metadata": {},
   "source": [
    "**2. Phân bố học vấn của khách hàng khảo sát**"
   ]
  },
  {
   "cell_type": "code",
   "execution_count": null,
   "id": "9dd0ecfb",
   "metadata": {},
   "outputs": [],
   "source": [
    "mkt_df['Education'].value_counts().plot.barh(figsize=(7, 5))\n",
    "plt.xlabel(\"Số lượng\")\n",
    "plt.ylabel(\"Học vấn\");"
   ]
  },
  {
   "cell_type": "markdown",
   "id": "8c518dbc",
   "metadata": {},
   "source": [
    "**3. Phân bố số con của khách hàng**"
   ]
  },
  {
   "cell_type": "code",
   "execution_count": null,
   "id": "5170d468",
   "metadata": {
    "scrolled": true
   },
   "outputs": [],
   "source": [
    "num_child = mkt_df['Kidhome'] + mkt_df['Teenhome']\n",
    "num_child.value_counts().plot.pie(figsize=(8, 6), autopct='%.1f%%');"
   ]
  },
  {
   "cell_type": "markdown",
   "id": "cf3b9d61",
   "metadata": {},
   "source": [
    "$\\to$ Như vậy có khoảng 71.5% khách hàng có con, cũng khá nhiều...Ta sẽ tận dụng thông tin này sau"
   ]
  },
  {
   "cell_type": "markdown",
   "id": "5a0ae3fc",
   "metadata": {},
   "source": [
    "**4. Thống kê số lượt mua hàng qua các nền tảng**"
   ]
  },
  {
   "cell_type": "code",
   "execution_count": null,
   "id": "cb8c20d1",
   "metadata": {},
   "outputs": [],
   "source": [
    "df = mkt_df[['Web', 'Store', 'Catalog']]\n",
    "sns.kdeplot(data=df);\n",
    "plt.xlabel('products');"
   ]
  },
  {
   "cell_type": "markdown",
   "id": "d5ffb456",
   "metadata": {},
   "source": [
    "- Nhận xét:\n",
    "    - Số lượng mua hàng qua 3 hình thức: Store > Web > Catalog\n",
    "    - Nhìn chung phần lớn đơn hàng có dưới 4 sản phẩm ở cả 3 hình thức \n",
    "    - Nhìn chung số mặt hàng trong 1 đơn hàng bất kỳ nằm trong khoảng [0, 15]"
   ]
  },
  {
   "cell_type": "code",
   "execution_count": null,
   "id": "3c9e4338",
   "metadata": {},
   "outputs": [],
   "source": [
    "plt.figure(figsize= (10,7), facecolor='white') # set white background\n",
    "platforms = mkt_df[['Web', 'Catalog', 'Store']].sum()\n",
    "plt.pie(platforms, labels= platforms.index, autopct='%.1f%%');"
   ]
  },
  {
   "cell_type": "markdown",
   "id": "67def5ee",
   "metadata": {},
   "source": [
    "**5. Thống kê tỷ lệ khách hàng tham gia từng chiến dịch marketing**"
   ]
  },
  {
   "cell_type": "code",
   "execution_count": null,
   "id": "ecf1cc91",
   "metadata": {
    "scrolled": false
   },
   "outputs": [],
   "source": [
    "pct_cmp = mkt_df.filter(regex='(Camp)').sum() / mkt_df.shape[0] * 100\n",
    "pct_cmp.to_frame(name='percent').plot.bar(rot=0, grid=True)"
   ]
  },
  {
   "cell_type": "markdown",
   "id": "057a14f0",
   "metadata": {},
   "source": [
    "$\\to$ Phần lớn khách hàng đồng ý mua hàng ở chiến dịch markting cuối cùng"
   ]
  },
  {
   "cell_type": "markdown",
   "id": "e95e6838",
   "metadata": {},
   "source": [
    "**6. Phân bố tuổi như thế nào?**"
   ]
  },
  {
   "cell_type": "code",
   "execution_count": null,
   "id": "77b7c6c1",
   "metadata": {
    "scrolled": false
   },
   "outputs": [],
   "source": [
    "mkt_df['Age'].plot.hist(bins=50);\n",
    "plt.xlabel('Age');"
   ]
  },
  {
   "cell_type": "markdown",
   "id": "99cde88a",
   "metadata": {},
   "source": [
    "$\\to$ Có vẻ khách hàng trong khoảng 35-50 tuổi chiếm phần lớn. Để dễ thống kê hơn, ta chia tuổi thành 4 nhóm tuổi:\n",
    "Young: 0-30 tuổi, Mature: 30-45 tuổi, Middle-age: 45-65 tuổi, Old: >65 tuổi"
   ]
  },
  {
   "cell_type": "code",
   "execution_count": null,
   "id": "fd581289",
   "metadata": {},
   "outputs": [],
   "source": [
    "age_group = ['Young', 'Mature', 'Middle-age', 'Old']\n",
    "age_range = [0, 30, 45, 65, 101] # từng cặp là từng nhóm tuổi. VD: [0-30] tuổi, [30-45] tuổi\n",
    "age = pd.cut(mkt_df['Age'], bins=age_range, labels=age_group)\n",
    "age.value_counts().plot.barh();"
   ]
  },
  {
   "cell_type": "markdown",
   "id": "78f7015b",
   "metadata": {},
   "source": [
    "$\\to$ Như vậy, nhóm tuổi trưởng thành (Mature) và trung niên (Middle-age) chiếm phần lớn. Trong mục tiếp theo, sẽ có phân tích riêng về 2 nhóm tuổi nổi bật này"
   ]
  },
  {
   "cell_type": "markdown",
   "id": "12adc503",
   "metadata": {},
   "source": [
    "**7. Phân bố thu nhập khách hàng như thế nào?**"
   ]
  },
  {
   "cell_type": "code",
   "execution_count": null,
   "id": "8dcde9b3",
   "metadata": {
    "scrolled": true
   },
   "outputs": [],
   "source": [
    "mkt_df['Income'].plot.hist(bins=60, range=(0,200000), figsize=(7,5))\n",
    "plt.xlabel('Income');"
   ]
  },
  {
   "cell_type": "markdown",
   "id": "e4e8a8af",
   "metadata": {},
   "source": [
    "$\\to$ Như vậy phần lớn khách hàng có thu nhập nằm trong khoảng [0, 100K]"
   ]
  },
  {
   "cell_type": "markdown",
   "id": "63fadfc9",
   "metadata": {},
   "source": [
    "**9. Thống kê số tiền của khách đã bỏ ra cho 6 mặt hàng**"
   ]
  },
  {
   "cell_type": "code",
   "execution_count": null,
   "id": "258f5fed",
   "metadata": {
    "scrolled": true
   },
   "outputs": [],
   "source": [
    "products = mkt_df[['Wines', 'Fruits', 'Meats', 'Fish', 'Sweets', 'Golds']]\n",
    "products.sum().plot.barh()\n",
    "plt.xlabel('Money spent');"
   ]
  },
  {
   "cell_type": "markdown",
   "id": "64303b68",
   "metadata": {},
   "source": [
    "$\\to$ Có vẻ rượu (Wines) và thịt (Meats) là 2 sản phẩm được tiêu thụ nhiều. Tuy nhiên chưa đủ cơ sở chắc chắn điều này được vì mỗi sản phẩm có 1 giá tiền/1 sản phẩm khác nhau (VD: giá tiền trái cây hầu như luôn bé hơn giá tiền của chai rượu). Câu này không mang ý nghĩa nhiều ngoài việc coi thử có sản phẩm nào mua ít quá hay nhiều quá"
   ]
  },
  {
   "cell_type": "markdown",
   "id": "105b5d72",
   "metadata": {},
   "source": [
    "## II. Các câu hỏi in-depth"
   ]
  },
  {
   "cell_type": "markdown",
   "id": "9c6a5d12",
   "metadata": {},
   "source": [
    "Danh sách câu hỏi:\n",
    "\n",
    "1. \n",
    "2. "
   ]
  },
  {
   "cell_type": "markdown",
   "id": "ff797c1b",
   "metadata": {},
   "source": [
    "0. Accepted Cmp thay đổi thế nào qua các năm"
   ]
  },
  {
   "cell_type": "markdown",
   "id": "61d08989",
   "metadata": {},
   "source": [
    "## 1. Phân bố số lượng đơn mua từ trước tới gần cuối năm 2014 như thế nào?\n",
    "\n",
    "**Lợi ích**: nắm rõ được là công ty đang sa sút hay bình ổn, có dấu hiệu suy giảm nhiều không, hay có nhiều đơn hàng hơn thì đồng nghĩa với việc thu về lợi nhuận nhiều hơn\n",
    "\n",
    "Các bước phân tích:\n",
    "- Bước 1: tính tổng số đơn mua qua `Web`, `Catalog`, `Store` và `DiscountDeals`, lưu vào biến `total_buy`\n",
    "- Bước 2: Trực quan hóa"
   ]
  },
  {
   "cell_type": "code",
   "execution_count": null,
   "id": "be61756e",
   "metadata": {
    "scrolled": false
   },
   "outputs": [],
   "source": [
    "total_buy = mkt_df['Web'] + mkt_df['Catalog'] + mkt_df['Store'] + mkt_df['DiscountDeals'] \n",
    "\n",
    "# tìm x mà tại đó y đạt max\n",
    "freq = total_buy.value_counts()\n",
    "peek_1 = freq[freq.index.isin(range(1,11))].idxmax()\n",
    "peek_2 = freq[freq.index.isin(range(15,20))].idxmax()\n",
    "\n",
    "g = sns.displot(total_buy,color = 'mediumblue', kde=True);\n",
    "plt.xticks([0, peek_1, 10, peek_2, 20, 30, 40]);\n",
    "plt.xlabel('total_deals');"
   ]
  },
  {
   "cell_type": "markdown",
   "id": "8a479364",
   "metadata": {},
   "source": [
    "$\\to$ Đồ thị có 2 đỉnh tại x=7 và x=17. Có vẻ như số khách hàng có khoảng 7 đơn và 17 đơn (có chênh lệch sang 2 bên) khá phổ biến từ ngày có được dataset này tới khoảng cuối năm 2014. Như vậy thì cũng không phải quá nhiều hay quá ít, nhìn chung công ty vẫn bán tốt các sản phẩm của mình"
   ]
  },
  {
   "cell_type": "markdown",
   "id": "bd503ab9",
   "metadata": {},
   "source": [
    "## 2. Lượng tiêu thụ 6 sản phẩm của khách hàng từ 30/7/2012 - 29/6/2014 như thế nào?\n",
    "\n",
    "**Lợi ích**: quan sát được tình hình bán 6 sản phẩm đang trên đà tăng hay giảm, từ đó tìm hiểu nguyên nhân và đưa ra chiến lược phù hợp"
   ]
  },
  {
   "cell_type": "markdown",
   "id": "566c2bbf",
   "metadata": {},
   "source": [
    "### Tiền xử lý\n",
    "Như ở phần mô tả tóm tắt về dữ liệu, thuộc tính `Dt_Customer` có giá trị bé nhất là 30/7/2012 và lớn nhất là 29/6/2014, như vậy có thể chia thành 2 năm: 30/7/2012 - 30/7/2013 và 1/8/2013 - 29/6/2014 \n",
    "- Bước 1: Xây dựng hàm `discretize_date(s)` dùng để phân ngày trong cột `Dt_Customer` vào 1 trong 4 nhóm: 'nửa đầu năm 1', 'nửa cuối năm 1', 'nửa đầu năm 2','nửa cuối năm 2'\n",
    "- Bước 2: tạo 1 dataframe mới `df` để không làm thay đổi dataframe cũ là `mkt_df`, sau đó áp dụng hàm `discretize_date` lên cột `Dt_Customer` của df"
   ]
  },
  {
   "cell_type": "markdown",
   "id": "59b1f253",
   "metadata": {},
   "source": [
    "- Code bước 1"
   ]
  },
  {
   "cell_type": "code",
   "execution_count": null,
   "id": "7403fa33",
   "metadata": {},
   "outputs": [],
   "source": [
    "# Code bước 1\n",
    "def discretize_date(s):\n",
    "    if s < pd.Timestamp('2013-01-31'): # 30/7/2012 - 31/1/2013\n",
    "        return 'nửa đầu năm 1'\n",
    "    elif s < pd.Timestamp('2013-07-30'): # 1/2/2013 - 30/7/2013\n",
    "        return 'nửa cuối năm 1'\n",
    "    elif s < pd.Timestamp('2014-01-31'): # 1/8/2013 - 31/1/2014\n",
    "        return 'nửa đầu năm 2'\n",
    "    else: # 1/2/2014 - 29/6/2014\n",
    "        return 'nửa cuối năm 2'"
   ]
  },
  {
   "cell_type": "markdown",
   "id": "6e594388",
   "metadata": {},
   "source": [
    "- Code bước 2"
   ]
  },
  {
   "cell_type": "code",
   "execution_count": null,
   "id": "9f699a65",
   "metadata": {},
   "outputs": [],
   "source": [
    "df = mkt_df.copy()\n",
    "df['Dt_Customer'] = df['Dt_Customer'].apply(discretize_date)\n",
    "df['Dt_Customer'] # test"
   ]
  },
  {
   "cell_type": "markdown",
   "id": "f8da42ed",
   "metadata": {},
   "source": [
    "### Phân tích\n",
    "- Bước 1: groupby cột `Dt_Customer` theo từng nhãn năm như đã nêu ở tiền xử lý và với mỗi cột sản phẩm (**products**), tính tổng cột đó để có được tổng tiêu thụ của từng sản phẩm \n",
    "- Bước 2: vẽ biểu đồ đường để thấy sự thay đổi trong lượng tiêu thụ của từng loại sản phẩm"
   ]
  },
  {
   "cell_type": "code",
   "execution_count": null,
   "id": "24386f68",
   "metadata": {},
   "outputs": [],
   "source": [
    "# Bước 1\n",
    "products = ['Wines', 'Meats', 'Golds', 'Fruits', 'Sweets', 'Fish']\n",
    "df = df.groupby('Dt_Customer')[products].sum().reindex(['nửa đầu năm 1', 'nửa cuối năm 1', 'nửa đầu năm 2', 'nửa cuối năm 2'])\n",
    "# Bước 2\n",
    "df.plot.line(figsize=(8,7), ylabel='Tổng tiêu thụ ($)', xlabel='Thời gian')"
   ]
  },
  {
   "cell_type": "markdown",
   "id": "a30ca668",
   "metadata": {},
   "source": [
    "Nhận xét:\n",
    "- Nhìn chung các mặt hàng đều có lượng tiêu thụ giảm trong gần 2 năm liên tiếp, riêng lượng tiêu thụ rượu (Wines) giảm gần gấp đôi ở nửa cuối năm 2 và lượng tiêu thụ thịt (Meats) cũng giảm kha khá\n",
    "- 3 sản phẩm còn lại giảm nhẹ và từ từ "
   ]
  },
  {
   "cell_type": "markdown",
   "id": "c9320a31",
   "metadata": {},
   "source": [
    "## 3. Ứng với từng khách hàng có mức thu nhập khác nhau thì họ có xu hướng mua sản phẩm gì nhiều?\n",
    "**Lợi ích:** có thể biết được là phân bố của các khách hàng và đưa ra quyết định nên trưng bày các mặt hàng nào ở cửa hàng để phù hợp với đối tượng khách hàng."
   ]
  },
  {
   "cell_type": "markdown",
   "id": "3dac3734",
   "metadata": {},
   "source": [
    "### Tiền xử lý\n",
    "- Bước 1: Tạo 1 dataframe `df` chứa cột `Income` và các cột sản phẩm (`products`)\n",
    "- Bước 2: rời rạc hóa cột `Income` thành các cột categorical.\n",
    "\n",
    "Sau khi tiền xử lý, sử dụng dataframe `df` này để phân tích tiếp."
   ]
  },
  {
   "cell_type": "markdown",
   "id": "a2d2e21a",
   "metadata": {},
   "source": [
    "Bước 1:"
   ]
  },
  {
   "cell_type": "code",
   "execution_count": null,
   "id": "ba4fe637",
   "metadata": {},
   "outputs": [],
   "source": [
    "df = mkt_df[products + ['Income']].copy()\n",
    "df.head()"
   ]
  },
  {
   "cell_type": "markdown",
   "id": "ba6b8a54",
   "metadata": {},
   "source": [
    "Bước 2:"
   ]
  },
  {
   "cell_type": "code",
   "execution_count": null,
   "id": "fc9bbdd4",
   "metadata": {},
   "outputs": [],
   "source": [
    "income_group = ['Low', 'Low to medium', 'Medium', 'High']\n",
    "df['Income'] = pd.qcut(df['Income'], q=4, labels=income_group)\n",
    "df.head()"
   ]
  },
  {
   "cell_type": "markdown",
   "id": "c60f1e03",
   "metadata": {},
   "source": [
    "### Phân tích\n",
    "- Bước 1: tính tổng khối lượng mua của mỗi sản phẩm ứng với mỗi phân khúc `Income`.\n",
    "- Bước 2: với mỗi loại lương, biến đổi giá giá trị trong 6 cột sản phẩm thành giá trị phần trăm (%). Như vậy với mỗi loại lương, tổng 6 cột sản phẩm là 100%\n",
    "- Bước 3: Vẽ biểu đồ 100% stacked horizontal bar chart"
   ]
  },
  {
   "cell_type": "markdown",
   "id": "58bd14bf",
   "metadata": {},
   "source": [
    "Code bước 1: groupby bởi thuộc tính Income và lấy tổng từng cột sản phẩm. Lưu kết quả vào dataframe `prods_income` "
   ]
  },
  {
   "cell_type": "code",
   "execution_count": null,
   "id": "7ee53fdd",
   "metadata": {},
   "outputs": [],
   "source": [
    "prods_income = df.groupby(\"Income\").sum()\n",
    "prods_income.head()"
   ]
  },
  {
   "cell_type": "markdown",
   "id": "502b6f97",
   "metadata": {},
   "source": [
    "Code bước 2: \n",
    "- Xây dựng hàm `pct_converter(s)` nhận input là 1 cột series sản phẩm. Ta tính giá trị phần trăm của mỗi phần tử trong s và trả ra cột s mới. Như vậy lấy tổng trên cột s mới được 100%\n",
    "- Áp dụng hàm `pct_converter` cho từng cột trong dataframe `prods_income`. Lưu ý cần chuyển vị `prods_income` để các cột là mức lương, còn 6 hàng là 6 sản phẩm\n",
    "- Lưu kết quả vào `prods_income_pct`"
   ]
  },
  {
   "cell_type": "code",
   "execution_count": null,
   "id": "f2b9538f",
   "metadata": {},
   "outputs": [],
   "source": [
    "def pct_converter(s):\n",
    "    return (s / s.sum() * 100).round(2)\n",
    "prods_income_pct = prods_income.T.agg(pct_converter)\n",
    "prods_income_pct.head()"
   ]
  },
  {
   "cell_type": "markdown",
   "id": "ec02c279",
   "metadata": {},
   "source": [
    "Code bước 3: trước khi vẽ đồ thị cần chuyển vị `prods_income_pct` 1 lần nữa để phù hợp với định dạng mặc định liên quan tới tên hàng, tên cột trong matplotlib"
   ]
  },
  {
   "cell_type": "code",
   "execution_count": null,
   "id": "6b8cb9bf",
   "metadata": {},
   "outputs": [],
   "source": [
    "prods_income_pct = prods_income_pct.T\n",
    "prods_income_pct.plot.barh(stacked=True)\n",
    "plt.xlabel('percentage');"
   ]
  },
  {
   "cell_type": "markdown",
   "id": "a036efe8",
   "metadata": {},
   "source": [
    "Nhận xét:\n",
    "- Wines và Meats là 2 sản phẩm được chiếm phần lớn giá trị tiêu thụ ở 3 nhóm lương High, Medium và Low to medium\n",
    "- Nhóm lương thấp (Low) có xu hướng phân bổ tiền đều cho 3 sản phẩm: Wines, Meats và Golds (với Golds ít hơn 1 chút)"
   ]
  },
  {
   "cell_type": "markdown",
   "id": "77ff3043",
   "metadata": {},
   "source": [
    "## 4. Ứng với mỗi sản phẩm công ty, phân khúc khách hàng nào sẽ mua sản phẩm đó nhiều nhất?\n",
    "**Lợi ích**: Xác định được khách hàng mục tiêu cho từng sản phẩm. Từ đó marketing sản phẩm tương ứng tới phân khúc khách hàng đó để tối đa hóa số lượng sản phẩm bán ra. Từ đó tăng doanh thu cho công ty\n",
    "\n",
    "**\"phân khúc khách hàng\"** sẽ được quyết định dựa trên:\n",
    "- Nhân khẩu học: Tuổi (`Age`), thu nhập (`Income`), và học vấn (`Education`), Số lượng con cái (`NumChild`) và tình trạng hôn nhân (`Relationship`)\n",
    "- Hành vi mua hàng: \n",
    "    - Tính cách mua hàng - tức khách có mua hàng ở lần marketing thứ i không (`AcceptedCmp`<font color='blue'>i</font> với <font color='blue'>i</font>=1..6) \n",
    "    - Nơi thực hiện mua hàng (`Web`, `NumCatalogPurchases` hay `NumStorePurchases`)\n",
    "\n",
    "**\"sản phẩm công ty\"** chính là 6 sản phẩm hiện có trong tập dữ liệu: [`Wines`, `Fruits`, `Meats`, `Fish`, `Sweets`, `Golds`]\n",
    "\n",
    "---"
   ]
  },
  {
   "cell_type": "markdown",
   "id": "185ce52e",
   "metadata": {},
   "source": [
    "### Tiền xử lý\n",
    "- Bước 1: tính số con của từng khách hàng và lưu vào cột `NumChild` $\\to$ Tận dụng Series `num_child` ở mục I.3 thì coi như xong bước 1\n",
    "- Bước 2: phân cột `Age` thành các nhóm: ['Young', 'Mature', 'Midlle-age', 'Old'] $\\to$ Tận dụng Series `age` ở mục I.6 thì coi như xong bước 2\n",
    "- Bước 3: phân cột `Income` thành 3 nhóm category: [Low, Low to medium, Medium, High] tương ứng với tứ phân vị trong cột `Income` \n",
    "- Bước 4: chuẩn bị dataframe `customer_seg` gồm các cột đã đề cập để chuẩn bị cho quá trình phân tích dữ liệu sắp tới"
   ]
  },
  {
   "cell_type": "code",
   "execution_count": null,
   "id": "6d97c2d2",
   "metadata": {
    "nbdime-conflicts": {
     "local_diff": [
      {
       "key": "scrolled",
       "op": "add",
       "value": true
      }
     ],
     "remote_diff": [
      {
       "key": "scrolled",
       "op": "add",
       "value": false
      }
     ]
    }
   },
   "outputs": [],
   "source": [
    "# Code bước 3\n",
    "income_group = ['Low', 'Low to medium', 'Medium', 'High']\n",
    "income = pd.qcut(mkt_df['Income'], q=4, labels=income_group)\n",
    "income"
   ]
  },
  {
   "cell_type": "code",
   "execution_count": null,
   "id": "f51366f1",
   "metadata": {
    "scrolled": true
   },
   "outputs": [],
   "source": [
    "# Code bước 4\n",
    "camp = [f'Camp{i}' for i in range(1,7)]\n",
    "cols = ['Education', 'Web', 'Catalog', 'Store', 'Wines', 'Fruits', 'Meats', 'Fish', 'Sweets', 'Golds', 'Relationship'] + camp\n",
    "customer_seg = mkt_df[cols].copy()\n",
    "\n",
    "# add columns\n",
    "customer_seg['Age'] = age # add cột Age\n",
    "customer_seg['Income'] = income # add cột Income\n",
    "customer_seg['NumChild'] = num_child # add cột NumChild\n",
    "\n",
    "customer_seg.head()"
   ]
  },
  {
   "cell_type": "markdown",
   "id": "c7b6e565",
   "metadata": {},
   "source": [
    "### Phân tích: \n",
    "Dataframe `customer_seg` hiện đang lưu thông tin về 6 cột Products + 5 cột thông tin cá nhân + 9 cột hành vi mua hàng\n",
    "- 6 cột sản phẩm: [`Wines`, `Fruits`, `Meats`, `Fish`, `Sweets`, `Golds`]\n",
    "- 5 cột thông tin cá nhân: [`Age`, `Income`, `Education`, `NumChild`, `Relationship`]\n",
    "- 9 cột hành vi mua hàng: [`Web`, `Catalog`, `Store`, `Camp1`, `Camp2`, ..., `Camp6`]\n",
    "\n",
    "Ta phân tích ứng với từng sản phẩm thì phân khúc khách hàng của sản phẩm đó bao gồm những khách hàng có tính chất như thế nào? (VD: ứng với sản phẩm **Wines** thì những khách hàng có `Relationship=Single`,... có xu hướng mua nhiều hơn). Tóm tắt các bước làm (sẽ nói chi tiết ở từng bước)\n",
    "- Bước 1: với mỗi sản phẩm, thống kê top các khách hàng chi nhiều tiền mua sản phẩm đó nhiều nhất, \"nhiều nhất\" được dựa trên phân vị 75% của từng cột sản phẩm và được lưu vào dataframe `top_customers`, tức là nếu 1 khách hàng có số lượng mua sản phẩm X thuộc vào phân vị này thì họ mua nhiều hơn 75% các khách hàng còn lại\n",
    "- Bước 2 (dự đoán phân khúc khách hàng): với mỗi một top khách hàng tìm dược ở bước 1, tìm ra điểm chung **lớn nhất** của các khách hàng này về mặt **thông tin cá nhân** và **hành vi mua hàng**. Kết quả là 1 dataframe `cust_by_prod` gồm 6 cột tương ứng 6 sản phẩm và 14 dòng = 5 dòng **thông tin cá nhân** + 9 dòng **hành vi mua hàng**"
   ]
  },
  {
   "cell_type": "markdown",
   "id": "70a0b172",
   "metadata": {},
   "source": [
    "#### Code bước 1\n",
    "- Định nghĩa 1 hàm hợp `top_customers_ix(prod)` nhận vào prod là 1 cột Series sản phẩm, trả ra chỉ số index của top khách hàng chi nhiều tiền mua sản phẩm prod (\"nhiều\" trong khoảng phân vị [0.75, 1])\n",
    "- Sau đó áp dụng hàm hợp này lên cho 6 cột products "
   ]
  },
  {
   "cell_type": "code",
   "execution_count": null,
   "id": "995b51a1",
   "metadata": {
    "scrolled": false
   },
   "outputs": [],
   "source": [
    "def top_customers_ix(prod): # ix = index\n",
    "    major_buy_mnt = pd.qcut(prod, [.75, 1]) # lấy các record khách hàng có SL mua món hàng thuộc vào phân vị 75%\n",
    "    cust_ix = major_buy_mnt[~major_buy_mnt.isna()].index # lấy index các dòng thỏa DK trên, cũng là index các khách hàng\n",
    "    return cust_ix.to_list() # return danh sách index khách hàng\n",
    "\n",
    "products = ['Wines', 'Fruits', 'Meats', 'Fish', 'Sweets', 'Golds']\n",
    "top_customers = customer_seg[products].agg([top_customers_ix])\n",
    "top_customers"
   ]
  },
  {
   "cell_type": "markdown",
   "id": "ef2045a0",
   "metadata": {},
   "source": [
    "#### Code bước 2\n",
    "\"điểm chung **lớn nhất**\" của 1 cột Series bất kỳ là những giá trị có tần số xuất hiện trong cột đó thuộc phân vị 51% - tức xuất hiện nhiều hơn 1 nửa\n",
    "\n",
    "Để code được bước 2, ta sẽ thử nghiệm với 1 cột `Wines` trước để biết được output có hình dáng ra sao. Sau đó mới tính toán và áp dụng cho 6 cột products"
   ]
  },
  {
   "cell_type": "markdown",
   "id": "e24d51d9",
   "metadata": {},
   "source": [
    "a) Thử nghiệm với cột `Wines`\n",
    "\n",
    "Đầu tiên, định nghĩa hàm hợp `most_freq_val(s)` có chức năng tìm thông tin chung lớn nhất của cột s. Hàm này dùng để áp lên các cột ngoại trừ 6 cột sản phẩm. \n",
    "\n",
    "**Cách hoạt động**: Hàm nhận vào 1 Series `s`, tính tần số xuất hiện của từng <font color=green>**unique value của `s`**</font> (sử dụng value_counts()) và tìm ra những <font color=green>**value**</font> có tần số xuất hiện thuộc phân vị 51%.\\\n",
    "&nbsp;&nbsp;&nbsp;&nbsp;&nbsp;<u>VD</u>: Xét thuộc tính `Relationship` có <font color=green>**unique value**</font> = ['Married', 'Single'] với tần số xuất hiện lần lượt là [400, 100], thấy rằng trong khoảng phân vị 51% chỉ có <font color=green>**value**</font> = 'Married' thỏa nên hàm sẽ trả về ['Married']"
   ]
  },
  {
   "cell_type": "code",
   "execution_count": null,
   "id": "bf5de082",
   "metadata": {},
   "outputs": [],
   "source": [
    "def most_freq_val(s):\n",
    "    # lọc ra unique value của cột s có tần số xuất hiện nhiều trong khoảng phân vị [0.51, 1].\n",
    "    # Kết quả: Series có Series.index là unique value của cột s và \n",
    "    ## Series.value là NaN (nếu tần số không thuộc [0.51, 1]) hoặc khác NaN\n",
    "    top_vals = pd.qcut(s.value_counts(), [0.51, 1]) \n",
    "    \n",
    "    # lọc ra index của value xuất hiện nhiều (tức khác NaN)\n",
    "    # Kết quả: là 1 mảng bool\n",
    "    top_vals_ix = ~top_vals.isna()\n",
    "    \n",
    "    # tìm ra được điểm chung lớn nhất\n",
    "    top_vals = top_vals[top_vals_ix].index.to_list()\n",
    "    return top_vals"
   ]
  },
  {
   "cell_type": "markdown",
   "id": "13b161f4",
   "metadata": {},
   "source": [
    "Tiếp theo:\n",
    "- Lọc ra index nhóm khách hàng của sản phẩm `Wines` từ dataframe `top_customers` và lưu những index này vào biến `cust_ix`\n",
    "- Từ index, lấy được cột thông tin cá nhân + thông tin hành vi của nhóm khách hàng này và lưu vào biến `cust`\n",
    "- Áp dụng hàm hợp lên từng cột thông tin khách hàng của `cust` để biết phần lớn nhóm khách chi nhiều tiền cho `Wines` sẽ có đặc điểm là gì"
   ]
  },
  {
   "cell_type": "code",
   "execution_count": null,
   "id": "db490f3c",
   "metadata": {
    "scrolled": true
   },
   "outputs": [],
   "source": [
    "cust_ix = top_customers.loc['top_customers_ix', 'Wines'] # lọc ra index nhóm khách hàng của Wines\n",
    "cust = customer_seg.loc[cust_ix, ~customer_seg.columns.isin(products)] # lấy thông tin cá nhân + thông tin hành vi của nhóm này\n",
    "cust_of_wines = cust.agg([most_freq_val]).iloc[0] # Kết quả là dataframe 1 dòng nên lấy dòng đầu là đủ\n",
    "cust_of_wines"
   ]
  },
  {
   "cell_type": "markdown",
   "id": "ef50e6cb",
   "metadata": {},
   "source": [
    "Như vậy, với 1 cột `Wines`, ta biết được rằng phần lớn khách hàng có các đặc điểm như: đã tốt nghiệp, độ tuổi tầm trưởng thành (Mature) hoặc trung niên (Middle-age), thu nhập khá trở lên, ....Bây giờ ta đã sẵn sàng để mở rộng làm cho cả 6 cột sản phẩm"
   ]
  },
  {
   "cell_type": "markdown",
   "id": "8317386f",
   "metadata": {},
   "source": [
    "b) Làm trực tiếp trên 6 cột products của `top_customers`\n",
    "\n",
    "- Định nghĩa hàm hợp `feature(prod)` với `prod` là cột Series sản phẩm trong `top_customers`. Công việc của hàm này giống y hệt cell code ngay phía trên, chỉ đổi tên biến và thay vì làm cho 1 cột thì sẽ làm cho cột `prod` bất kỳ"
   ]
  },
  {
   "cell_type": "code",
   "execution_count": null,
   "id": "97496f5c",
   "metadata": {
    "scrolled": false
   },
   "outputs": [],
   "source": [
    "def feature(prod):\n",
    "    cust_ix = top_customers.loc['top_customers_ix', prod.name] # lọc ra index nhóm khách hàng của prod\n",
    "    cust = customer_seg.loc[cust_ix, ~customer_seg.columns.isin(products)] # lấy thông tin cá nhân + thông tin hành vi của nhóm này\n",
    "    cust_of_prod = cust.agg([most_freq_val]).iloc[0] # Kết quả là dataframe 1 dòng nên lấy dòng đầu là đủ\n",
    "    return cust_of_prod # kết quả là Series như cell code ngay trên\n",
    "\n",
    "final_cust_segmentation = top_customers.agg([feature])\n",
    "final_cust_segmentation"
   ]
  },
  {
   "cell_type": "markdown",
   "id": "9f86bc80",
   "metadata": {},
   "source": [
    "Vì output còn \"hơi xấu\" do:\n",
    "\n",
    "- `final_cust_segmentation.columns` có 2 level:\n",
    "    - level=0: Wines, Fruits, Meats, Fish, Sweets, Golds\n",
    "    - level=1: feature, feature, feature, feature, feature, feature \n",
    "\n",
    "$\\to$ Bỏ đi level=1 để nhìn đẹp và gọn hơn (sử dụng `DataFrame.droplevel`) \n",
    "  \n",
    "- 3 cột `Web`, `Catalog`, `Store` có thể hiện dạng list khó nhìn và khó thống kê  \n",
    "\n",
    "$\\to$ Lấy mean mỗi cột "
   ]
  },
  {
   "cell_type": "code",
   "execution_count": null,
   "id": "05ca1b78",
   "metadata": {
    "scrolled": false
   },
   "outputs": [],
   "source": [
    "final_cust_segmentation = final_cust_segmentation.droplevel(level=1, axis=1)\n",
    "final_cust_segmentation.loc[['Web', 'Catalog', 'Store']] = final_cust_segmentation.loc[['Web', 'Catalog', 'Store']].applymap(lambda lst: np.mean(lst).round())\n",
    "final_cust_segmentation"
   ]
  },
  {
   "cell_type": "markdown",
   "id": "d6b2c6e2",
   "metadata": {},
   "source": [
    "Như vậy, có thể bắt đầu rút trích insights từ đây"
   ]
  },
  {
   "cell_type": "markdown",
   "id": "abd86961",
   "metadata": {},
   "source": [
    "1. Đặc điểm chung của những người hay chi nhiều tiền cho 1 trong 6 sản phẩm này là: (tốt nghiệp bậc đại học trở lên), (hay mua hàng tại cửa hàng), (đã cưới), (người trưởng thành hoặc trung niên), (đạt lương vừa/cao), (không có hoặc có 1 con) và (không cần thông qua các chiến dịch marketing mới mua hàng - `Camp`**i**)\n",
    "\n",
    "\n",
    "2. Các khách hàng này phần lớn vẫn ưa chuộng việc mua sắm trực tiếp tại cửa hàng $\\to$ Cần duy trì, nâng cấp các chi nhánh cửa hàng của công ty \n",
    "\n",
    "\n",
    "3. Với nền tảng Web công ty, lượng người mua nhìn chung khá tốt. Riêng với thịt (Meats), đồ ngọt (Sweets) và vàng (Golds) được khách hàng mua online nhiều hơn các món khác $\\to$ Đây có thể là 3 món hàng tiềm năng nên cần tăng số lượng 3 mặt hàng này nhưng vẫn đảm bảo chất lượng và có thể kèm theo khuyến mãi để lôi kéo nhiều khách hàng hơn. Với 3 mặt hàng còn lại, khách hàng cũng ưa chuộng không kém nên ta có thể tăng cường các hình thức khuyến mãi hoặc marketing các mặt hàng này nhiều hơn nữa\n",
    "\n",
    "\n",
    "4. Khách hàng có xu hướng mua nhiều thịt hơn các mặt hàng còn lại thông qua các ấn phẩm/danh mục quảng cáo (Catalog) "
   ]
  },
  {
   "cell_type": "markdown",
   "id": "e3b54fc6",
   "metadata": {},
   "source": [
    "## 5. Với nhóm khách hàng mua hàng ít hơn trung bình, có điều gì ở họ mà làm cho việc mua sản phẩm ở công ty thấp thế?\n",
    "**Lợi ích**: khi biết được tình hình mua hàng nhóm này, ta sẽ đề ra 1 số giải pháp hay chính sách, ví dụ như giảm giá, để hỗ trợ khách hàng có cơ hội mua được nhiều mặt hàng công ty hơn. Thêm vào đó khách hàng nhóm này sẽ cảm thấy được chăm sóc và trân trọng -> có khả năng gắn bó lâu dài với công ty hơn\n",
    "\n",
    "Ta sẽ tìm hiểu xem có đặc điểm gì (VD: thu nhập, tình trạng hôn nhân,...) mà khiến khách hàng ít mua mua hàng tới vậy\n",
    "\n",
    "**\"khách hàng mua hàng ít hơn trung bình\"** = tổng số đơn hàng (dataframe `total_buy` phía trên) của khách hàng nằm ở phân vị 25%"
   ]
  },
  {
   "cell_type": "markdown",
   "id": "1b4f2273",
   "metadata": {},
   "source": [
    "### Tiền xử lý:\n",
    "- Bước 1: chuẩn bị dataframe `minor_customer` với các cột đã có trong `mkt_df` và thêm cột `NumChild`, ngoài ra ta cũng sửa lại cột `Income`, `Age`, `NumChild` để giá trị các cột này được rời rạc hóa thành từng nhóm\n",
    "- Bước 2: tận dụng dataframe `total_buy` ở câu trước để lọc ra các khách hàng có số đơn ít trong phân vị [0, 25%]"
   ]
  },
  {
   "cell_type": "code",
   "execution_count": null,
   "id": "7f352547",
   "metadata": {
    "scrolled": true
   },
   "outputs": [],
   "source": [
    "# Code bước 1\n",
    "minor_customer = mkt_df.copy()\n",
    "minor_customer['Income'] =  income\n",
    "minor_customer['Age'] = age\n",
    "minor_customer['NumChild'] = num_child\n",
    "\n",
    "# Code bước 2\n",
    "minor_customer_ix = ~pd.qcut(total_buy, [0, 0.25]).isna()\n",
    "minor_customer = minor_customer.loc[minor_customer_ix]\n",
    "minor_customer.shape"
   ]
  },
  {
   "cell_type": "markdown",
   "id": "85b3561b",
   "metadata": {},
   "source": [
    "### Phân tích "
   ]
  },
  {
   "cell_type": "markdown",
   "id": "c9ab1b19",
   "metadata": {},
   "source": [
    "**1. Tuổi của nhóm khách hàng này phần lớn là nhóm tuổi nào?**"
   ]
  },
  {
   "cell_type": "code",
   "execution_count": null,
   "id": "34831056",
   "metadata": {},
   "outputs": [],
   "source": [
    "minor_customer['Age'].value_counts().plot.barh();"
   ]
  },
  {
   "cell_type": "markdown",
   "id": "e0db2af6",
   "metadata": {},
   "source": [
    "$\\to$ Các đối tượng khách hàng cần sự hỗ trợ: hầu hết thuộc độ tuổi **trưởng thành** (Mature) và **trung niên** (Middle-age)"
   ]
  },
  {
   "cell_type": "markdown",
   "id": "df631409",
   "metadata": {},
   "source": [
    "**2. Xét lương của khách hàng thuộc 3 nhóm tuổi này, xem thử cao hay thấp**"
   ]
  },
  {
   "cell_type": "code",
   "execution_count": null,
   "id": "af249368",
   "metadata": {
    "scrolled": true
   },
   "outputs": [],
   "source": [
    "minor_customer = minor_customer.loc[minor_customer['Age'] != 'Old']\n",
    "minor_customer['Age'].value_counts().plot.bar(rot=30);"
   ]
  },
  {
   "cell_type": "markdown",
   "id": "95664c2f",
   "metadata": {},
   "source": [
    "$\\to$ Đa phần khách hàng thuộc nhóm có lương **dưới mức Low**. Tiếp tục xem trong quá khứ, họ chi bao nhiêu để mua từng sản phẩm công ty"
   ]
  },
  {
   "cell_type": "code",
   "execution_count": null,
   "id": "87fe1dc0",
   "metadata": {},
   "outputs": [],
   "source": [
    "poor_customer = minor_customer.loc[minor_customer['Income'].isin(['Low', 'Low to medium'])]\n",
    "poor_customer.groupby('Income')[products].sum().iloc[:2].plot.barh(); # lấy [:2] để bỏ income=[medium, high]"
   ]
  },
  {
   "cell_type": "markdown",
   "id": "83920481",
   "metadata": {},
   "source": [
    "Nhận xét:\n",
    "1. Cả 2 nhóm đều chi nhiều tiền cho 2 mặt hàng: rượu (Wines) và thịt (Meats) \n",
    "2. Riêng nhóm có lương thấp (Low) chi nhiều tiền để mua nhiều vàng hơn. Nhóm này cũng không bị lệch nhiều trong việc chi tiền cho các món hàng"
   ]
  },
  {
   "cell_type": "markdown",
   "id": "09209186",
   "metadata": {},
   "source": [
    "**3. Trong quá khứ, những khách hàng này hay chấp nhận offer ở lần marketing thứ mấy?**"
   ]
  },
  {
   "cell_type": "code",
   "execution_count": null,
   "id": "227269ce",
   "metadata": {
    "scrolled": false
   },
   "outputs": [],
   "source": [
    "poor_customer[camp].sum().plot.barh()"
   ]
  },
  {
   "cell_type": "markdown",
   "id": "12abf218",
   "metadata": {},
   "source": [
    "$\\to$ Chiến dịch thứ 3 và 6 thu hút được nhiều khách hàng nhất. "
   ]
  },
  {
   "cell_type": "markdown",
   "id": "50acc227",
   "metadata": {},
   "source": [
    "**Tổng kết lại**: Cần có 1 số chương trình khuyến mãi,... tạo điều kiện cho những người thuộc nhóm tuổi trưởng thành - trung niên, lương mức thấp để giúp đỡ họ. Ngoài ra có thể cho họ những offer tốt vào lần marketing thứ 3 hoặc thứ 6"
   ]
  },
  {
   "cell_type": "markdown",
   "id": "282db323",
   "metadata": {},
   "source": [
    "## 6. Hành vi mua hàng của những khách hàng có con và không con?\n",
    "\n",
    "**Lợi ích**: nắm được việc hành vi mua hàng của mỗi khách hàng có con, ta sẽ biết những ông bố/bà mẹ hoặc khách hàng không có con ưu tiên mua gì cho gia đình hoặc cho riêng họ\n",
    "\n",
    "Lý do khảo sát nhóm khách hàng này: Như ta đã biết mục I.3, có 71.5% khách hàng có con - chiếm hơn 2/3 số lượng khách hàng. Như vậy là đủ để ta tò mò về thông tin cá nhân và hành vi mua của nhóm khách hàng này. Và không chỉ quan tâm tới những khách hàng có con, công ty cũng nên quan tâm tới hành vi mua hàng ở những người không có con để đưa ra 1 số chiến lược phù hợp cho cả 2 đối tượng này\n",
    "\n",
    "Các bước phân tích:\n",
    "- Bước 1: Lọc ra dataframe `customers` gồm tất cả khách hàng cùng số con của họ\n",
    "- Bước 2: Như đã biết ở mục I, số con của 1 người dao động từ 0 tới 3 con, như vậy sẽ có 4 nhóm khách hàng. Với mỗi nhóm, thống kê tổng số tiền đã bỏ ra cho mỗi sản phẩm của công ty và lưu bảng thống kê này vào dataframe `deals`\n",
    "- Bước 3: Trực quan hóa thống kê ở bước 2 "
   ]
  },
  {
   "cell_type": "markdown",
   "id": "60c0e0a2",
   "metadata": {},
   "source": [
    "Code bước 1"
   ]
  },
  {
   "cell_type": "code",
   "execution_count": null,
   "id": "49ed6807",
   "metadata": {},
   "outputs": [],
   "source": [
    "customers = mkt_df.drop(columns=['Kidhome', 'Teenhome', 'Dt_Customer', 'Recency', 'Complain', 'ID'])\n",
    "customers['NumChild'] = num_child # thêm cột num_child\n",
    "customers.head()"
   ]
  },
  {
   "cell_type": "markdown",
   "id": "2c3c3f9b",
   "metadata": {},
   "source": [
    "Code bước 2"
   ]
  },
  {
   "cell_type": "code",
   "execution_count": null,
   "id": "ae296022",
   "metadata": {
    "scrolled": true
   },
   "outputs": [],
   "source": [
    "deals = customers.groupby('NumChild')[['Wines', 'Fruits', 'Meats', 'Fish', 'Sweets', 'Golds']].sum()\n",
    "deals"
   ]
  },
  {
   "cell_type": "markdown",
   "id": "c0aea7c0",
   "metadata": {},
   "source": [
    "Code bước 3: Ta muốn output là 3 biểu đồ tương ứng với 3 nhóm con. `catplot()` của thư viện seaborn giúp ta làm điều đó"
   ]
  },
  {
   "cell_type": "code",
   "execution_count": null,
   "id": "19f4444b",
   "metadata": {
    "scrolled": true
   },
   "outputs": [],
   "source": [
    "df = pd.melt(deals.reset_index(), id_vars='NumChild', var_name= 'products', value_name='amount')\n",
    "sns.catplot(x=\"amount\", y=\"products\", col=\"NumChild\", data=df, kind=\"bar\");\n",
    "sns.set_theme(style=\"darkgrid\")"
   ]
  },
  {
   "cell_type": "markdown",
   "id": "a9e9ff84",
   "metadata": {},
   "source": [
    "Nhận xét: Nhìn chung rượu vẫn là sản phẩm có tổng giá trị tiêu thụ cao ở tất cả các khách hàng. Thịt vẫn là ưu tiên thứ 2 ở tất cả khách hàng; thứ 3 là vàng (Gold) hoặc cá (Fish). Các sản phẩm còn lại tiêu thụ 1 lượng không đáng kể so với các sản phẩm khác trong cùng nhóm con"
   ]
  },
  {
   "cell_type": "markdown",
   "id": "60916e4f",
   "metadata": {},
   "source": [
    "### Câu hỏi kéo theo: Khách hàng có con thường chấp nhận offer vào lần marketing thứ mấy (So sánh với nhóm không có con xem thế nào)\n",
    "\n",
    "Lợi ích: Khi biết được kích thước gia đình của từng khách hàng và cách họ mua hàng thông qua các chiến dịch marketing, công ty sẽ biết lần marketing nào thì nên đầu tư nhân lực về marketing và trưng bày nhiều sản phẩm như Wines và Meats chiến dịch đó"
   ]
  },
  {
   "cell_type": "markdown",
   "id": "bff34c3a",
   "metadata": {},
   "source": [
    "Đầu tiên, xét các khách hàng có con: \n",
    "- Bước 1: chuẩn bị dataframe `parent_camp` với các 6 cột chiến dịch `camp`\n",
    "- Bước 2: với mỗi (cột) chiến dịch marketing, tính tổng cột đó"
   ]
  },
  {
   "cell_type": "code",
   "execution_count": null,
   "id": "1ee48df9",
   "metadata": {
    "scrolled": false
   },
   "outputs": [],
   "source": [
    "customers['HasChild'] = customers['NumChild'] > 0\n",
    "customers.groupby('HasChild')[camp].sum().plot.barh(rot=0, grid=True, figsize=(9,8))\n",
    "plt.xlabel('Customers');\n",
    "plt.yticks(range(2), ['has child', 'childless']);"
   ]
  },
  {
   "cell_type": "markdown",
   "id": "bb38422e",
   "metadata": {},
   "source": [
    "Nhận xét:\n",
    "1. Ở các khách hàng có con, có vẻ họ dễ bị thuyết phục bởi các chiến dịch marketing lần 1,5,6\n",
    "2. Ở các khách hàng không có con, có vẻ như mãi tới lần marketing thứ 3,4,6 thì họ mới chấp nhận offer mua hàng"
   ]
  },
  {
   "cell_type": "markdown",
   "id": "8f4a5577",
   "metadata": {},
   "source": [
    "## 7. Thống kê số lượng duyệt web của khách hàng qua từng độ tuổi?\n",
    "**Lợi ích:** sau khi biết được thì ta có thể dễ dàng xây dựng được nội dung marketing trên trang web để phù hợp với độ tuổi của các khách hàng duyệt web."
   ]
  },
  {
   "cell_type": "markdown",
   "id": "cfe8ee06",
   "metadata": {},
   "source": [
    "### Tiền xử lý\n",
    "- Bước 1: tạo dataframe mới `df` gồm cột `WebVisit` và cột `Age`\n",
    "- Bước 2: rời rạc hóa cột `Age` thành các nhóm: `['Young', 'Mature', 'Midlle-age', 'Old']`\n",
    "- Bước 3: sử dụng dataframem `df` đó để phân tích"
   ]
  },
  {
   "cell_type": "markdown",
   "metadata": {},
   "source": [
    "- Code bước 1"
   ]
  },
  {
   "cell_type": "code",
   "execution_count": null,
   "id": "a3f1b78c",
   "metadata": {},
   "outputs": [],
   "source": [
    "df = mkt_df[[\"WebVisit\", \"Age\"]].copy()"
   ]
  },
  {
   "cell_type": "code",
   "execution_count": null,
   "id": "78cbf4e8",
   "metadata": {
    "scrolled": true
   },
   "outputs": [],
   "source": [
    "age_group = ['Young', 'Mature', 'Middle-age', 'Old']\n",
    "age_range = [0, 30, 45, 65, 101] # từng cặp là từng nhóm tuổi. VD: [0-30] tuổi, [30-45] tuổi\n",
    "df[\"Age\"] = pd.cut(df['Age'], bins=age_range, labels=age_group)"
   ]
  },
  {
   "cell_type": "code",
   "execution_count": null,
   "id": "18ea6d02",
   "metadata": {},
   "outputs": [],
   "source": [
    "df[\"Age\"].value_counts().plot.pie(figsize=(7,7), autopct=\"%1.1f%%\");"
   ]
  },
  {
   "cell_type": "markdown",
   "id": "c0fa605a",
   "metadata": {},
   "source": [
    "Độ tuổi `Middle-age` và `Mature` khá là nhiều vì 2 độ tuổi này là thưởng đóng vai trò là người đi mua sắm chính trong gia đình.\\\n",
    "Còn các khách hàng ở độ tuổi `Young` và `Old` thường ít đi mua sắm hơn."
   ]
  },
  {
   "cell_type": "markdown",
   "id": "e301c405",
   "metadata": {},
   "source": [
    "### Phân tích\n",
    "- Bước 1: tính tổng số lần duyệt web trong tháng của các khách hàng trong từng độ tuổi.\\\n",
    "- Bước 2: Visualize dữ liệu vừa tính được để thấy rõ hơn về phân bố số lần duyệt web của từng độ tuổi của khách hàng."
   ]
  },
  {
   "cell_type": "markdown",
   "id": "e942fe06",
   "metadata": {},
   "source": [
    "- Code bước 1:"
   ]
  },
  {
   "cell_type": "code",
   "execution_count": null,
   "id": "cf366cb2",
   "metadata": {},
   "outputs": [],
   "source": [
    "visitweb_per_age = df.groupby(\"Age\").sum()\n",
    "visitweb_per_age"
   ]
  },
  {
   "cell_type": "markdown",
   "id": "adcd517d",
   "metadata": {},
   "source": [
    "- Code bước 2:"
   ]
  },
  {
   "cell_type": "code",
   "execution_count": null,
   "id": "145d961b",
   "metadata": {},
   "outputs": [],
   "source": [
    "visitweb_per_age.sort_values(by='WebVisit').plot.barh(figsize=(7,5));\n",
    "plt.xlabel(\"Number of web visits\");"
   ]
  },
  {
   "cell_type": "markdown",
   "id": "cf16fa6a",
   "metadata": {},
   "source": [
    "$\\to$ Nhận xét: độ tuổi `Mature` (trưởng thành) có xu hướng duyệt web nhiều hơn các độ tuổi còn lại, từ đó chúng ta có thể tìm được cách để xây dụng nội dung Marketing sao cho hợp lý với độ tuổi đó, giúp cho khách hàng có thể dễ dàng tìm được món hàng mà mình yêu thích và khách hàng cũng thấy dễ chịu khi duyệt web vì bố cục của trang web được xây dựng nhắm vào khách hàng `Mature`."
   ]
  }
 ],
 "metadata": {
  "kernelspec": {
   "display_name": "Python 3 (ipykernel)",
   "language": "python",
   "name": "python3"
  },
  "language_info": {
   "codemirror_mode": {
    "name": "ipython",
    "version": 3
   },
   "file_extension": ".py",
   "mimetype": "text/x-python",
   "name": "python",
   "nbconvert_exporter": "python",
   "pygments_lexer": "ipython3",
   "version": "3.9.6"
  }
 },
 "nbformat": 4,
 "nbformat_minor": 5
}
