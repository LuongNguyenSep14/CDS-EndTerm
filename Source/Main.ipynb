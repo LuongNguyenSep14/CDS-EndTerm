{
 "cells": [
  {
   "cell_type": "markdown",
   "id": "a34efdcf",
   "metadata": {},
   "source": [
    "# Import Library"
   ]
  },
  {
   "cell_type": "code",
   "execution_count": 790,
   "id": "b2b0ba94",
   "metadata": {},
   "outputs": [],
   "source": [
    "import pandas as pd\n",
    "import numpy as np\n",
    "import seaborn as sns\n",
    "from matplotlib import pyplot as plt\n",
    "import warnings\n",
    "warnings.filterwarnings(\"ignore\")\n",
    "pd.set_option(\"display.max_columns\", None)"
   ]
  },
  {
   "cell_type": "markdown",
   "id": "780e616e",
   "metadata": {},
   "source": [
    "---"
   ]
  },
  {
   "cell_type": "markdown",
   "id": "ab9e4b88",
   "metadata": {},
   "source": [
    "# Thu thập dữ liệu"
   ]
  },
  {
   "cell_type": "markdown",
   "id": "59191777",
   "metadata": {},
   "source": [
    "**Dữ liệu được sử dụng trong notebook này là thông tin về các khách hàng tham gia cuộc khảo sát để tìm ra khách hàng lý tưởng. Để giúp cho doanh nghiệp hiểu tốt hơn về khách hàng**\n",
    "> **Context**\\\n",
    "**Problem Statement**\\\n",
    "Customer Personality Analysis is a detailed analysis of a company’s ideal customers. It helps a business to better understand its customers and makes it easier for them to modify products according to the specific needs, behaviors and concerns of different types of customers.\n",
    ">\n",
    ">Customer personality analysis helps a business to modify its product based on its target customers from different types of customer segments. For example, instead of spending money to market a new product to every customer in the company’s database, a company can analyze which customer segment is most likely to buy the product and then market the product only on that particular segment.\n",
    "\n",
    "**Phần mô tả của dữ liệu:**\n",
    ">**Attributes**\\\n",
    "**People**\n",
    ">\n",
    ">- ID: Customer's unique identifier\n",
    ">- Year_Birth: Customer's birth year\n",
    ">- Education: Customer's education level\n",
    ">- Marital_Status: Customer's marital status\n",
    ">- Income: Customer's yearly household income\n",
    ">- Kidhome: Number of children in customer's household\n",
    ">- Teenhome: Number of teenagers in customer's household\n",
    ">- Dt_Customer: Date of customer's enrollment with the company\n",
    ">- Recency: Number of days since customer's last purchase\n",
    ">- Complain: 1 if the customer complained in the last 2 years, 0 otherwise\n",
    ">\n",
    ">**Products**\n",
    ">\n",
    ">- MntWines: Amount spent on wine in last 2 years\n",
    ">- MntFruits: Amount spent on fruits in last 2 years\n",
    ">- MntMeatProducts: Amount spent on meat in last 2 years\n",
    ">- MntFishProducts: Amount spent on fish in last 2 years\n",
    ">- MntSweetProducts: Amount spent on sweets in last 2 years\n",
    ">- MntGoldProds: Amount spent on gold in last 2 years\n",
    ">\n",
    ">**Promotion**\n",
    ">\n",
    ">- NumDealsPurchases: Number of purchases made with a discount\n",
    ">- AcceptedCmp1: 1 if customer accepted the offer in the 1st campaign, 0 otherwise\n",
    ">- AcceptedCmp2: 1 if customer accepted the offer in the 2nd campaign, 0 otherwise\n",
    ">- AcceptedCmp3: 1 if customer accepted the offer in the 3rd campaign, 0 otherwise\n",
    ">- AcceptedCmp4: 1 if customer accepted the offer in the 4th campaign, 0 otherwise\n",
    ">- AcceptedCmp5: 1 if customer accepted the offer in the 5th campaign, 0 otherwise\n",
    ">- Response: 1 if customer accepted the offer in the last campaign, 0 otherwise\n",
    ">\n",
    ">**Place**\n",
    ">\n",
    ">- NumWebPurchases: Number of purchases made through the company’s website\n",
    ">- NumCatalogPurchases: Number of purchases made using a catalogue\n",
    ">- NumStorePurchases: Number of purchases made directly in stores\n",
    ">- NumWebVisitsMonth: Number of visits to company’s website in the last month\n",
    "\n",
    "**Dữ liệu này được Public trên trang Kaggle nhằm mục đích học tập với license như sau:**\n",
    "> [License CC0](https://creativecommons.org/publicdomain/zero/1.0/). License cho phép ta có thể sử dụng tập dữ liệu mà không cần xin phép tác giả. Cụ thể, license này thể hiện tác giả đã trao quyền cho người khác có thể sử dụng để chỉnh sửa, phân phối,... dưới bất kỳ hình thức nào trong phạm vi pháp luật. Như vậy ta có thể sử dụng dataset này cho phạm vi môn học\n",
    "\n",
    "**Cám ơn [LavanyaAkash Patel](https://www.kaggle.com/imakash3011) đã cung cấp tập dữ liệu này**\n",
    "\n",
    "\n",
    "**Nhóm download dữ liệu tại đây [kaggle](https://www.kaggle.com/imakash3011/customer-personality-analysis)**"
   ]
  },
  {
   "cell_type": "markdown",
   "id": "b7f353f0",
   "metadata": {},
   "source": [
    "---"
   ]
  },
  {
   "cell_type": "markdown",
   "id": "41d34111",
   "metadata": {},
   "source": [
    "# A. Khám phá dữ liệu"
   ]
  },
  {
   "cell_type": "markdown",
   "id": "29a2da60",
   "metadata": {},
   "source": [
    "## Đọc dữ liệu từ file .csv"
   ]
  },
  {
   "cell_type": "code",
   "execution_count": 791,
   "id": "701a8235",
   "metadata": {
    "scrolled": true
   },
   "outputs": [
    {
     "data": {
      "text/html": [
       "<div>\n",
       "<style scoped>\n",
       "    .dataframe tbody tr th:only-of-type {\n",
       "        vertical-align: middle;\n",
       "    }\n",
       "\n",
       "    .dataframe tbody tr th {\n",
       "        vertical-align: top;\n",
       "    }\n",
       "\n",
       "    .dataframe thead th {\n",
       "        text-align: right;\n",
       "    }\n",
       "</style>\n",
       "<table border=\"1\" class=\"dataframe\">\n",
       "  <thead>\n",
       "    <tr style=\"text-align: right;\">\n",
       "      <th></th>\n",
       "      <th>ID</th>\n",
       "      <th>Year_Birth</th>\n",
       "      <th>Education</th>\n",
       "      <th>Marital_Status</th>\n",
       "      <th>Income</th>\n",
       "      <th>Kidhome</th>\n",
       "      <th>Teenhome</th>\n",
       "      <th>Dt_Customer</th>\n",
       "      <th>Recency</th>\n",
       "      <th>MntWines</th>\n",
       "      <th>MntFruits</th>\n",
       "      <th>MntMeatProducts</th>\n",
       "      <th>MntFishProducts</th>\n",
       "      <th>MntSweetProducts</th>\n",
       "      <th>MntGoldProds</th>\n",
       "      <th>NumDealsPurchases</th>\n",
       "      <th>NumWebPurchases</th>\n",
       "      <th>NumCatalogPurchases</th>\n",
       "      <th>NumStorePurchases</th>\n",
       "      <th>NumWebVisitsMonth</th>\n",
       "      <th>AcceptedCmp3</th>\n",
       "      <th>AcceptedCmp4</th>\n",
       "      <th>AcceptedCmp5</th>\n",
       "      <th>AcceptedCmp1</th>\n",
       "      <th>AcceptedCmp2</th>\n",
       "      <th>Complain</th>\n",
       "      <th>Z_CostContact</th>\n",
       "      <th>Z_Revenue</th>\n",
       "      <th>Response</th>\n",
       "    </tr>\n",
       "  </thead>\n",
       "  <tbody>\n",
       "    <tr>\n",
       "      <th>0</th>\n",
       "      <td>5524</td>\n",
       "      <td>1957</td>\n",
       "      <td>Graduation</td>\n",
       "      <td>Single</td>\n",
       "      <td>58138.0</td>\n",
       "      <td>0</td>\n",
       "      <td>0</td>\n",
       "      <td>04-09-2012</td>\n",
       "      <td>58</td>\n",
       "      <td>635</td>\n",
       "      <td>88</td>\n",
       "      <td>546</td>\n",
       "      <td>172</td>\n",
       "      <td>88</td>\n",
       "      <td>88</td>\n",
       "      <td>3</td>\n",
       "      <td>8</td>\n",
       "      <td>10</td>\n",
       "      <td>4</td>\n",
       "      <td>7</td>\n",
       "      <td>0</td>\n",
       "      <td>0</td>\n",
       "      <td>0</td>\n",
       "      <td>0</td>\n",
       "      <td>0</td>\n",
       "      <td>0</td>\n",
       "      <td>3</td>\n",
       "      <td>11</td>\n",
       "      <td>1</td>\n",
       "    </tr>\n",
       "    <tr>\n",
       "      <th>1</th>\n",
       "      <td>2174</td>\n",
       "      <td>1954</td>\n",
       "      <td>Graduation</td>\n",
       "      <td>Single</td>\n",
       "      <td>46344.0</td>\n",
       "      <td>1</td>\n",
       "      <td>1</td>\n",
       "      <td>08-03-2014</td>\n",
       "      <td>38</td>\n",
       "      <td>11</td>\n",
       "      <td>1</td>\n",
       "      <td>6</td>\n",
       "      <td>2</td>\n",
       "      <td>1</td>\n",
       "      <td>6</td>\n",
       "      <td>2</td>\n",
       "      <td>1</td>\n",
       "      <td>1</td>\n",
       "      <td>2</td>\n",
       "      <td>5</td>\n",
       "      <td>0</td>\n",
       "      <td>0</td>\n",
       "      <td>0</td>\n",
       "      <td>0</td>\n",
       "      <td>0</td>\n",
       "      <td>0</td>\n",
       "      <td>3</td>\n",
       "      <td>11</td>\n",
       "      <td>0</td>\n",
       "    </tr>\n",
       "    <tr>\n",
       "      <th>2</th>\n",
       "      <td>4141</td>\n",
       "      <td>1965</td>\n",
       "      <td>Graduation</td>\n",
       "      <td>Together</td>\n",
       "      <td>71613.0</td>\n",
       "      <td>0</td>\n",
       "      <td>0</td>\n",
       "      <td>21-08-2013</td>\n",
       "      <td>26</td>\n",
       "      <td>426</td>\n",
       "      <td>49</td>\n",
       "      <td>127</td>\n",
       "      <td>111</td>\n",
       "      <td>21</td>\n",
       "      <td>42</td>\n",
       "      <td>1</td>\n",
       "      <td>8</td>\n",
       "      <td>2</td>\n",
       "      <td>10</td>\n",
       "      <td>4</td>\n",
       "      <td>0</td>\n",
       "      <td>0</td>\n",
       "      <td>0</td>\n",
       "      <td>0</td>\n",
       "      <td>0</td>\n",
       "      <td>0</td>\n",
       "      <td>3</td>\n",
       "      <td>11</td>\n",
       "      <td>0</td>\n",
       "    </tr>\n",
       "    <tr>\n",
       "      <th>3</th>\n",
       "      <td>6182</td>\n",
       "      <td>1984</td>\n",
       "      <td>Graduation</td>\n",
       "      <td>Together</td>\n",
       "      <td>26646.0</td>\n",
       "      <td>1</td>\n",
       "      <td>0</td>\n",
       "      <td>10-02-2014</td>\n",
       "      <td>26</td>\n",
       "      <td>11</td>\n",
       "      <td>4</td>\n",
       "      <td>20</td>\n",
       "      <td>10</td>\n",
       "      <td>3</td>\n",
       "      <td>5</td>\n",
       "      <td>2</td>\n",
       "      <td>2</td>\n",
       "      <td>0</td>\n",
       "      <td>4</td>\n",
       "      <td>6</td>\n",
       "      <td>0</td>\n",
       "      <td>0</td>\n",
       "      <td>0</td>\n",
       "      <td>0</td>\n",
       "      <td>0</td>\n",
       "      <td>0</td>\n",
       "      <td>3</td>\n",
       "      <td>11</td>\n",
       "      <td>0</td>\n",
       "    </tr>\n",
       "    <tr>\n",
       "      <th>4</th>\n",
       "      <td>5324</td>\n",
       "      <td>1981</td>\n",
       "      <td>PhD</td>\n",
       "      <td>Married</td>\n",
       "      <td>58293.0</td>\n",
       "      <td>1</td>\n",
       "      <td>0</td>\n",
       "      <td>19-01-2014</td>\n",
       "      <td>94</td>\n",
       "      <td>173</td>\n",
       "      <td>43</td>\n",
       "      <td>118</td>\n",
       "      <td>46</td>\n",
       "      <td>27</td>\n",
       "      <td>15</td>\n",
       "      <td>5</td>\n",
       "      <td>5</td>\n",
       "      <td>3</td>\n",
       "      <td>6</td>\n",
       "      <td>5</td>\n",
       "      <td>0</td>\n",
       "      <td>0</td>\n",
       "      <td>0</td>\n",
       "      <td>0</td>\n",
       "      <td>0</td>\n",
       "      <td>0</td>\n",
       "      <td>3</td>\n",
       "      <td>11</td>\n",
       "      <td>0</td>\n",
       "    </tr>\n",
       "  </tbody>\n",
       "</table>\n",
       "</div>"
      ],
      "text/plain": [
       "     ID  Year_Birth   Education Marital_Status   Income  Kidhome  Teenhome  \\\n",
       "0  5524        1957  Graduation         Single  58138.0        0         0   \n",
       "1  2174        1954  Graduation         Single  46344.0        1         1   \n",
       "2  4141        1965  Graduation       Together  71613.0        0         0   \n",
       "3  6182        1984  Graduation       Together  26646.0        1         0   \n",
       "4  5324        1981         PhD        Married  58293.0        1         0   \n",
       "\n",
       "  Dt_Customer  Recency  MntWines  MntFruits  MntMeatProducts  MntFishProducts  \\\n",
       "0  04-09-2012       58       635         88              546              172   \n",
       "1  08-03-2014       38        11          1                6                2   \n",
       "2  21-08-2013       26       426         49              127              111   \n",
       "3  10-02-2014       26        11          4               20               10   \n",
       "4  19-01-2014       94       173         43              118               46   \n",
       "\n",
       "   MntSweetProducts  MntGoldProds  NumDealsPurchases  NumWebPurchases  \\\n",
       "0                88            88                  3                8   \n",
       "1                 1             6                  2                1   \n",
       "2                21            42                  1                8   \n",
       "3                 3             5                  2                2   \n",
       "4                27            15                  5                5   \n",
       "\n",
       "   NumCatalogPurchases  NumStorePurchases  NumWebVisitsMonth  AcceptedCmp3  \\\n",
       "0                   10                  4                  7             0   \n",
       "1                    1                  2                  5             0   \n",
       "2                    2                 10                  4             0   \n",
       "3                    0                  4                  6             0   \n",
       "4                    3                  6                  5             0   \n",
       "\n",
       "   AcceptedCmp4  AcceptedCmp5  AcceptedCmp1  AcceptedCmp2  Complain  \\\n",
       "0             0             0             0             0         0   \n",
       "1             0             0             0             0         0   \n",
       "2             0             0             0             0         0   \n",
       "3             0             0             0             0         0   \n",
       "4             0             0             0             0         0   \n",
       "\n",
       "   Z_CostContact  Z_Revenue  Response  \n",
       "0              3         11         1  \n",
       "1              3         11         0  \n",
       "2              3         11         0  \n",
       "3              3         11         0  \n",
       "4              3         11         0  "
      ]
     },
     "execution_count": 791,
     "metadata": {},
     "output_type": "execute_result"
    }
   ],
   "source": [
    "mkt_df = pd.read_csv(\"../Data/marketing_campaign.csv\", sep='\\t') # mkt = marketing\n",
    "mkt_df.head()"
   ]
  },
  {
   "cell_type": "markdown",
   "id": "4d6497da",
   "metadata": {},
   "source": [
    "## Dữ liệu có bao nhiêu dòng và bao nhiêu cột?"
   ]
  },
  {
   "cell_type": "code",
   "execution_count": 792,
   "id": "af83800e",
   "metadata": {},
   "outputs": [
    {
     "name": "stdout",
     "output_type": "stream",
     "text": [
      "Marketing dataset have 2240 rows and 29 columns\n"
     ]
    }
   ],
   "source": [
    "mkt_df_nrows, mkt_df_ncols = mkt_df.shape\n",
    "print(f\"Marketing dataset have {mkt_df_nrows} rows and {mkt_df_ncols} columns\")"
   ]
  },
  {
   "cell_type": "markdown",
   "id": "5c01c0ad",
   "metadata": {},
   "source": [
    "## Mỗi dòng có ý nghĩa gì? Có vấn đề các dòng có ý nghĩa khác nhau không?"
   ]
  },
  {
   "cell_type": "markdown",
   "id": "4eecf70b",
   "metadata": {},
   "source": [
    "- Theo Kaggle, mỗi dòng là thông tin cá nhân + thông tin mua hàng của 1 khách hàng. Nhìn chung các dòng có cùng ý nghĩa với nhau"
   ]
  },
  {
   "cell_type": "markdown",
   "id": "16f81730",
   "metadata": {},
   "source": [
    "## Dữ liệu có các dòng bị lặp không?"
   ]
  },
  {
   "cell_type": "code",
   "execution_count": 793,
   "id": "a4fcbc9f",
   "metadata": {},
   "outputs": [
    {
     "name": "stdout",
     "output_type": "stream",
     "text": [
      "Number of duplicated rows in Marketing dataset: 0\n",
      "Number of duplicated ids in Marketing dataset: 0\n"
     ]
    }
   ],
   "source": [
    "num_duplicated_apps = mkt_df.duplicated().sum()\n",
    "num_duplicated_ids = mkt_df['ID'].duplicated().sum()\n",
    "\n",
    "print(f\"Number of duplicated rows in Marketing dataset: {num_duplicated_apps}\")\n",
    "print(f\"Number of duplicated ids in Marketing dataset: {num_duplicated_ids}\")"
   ]
  },
  {
   "cell_type": "markdown",
   "id": "2691f943",
   "metadata": {},
   "source": [
    "$\\to$ Các dòng không bị trùng nhau hoàn toàn hoặc trùng nhau về ID"
   ]
  },
  {
   "cell_type": "markdown",
   "id": "391e0c52",
   "metadata": {},
   "source": [
    "## Mỗi cột có ý nghĩa gì?"
   ]
  },
  {
   "cell_type": "markdown",
   "id": "a3b3494b",
   "metadata": {},
   "source": [
    "Ý nghĩa của các cột được lưu vào file `columns_explain.csv`, ta sẽ đọc file này vào 1 dataframe gồm 2 cột tên là `Attribute` và `Meaning`"
   ]
  },
  {
   "cell_type": "code",
   "execution_count": 794,
   "id": "efb020ad",
   "metadata": {},
   "outputs": [
    {
     "data": {
      "text/html": [
       "<div>\n",
       "<style scoped>\n",
       "    .dataframe tbody tr th:only-of-type {\n",
       "        vertical-align: middle;\n",
       "    }\n",
       "\n",
       "    .dataframe tbody tr th {\n",
       "        vertical-align: top;\n",
       "    }\n",
       "\n",
       "    .dataframe thead th {\n",
       "        text-align: right;\n",
       "    }\n",
       "</style>\n",
       "<table border=\"1\" class=\"dataframe\">\n",
       "  <thead>\n",
       "    <tr style=\"text-align: right;\">\n",
       "      <th></th>\n",
       "      <th>Attribute</th>\n",
       "      <th>Meaning</th>\n",
       "    </tr>\n",
       "  </thead>\n",
       "  <tbody>\n",
       "    <tr>\n",
       "      <th>0</th>\n",
       "      <td>ID</td>\n",
       "      <td>Customer's unique identifier</td>\n",
       "    </tr>\n",
       "    <tr>\n",
       "      <th>1</th>\n",
       "      <td>Year_Birth</td>\n",
       "      <td>Customer's birth year</td>\n",
       "    </tr>\n",
       "    <tr>\n",
       "      <th>2</th>\n",
       "      <td>Education</td>\n",
       "      <td>Customer's education level</td>\n",
       "    </tr>\n",
       "    <tr>\n",
       "      <th>3</th>\n",
       "      <td>Marital_Status</td>\n",
       "      <td>Customer's marital status</td>\n",
       "    </tr>\n",
       "    <tr>\n",
       "      <th>4</th>\n",
       "      <td>Income</td>\n",
       "      <td>Customer's yearly household income</td>\n",
       "    </tr>\n",
       "    <tr>\n",
       "      <th>5</th>\n",
       "      <td>Kidhome</td>\n",
       "      <td>Number of children in customer's household</td>\n",
       "    </tr>\n",
       "    <tr>\n",
       "      <th>6</th>\n",
       "      <td>Teenhome</td>\n",
       "      <td>Number of teenagers in customer's household</td>\n",
       "    </tr>\n",
       "    <tr>\n",
       "      <th>7</th>\n",
       "      <td>Dt_Customer</td>\n",
       "      <td>Date of customer's enrollment with the company</td>\n",
       "    </tr>\n",
       "    <tr>\n",
       "      <th>8</th>\n",
       "      <td>Recency</td>\n",
       "      <td>Number of days since customer's last purchase</td>\n",
       "    </tr>\n",
       "    <tr>\n",
       "      <th>9</th>\n",
       "      <td>Complain</td>\n",
       "      <td>1 if the customer complained in the last 2 years, 0 otherwise</td>\n",
       "    </tr>\n",
       "    <tr>\n",
       "      <th>10</th>\n",
       "      <td>MntWines</td>\n",
       "      <td>Amount spent on wine in last 2 years</td>\n",
       "    </tr>\n",
       "    <tr>\n",
       "      <th>11</th>\n",
       "      <td>MntFruits</td>\n",
       "      <td>Amount spent on fruits in last 2 years</td>\n",
       "    </tr>\n",
       "    <tr>\n",
       "      <th>12</th>\n",
       "      <td>MntMeatProducts</td>\n",
       "      <td>Amount spent on meat in last 2 years</td>\n",
       "    </tr>\n",
       "    <tr>\n",
       "      <th>13</th>\n",
       "      <td>MntFishProducts</td>\n",
       "      <td>Amount spent on fish in last 2 years</td>\n",
       "    </tr>\n",
       "    <tr>\n",
       "      <th>14</th>\n",
       "      <td>MntSweetProducts</td>\n",
       "      <td>Amount spent on sweets in last 2 years</td>\n",
       "    </tr>\n",
       "    <tr>\n",
       "      <th>15</th>\n",
       "      <td>MntGoldProds</td>\n",
       "      <td>Amount spent on gold in last 2 years</td>\n",
       "    </tr>\n",
       "    <tr>\n",
       "      <th>16</th>\n",
       "      <td>NumDealsPurchases</td>\n",
       "      <td>Number of purchases made with a discount</td>\n",
       "    </tr>\n",
       "    <tr>\n",
       "      <th>17</th>\n",
       "      <td>AcceptedCmp1</td>\n",
       "      <td>1 if customer accepted the offer in the 1st campaign, 0 otherwise</td>\n",
       "    </tr>\n",
       "    <tr>\n",
       "      <th>18</th>\n",
       "      <td>AcceptedCmp2</td>\n",
       "      <td>1 if customer accepted the offer in the 2nd campaign, 0 otherwise</td>\n",
       "    </tr>\n",
       "    <tr>\n",
       "      <th>19</th>\n",
       "      <td>AcceptedCmp3</td>\n",
       "      <td>1 if customer accepted the offer in the 3rd campaign, 0 otherwise</td>\n",
       "    </tr>\n",
       "    <tr>\n",
       "      <th>20</th>\n",
       "      <td>AcceptedCmp4</td>\n",
       "      <td>1 if customer accepted the offer in the 4th campaign, 0 otherwise</td>\n",
       "    </tr>\n",
       "    <tr>\n",
       "      <th>21</th>\n",
       "      <td>AcceptedCmp5</td>\n",
       "      <td>1 if customer accepted the offer in the 5th campaign, 0 otherwise</td>\n",
       "    </tr>\n",
       "    <tr>\n",
       "      <th>22</th>\n",
       "      <td>Response</td>\n",
       "      <td>1 if customer accepted the offer in the last campaign, 0 otherwise</td>\n",
       "    </tr>\n",
       "    <tr>\n",
       "      <th>23</th>\n",
       "      <td>NumWebPurchases</td>\n",
       "      <td>Number of purchases made through the company’s website</td>\n",
       "    </tr>\n",
       "    <tr>\n",
       "      <th>24</th>\n",
       "      <td>NumCatalogPurchases</td>\n",
       "      <td>Number of purchases made using a catalogue</td>\n",
       "    </tr>\n",
       "    <tr>\n",
       "      <th>25</th>\n",
       "      <td>NumStorePurchases</td>\n",
       "      <td>Number of purchases made directly in stores</td>\n",
       "    </tr>\n",
       "    <tr>\n",
       "      <th>26</th>\n",
       "      <td>NumWebVisitsMonth</td>\n",
       "      <td>Number of visits to company’s website in the last month</td>\n",
       "    </tr>\n",
       "  </tbody>\n",
       "</table>\n",
       "</div>"
      ],
      "text/plain": [
       "              Attribute  \\\n",
       "0                    ID   \n",
       "1            Year_Birth   \n",
       "2             Education   \n",
       "3        Marital_Status   \n",
       "4                Income   \n",
       "5               Kidhome   \n",
       "6              Teenhome   \n",
       "7           Dt_Customer   \n",
       "8               Recency   \n",
       "9              Complain   \n",
       "10             MntWines   \n",
       "11            MntFruits   \n",
       "12      MntMeatProducts   \n",
       "13      MntFishProducts   \n",
       "14     MntSweetProducts   \n",
       "15         MntGoldProds   \n",
       "16    NumDealsPurchases   \n",
       "17         AcceptedCmp1   \n",
       "18         AcceptedCmp2   \n",
       "19         AcceptedCmp3   \n",
       "20         AcceptedCmp4   \n",
       "21         AcceptedCmp5   \n",
       "22             Response   \n",
       "23      NumWebPurchases   \n",
       "24  NumCatalogPurchases   \n",
       "25    NumStorePurchases   \n",
       "26    NumWebVisitsMonth   \n",
       "\n",
       "                                                               Meaning  \n",
       "0                                         Customer's unique identifier  \n",
       "1                                                Customer's birth year  \n",
       "2                                           Customer's education level  \n",
       "3                                            Customer's marital status  \n",
       "4                                   Customer's yearly household income  \n",
       "5                           Number of children in customer's household  \n",
       "6                          Number of teenagers in customer's household  \n",
       "7                       Date of customer's enrollment with the company  \n",
       "8                        Number of days since customer's last purchase  \n",
       "9        1 if the customer complained in the last 2 years, 0 otherwise  \n",
       "10                                Amount spent on wine in last 2 years  \n",
       "11                              Amount spent on fruits in last 2 years  \n",
       "12                                Amount spent on meat in last 2 years  \n",
       "13                                Amount spent on fish in last 2 years  \n",
       "14                              Amount spent on sweets in last 2 years  \n",
       "15                                Amount spent on gold in last 2 years  \n",
       "16                            Number of purchases made with a discount  \n",
       "17   1 if customer accepted the offer in the 1st campaign, 0 otherwise  \n",
       "18   1 if customer accepted the offer in the 2nd campaign, 0 otherwise  \n",
       "19   1 if customer accepted the offer in the 3rd campaign, 0 otherwise  \n",
       "20   1 if customer accepted the offer in the 4th campaign, 0 otherwise  \n",
       "21   1 if customer accepted the offer in the 5th campaign, 0 otherwise  \n",
       "22  1 if customer accepted the offer in the last campaign, 0 otherwise  \n",
       "23              Number of purchases made through the company’s website  \n",
       "24                          Number of purchases made using a catalogue  \n",
       "25                         Number of purchases made directly in stores  \n",
       "26             Number of visits to company’s website in the last month  "
      ]
     },
     "execution_count": 794,
     "metadata": {},
     "output_type": "execute_result"
    }
   ],
   "source": [
    "pd.set_option('display.max_colwidth', None) # in đầy đủ thông tin, thay vì \"...\" \n",
    "meaning_df = pd.read_csv('../Data/columns_explain.csv', sep='\\t', names = ['Attribute', 'Meaning'])\n",
    "meaning_df"
   ]
  },
  {
   "cell_type": "markdown",
   "id": "95baf9f4",
   "metadata": {},
   "source": [
    "- Thấy rằng tổng cộng có 29 thuộc tính nhưng chỉ có 27 thuộc tính được mô tả, thiếu 2 thuộc tính `Z_CostContact` và `Z_Revenue`. Vì không rõ ý nghĩa của 2 thuộc tính này nên nhóm quyết định bỏ đi 2 cột này. Mặt khác, chính tác giả trong 1 bài discussion trên kaggle cũng nói rằng nên bỏ 2 cột này đi (Link discussion: https://www.kaggle.com/imakash3011/customer-personality-analysis/discussion/267556)\n",
    "- Ngoài ra, theo mô tả cột `Response` thì nó chính là AcceptedCmp thứ 6, hay `AcceptedCmp6`. Ta sẽ đổi tên cột này\n",
    "- Tên các cột khá dài, gây phiền phức cho bước phân tích dữ liệu về sau. Ta sẽ đổi tên cho hầu hết các cột"
   ]
  },
  {
   "cell_type": "code",
   "execution_count": 795,
   "id": "9a8c86e5",
   "metadata": {},
   "outputs": [
    {
     "data": {
      "text/plain": [
       "Index(['ID', 'Year_Birth', 'Education', 'Relationship', 'Income', 'Kidhome',\n",
       "       'Teenhome', 'Dt_Customer', 'Recency', 'Wines', 'Fruits', 'Meats',\n",
       "       'Fish', 'Sweets', 'Golds', 'DiscountDeals', 'Web', 'Catalog', 'Store',\n",
       "       'WebVisit', 'Camp3', 'Camp4', 'Camp5', 'Camp1', 'Camp2', 'Complain',\n",
       "       'Camp6'],\n",
       "      dtype='object')"
      ]
     },
     "execution_count": 795,
     "metadata": {},
     "output_type": "execute_result"
    }
   ],
   "source": [
    "mkt_df = mkt_df.drop(columns=['Z_CostContact', 'Z_Revenue']) # bỏ đi 2 cột\n",
    "\n",
    "# Đổi tên cột (bao gồm cột Response)\n",
    "mkt_df.rename(columns={'MntWines': 'Wines', 'MntFruits': 'Fruits', 'MntMeatProducts': 'Meats', 'MntFishProducts': 'Fish', \n",
    "   'MntSweetProducts': 'Sweets', 'MntGoldProds': 'Golds', 'NumWebPurchases': 'Web', 'NumCatalogPurchases': 'Catalog',\n",
    "   'NumStorePurchases': 'Store', 'Marital_Status': 'Relationship', 'NumDealsPurchases': 'DiscountDeals', \n",
    "   'NumWebVisitsMonth': 'WebVisit', 'AcceptedCmp1': 'Camp1', 'AcceptedCmp2': 'Camp2', 'AcceptedCmp3': 'Camp3',\n",
    "    'AcceptedCmp4': 'Camp4', 'AcceptedCmp5': 'Camp5', 'Response': 'Camp6'}, inplace=True)\n",
    "mkt_df.columns"
   ]
  },
  {
   "cell_type": "markdown",
   "id": "0ca2019a",
   "metadata": {},
   "source": [
    "Xem lại DataFrame 1 lần nữa để kiểm tra"
   ]
  },
  {
   "cell_type": "code",
   "execution_count": 796,
   "id": "d5a0f339",
   "metadata": {},
   "outputs": [
    {
     "data": {
      "text/html": [
       "<div>\n",
       "<style scoped>\n",
       "    .dataframe tbody tr th:only-of-type {\n",
       "        vertical-align: middle;\n",
       "    }\n",
       "\n",
       "    .dataframe tbody tr th {\n",
       "        vertical-align: top;\n",
       "    }\n",
       "\n",
       "    .dataframe thead th {\n",
       "        text-align: right;\n",
       "    }\n",
       "</style>\n",
       "<table border=\"1\" class=\"dataframe\">\n",
       "  <thead>\n",
       "    <tr style=\"text-align: right;\">\n",
       "      <th></th>\n",
       "      <th>ID</th>\n",
       "      <th>Year_Birth</th>\n",
       "      <th>Education</th>\n",
       "      <th>Relationship</th>\n",
       "      <th>Income</th>\n",
       "      <th>Kidhome</th>\n",
       "      <th>Teenhome</th>\n",
       "      <th>Dt_Customer</th>\n",
       "      <th>Recency</th>\n",
       "      <th>Wines</th>\n",
       "      <th>Fruits</th>\n",
       "      <th>Meats</th>\n",
       "      <th>Fish</th>\n",
       "      <th>Sweets</th>\n",
       "      <th>Golds</th>\n",
       "      <th>DiscountDeals</th>\n",
       "      <th>Web</th>\n",
       "      <th>Catalog</th>\n",
       "      <th>Store</th>\n",
       "      <th>WebVisit</th>\n",
       "      <th>Camp3</th>\n",
       "      <th>Camp4</th>\n",
       "      <th>Camp5</th>\n",
       "      <th>Camp1</th>\n",
       "      <th>Camp2</th>\n",
       "      <th>Complain</th>\n",
       "      <th>Camp6</th>\n",
       "    </tr>\n",
       "  </thead>\n",
       "  <tbody>\n",
       "    <tr>\n",
       "      <th>0</th>\n",
       "      <td>5524</td>\n",
       "      <td>1957</td>\n",
       "      <td>Graduation</td>\n",
       "      <td>Single</td>\n",
       "      <td>58138.0</td>\n",
       "      <td>0</td>\n",
       "      <td>0</td>\n",
       "      <td>04-09-2012</td>\n",
       "      <td>58</td>\n",
       "      <td>635</td>\n",
       "      <td>88</td>\n",
       "      <td>546</td>\n",
       "      <td>172</td>\n",
       "      <td>88</td>\n",
       "      <td>88</td>\n",
       "      <td>3</td>\n",
       "      <td>8</td>\n",
       "      <td>10</td>\n",
       "      <td>4</td>\n",
       "      <td>7</td>\n",
       "      <td>0</td>\n",
       "      <td>0</td>\n",
       "      <td>0</td>\n",
       "      <td>0</td>\n",
       "      <td>0</td>\n",
       "      <td>0</td>\n",
       "      <td>1</td>\n",
       "    </tr>\n",
       "    <tr>\n",
       "      <th>1</th>\n",
       "      <td>2174</td>\n",
       "      <td>1954</td>\n",
       "      <td>Graduation</td>\n",
       "      <td>Single</td>\n",
       "      <td>46344.0</td>\n",
       "      <td>1</td>\n",
       "      <td>1</td>\n",
       "      <td>08-03-2014</td>\n",
       "      <td>38</td>\n",
       "      <td>11</td>\n",
       "      <td>1</td>\n",
       "      <td>6</td>\n",
       "      <td>2</td>\n",
       "      <td>1</td>\n",
       "      <td>6</td>\n",
       "      <td>2</td>\n",
       "      <td>1</td>\n",
       "      <td>1</td>\n",
       "      <td>2</td>\n",
       "      <td>5</td>\n",
       "      <td>0</td>\n",
       "      <td>0</td>\n",
       "      <td>0</td>\n",
       "      <td>0</td>\n",
       "      <td>0</td>\n",
       "      <td>0</td>\n",
       "      <td>0</td>\n",
       "    </tr>\n",
       "    <tr>\n",
       "      <th>2</th>\n",
       "      <td>4141</td>\n",
       "      <td>1965</td>\n",
       "      <td>Graduation</td>\n",
       "      <td>Together</td>\n",
       "      <td>71613.0</td>\n",
       "      <td>0</td>\n",
       "      <td>0</td>\n",
       "      <td>21-08-2013</td>\n",
       "      <td>26</td>\n",
       "      <td>426</td>\n",
       "      <td>49</td>\n",
       "      <td>127</td>\n",
       "      <td>111</td>\n",
       "      <td>21</td>\n",
       "      <td>42</td>\n",
       "      <td>1</td>\n",
       "      <td>8</td>\n",
       "      <td>2</td>\n",
       "      <td>10</td>\n",
       "      <td>4</td>\n",
       "      <td>0</td>\n",
       "      <td>0</td>\n",
       "      <td>0</td>\n",
       "      <td>0</td>\n",
       "      <td>0</td>\n",
       "      <td>0</td>\n",
       "      <td>0</td>\n",
       "    </tr>\n",
       "    <tr>\n",
       "      <th>3</th>\n",
       "      <td>6182</td>\n",
       "      <td>1984</td>\n",
       "      <td>Graduation</td>\n",
       "      <td>Together</td>\n",
       "      <td>26646.0</td>\n",
       "      <td>1</td>\n",
       "      <td>0</td>\n",
       "      <td>10-02-2014</td>\n",
       "      <td>26</td>\n",
       "      <td>11</td>\n",
       "      <td>4</td>\n",
       "      <td>20</td>\n",
       "      <td>10</td>\n",
       "      <td>3</td>\n",
       "      <td>5</td>\n",
       "      <td>2</td>\n",
       "      <td>2</td>\n",
       "      <td>0</td>\n",
       "      <td>4</td>\n",
       "      <td>6</td>\n",
       "      <td>0</td>\n",
       "      <td>0</td>\n",
       "      <td>0</td>\n",
       "      <td>0</td>\n",
       "      <td>0</td>\n",
       "      <td>0</td>\n",
       "      <td>0</td>\n",
       "    </tr>\n",
       "    <tr>\n",
       "      <th>4</th>\n",
       "      <td>5324</td>\n",
       "      <td>1981</td>\n",
       "      <td>PhD</td>\n",
       "      <td>Married</td>\n",
       "      <td>58293.0</td>\n",
       "      <td>1</td>\n",
       "      <td>0</td>\n",
       "      <td>19-01-2014</td>\n",
       "      <td>94</td>\n",
       "      <td>173</td>\n",
       "      <td>43</td>\n",
       "      <td>118</td>\n",
       "      <td>46</td>\n",
       "      <td>27</td>\n",
       "      <td>15</td>\n",
       "      <td>5</td>\n",
       "      <td>5</td>\n",
       "      <td>3</td>\n",
       "      <td>6</td>\n",
       "      <td>5</td>\n",
       "      <td>0</td>\n",
       "      <td>0</td>\n",
       "      <td>0</td>\n",
       "      <td>0</td>\n",
       "      <td>0</td>\n",
       "      <td>0</td>\n",
       "      <td>0</td>\n",
       "    </tr>\n",
       "  </tbody>\n",
       "</table>\n",
       "</div>"
      ],
      "text/plain": [
       "     ID  Year_Birth   Education Relationship   Income  Kidhome  Teenhome  \\\n",
       "0  5524        1957  Graduation       Single  58138.0        0         0   \n",
       "1  2174        1954  Graduation       Single  46344.0        1         1   \n",
       "2  4141        1965  Graduation     Together  71613.0        0         0   \n",
       "3  6182        1984  Graduation     Together  26646.0        1         0   \n",
       "4  5324        1981         PhD      Married  58293.0        1         0   \n",
       "\n",
       "  Dt_Customer  Recency  Wines  Fruits  Meats  Fish  Sweets  Golds  \\\n",
       "0  04-09-2012       58    635      88    546   172      88     88   \n",
       "1  08-03-2014       38     11       1      6     2       1      6   \n",
       "2  21-08-2013       26    426      49    127   111      21     42   \n",
       "3  10-02-2014       26     11       4     20    10       3      5   \n",
       "4  19-01-2014       94    173      43    118    46      27     15   \n",
       "\n",
       "   DiscountDeals  Web  Catalog  Store  WebVisit  Camp3  Camp4  Camp5  Camp1  \\\n",
       "0              3    8       10      4         7      0      0      0      0   \n",
       "1              2    1        1      2         5      0      0      0      0   \n",
       "2              1    8        2     10         4      0      0      0      0   \n",
       "3              2    2        0      4         6      0      0      0      0   \n",
       "4              5    5        3      6         5      0      0      0      0   \n",
       "\n",
       "   Camp2  Complain  Camp6  \n",
       "0      0         0      1  \n",
       "1      0         0      0  \n",
       "2      0         0      0  \n",
       "3      0         0      0  \n",
       "4      0         0      0  "
      ]
     },
     "execution_count": 796,
     "metadata": {},
     "output_type": "execute_result"
    }
   ],
   "source": [
    "mkt_df.head()"
   ]
  },
  {
   "cell_type": "markdown",
   "id": "dc4aae6b",
   "metadata": {},
   "source": [
    "## Mỗi cột hiện đang có kiểu dữ liệu gì? Có cột nào có kiểu dữ liệu chưa phù hợp để có thể xử lý tiếp không?"
   ]
  },
  {
   "cell_type": "code",
   "execution_count": 797,
   "id": "ca32b037",
   "metadata": {},
   "outputs": [
    {
     "data": {
      "text/html": [
       "<div>\n",
       "<style scoped>\n",
       "    .dataframe tbody tr th:only-of-type {\n",
       "        vertical-align: middle;\n",
       "    }\n",
       "\n",
       "    .dataframe tbody tr th {\n",
       "        vertical-align: top;\n",
       "    }\n",
       "\n",
       "    .dataframe thead th {\n",
       "        text-align: right;\n",
       "    }\n",
       "</style>\n",
       "<table border=\"1\" class=\"dataframe\">\n",
       "  <thead>\n",
       "    <tr style=\"text-align: right;\">\n",
       "      <th></th>\n",
       "      <th>type</th>\n",
       "    </tr>\n",
       "  </thead>\n",
       "  <tbody>\n",
       "    <tr>\n",
       "      <th>ID</th>\n",
       "      <td>int64</td>\n",
       "    </tr>\n",
       "    <tr>\n",
       "      <th>Year_Birth</th>\n",
       "      <td>int64</td>\n",
       "    </tr>\n",
       "    <tr>\n",
       "      <th>Education</th>\n",
       "      <td>object</td>\n",
       "    </tr>\n",
       "    <tr>\n",
       "      <th>Relationship</th>\n",
       "      <td>object</td>\n",
       "    </tr>\n",
       "    <tr>\n",
       "      <th>Income</th>\n",
       "      <td>float64</td>\n",
       "    </tr>\n",
       "    <tr>\n",
       "      <th>Kidhome</th>\n",
       "      <td>int64</td>\n",
       "    </tr>\n",
       "    <tr>\n",
       "      <th>Teenhome</th>\n",
       "      <td>int64</td>\n",
       "    </tr>\n",
       "    <tr>\n",
       "      <th>Dt_Customer</th>\n",
       "      <td>object</td>\n",
       "    </tr>\n",
       "    <tr>\n",
       "      <th>Recency</th>\n",
       "      <td>int64</td>\n",
       "    </tr>\n",
       "    <tr>\n",
       "      <th>Wines</th>\n",
       "      <td>int64</td>\n",
       "    </tr>\n",
       "    <tr>\n",
       "      <th>Fruits</th>\n",
       "      <td>int64</td>\n",
       "    </tr>\n",
       "    <tr>\n",
       "      <th>Meats</th>\n",
       "      <td>int64</td>\n",
       "    </tr>\n",
       "    <tr>\n",
       "      <th>Fish</th>\n",
       "      <td>int64</td>\n",
       "    </tr>\n",
       "    <tr>\n",
       "      <th>Sweets</th>\n",
       "      <td>int64</td>\n",
       "    </tr>\n",
       "    <tr>\n",
       "      <th>Golds</th>\n",
       "      <td>int64</td>\n",
       "    </tr>\n",
       "    <tr>\n",
       "      <th>DiscountDeals</th>\n",
       "      <td>int64</td>\n",
       "    </tr>\n",
       "    <tr>\n",
       "      <th>Web</th>\n",
       "      <td>int64</td>\n",
       "    </tr>\n",
       "    <tr>\n",
       "      <th>Catalog</th>\n",
       "      <td>int64</td>\n",
       "    </tr>\n",
       "    <tr>\n",
       "      <th>Store</th>\n",
       "      <td>int64</td>\n",
       "    </tr>\n",
       "    <tr>\n",
       "      <th>WebVisit</th>\n",
       "      <td>int64</td>\n",
       "    </tr>\n",
       "    <tr>\n",
       "      <th>Camp3</th>\n",
       "      <td>int64</td>\n",
       "    </tr>\n",
       "    <tr>\n",
       "      <th>Camp4</th>\n",
       "      <td>int64</td>\n",
       "    </tr>\n",
       "    <tr>\n",
       "      <th>Camp5</th>\n",
       "      <td>int64</td>\n",
       "    </tr>\n",
       "    <tr>\n",
       "      <th>Camp1</th>\n",
       "      <td>int64</td>\n",
       "    </tr>\n",
       "    <tr>\n",
       "      <th>Camp2</th>\n",
       "      <td>int64</td>\n",
       "    </tr>\n",
       "    <tr>\n",
       "      <th>Complain</th>\n",
       "      <td>int64</td>\n",
       "    </tr>\n",
       "    <tr>\n",
       "      <th>Camp6</th>\n",
       "      <td>int64</td>\n",
       "    </tr>\n",
       "  </tbody>\n",
       "</table>\n",
       "</div>"
      ],
      "text/plain": [
       "                  type\n",
       "ID               int64\n",
       "Year_Birth       int64\n",
       "Education       object\n",
       "Relationship    object\n",
       "Income         float64\n",
       "Kidhome          int64\n",
       "Teenhome         int64\n",
       "Dt_Customer     object\n",
       "Recency          int64\n",
       "Wines            int64\n",
       "Fruits           int64\n",
       "Meats            int64\n",
       "Fish             int64\n",
       "Sweets           int64\n",
       "Golds            int64\n",
       "DiscountDeals    int64\n",
       "Web              int64\n",
       "Catalog          int64\n",
       "Store            int64\n",
       "WebVisit         int64\n",
       "Camp3            int64\n",
       "Camp4            int64\n",
       "Camp5            int64\n",
       "Camp1            int64\n",
       "Camp2            int64\n",
       "Complain         int64\n",
       "Camp6            int64"
      ]
     },
     "execution_count": 797,
     "metadata": {},
     "output_type": "execute_result"
    }
   ],
   "source": [
    "dtype_df = mkt_df.dtypes.to_frame(name='type')\n",
    "dtype_df"
   ]
  },
  {
   "cell_type": "markdown",
   "id": "8dbee9a6",
   "metadata": {},
   "source": [
    "Cột `Dt_Customer` nên có kiểu dữ liệu dạng ngày tháng, nhưng hiện giờ đang có kiểu dữ liệu `object`. Ta hãy thử tìm hiểu về các giá trị của cột này."
   ]
  },
  {
   "cell_type": "code",
   "execution_count": 798,
   "id": "2cedf4df",
   "metadata": {},
   "outputs": [
    {
     "data": {
      "text/plain": [
       "1199    09-09-2012\n",
       "1163    22-08-2012\n",
       "386     16-10-2013\n",
       "1910    20-04-2014\n",
       "1360    26-09-2012\n",
       "1607    30-03-2013\n",
       "753     28-02-2013\n",
       "213     21-01-2013\n",
       "2132    29-08-2013\n",
       "342     23-11-2012\n",
       "Name: Dt_Customer, dtype: object"
      ]
     },
     "execution_count": 798,
     "metadata": {},
     "output_type": "execute_result"
    }
   ],
   "source": [
    "mkt_df[\"Dt_Customer\"].sample(10)"
   ]
  },
  {
   "cell_type": "markdown",
   "id": "f141d746",
   "metadata": {},
   "source": [
    "$\\to$ Ta nên đưa cột này về dạng `datetime` có dạng **dd-mm-yyy** để có thể tiếp tục khám phá (tính min, max, median,...)"
   ]
  },
  {
   "cell_type": "markdown",
   "id": "923b9966",
   "metadata": {},
   "source": [
    "---"
   ]
  },
  {
   "cell_type": "markdown",
   "id": "a305d641",
   "metadata": {},
   "source": [
    "## Tiền xử lý"
   ]
  },
  {
   "cell_type": "code",
   "execution_count": 799,
   "id": "3e84653c",
   "metadata": {},
   "outputs": [
    {
     "data": {
      "text/plain": [
       "dtype('<M8[ns]')"
      ]
     },
     "execution_count": 799,
     "metadata": {},
     "output_type": "execute_result"
    }
   ],
   "source": [
    "mkt_df['Dt_Customer'] = pd.to_datetime(mkt_df['Dt_Customer'], format='%d-%m-%Y')\n",
    "mkt_df[\"Dt_Customer\"].dtype # Xem lại kiểu dữ liệu của cột `Dt_Customer`"
   ]
  },
  {
   "cell_type": "markdown",
   "id": "13815c19",
   "metadata": {},
   "source": [
    "---"
   ]
  },
  {
   "cell_type": "markdown",
   "id": "6e59e2c2",
   "metadata": {},
   "source": [
    "# Quay lại bước khám phá dữ liệu"
   ]
  },
  {
   "cell_type": "markdown",
   "id": "348fd563",
   "metadata": {},
   "source": [
    "## Phân bố dữ liệu"
   ]
  },
  {
   "cell_type": "markdown",
   "id": "41b4c150",
   "metadata": {},
   "source": [
    "### Với mỗi cột có kiểu dữ liệu dạng numeric, các giá trị được phân bố như thế nào? "
   ]
  },
  {
   "cell_type": "markdown",
   "id": "2192b228",
   "metadata": {},
   "source": [
    "- Nhóm cột numeric = tất cả các cột - [`ID`, `Education`, `Relationship`]. Lưu ý: xếp cột `Dt_Customer` có kiểu DateTime vào nhóm các cột numeric luôn\n",
    "- Với mỗi cột numeric, tính các giá trị sau và xuất ra dưới dạng DataFrame:\n",
    "    - `missing_ratio`: Tỉ lệ % giá trị thiếu (từ 0 đến 100)\n",
    "    - `min`\n",
    "    - `max`\n",
    "    - `nunique`: số lượng các phần tử khác nhau (unique) của từng cột "
   ]
  },
  {
   "cell_type": "code",
   "execution_count": 800,
   "id": "3607e388",
   "metadata": {
    "scrolled": true
   },
   "outputs": [
    {
     "data": {
      "text/html": [
       "<div>\n",
       "<style scoped>\n",
       "    .dataframe tbody tr th:only-of-type {\n",
       "        vertical-align: middle;\n",
       "    }\n",
       "\n",
       "    .dataframe tbody tr th {\n",
       "        vertical-align: top;\n",
       "    }\n",
       "\n",
       "    .dataframe thead th {\n",
       "        text-align: right;\n",
       "    }\n",
       "</style>\n",
       "<table border=\"1\" class=\"dataframe\">\n",
       "  <thead>\n",
       "    <tr style=\"text-align: right;\">\n",
       "      <th></th>\n",
       "      <th>Year_Birth</th>\n",
       "      <th>Income</th>\n",
       "      <th>Kidhome</th>\n",
       "      <th>Teenhome</th>\n",
       "      <th>Dt_Customer</th>\n",
       "      <th>Recency</th>\n",
       "      <th>Wines</th>\n",
       "      <th>Fruits</th>\n",
       "      <th>Meats</th>\n",
       "      <th>Fish</th>\n",
       "      <th>Sweets</th>\n",
       "      <th>Golds</th>\n",
       "      <th>DiscountDeals</th>\n",
       "      <th>Web</th>\n",
       "      <th>Catalog</th>\n",
       "      <th>Store</th>\n",
       "      <th>WebVisit</th>\n",
       "      <th>Camp3</th>\n",
       "      <th>Camp4</th>\n",
       "      <th>Camp5</th>\n",
       "      <th>Camp1</th>\n",
       "      <th>Camp2</th>\n",
       "      <th>Complain</th>\n",
       "      <th>Camp6</th>\n",
       "    </tr>\n",
       "  </thead>\n",
       "  <tbody>\n",
       "    <tr>\n",
       "      <th>missing_ratio</th>\n",
       "      <td>0.0</td>\n",
       "      <td>1.071429</td>\n",
       "      <td>0.0</td>\n",
       "      <td>0.0</td>\n",
       "      <td>0.0</td>\n",
       "      <td>0.0</td>\n",
       "      <td>0.0</td>\n",
       "      <td>0.0</td>\n",
       "      <td>0.0</td>\n",
       "      <td>0.0</td>\n",
       "      <td>0.0</td>\n",
       "      <td>0.0</td>\n",
       "      <td>0.0</td>\n",
       "      <td>0.0</td>\n",
       "      <td>0.0</td>\n",
       "      <td>0.0</td>\n",
       "      <td>0.0</td>\n",
       "      <td>0.0</td>\n",
       "      <td>0.0</td>\n",
       "      <td>0.0</td>\n",
       "      <td>0.0</td>\n",
       "      <td>0.0</td>\n",
       "      <td>0.0</td>\n",
       "      <td>0.0</td>\n",
       "    </tr>\n",
       "    <tr>\n",
       "      <th>min</th>\n",
       "      <td>1893.0</td>\n",
       "      <td>1730.000000</td>\n",
       "      <td>0.0</td>\n",
       "      <td>0.0</td>\n",
       "      <td>2012-07-30 00:00:00</td>\n",
       "      <td>0.0</td>\n",
       "      <td>0.0</td>\n",
       "      <td>0.0</td>\n",
       "      <td>0.0</td>\n",
       "      <td>0.0</td>\n",
       "      <td>0.0</td>\n",
       "      <td>0.0</td>\n",
       "      <td>0.0</td>\n",
       "      <td>0.0</td>\n",
       "      <td>0.0</td>\n",
       "      <td>0.0</td>\n",
       "      <td>0.0</td>\n",
       "      <td>0.0</td>\n",
       "      <td>0.0</td>\n",
       "      <td>0.0</td>\n",
       "      <td>0.0</td>\n",
       "      <td>0.0</td>\n",
       "      <td>0.0</td>\n",
       "      <td>0.0</td>\n",
       "    </tr>\n",
       "    <tr>\n",
       "      <th>max</th>\n",
       "      <td>1996.0</td>\n",
       "      <td>666666.000000</td>\n",
       "      <td>2.0</td>\n",
       "      <td>2.0</td>\n",
       "      <td>2014-06-29 00:00:00</td>\n",
       "      <td>99.0</td>\n",
       "      <td>1493.0</td>\n",
       "      <td>199.0</td>\n",
       "      <td>1725.0</td>\n",
       "      <td>259.0</td>\n",
       "      <td>263.0</td>\n",
       "      <td>362.0</td>\n",
       "      <td>15.0</td>\n",
       "      <td>27.0</td>\n",
       "      <td>28.0</td>\n",
       "      <td>13.0</td>\n",
       "      <td>20.0</td>\n",
       "      <td>1.0</td>\n",
       "      <td>1.0</td>\n",
       "      <td>1.0</td>\n",
       "      <td>1.0</td>\n",
       "      <td>1.0</td>\n",
       "      <td>1.0</td>\n",
       "      <td>1.0</td>\n",
       "    </tr>\n",
       "    <tr>\n",
       "      <th>nunique</th>\n",
       "      <td>59.0</td>\n",
       "      <td>1974.000000</td>\n",
       "      <td>3.0</td>\n",
       "      <td>3.0</td>\n",
       "      <td>663</td>\n",
       "      <td>100.0</td>\n",
       "      <td>776.0</td>\n",
       "      <td>158.0</td>\n",
       "      <td>558.0</td>\n",
       "      <td>182.0</td>\n",
       "      <td>177.0</td>\n",
       "      <td>213.0</td>\n",
       "      <td>15.0</td>\n",
       "      <td>15.0</td>\n",
       "      <td>14.0</td>\n",
       "      <td>14.0</td>\n",
       "      <td>16.0</td>\n",
       "      <td>2.0</td>\n",
       "      <td>2.0</td>\n",
       "      <td>2.0</td>\n",
       "      <td>2.0</td>\n",
       "      <td>2.0</td>\n",
       "      <td>2.0</td>\n",
       "      <td>2.0</td>\n",
       "    </tr>\n",
       "  </tbody>\n",
       "</table>\n",
       "</div>"
      ],
      "text/plain": [
       "               Year_Birth         Income  Kidhome  Teenhome  \\\n",
       "missing_ratio         0.0       1.071429      0.0       0.0   \n",
       "min                1893.0    1730.000000      0.0       0.0   \n",
       "max                1996.0  666666.000000      2.0       2.0   \n",
       "nunique              59.0    1974.000000      3.0       3.0   \n",
       "\n",
       "                       Dt_Customer  Recency   Wines  Fruits   Meats   Fish  \\\n",
       "missing_ratio                  0.0      0.0     0.0     0.0     0.0    0.0   \n",
       "min            2012-07-30 00:00:00      0.0     0.0     0.0     0.0    0.0   \n",
       "max            2014-06-29 00:00:00     99.0  1493.0   199.0  1725.0  259.0   \n",
       "nunique                        663    100.0   776.0   158.0   558.0  182.0   \n",
       "\n",
       "               Sweets  Golds  DiscountDeals   Web  Catalog  Store  WebVisit  \\\n",
       "missing_ratio     0.0    0.0            0.0   0.0      0.0    0.0       0.0   \n",
       "min               0.0    0.0            0.0   0.0      0.0    0.0       0.0   \n",
       "max             263.0  362.0           15.0  27.0     28.0   13.0      20.0   \n",
       "nunique         177.0  213.0           15.0  15.0     14.0   14.0      16.0   \n",
       "\n",
       "               Camp3  Camp4  Camp5  Camp1  Camp2  Complain  Camp6  \n",
       "missing_ratio    0.0    0.0    0.0    0.0    0.0       0.0    0.0  \n",
       "min              0.0    0.0    0.0    0.0    0.0       0.0    0.0  \n",
       "max              1.0    1.0    1.0    1.0    1.0       1.0    1.0  \n",
       "nunique          2.0    2.0    2.0    2.0    2.0       2.0    2.0  "
      ]
     },
     "execution_count": 800,
     "metadata": {},
     "output_type": "execute_result"
    }
   ],
   "source": [
    "nume_cols = mkt_df.select_dtypes([np.int64, np.float64, np.datetime64]).columns[1:] # bỏ index 0, tức cột ID\n",
    "def missing_ratio(s):\n",
    "    return s.isna().sum() * 100 / len(s)\n",
    "\n",
    "nume_describe = mkt_df[nume_cols].agg([missing_ratio, pd.Series.min, pd.Series.max, pd.Series.nunique])\n",
    "nume_describe"
   ]
  },
  {
   "cell_type": "markdown",
   "id": "14a5d7b9",
   "metadata": {},
   "source": [
    "$\\to$ Cột `Year_Birth` có min là 1893, tức nếu là năm 2012 (năm `Dt_Customer`) thì người này đã được 119 tuổi! Ta tiền xử lý cột này ở cell dưới\n",
    "\n",
    "$\\to$ Cột `Income` thiếu khoảng 1% giá trị cột. Vì khá ít nên quyết định bỏ đi những mẫu thiếu `Income`"
   ]
  },
  {
   "cell_type": "markdown",
   "id": "b5fa2879",
   "metadata": {},
   "source": [
    "---"
   ]
  },
  {
   "cell_type": "markdown",
   "id": "03fa89d2",
   "metadata": {},
   "source": [
    "## Tiền xử lý"
   ]
  },
  {
   "cell_type": "markdown",
   "id": "96a3cef7",
   "metadata": {},
   "source": [
    "Cột `Year_Birth`\n",
    "- Vì ta không biết được dữ liệu được lấy vào năm bao nhiêu, nên ta sẽ lấy ngày lớn nhất trong cột `Dt_Customer` làm gốc thời gian để tính tuổi. Trong bối cảnh phân tích thì cần loại bỏ đi những khách hàng đã quá 100 tuổi\n",
    "- Như vậy, cột `Year_Birth` cũng nên được thay bằng cột `Age` để vừa thuận tiện cho khai thác dữ liệu lúc sau, vừa để dễ nhìn hơn"
   ]
  },
  {
   "cell_type": "code",
   "execution_count": 801,
   "id": "6a8f7c6a",
   "metadata": {},
   "outputs": [
    {
     "data": {
      "text/plain": [
       "(2240, 27)"
      ]
     },
     "execution_count": 801,
     "metadata": {},
     "output_type": "execute_result"
    }
   ],
   "source": [
    "max_dt = nume_describe.loc['max', 'Dt_Customer'] # tỉm ngày lớn nhất trong cột Dt_Customer\n",
    "mkt_df['Age'] = max_dt.year - mkt_df['Year_Birth'] # thêm cột Age vào mkt_df\n",
    "mkt_df = mkt_df.drop(columns='Year_Birth') # xóa cột Year_Birth vì nó không giúp ích\n",
    "mkt_df.shape"
   ]
  },
  {
   "cell_type": "markdown",
   "id": "25acbba0",
   "metadata": {},
   "source": [
    "- Loại bỏ khách hàng có tuổi >= 100"
   ]
  },
  {
   "cell_type": "code",
   "execution_count": 802,
   "id": "2031b93f",
   "metadata": {},
   "outputs": [
    {
     "data": {
      "text/plain": [
       "(2237, 27)"
      ]
     },
     "execution_count": 802,
     "metadata": {},
     "output_type": "execute_result"
    }
   ],
   "source": [
    "mkt_df.drop(mkt_df[mkt_df['Age'] >= 100].index, inplace=True)\n",
    "mkt_df.shape"
   ]
  },
  {
   "cell_type": "markdown",
   "id": "79076a87",
   "metadata": {},
   "source": [
    "Cột `Income`\n",
    "- Xóa các dòng có chứa giá trị bị thiếu ở cột `Income`"
   ]
  },
  {
   "cell_type": "code",
   "execution_count": 803,
   "id": "74f57103",
   "metadata": {},
   "outputs": [],
   "source": [
    "mask = mkt_df[\"Income\"].isna()\n",
    "mkt_df.drop(mkt_df[mask].index, inplace=True)"
   ]
  },
  {
   "cell_type": "markdown",
   "id": "4d9801fd",
   "metadata": {},
   "source": [
    "- Kiểm tra lại cột `Income`"
   ]
  },
  {
   "cell_type": "code",
   "execution_count": 804,
   "id": "b7d9fd1e",
   "metadata": {
    "scrolled": false
   },
   "outputs": [
    {
     "data": {
      "text/plain": [
       "0"
      ]
     },
     "execution_count": 804,
     "metadata": {},
     "output_type": "execute_result"
    }
   ],
   "source": [
    "mkt_df[\"Income\"].isna().sum()"
   ]
  },
  {
   "cell_type": "markdown",
   "id": "e89795b4",
   "metadata": {},
   "source": [
    "---"
   ]
  },
  {
   "cell_type": "markdown",
   "id": "7f3ca0ba",
   "metadata": {},
   "source": [
    "# Quay lại bước khám phá dữ liệu"
   ]
  },
  {
   "cell_type": "markdown",
   "id": "eb3026a1",
   "metadata": {},
   "source": [
    "### Với mỗi cột có kiểu dữ liệu không phải dạng số, các giá trị được phân bố như thế nào?"
   ]
  },
  {
   "cell_type": "markdown",
   "id": "b7ead8eb",
   "metadata": {},
   "source": [
    "Lấy ra các cột dữ liệu không phải dạng số"
   ]
  },
  {
   "cell_type": "code",
   "execution_count": 805,
   "id": "b64dc11b",
   "metadata": {},
   "outputs": [
    {
     "data": {
      "text/plain": [
       "Index(['Education', 'Relationship'], dtype='object')"
      ]
     },
     "execution_count": 805,
     "metadata": {},
     "output_type": "execute_result"
    }
   ],
   "source": [
    "cat_cols = mkt_df.select_dtypes(include=[\"object\"])\n",
    "cat_cols.columns"
   ]
  },
  {
   "cell_type": "markdown",
   "id": "8951b4bb",
   "metadata": {},
   "source": [
    "Xem giá trị missing_ratio, min và max của các cột không phải dữ liệu numeric"
   ]
  },
  {
   "cell_type": "code",
   "execution_count": 806,
   "id": "d05b5b57",
   "metadata": {},
   "outputs": [
    {
     "data": {
      "text/html": [
       "<div>\n",
       "<style scoped>\n",
       "    .dataframe tbody tr th:only-of-type {\n",
       "        vertical-align: middle;\n",
       "    }\n",
       "\n",
       "    .dataframe tbody tr th {\n",
       "        vertical-align: top;\n",
       "    }\n",
       "\n",
       "    .dataframe thead th {\n",
       "        text-align: right;\n",
       "    }\n",
       "</style>\n",
       "<table border=\"1\" class=\"dataframe\">\n",
       "  <thead>\n",
       "    <tr style=\"text-align: right;\">\n",
       "      <th></th>\n",
       "      <th>Education</th>\n",
       "      <th>Relationship</th>\n",
       "    </tr>\n",
       "  </thead>\n",
       "  <tbody>\n",
       "    <tr>\n",
       "      <th>missing_ratio</th>\n",
       "      <td>0.0</td>\n",
       "      <td>0.0</td>\n",
       "    </tr>\n",
       "    <tr>\n",
       "      <th>min</th>\n",
       "      <td>Basic</td>\n",
       "      <td>Absurd</td>\n",
       "    </tr>\n",
       "    <tr>\n",
       "      <th>max</th>\n",
       "      <td>Graduation</td>\n",
       "      <td>Married</td>\n",
       "    </tr>\n",
       "    <tr>\n",
       "      <th>nunique</th>\n",
       "      <td>5</td>\n",
       "      <td>8</td>\n",
       "    </tr>\n",
       "  </tbody>\n",
       "</table>\n",
       "</div>"
      ],
      "text/plain": [
       "                Education Relationship\n",
       "missing_ratio         0.0          0.0\n",
       "min                 Basic       Absurd\n",
       "max            Graduation      Married\n",
       "nunique                 5            8"
      ]
     },
     "execution_count": 806,
     "metadata": {},
     "output_type": "execute_result"
    }
   ],
   "source": [
    "def min(df:pd.DataFrame):\n",
    "    return df.value_counts().idxmin()\n",
    "\n",
    "def max(df:pd.DataFrame):\n",
    "    return df.value_counts().idxmax()\n",
    "\n",
    "cat_cols.apply([missing_ratio, min, max, pd.Series.nunique])"
   ]
  },
  {
   "cell_type": "markdown",
   "id": "145257c9",
   "metadata": {},
   "source": [
    "- cột `Education`: ta coi thử các giá trị unique có gì bất thường không"
   ]
  },
  {
   "cell_type": "code",
   "execution_count": 807,
   "id": "7c1c41b9",
   "metadata": {},
   "outputs": [
    {
     "data": {
      "text/plain": [
       "Graduation    1116\n",
       "PhD            480\n",
       "Master         365\n",
       "2n Cycle       198\n",
       "Basic           54\n",
       "Name: Education, dtype: int64"
      ]
     },
     "execution_count": 807,
     "metadata": {},
     "output_type": "execute_result"
    }
   ],
   "source": [
    "mkt_df['Education'].value_counts()"
   ]
  },
  {
   "cell_type": "markdown",
   "id": "6e7b8a93",
   "metadata": {},
   "source": [
    "$\\to$ Không có gì bất thường"
   ]
  },
  {
   "cell_type": "markdown",
   "id": "57e93a60",
   "metadata": {},
   "source": [
    "- Cột `Relationship`. Đầu tiên, coi thử các giá trị unique của cột này"
   ]
  },
  {
   "cell_type": "code",
   "execution_count": 808,
   "id": "eccded83",
   "metadata": {},
   "outputs": [
    {
     "data": {
      "text/plain": [
       "array(['Single', 'Together', 'Married', 'Divorced', 'Widow', 'Alone',\n",
       "       'Absurd', 'YOLO'], dtype=object)"
      ]
     },
     "execution_count": 808,
     "metadata": {},
     "output_type": "execute_result"
    }
   ],
   "source": [
    "cat_cols[\"Relationship\"].unique()"
   ]
  },
  {
   "cell_type": "markdown",
   "id": "75ffb0e4",
   "metadata": {},
   "source": [
    "Vể mặt ngữ nghĩa, dễ thấy rằng các giá trị cột này thực chất có thể phân vào 2 nhóm: \n",
    "- `Married`: Married, Together\n",
    "- `Single`: Single, Divorced, Widow, Alone, Absurd, YOLO (You Only Live Once)\n",
    "\n",
    "Ta sẽ phân loại giá trị cột này vào 2 nhóm trên"
   ]
  },
  {
   "cell_type": "code",
   "execution_count": 809,
   "id": "466a7130",
   "metadata": {},
   "outputs": [],
   "source": [
    "mkt_df[\"Relationship\"] = mkt_df[\"Relationship\"].apply(\n",
    "    lambda status: 'Married' if status in ['Married', 'Together'] else 'Single'\n",
    ")"
   ]
  },
  {
   "cell_type": "markdown",
   "id": "def75a0a",
   "metadata": {},
   "source": [
    "Xem lại các giá trị của cột `Relationship`"
   ]
  },
  {
   "cell_type": "code",
   "execution_count": 810,
   "id": "f9b45450",
   "metadata": {},
   "outputs": [
    {
     "data": {
      "text/plain": [
       "array(['Single', 'Married'], dtype=object)"
      ]
     },
     "execution_count": 810,
     "metadata": {},
     "output_type": "execute_result"
    }
   ],
   "source": [
    "mkt_df['Relationship'].unique()"
   ]
  },
  {
   "cell_type": "markdown",
   "id": "579a1b05",
   "metadata": {},
   "source": [
    "# B. Đặt câu hỏi "
   ]
  },
  {
   "cell_type": "markdown",
   "id": "b403b987",
   "metadata": {},
   "source": [
    "## I. Phân tích cơ bản\n",
    "Ở phần này, 1 số câu hỏi + đồ thị đơn giản được đưa ra để hiểu hơn về tập dữ liệu nhằm phụ vụ cho các câu hỏi mang tính chuyên sâu ở mục II. Trong quá trình trả lời 1 số câu hỏi ở phần này, nhóm sẽ rút trích 1 số insight nếu có"
   ]
  },
  {
   "cell_type": "markdown",
   "id": "e0bfcf2d",
   "metadata": {},
   "source": [
    "**1. Phân bố học vấn của khách hàng khảo sát**"
   ]
  },
  {
   "cell_type": "code",
   "execution_count": 811,
   "id": "9dd0ecfb",
   "metadata": {},
   "outputs": [
    {
     "data": {
      "image/png": "[encoded data removed]",
      "text/plain": [
       "<Figure size 504x360 with 1 Axes>"
      ]
     },
     "metadata": {},
     "output_type": "display_data"
    }
   ],
   "source": [
    "mkt_df['Education'].value_counts().plot.barh(figsize=(7, 5))\n",
    "plt.xlabel(\"Số lượng\")\n",
    "plt.ylabel(\"Học vấn\");"
   ]
  },
  {
   "cell_type": "markdown",
   "id": "8c518dbc",
   "metadata": {},
   "source": [
    "**2. Phân bố số con của khách hàng**"
   ]
  },
  {
   "cell_type": "code",
   "execution_count": 812,
   "id": "5170d468",
   "metadata": {
    "scrolled": true
   },
   "outputs": [
    {
     "data": {
      "image/png": "[encoded data removed]",
      "text/plain": [
       "<Figure size 576x432 with 1 Axes>"
      ]
     },
     "metadata": {},
     "output_type": "display_data"
    }
   ],
   "source": [
    "num_child = mkt_df['Kidhome'] + mkt_df['Teenhome']\n",
    "num_child.value_counts().plot.pie(figsize=(8, 6), autopct='%.1f%%');"
   ]
  },
  {
   "cell_type": "markdown",
   "id": "cf3b9d61",
   "metadata": {},
   "source": [
    "$\\to$ Như vậy có khoảng 71.5% khách hàng có con, cũng khá nhiều...Ta sẽ tận dụng thông tin này sau"
   ]
  },
  {
   "cell_type": "markdown",
   "id": "5a0ae3fc",
   "metadata": {},
   "source": [
    "**3. Thống kê số lượt mua hàng qua các nền tảng**"
   ]
  },
  {
   "cell_type": "code",
   "execution_count": 813,
   "id": "cb8c20d1",
   "metadata": {},
   "outputs": [
    {
     "data": {
      "image/png": "[encoded data removed]",
      "text/plain": [
       "<Figure size 432x288 with 1 Axes>"
      ]
     },
     "metadata": {},
     "output_type": "display_data"
    }
   ],
   "source": [
    "df = mkt_df[['Web', 'Store', 'Catalog']]\n",
    "sns.kdeplot(data=df);\n",
    "plt.xlabel('products');"
   ]
  },
  {
   "cell_type": "markdown",
   "id": "d5ffb456",
   "metadata": {},
   "source": [
    "- Nhận xét:\n",
    "    - Số lượng mua hàng qua 3 hình thức: Store > Web > Catalog\n",
    "    - Nhìn chung phần lớn đơn hàng có dưới 4 sản phẩm ở cả 3 hình thức \n",
    "    - Nhìn chung số mặt hàng trong 1 đơn hàng bất kỳ nằm trong khoảng [0, 15]"
   ]
  },
  {
   "cell_type": "markdown",
   "id": "e95e6838",
   "metadata": {},
   "source": [
    "**4. Phân bố tuổi như thế nào?**"
   ]
  },
  {
   "cell_type": "code",
   "execution_count": 814,
   "id": "77b7c6c1",
   "metadata": {
    "scrolled": false
   },
   "outputs": [
    {
     "data": {
      "image/png": "[encoded data removed]",
      "text/plain": [
       "<Figure size 432x288 with 1 Axes>"
      ]
     },
     "metadata": {},
     "output_type": "display_data"
    }
   ],
   "source": [
    "mkt_df['Age'].plot.hist(bins=50);\n",
    "plt.xlabel('Age');"
   ]
  },
  {
   "cell_type": "markdown",
   "id": "99cde88a",
   "metadata": {},
   "source": [
    "$\\to$ Có vẻ khách hàng trong khoảng 35-50 tuổi chiếm phần lớn. Để dễ thống kê hơn, ta chia tuổi thành 4 nhóm tuổi:\n",
    "Young: 0-30 tuổi, Mature: 30-45 tuổi, Middle-age: 45-65 tuổi, Old: >65 tuổi"
   ]
  },
  {
   "cell_type": "code",
   "execution_count": 815,
   "id": "fd581289",
   "metadata": {},
   "outputs": [
    {
     "data": {
      "image/png": "[encoded data removed]",
      "text/plain": [
       "<Figure size 432x288 with 1 Axes>"
      ]
     },
     "metadata": {},
     "output_type": "display_data"
    }
   ],
   "source": [
    "age_group = ['Young', 'Mature', 'Middle-age', 'Old']\n",
    "age_range = [0, 30, 45, 65, 101] # từng cặp là từng nhóm tuổi. VD: [0-30] tuổi, [30-45] tuổi\n",
    "age_transformed = pd.cut(mkt_df['Age'], bins=age_range, labels=age_group)\n",
    "age_transformed.value_counts().plot.barh();"
   ]
  },
  {
   "cell_type": "markdown",
   "id": "78f7015b",
   "metadata": {},
   "source": [
    "$\\to$ Như vậy, nhóm tuổi trưởng thành (Mature) và trung niên (Middle-age) chiếm phần lớn. Trong mục tiếp theo, sẽ có phân tích riêng về 2 nhóm tuổi nổi bật này"
   ]
  },
  {
   "cell_type": "markdown",
   "id": "12adc503",
   "metadata": {},
   "source": [
    "**5. Phân bố thu nhập khách hàng như thế nào?**"
   ]
  },
  {
   "cell_type": "code",
   "execution_count": 816,
   "id": "8dcde9b3",
   "metadata": {
    "scrolled": true
   },
   "outputs": [
    {
     "data": {
      "image/png": "[encoded data removed]",
      "text/plain": [
       "<Figure size 504x360 with 1 Axes>"
      ]
     },
     "metadata": {},
     "output_type": "display_data"
    }
   ],
   "source": [
    "mkt_df['Income'].plot.hist(bins=60, range=(0,200000), figsize=(7,5))\n",
    "plt.xlabel('Income');"
   ]
  },
  {
   "cell_type": "markdown",
   "id": "e4e8a8af",
   "metadata": {},
   "source": [
    "$\\to$ Như vậy phần lớn khách hàng có thu nhập nằm trong khoảng [0, 100K]"
   ]
  },
  {
   "cell_type": "markdown",
   "id": "bb0b84a2",
   "metadata": {},
   "source": [
    "Để thuận tiện cho các bước tiền xử lý ở B.II, nhóm quyết định rời rạc hóa thuộc tính `Income` thành 4 nhóm: [Low, Low to medium, Medium, High] tương ứng với tứ phân vị trong cột `Income`"
   ]
  },
  {
   "cell_type": "code",
   "execution_count": 817,
   "id": "6bcd8d2a",
   "metadata": {},
   "outputs": [
    {
     "data": {
      "text/plain": [
       "0              Medium\n",
       "1       Low to medium\n",
       "2                High\n",
       "3                 Low\n",
       "4              Medium\n",
       "            ...      \n",
       "2235           Medium\n",
       "2236           Medium\n",
       "2237           Medium\n",
       "2238             High\n",
       "2239           Medium\n",
       "Name: Income, Length: 2213, dtype: category\n",
       "Categories (4, object): ['Low' < 'Low to medium' < 'Medium' < 'High']"
      ]
     },
     "execution_count": 817,
     "metadata": {},
     "output_type": "execute_result"
    }
   ],
   "source": [
    "income_group = ['Low', 'Low to medium', 'Medium', 'High']\n",
    "income_transformed = pd.qcut(mkt_df['Income'], q=4, labels=income_group)\n",
    "income_transformed"
   ]
  },
  {
   "cell_type": "markdown",
   "id": "63fadfc9",
   "metadata": {},
   "source": [
    "**6. Thống kê số tiền của khách đã bỏ ra cho 6 mặt hàng**"
   ]
  },
  {
   "cell_type": "code",
   "execution_count": 818,
   "id": "258f5fed",
   "metadata": {
    "scrolled": true
   },
   "outputs": [
    {
     "data": {
      "image/png": "[encoded data removed]",
      "text/plain": [
       "<Figure size 432x288 with 1 Axes>"
      ]
     },
     "metadata": {},
     "output_type": "display_data"
    }
   ],
   "source": [
    "products = mkt_df[['Wines', 'Fruits', 'Meats', 'Fish', 'Sweets', 'Golds']]\n",
    "products.sum().plot.barh()\n",
    "plt.xlabel('Money spent');"
   ]
  },
  {
   "cell_type": "markdown",
   "id": "64303b68",
   "metadata": {},
   "source": [
    "$\\to$ Có vẻ rượu (Wines) và thịt (Meats) là 2 sản phẩm được tiêu thụ nhiều. Tuy nhiên chưa đủ cơ sở chắc chắn điều này được vì mỗi sản phẩm có 1 giá tiền/1 sản phẩm khác nhau (VD: giá tiền trái cây hầu như luôn bé hơn giá tiền của 1 chai rượu). Câu này không mang ý nghĩa nhiều ngoài việc coi thử có sản phẩm nào mua ít quá hay nhiều quá"
   ]
  },
  {
   "cell_type": "markdown",
   "id": "105b5d72",
   "metadata": {},
   "source": [
    "## II. Các câu hỏi in-depth"
   ]
  },
  {
   "cell_type": "markdown",
   "id": "9c6a5d12",
   "metadata": {},
   "source": [
    "Danh sách câu hỏi:\n",
    "\n",
    "1. Lượng tiêu thụ 6 sản phẩm của khách hàng từ 30/7/2012 - 29/6/2014 như thế nào?\n",
    "2. Ứng với từng khách hàng có mức thu nhập khác nhau thì họ có xu hướng mua sản phẩm gì nhiều?\n",
    "3. Ứng với mỗi sản phẩm công ty, phân khúc khách hàng nào sẽ mua sản phẩm đó nhiều nhất?\n",
    "4. Hành vi mua hàng của những khách hàng có con và không con?\n",
    "5. Thống kê số lượng duyệt web của khách hàng qua từng độ tuổi?\n",
    "6. Ứng với từng chiến dịch Marketing thì những khách hàng chấp nhận ưu đãi trong chiến dịch đó có đặc điểm như thế nào?"
   ]
  },
  {
   "cell_type": "markdown",
   "id": "bd503ab9",
   "metadata": {},
   "source": [
    "## 1. Lượng tiêu thụ 6 sản phẩm của khách hàng từ 30/7/2012 - 29/6/2014 như thế nào?\n",
    "**Lợi ích**: quan sát được tình hình bán 6 sản phẩm đang trên đà tăng hay giảm, từ đó tìm hiểu nguyên nhân và đưa ra chiến lược phù hợp\n",
    "\n",
    "---"
   ]
  },
  {
   "cell_type": "markdown",
   "id": "566c2bbf",
   "metadata": {},
   "source": [
    "### Tiền xử lý\n",
    "Như ở phần mô tả tóm tắt về dữ liệu, thuộc tính `Dt_Customer` có giá trị bé nhất là 30/7/2012 và lớn nhất là 29/6/2014, như vậy có thể chia thành 2 năm: 30/7/2012 - 30/7/2013 và 1/8/2013 - 29/6/2014 \n",
    "- Bước 1: Xây dựng hàm `discretize_date(s)` dùng để phân ngày trong cột `Dt_Customer` vào 1 trong 4 nhóm: 'nửa đầu năm 1', 'nửa cuối năm 1', 'nửa đầu năm 2','nửa cuối năm 2'\n",
    "- Bước 2: tạo 1 dataframe mới `df` để không làm thay đổi dataframe cũ là `mkt_df`, sau đó áp dụng hàm `discretize_date` lên cột `Dt_Customer` của df"
   ]
  },
  {
   "cell_type": "markdown",
   "id": "59b1f253",
   "metadata": {},
   "source": [
    "Code bước 1"
   ]
  },
  {
   "cell_type": "code",
   "execution_count": 819,
   "id": "7403fa33",
   "metadata": {},
   "outputs": [],
   "source": [
    "# Code bước 1\n",
    "def discretize_date(s):\n",
    "    if s < pd.Timestamp('2013-01-31'): # 30/7/2012 - 31/1/2013\n",
    "        return 'nửa đầu năm 1'\n",
    "    elif s < pd.Timestamp('2013-07-30'): # 1/2/2013 - 30/7/2013\n",
    "        return 'nửa cuối năm 1'\n",
    "    elif s < pd.Timestamp('2014-01-31'): # 1/8/2013 - 31/1/2014\n",
    "        return 'nửa đầu năm 2'\n",
    "    else: # 1/2/2014 - 29/6/2014\n",
    "        return 'nửa cuối năm 2'"
   ]
  },
  {
   "cell_type": "markdown",
   "id": "6e594388",
   "metadata": {},
   "source": [
    "Code bước 2"
   ]
  },
  {
   "cell_type": "code",
   "execution_count": 820,
   "id": "9f699a65",
   "metadata": {},
   "outputs": [
    {
     "data": {
      "text/plain": [
       "0        nửa đầu năm 1\n",
       "1       nửa cuối năm 2\n",
       "2        nửa đầu năm 2\n",
       "3       nửa cuối năm 2\n",
       "4        nửa đầu năm 2\n",
       "             ...      \n",
       "2235    nửa cuối năm 1\n",
       "2236    nửa cuối năm 2\n",
       "2237     nửa đầu năm 2\n",
       "2238     nửa đầu năm 2\n",
       "2239     nửa đầu năm 1\n",
       "Name: Dt_Customer, Length: 2213, dtype: object"
      ]
     },
     "execution_count": 820,
     "metadata": {},
     "output_type": "execute_result"
    }
   ],
   "source": [
    "df = mkt_df.copy()\n",
    "df['Dt_Customer'] = df['Dt_Customer'].apply(discretize_date)\n",
    "df['Dt_Customer'] # test"
   ]
  },
  {
   "cell_type": "markdown",
   "id": "f8da42ed",
   "metadata": {},
   "source": [
    "### Phân tích\n",
    "- Bước 1: groupby cột `Dt_Customer` theo từng nhãn năm như đã nêu ở tiền xử lý và với mỗi cột sản phẩm (**products**), tính tổng cột đó để có được tổng tiêu thụ của từng sản phẩm \n",
    "- Bước 2: vẽ biểu đồ đường để thấy sự thay đổi trong lượng tiêu thụ của từng loại sản phẩm"
   ]
  },
  {
   "cell_type": "markdown",
   "id": "1b26069f",
   "metadata": {},
   "source": [
    "Bước 1"
   ]
  },
  {
   "cell_type": "code",
   "execution_count": 821,
   "id": "24386f68",
   "metadata": {},
   "outputs": [
    {
     "data": {
      "text/html": [
       "<div>\n",
       "<style scoped>\n",
       "    .dataframe tbody tr th:only-of-type {\n",
       "        vertical-align: middle;\n",
       "    }\n",
       "\n",
       "    .dataframe tbody tr th {\n",
       "        vertical-align: top;\n",
       "    }\n",
       "\n",
       "    .dataframe thead th {\n",
       "        text-align: right;\n",
       "    }\n",
       "</style>\n",
       "<table border=\"1\" class=\"dataframe\">\n",
       "  <thead>\n",
       "    <tr style=\"text-align: right;\">\n",
       "      <th></th>\n",
       "      <th>Wines</th>\n",
       "      <th>Meats</th>\n",
       "      <th>Golds</th>\n",
       "      <th>Fruits</th>\n",
       "      <th>Sweets</th>\n",
       "      <th>Fish</th>\n",
       "    </tr>\n",
       "    <tr>\n",
       "      <th>Dt_Customer</th>\n",
       "      <th></th>\n",
       "      <th></th>\n",
       "      <th></th>\n",
       "      <th></th>\n",
       "      <th></th>\n",
       "      <th></th>\n",
       "    </tr>\n",
       "  </thead>\n",
       "  <tbody>\n",
       "    <tr>\n",
       "      <th>nửa đầu năm 1</th>\n",
       "      <td>226776</td>\n",
       "      <td>114113</td>\n",
       "      <td>31487</td>\n",
       "      <td>18565</td>\n",
       "      <td>18988</td>\n",
       "      <td>25951</td>\n",
       "    </tr>\n",
       "    <tr>\n",
       "      <th>nửa cuối năm 1</th>\n",
       "      <td>181467</td>\n",
       "      <td>99388</td>\n",
       "      <td>28538</td>\n",
       "      <td>14615</td>\n",
       "      <td>15261</td>\n",
       "      <td>22196</td>\n",
       "    </tr>\n",
       "    <tr>\n",
       "      <th>nửa đầu năm 2</th>\n",
       "      <td>157787</td>\n",
       "      <td>90190</td>\n",
       "      <td>22852</td>\n",
       "      <td>14761</td>\n",
       "      <td>15169</td>\n",
       "      <td>20299</td>\n",
       "    </tr>\n",
       "    <tr>\n",
       "      <th>nửa cuối năm 2</th>\n",
       "      <td>109275</td>\n",
       "      <td>65797</td>\n",
       "      <td>14299</td>\n",
       "      <td>10314</td>\n",
       "      <td>10410</td>\n",
       "      <td>14841</td>\n",
       "    </tr>\n",
       "  </tbody>\n",
       "</table>\n",
       "</div>"
      ],
      "text/plain": [
       "                 Wines   Meats  Golds  Fruits  Sweets   Fish\n",
       "Dt_Customer                                                 \n",
       "nửa đầu năm 1   226776  114113  31487   18565   18988  25951\n",
       "nửa cuối năm 1  181467   99388  28538   14615   15261  22196\n",
       "nửa đầu năm 2   157787   90190  22852   14761   15169  20299\n",
       "nửa cuối năm 2  109275   65797  14299   10314   10410  14841"
      ]
     },
     "execution_count": 821,
     "metadata": {},
     "output_type": "execute_result"
    }
   ],
   "source": [
    "# Bước 1\n",
    "products = ['Wines', 'Meats', 'Golds', 'Fruits', 'Sweets', 'Fish']\n",
    "# reindex: sắp xếp thứ tự hàng theo cách của mình\n",
    "df = df.groupby('Dt_Customer')[products].sum().reindex(['nửa đầu năm 1', 'nửa cuối năm 1', 'nửa đầu năm 2', 'nửa cuối năm 2'])\n",
    "df"
   ]
  },
  {
   "cell_type": "markdown",
   "id": "2b0e70d6",
   "metadata": {},
   "source": [
    "Bước 2"
   ]
  },
  {
   "cell_type": "code",
   "execution_count": 822,
   "id": "db2aecbf",
   "metadata": {},
   "outputs": [
    {
     "data": {
      "image/png": "[encoded data removed]",
      "text/plain": [
       "<Figure size 432x288 with 1 Axes>"
      ]
     },
     "metadata": {},
     "output_type": "display_data"
    }
   ],
   "source": [
    "df.plot.line(ylabel='Tổng tiêu thụ ($)', xlabel='Thời gian');"
   ]
  },
  {
   "cell_type": "markdown",
   "id": "a30ca668",
   "metadata": {},
   "source": [
    "Nhận xét:\n",
    "- Nhìn chung các mặt hàng đều có lượng tiêu thụ giảm trong gần 2 năm liên tiếp, riêng lượng tiêu thụ rượu (Wines) giảm gần gấp đôi ở nửa cuối năm 2 và lượng tiêu thụ thịt (Meats) cũng giảm kha khá\n",
    "- 3 sản phẩm còn lại giảm nhẹ và từ từ "
   ]
  },
  {
   "cell_type": "markdown",
   "id": "c9320a31",
   "metadata": {},
   "source": [
    "## 2. Ứng với từng nhóm khách hàng có mức thu nhập khác nhau thì họ có xu hướng mua sản phẩm gì nhiều?\n",
    "**Lợi ích:** có thể biết được hành vi mua hàng của các khách hàng theo từng nhóm lương và đưa ra quyết định nên trưng bày các mặt hàng nào ở vị trí nào trong cửa hàng/website để phù hợp với từng nhóm khách hàng (VD: thượng lưu, bình dân)\n",
    "\n",
    "---"
   ]
  },
  {
   "cell_type": "markdown",
   "id": "3dac3734",
   "metadata": {},
   "source": [
    "### Tiền xử lý\n",
    "Tạo 1 dataframe `df` chứa cột `Income` (đã rời rạc hóa) và 6 cột sản phẩm (`products`)"
   ]
  },
  {
   "cell_type": "code",
   "execution_count": 823,
   "id": "ba4fe637",
   "metadata": {},
   "outputs": [
    {
     "data": {
      "text/html": [
       "<div>\n",
       "<style scoped>\n",
       "    .dataframe tbody tr th:only-of-type {\n",
       "        vertical-align: middle;\n",
       "    }\n",
       "\n",
       "    .dataframe tbody tr th {\n",
       "        vertical-align: top;\n",
       "    }\n",
       "\n",
       "    .dataframe thead th {\n",
       "        text-align: right;\n",
       "    }\n",
       "</style>\n",
       "<table border=\"1\" class=\"dataframe\">\n",
       "  <thead>\n",
       "    <tr style=\"text-align: right;\">\n",
       "      <th></th>\n",
       "      <th>Wines</th>\n",
       "      <th>Meats</th>\n",
       "      <th>Golds</th>\n",
       "      <th>Fruits</th>\n",
       "      <th>Sweets</th>\n",
       "      <th>Fish</th>\n",
       "      <th>Income</th>\n",
       "    </tr>\n",
       "  </thead>\n",
       "  <tbody>\n",
       "    <tr>\n",
       "      <th>0</th>\n",
       "      <td>635</td>\n",
       "      <td>546</td>\n",
       "      <td>88</td>\n",
       "      <td>88</td>\n",
       "      <td>88</td>\n",
       "      <td>172</td>\n",
       "      <td>Medium</td>\n",
       "    </tr>\n",
       "    <tr>\n",
       "      <th>1</th>\n",
       "      <td>11</td>\n",
       "      <td>6</td>\n",
       "      <td>6</td>\n",
       "      <td>1</td>\n",
       "      <td>1</td>\n",
       "      <td>2</td>\n",
       "      <td>Low to medium</td>\n",
       "    </tr>\n",
       "    <tr>\n",
       "      <th>2</th>\n",
       "      <td>426</td>\n",
       "      <td>127</td>\n",
       "      <td>42</td>\n",
       "      <td>49</td>\n",
       "      <td>21</td>\n",
       "      <td>111</td>\n",
       "      <td>High</td>\n",
       "    </tr>\n",
       "    <tr>\n",
       "      <th>3</th>\n",
       "      <td>11</td>\n",
       "      <td>20</td>\n",
       "      <td>5</td>\n",
       "      <td>4</td>\n",
       "      <td>3</td>\n",
       "      <td>10</td>\n",
       "      <td>Low</td>\n",
       "    </tr>\n",
       "    <tr>\n",
       "      <th>4</th>\n",
       "      <td>173</td>\n",
       "      <td>118</td>\n",
       "      <td>15</td>\n",
       "      <td>43</td>\n",
       "      <td>27</td>\n",
       "      <td>46</td>\n",
       "      <td>Medium</td>\n",
       "    </tr>\n",
       "  </tbody>\n",
       "</table>\n",
       "</div>"
      ],
      "text/plain": [
       "   Wines  Meats  Golds  Fruits  Sweets  Fish         Income\n",
       "0    635    546     88      88      88   172         Medium\n",
       "1     11      6      6       1       1     2  Low to medium\n",
       "2    426    127     42      49      21   111           High\n",
       "3     11     20      5       4       3    10            Low\n",
       "4    173    118     15      43      27    46         Medium"
      ]
     },
     "execution_count": 823,
     "metadata": {},
     "output_type": "execute_result"
    }
   ],
   "source": [
    "products = ['Wines', 'Meats', 'Golds', 'Fruits', 'Sweets', 'Fish']\n",
    "df = mkt_df[products].copy()\n",
    "df['Income'] = income_transformed\n",
    "df.head()"
   ]
  },
  {
   "cell_type": "markdown",
   "id": "c60f1e03",
   "metadata": {},
   "source": [
    "### Phân tích\n",
    "- Bước 1: tính tổng giá trị của mỗi sản phẩm ứng với mỗi phân khúc `Income`.\n",
    "- Bước 2: với mỗi nhóm lương `Income`, biến đổi giá trị trong 6 cột sản phẩm thành giá trị phần trăm (%). Như vậy với mỗi nhóm lương, tổng của mỗi cột trong 6 cột sản phẩm là 100%\n",
    "- Bước 3: Vẽ biểu đồ 100% stacked horizontal bar chart để so sánh tỷ lệ phần trăm giữa các sản phẩm trong cùng 1 nhóm lương "
   ]
  },
  {
   "cell_type": "markdown",
   "id": "58bd14bf",
   "metadata": {},
   "source": [
    "Code bước 1: groupby bởi thuộc tính Income và lấy tổng từng cột sản phẩm. Lưu kết quả vào dataframe `prods_income` "
   ]
  },
  {
   "cell_type": "code",
   "execution_count": 824,
   "id": "7ee53fdd",
   "metadata": {},
   "outputs": [
    {
     "data": {
      "text/html": [
       "<div>\n",
       "<style scoped>\n",
       "    .dataframe tbody tr th:only-of-type {\n",
       "        vertical-align: middle;\n",
       "    }\n",
       "\n",
       "    .dataframe tbody tr th {\n",
       "        vertical-align: top;\n",
       "    }\n",
       "\n",
       "    .dataframe thead th {\n",
       "        text-align: right;\n",
       "    }\n",
       "</style>\n",
       "<table border=\"1\" class=\"dataframe\">\n",
       "  <thead>\n",
       "    <tr style=\"text-align: right;\">\n",
       "      <th></th>\n",
       "      <th>Wines</th>\n",
       "      <th>Meats</th>\n",
       "      <th>Golds</th>\n",
       "      <th>Fruits</th>\n",
       "      <th>Sweets</th>\n",
       "      <th>Fish</th>\n",
       "    </tr>\n",
       "    <tr>\n",
       "      <th>Income</th>\n",
       "      <th></th>\n",
       "      <th></th>\n",
       "      <th></th>\n",
       "      <th></th>\n",
       "      <th></th>\n",
       "      <th></th>\n",
       "    </tr>\n",
       "  </thead>\n",
       "  <tbody>\n",
       "    <tr>\n",
       "      <th>Low</th>\n",
       "      <td>11939</td>\n",
       "      <td>12557</td>\n",
       "      <td>9335</td>\n",
       "      <td>3288</td>\n",
       "      <td>3282</td>\n",
       "      <td>4801</td>\n",
       "    </tr>\n",
       "    <tr>\n",
       "      <th>Low to medium</th>\n",
       "      <td>69137</td>\n",
       "      <td>26716</td>\n",
       "      <td>15537</td>\n",
       "      <td>4442</td>\n",
       "      <td>4732</td>\n",
       "      <td>7520</td>\n",
       "    </tr>\n",
       "    <tr>\n",
       "      <th>Medium</th>\n",
       "      <td>243328</td>\n",
       "      <td>89239</td>\n",
       "      <td>32474</td>\n",
       "      <td>16989</td>\n",
       "      <td>15826</td>\n",
       "      <td>21911</td>\n",
       "    </tr>\n",
       "    <tr>\n",
       "      <th>High</th>\n",
       "      <td>350901</td>\n",
       "      <td>240976</td>\n",
       "      <td>39830</td>\n",
       "      <td>33536</td>\n",
       "      <td>35988</td>\n",
       "      <td>49055</td>\n",
       "    </tr>\n",
       "  </tbody>\n",
       "</table>\n",
       "</div>"
      ],
      "text/plain": [
       "                Wines   Meats  Golds  Fruits  Sweets   Fish\n",
       "Income                                                     \n",
       "Low             11939   12557   9335    3288    3282   4801\n",
       "Low to medium   69137   26716  15537    4442    4732   7520\n",
       "Medium         243328   89239  32474   16989   15826  21911\n",
       "High           350901  240976  39830   33536   35988  49055"
      ]
     },
     "execution_count": 824,
     "metadata": {},
     "output_type": "execute_result"
    }
   ],
   "source": [
    "prods_income = df.groupby(\"Income\").sum()\n",
    "prods_income.head()"
   ]
  },
  {
   "cell_type": "markdown",
   "id": "502b6f97",
   "metadata": {},
   "source": [
    "Code bước 2: \n",
    "- Xây dựng hàm `pct_converter(s)` nhận input là 1 cột series sản phẩm. Ta tính giá trị phần trăm của mỗi phần tử trong s và trả ra cột s mới. Như vậy nếu lấy tổng trên cột s mới thì sẽ được 100%\n",
    "- Áp dụng hàm `pct_converter` cho từng cột trong dataframe `prods_income`. Lưu ý cần chuyển vị `prods_income` để các cột là mức lương, còn 6 hàng là 6 sản phẩm\n",
    "- Lưu kết quả vào `prods_income_pct`"
   ]
  },
  {
   "cell_type": "code",
   "execution_count": 825,
   "id": "f2b9538f",
   "metadata": {},
   "outputs": [
    {
     "data": {
      "text/html": [
       "<div>\n",
       "<style scoped>\n",
       "    .dataframe tbody tr th:only-of-type {\n",
       "        vertical-align: middle;\n",
       "    }\n",
       "\n",
       "    .dataframe tbody tr th {\n",
       "        vertical-align: top;\n",
       "    }\n",
       "\n",
       "    .dataframe thead th {\n",
       "        text-align: right;\n",
       "    }\n",
       "</style>\n",
       "<table border=\"1\" class=\"dataframe\">\n",
       "  <thead>\n",
       "    <tr style=\"text-align: right;\">\n",
       "      <th>Income</th>\n",
       "      <th>Low</th>\n",
       "      <th>Low to medium</th>\n",
       "      <th>Medium</th>\n",
       "      <th>High</th>\n",
       "    </tr>\n",
       "  </thead>\n",
       "  <tbody>\n",
       "    <tr>\n",
       "      <th>Wines</th>\n",
       "      <td>26.41</td>\n",
       "      <td>53.98</td>\n",
       "      <td>57.97</td>\n",
       "      <td>46.77</td>\n",
       "    </tr>\n",
       "    <tr>\n",
       "      <th>Meats</th>\n",
       "      <td>27.78</td>\n",
       "      <td>20.86</td>\n",
       "      <td>21.26</td>\n",
       "      <td>32.12</td>\n",
       "    </tr>\n",
       "    <tr>\n",
       "      <th>Golds</th>\n",
       "      <td>20.65</td>\n",
       "      <td>12.13</td>\n",
       "      <td>7.74</td>\n",
       "      <td>5.31</td>\n",
       "    </tr>\n",
       "    <tr>\n",
       "      <th>Fruits</th>\n",
       "      <td>7.27</td>\n",
       "      <td>3.47</td>\n",
       "      <td>4.05</td>\n",
       "      <td>4.47</td>\n",
       "    </tr>\n",
       "    <tr>\n",
       "      <th>Sweets</th>\n",
       "      <td>7.26</td>\n",
       "      <td>3.69</td>\n",
       "      <td>3.77</td>\n",
       "      <td>4.80</td>\n",
       "    </tr>\n",
       "  </tbody>\n",
       "</table>\n",
       "</div>"
      ],
      "text/plain": [
       "Income    Low  Low to medium  Medium   High\n",
       "Wines   26.41          53.98   57.97  46.77\n",
       "Meats   27.78          20.86   21.26  32.12\n",
       "Golds   20.65          12.13    7.74   5.31\n",
       "Fruits   7.27           3.47    4.05   4.47\n",
       "Sweets   7.26           3.69    3.77   4.80"
      ]
     },
     "execution_count": 825,
     "metadata": {},
     "output_type": "execute_result"
    }
   ],
   "source": [
    "def pct_converter(s):\n",
    "    return (s / s.sum() * 100).round(2)\n",
    "prods_income_pct = prods_income.T.agg(pct_converter)\n",
    "prods_income_pct.head()"
   ]
  },
  {
   "cell_type": "markdown",
   "id": "ec02c279",
   "metadata": {},
   "source": [
    "Code bước 3: trước khi vẽ đồ thị cần chuyển vị `prods_income_pct` 1 lần nữa để phù hợp với định dạng mặc định liên quan tới tên hàng, tên cột trong matplotlib"
   ]
  },
  {
   "cell_type": "code",
   "execution_count": 826,
   "id": "6b8cb9bf",
   "metadata": {},
   "outputs": [
    {
     "data": {
      "image/png": "[encoded data removed]",
      "text/plain": [
       "<Figure size 432x288 with 1 Axes>"
      ]
     },
     "metadata": {},
     "output_type": "display_data"
    }
   ],
   "source": [
    "prods_income_pct = prods_income_pct.T\n",
    "prods_income_pct.plot.barh(stacked=True)\n",
    "plt.xlabel('percentage');"
   ]
  },
  {
   "cell_type": "markdown",
   "id": "a036efe8",
   "metadata": {},
   "source": [
    "Nhận xét:\n",
    "- Wines và Meats là 2 sản phẩm được chiếm phần lớn giá trị tiêu thụ ở 3 nhóm lương High, Medium và Low to medium\n",
    "- Nhóm lương thấp (Low) có xu hướng phân bổ tiền đều cho 3 sản phẩm: Wines, Meats và Golds (với Golds ít hơn 1 chút)"
   ]
  },
  {
   "cell_type": "markdown",
   "id": "77ff3043",
   "metadata": {},
   "source": [
    "## 3. Ứng với mỗi sản phẩm công ty, phân khúc khách hàng nào sẽ mua sản phẩm đó nhiều nhất?\n",
    "**Lợi ích**: Xác định được khách hàng mục tiêu cho từng sản phẩm. Từ đó marketing sản phẩm tương ứng tới phân khúc khách hàng đó để tối đa hóa số lượng sản phẩm bán ra. Từ đó tăng doanh thu cho công ty\n",
    "\n",
    "**\"phân khúc khách hàng\"** sẽ được quyết định dựa trên:\n",
    "- Nhân khẩu học: Tuổi (`Age`), thu nhập (`Income`), và học vấn (`Education`), Số lượng con cái (`NumChild`) và tình trạng hôn nhân (`Relationship`)\n",
    "- Hành vi mua hàng: \n",
    "    - Tính cách mua hàng - tức khách có mua hàng ở lần marketing thứ i không (`Camp`<font color='blue'>i</font> với <font color='blue'>i</font>=1..6) \n",
    "    - Nơi thực hiện mua hàng (`Web`, `Catalog` hay `Store`)\n",
    "\n",
    "**\"sản phẩm công ty\"** chính là 6 sản phẩm hiện có trong tập dữ liệu: [`Wines`, `Fruits`, `Meats`, `Fish`, `Sweets`, `Golds`]\n",
    "\n",
    "---"
   ]
  },
  {
   "cell_type": "markdown",
   "id": "185ce52e",
   "metadata": {},
   "source": [
    "### Tiền xử lý\n",
    "- Bước 1: tính số con của từng khách hàng và lưu vào cột `NumChild` $\\to$ Tận dụng Series `num_child` ở mục I.3 thì coi như xong bước 1\n",
    "- Bước 2: phân cột `Age` thành các nhóm: ['Young', 'Mature', 'Midlle-age', 'Old'] $\\to$ Tận dụng Series `age` ở mục I.6 thì coi như xong bước 2\n",
    "- Bước 3: phân cột `Income` thành 4 nhóm category: [Low, Low to medium, Medium, High] tương ứng với tứ phân vị trong cột `Income` $\\to$ Đã làm ở B.1 nên coi như xong\n",
    "- Bước 4: chuẩn bị dataframe `customer_seg` gồm các cột đã đề cập để chuẩn bị cho quá trình phân tích dữ liệu sắp tới"
   ]
  },
  {
   "cell_type": "code",
   "execution_count": 827,
   "id": "f51366f1",
   "metadata": {
    "scrolled": true
   },
   "outputs": [
    {
     "data": {
      "text/html": [
       "<div>\n",
       "<style scoped>\n",
       "    .dataframe tbody tr th:only-of-type {\n",
       "        vertical-align: middle;\n",
       "    }\n",
       "\n",
       "    .dataframe tbody tr th {\n",
       "        vertical-align: top;\n",
       "    }\n",
       "\n",
       "    .dataframe thead th {\n",
       "        text-align: right;\n",
       "    }\n",
       "</style>\n",
       "<table border=\"1\" class=\"dataframe\">\n",
       "  <thead>\n",
       "    <tr style=\"text-align: right;\">\n",
       "      <th></th>\n",
       "      <th>Education</th>\n",
       "      <th>Web</th>\n",
       "      <th>Catalog</th>\n",
       "      <th>Store</th>\n",
       "      <th>Wines</th>\n",
       "      <th>Fruits</th>\n",
       "      <th>Meats</th>\n",
       "      <th>Fish</th>\n",
       "      <th>Sweets</th>\n",
       "      <th>Golds</th>\n",
       "      <th>Relationship</th>\n",
       "      <th>Camp1</th>\n",
       "      <th>Camp2</th>\n",
       "      <th>Camp3</th>\n",
       "      <th>Camp4</th>\n",
       "      <th>Camp5</th>\n",
       "      <th>Camp6</th>\n",
       "      <th>Age</th>\n",
       "      <th>Income</th>\n",
       "      <th>NumChild</th>\n",
       "    </tr>\n",
       "  </thead>\n",
       "  <tbody>\n",
       "    <tr>\n",
       "      <th>0</th>\n",
       "      <td>Graduation</td>\n",
       "      <td>8</td>\n",
       "      <td>10</td>\n",
       "      <td>4</td>\n",
       "      <td>635</td>\n",
       "      <td>88</td>\n",
       "      <td>546</td>\n",
       "      <td>172</td>\n",
       "      <td>88</td>\n",
       "      <td>88</td>\n",
       "      <td>Single</td>\n",
       "      <td>0</td>\n",
       "      <td>0</td>\n",
       "      <td>0</td>\n",
       "      <td>0</td>\n",
       "      <td>0</td>\n",
       "      <td>1</td>\n",
       "      <td>Middle-age</td>\n",
       "      <td>Medium</td>\n",
       "      <td>0</td>\n",
       "    </tr>\n",
       "    <tr>\n",
       "      <th>1</th>\n",
       "      <td>Graduation</td>\n",
       "      <td>1</td>\n",
       "      <td>1</td>\n",
       "      <td>2</td>\n",
       "      <td>11</td>\n",
       "      <td>1</td>\n",
       "      <td>6</td>\n",
       "      <td>2</td>\n",
       "      <td>1</td>\n",
       "      <td>6</td>\n",
       "      <td>Single</td>\n",
       "      <td>0</td>\n",
       "      <td>0</td>\n",
       "      <td>0</td>\n",
       "      <td>0</td>\n",
       "      <td>0</td>\n",
       "      <td>0</td>\n",
       "      <td>Middle-age</td>\n",
       "      <td>Low to medium</td>\n",
       "      <td>2</td>\n",
       "    </tr>\n",
       "    <tr>\n",
       "      <th>2</th>\n",
       "      <td>Graduation</td>\n",
       "      <td>8</td>\n",
       "      <td>2</td>\n",
       "      <td>10</td>\n",
       "      <td>426</td>\n",
       "      <td>49</td>\n",
       "      <td>127</td>\n",
       "      <td>111</td>\n",
       "      <td>21</td>\n",
       "      <td>42</td>\n",
       "      <td>Married</td>\n",
       "      <td>0</td>\n",
       "      <td>0</td>\n",
       "      <td>0</td>\n",
       "      <td>0</td>\n",
       "      <td>0</td>\n",
       "      <td>0</td>\n",
       "      <td>Middle-age</td>\n",
       "      <td>High</td>\n",
       "      <td>0</td>\n",
       "    </tr>\n",
       "    <tr>\n",
       "      <th>3</th>\n",
       "      <td>Graduation</td>\n",
       "      <td>2</td>\n",
       "      <td>0</td>\n",
       "      <td>4</td>\n",
       "      <td>11</td>\n",
       "      <td>4</td>\n",
       "      <td>20</td>\n",
       "      <td>10</td>\n",
       "      <td>3</td>\n",
       "      <td>5</td>\n",
       "      <td>Married</td>\n",
       "      <td>0</td>\n",
       "      <td>0</td>\n",
       "      <td>0</td>\n",
       "      <td>0</td>\n",
       "      <td>0</td>\n",
       "      <td>0</td>\n",
       "      <td>Young</td>\n",
       "      <td>Low</td>\n",
       "      <td>1</td>\n",
       "    </tr>\n",
       "    <tr>\n",
       "      <th>4</th>\n",
       "      <td>PhD</td>\n",
       "      <td>5</td>\n",
       "      <td>3</td>\n",
       "      <td>6</td>\n",
       "      <td>173</td>\n",
       "      <td>43</td>\n",
       "      <td>118</td>\n",
       "      <td>46</td>\n",
       "      <td>27</td>\n",
       "      <td>15</td>\n",
       "      <td>Married</td>\n",
       "      <td>0</td>\n",
       "      <td>0</td>\n",
       "      <td>0</td>\n",
       "      <td>0</td>\n",
       "      <td>0</td>\n",
       "      <td>0</td>\n",
       "      <td>Mature</td>\n",
       "      <td>Medium</td>\n",
       "      <td>1</td>\n",
       "    </tr>\n",
       "  </tbody>\n",
       "</table>\n",
       "</div>"
      ],
      "text/plain": [
       "    Education  Web  Catalog  Store  Wines  Fruits  Meats  Fish  Sweets  Golds  \\\n",
       "0  Graduation    8       10      4    635      88    546   172      88     88   \n",
       "1  Graduation    1        1      2     11       1      6     2       1      6   \n",
       "2  Graduation    8        2     10    426      49    127   111      21     42   \n",
       "3  Graduation    2        0      4     11       4     20    10       3      5   \n",
       "4         PhD    5        3      6    173      43    118    46      27     15   \n",
       "\n",
       "  Relationship  Camp1  Camp2  Camp3  Camp4  Camp5  Camp6         Age  \\\n",
       "0       Single      0      0      0      0      0      1  Middle-age   \n",
       "1       Single      0      0      0      0      0      0  Middle-age   \n",
       "2      Married      0      0      0      0      0      0  Middle-age   \n",
       "3      Married      0      0      0      0      0      0       Young   \n",
       "4      Married      0      0      0      0      0      0      Mature   \n",
       "\n",
       "          Income  NumChild  \n",
       "0         Medium         0  \n",
       "1  Low to medium         2  \n",
       "2           High         0  \n",
       "3            Low         1  \n",
       "4         Medium         1  "
      ]
     },
     "execution_count": 827,
     "metadata": {},
     "output_type": "execute_result"
    }
   ],
   "source": [
    "# Code bước 4\n",
    "camp = [f'Camp{i}' for i in range(1,7)]\n",
    "cols = ['Education', 'Web', 'Catalog', 'Store', 'Wines', 'Fruits', 'Meats', 'Fish', 'Sweets', 'Golds', 'Relationship'] + camp\n",
    "customer_seg = mkt_df[cols].copy()\n",
    "\n",
    "# add columns\n",
    "customer_seg['Age'] = age_transformed # add cột Age\n",
    "customer_seg['Income'] = income_transformed # add cột Income\n",
    "customer_seg['NumChild'] = num_child # add cột NumChild\n",
    "\n",
    "customer_seg.head()"
   ]
  },
  {
   "cell_type": "markdown",
   "id": "c7b6e565",
   "metadata": {},
   "source": [
    "### Phân tích: \n",
    "Dataframe `customer_seg` hiện đang lưu thông tin về 6 cột Products + 5 cột thông tin cá nhân + 9 cột hành vi mua hàng\n",
    "- 6 cột sản phẩm: [`Wines`, `Fruits`, `Meats`, `Fish`, `Sweets`, `Golds`]\n",
    "- 5 cột thông tin cá nhân: [`Age`, `Income`, `Education`, `NumChild`, `Relationship`]\n",
    "- 9 cột hành vi mua hàng: [`Web`, `Catalog`, `Store`, `Camp1`, `Camp2`, ..., `Camp6`]\n",
    "\n",
    "Ta phân tích ứng với từng sản phẩm thì phân khúc khách hàng của sản phẩm đó bao gồm những khách hàng có tính chất như thế nào? (VD: ứng với sản phẩm **Wines** thì những khách hàng có `Relationship=Single`,... có xu hướng mua nhiều hơn). Tóm tắt các bước làm (sẽ nói chi tiết ở từng bước):\n",
    "- Bước 1: với mỗi sản phẩm, thống kê top các khách hàng chi nhiều tiền mua sản phẩm đó nhiều nhất, \"nhiều nhất\" được dựa trên phân vị 75% của từng cột sản phẩm và được lưu vào dataframe `top_customers`, tức là nếu 1 khách hàng thuộc phân vị này mua sản phẩm X nhiều hơn 75% các khách hàng còn lại\n",
    "- Bước 2 (dự đoán phân khúc khách hàng): với mỗi một top khách hàng tìm dược ở bước 1, tìm ra điểm chung **lớn nhất** của các khách hàng này về mặt **thông tin cá nhân** và **hành vi mua hàng**. Kết quả là 1 dataframe `cust_by_prod` gồm 6 cột tương ứng 6 sản phẩm và 14 dòng = 5 dòng **thông tin cá nhân** + 9 dòng **hành vi mua hàng**"
   ]
  },
  {
   "cell_type": "markdown",
   "id": "70a0b172",
   "metadata": {},
   "source": [
    "#### Code bước 1\n",
    "- Định nghĩa 1 hàm hợp `top_customers_ix(prod)` nhận vào prod là 1 cột Series sản phẩm, trả ra chỉ số index của top khách hàng chi nhiều tiền mua sản phẩm prod (\"nhiều\" trong khoảng phân vị [0.75, 1])\n",
    "- Sau đó áp dụng hàm hợp này lên cho 6 cột products "
   ]
  },
  {
   "cell_type": "code",
   "execution_count": 828,
   "id": "995b51a1",
   "metadata": {
    "scrolled": false
   },
   "outputs": [
    {
     "data": {
      "text/html": [
       "<div>\n",
       "<style scoped>\n",
       "    .dataframe tbody tr th:only-of-type {\n",
       "        vertical-align: middle;\n",
       "    }\n",
       "\n",
       "    .dataframe tbody tr th {\n",
       "        vertical-align: top;\n",
       "    }\n",
       "\n",
       "    .dataframe thead th {\n",
       "        text-align: right;\n",
       "    }\n",
       "</style>\n",
       "<table border=\"1\" class=\"dataframe\">\n",
       "  <thead>\n",
       "    <tr style=\"text-align: right;\">\n",
       "      <th></th>\n",
       "      <th>Wines</th>\n",
       "      <th>Fruits</th>\n",
       "      <th>Meats</th>\n",
       "      <th>Fish</th>\n",
       "      <th>Sweets</th>\n",
       "      <th>Golds</th>\n",
       "    </tr>\n",
       "  </thead>\n",
       "  <tbody>\n",
       "    <tr>\n",
       "      <th>top_customers_ix</th>\n",
       "      <td>[0, 5, 15, 18, 22, 29, 36, 49, 51, 53, 55, 60, 62, 63, 67, 69, 73, 76, 77, 79, 96, 103, 111, 112, 116, 124, 131, 135, 140, 141, 143, 145, 154, 155, 159, 161, 163, 175, 176, 182, 188, 196, 197, 202, 203, 209, 211, 217, 219, 222, 224, 227, 228, 231, 234, 240, 243, 244, 246, 247, 248, 249, 254, 256, 261, 270, 275, 279, 292, 295, 299, 301, 305, 307, 308, 313, 323, 325, 332, 336, 338, 342, 351, 353, 354, 357, 358, 360, 361, 368, 369, 373, 378, 387, 389, 390, 394, 395, 401, 412, ...]</td>\n",
       "      <td>[0, 2, 4, 5, 6, 12, 18, 29, 34, 40, 45, 49, 51, 53, 55, 56, 64, 68, 69, 70, 72, 76, 77, 88, 99, 102, 103, 104, 107, 109, 110, 113, 116, 117, 120, 125, 126, 130, 132, 140, 144, 168, 175, 176, 198, 201, 202, 209, 228, 231, 240, 241, 243, 247, 248, 252, 253, 257, 261, 266, 268, 270, 276, 277, 286, 288, 292, 305, 313, 317, 323, 335, 336, 338, 345, 347, 350, 351, 353, 357, 360, 368, 387, 390, 392, 394, 401, 403, 411, 413, 414, 418, 423, 424, 426, 432, 433, 436, 447, 451, ...]</td>\n",
       "      <td>[0, 12, 18, 21, 29, 34, 40, 45, 49, 51, 53, 55, 56, 60, 64, 67, 69, 70, 72, 76, 77, 84, 88, 98, 103, 104, 107, 110, 111, 116, 126, 135, 140, 141, 142, 155, 159, 161, 163, 164, 168, 175, 179, 188, 191, 197, 198, 201, 202, 209, 211, 214, 217, 221, 228, 234, 240, 241, 243, 246, 248, 252, 254, 266, 268, 270, 277, 278, 287, 288, 292, 298, 307, 313, 323, 325, 335, 336, 338, 340, 347, 350, 351, 352, 353, 357, 360, 366, 368, 373, 390, 392, 395, 414, 415, 417, 424, 426, 427, 430, ...]</td>\n",
       "      <td>[0, 2, 6, 12, 15, 17, 20, 34, 39, 40, 45, 49, 53, 55, 56, 60, 64, 67, 69, 70, 72, 76, 77, 88, 98, 99, 102, 103, 104, 107, 116, 117, 126, 130, 140, 144, 159, 166, 168, 175, 176, 179, 188, 191, 198, 201, 203, 210, 214, 221, 228, 231, 240, 241, 243, 246, 247, 248, 249, 266, 268, 270, 276, 277, 282, 286, 287, 288, 292, 298, 305, 313, 317, 323, 335, 336, 340, 345, 347, 351, 353, 357, 358, 360, 366, 368, 382, 392, 395, 401, 411, 413, 415, 417, 418, 424, 426, 429, 432, 447, ...]</td>\n",
       "      <td>[0, 5, 6, 12, 15, 20, 29, 34, 39, 40, 49, 50, 51, 53, 55, 56, 64, 68, 70, 72, 77, 84, 88, 99, 102, 103, 107, 110, 111, 116, 117, 120, 124, 130, 132, 135, 140, 142, 143, 145, 159, 168, 175, 176, 188, 191, 197, 198, 202, 203, 211, 214, 217, 228, 231, 237, 240, 241, 248, 249, 252, 254, 266, 268, 270, 276, 278, 286, 287, 288, 298, 305, 307, 313, 325, 335, 336, 340, 345, 347, 350, 351, 357, 360, 366, 368, 382, 387, 390, 392, 399, 401, 411, 413, 418, 423, 426, 427, 429, 432, ...]</td>\n",
       "      <td>[0, 18, 24, 31, 40, 45, 53, 54, 55, 60, 62, 68, 69, 72, 83, 84, 88, 96, 98, 102, 103, 107, 110, 111, 112, 114, 117, 124, 125, 126, 130, 132, 142, 144, 152, 154, 159, 168, 176, 179, 182, 187, 191, 198, 199, 201, 203, 209, 215, 218, 224, 226, 227, 243, 244, 246, 247, 248, 249, 252, 266, 267, 268, 270, 276, 279, 281, 283, 286, 287, 292, 305, 320, 323, 325, 335, 338, 345, 347, 351, 360, 364, 365, 368, 373, 378, 386, 387, 389, 390, 392, 394, 403, 414, 418, 423, 427, 429, 431, 432, ...]</td>\n",
       "    </tr>\n",
       "  </tbody>\n",
       "</table>\n",
       "</div>"
      ],
      "text/plain": [
       "                                                                                                                                                                                                                                                                                                                                                                                                                                                                                                               Wines  \\\n",
       "top_customers_ix  [0, 5, 15, 18, 22, 29, 36, 49, 51, 53, 55, 60, 62, 63, 67, 69, 73, 76, 77, 79, 96, 103, 111, 112, 116, 124, 131, 135, 140, 141, 143, 145, 154, 155, 159, 161, 163, 175, 176, 182, 188, 196, 197, 202, 203, 209, 211, 217, 219, 222, 224, 227, 228, 231, 234, 240, 243, 244, 246, 247, 248, 249, 254, 256, 261, 270, 275, 279, 292, 295, 299, 301, 305, 307, 308, 313, 323, 325, 332, 336, 338, 342, 351, 353, 354, 357, 358, 360, 361, 368, 369, 373, 378, 387, 389, 390, 394, 395, 401, 412, ...]   \n",
       "\n",
       "                                                                                                                                                                                                                                                                                                                                                                                                                                                                                                       Fruits  \\\n",
       "top_customers_ix  [0, 2, 4, 5, 6, 12, 18, 29, 34, 40, 45, 49, 51, 53, 55, 56, 64, 68, 69, 70, 72, 76, 77, 88, 99, 102, 103, 104, 107, 109, 110, 113, 116, 117, 120, 125, 126, 130, 132, 140, 144, 168, 175, 176, 198, 201, 202, 209, 228, 231, 240, 241, 243, 247, 248, 252, 253, 257, 261, 266, 268, 270, 276, 277, 286, 288, 292, 305, 313, 317, 323, 335, 336, 338, 345, 347, 350, 351, 353, 357, 360, 368, 387, 390, 392, 394, 401, 403, 411, 413, 414, 418, 423, 424, 426, 432, 433, 436, 447, 451, ...]   \n",
       "\n",
       "                                                                                                                                                                                                                                                                                                                                                                                                                                                                                                             Meats  \\\n",
       "top_customers_ix  [0, 12, 18, 21, 29, 34, 40, 45, 49, 51, 53, 55, 56, 60, 64, 67, 69, 70, 72, 76, 77, 84, 88, 98, 103, 104, 107, 110, 111, 116, 126, 135, 140, 141, 142, 155, 159, 161, 163, 164, 168, 175, 179, 188, 191, 197, 198, 201, 202, 209, 211, 214, 217, 221, 228, 234, 240, 241, 243, 246, 248, 252, 254, 266, 268, 270, 277, 278, 287, 288, 292, 298, 307, 313, 323, 325, 335, 336, 338, 340, 347, 350, 351, 352, 353, 357, 360, 366, 368, 373, 390, 392, 395, 414, 415, 417, 424, 426, 427, 430, ...]   \n",
       "\n",
       "                                                                                                                                                                                                                                                                                                                                                                                                                                                                                                          Fish  \\\n",
       "top_customers_ix  [0, 2, 6, 12, 15, 17, 20, 34, 39, 40, 45, 49, 53, 55, 56, 60, 64, 67, 69, 70, 72, 76, 77, 88, 98, 99, 102, 103, 104, 107, 116, 117, 126, 130, 140, 144, 159, 166, 168, 175, 176, 179, 188, 191, 198, 201, 203, 210, 214, 221, 228, 231, 240, 241, 243, 246, 247, 248, 249, 266, 268, 270, 276, 277, 282, 286, 287, 288, 292, 298, 305, 313, 317, 323, 335, 336, 340, 345, 347, 351, 353, 357, 358, 360, 366, 368, 382, 392, 395, 401, 411, 413, 415, 417, 418, 424, 426, 429, 432, 447, ...]   \n",
       "\n",
       "                                                                                                                                                                                                                                                                                                                                                                                                                                                                                                          Sweets  \\\n",
       "top_customers_ix  [0, 5, 6, 12, 15, 20, 29, 34, 39, 40, 49, 50, 51, 53, 55, 56, 64, 68, 70, 72, 77, 84, 88, 99, 102, 103, 107, 110, 111, 116, 117, 120, 124, 130, 132, 135, 140, 142, 143, 145, 159, 168, 175, 176, 188, 191, 197, 198, 202, 203, 211, 214, 217, 228, 231, 237, 240, 241, 248, 249, 252, 254, 266, 268, 270, 276, 278, 286, 287, 288, 298, 305, 307, 313, 325, 335, 336, 340, 345, 347, 350, 351, 357, 360, 366, 368, 382, 387, 390, 392, 399, 401, 411, 413, 418, 423, 426, 427, 429, 432, ...]   \n",
       "\n",
       "                                                                                                                                                                                                                                                                                                                                                                                                                                                                                                                  Golds  \n",
       "top_customers_ix  [0, 18, 24, 31, 40, 45, 53, 54, 55, 60, 62, 68, 69, 72, 83, 84, 88, 96, 98, 102, 103, 107, 110, 111, 112, 114, 117, 124, 125, 126, 130, 132, 142, 144, 152, 154, 159, 168, 176, 179, 182, 187, 191, 198, 199, 201, 203, 209, 215, 218, 224, 226, 227, 243, 244, 246, 247, 248, 249, 252, 266, 267, 268, 270, 276, 279, 281, 283, 286, 287, 292, 305, 320, 323, 325, 335, 338, 345, 347, 351, 360, 364, 365, 368, 373, 378, 386, 387, 389, 390, 392, 394, 403, 414, 418, 423, 427, 429, 431, 432, ...]  "
      ]
     },
     "execution_count": 828,
     "metadata": {},
     "output_type": "execute_result"
    }
   ],
   "source": [
    "def top_customers_ix(prod): # ix = index\n",
    "    major_buy_mnt = pd.qcut(prod, [.75, 1]) # lấy các record khách hàng có SL mua món hàng thuộc vào phân vị 75%\n",
    "    cust_ix = major_buy_mnt[~major_buy_mnt.isna()].index # lấy index các dòng thỏa DK trên, cũng là index các khách hàng\n",
    "    return cust_ix.to_list() # return danh sách index khách hàng\n",
    "\n",
    "products = ['Wines', 'Fruits', 'Meats', 'Fish', 'Sweets', 'Golds']\n",
    "top_customers = customer_seg[products].agg([top_customers_ix])\n",
    "top_customers"
   ]
  },
  {
   "cell_type": "markdown",
   "id": "ef2045a0",
   "metadata": {},
   "source": [
    "#### Code bước 2\n",
    "\"điểm chung **lớn nhất**\" của 1 cột Series bất kỳ là những giá trị có tần số xuất hiện trong cột đó thuộc phân vị 51% - tức xuất hiện nhiều hơn 1 nửa\n",
    "\n",
    "Để code được bước 2, ta sẽ thử nghiệm với 1 cột `Wines` trước để biết được output có hình dáng ra sao. Sau đó mới tính toán và áp dụng cho 6 cột products"
   ]
  },
  {
   "cell_type": "markdown",
   "id": "e24d51d9",
   "metadata": {},
   "source": [
    "a) Thử nghiệm với cột `Wines`\n",
    "\n",
    "Đầu tiên, định nghĩa hàm hợp `most_freq_val(s)` có chức năng tìm thông tin chung lớn nhất của cột s. Hàm này dùng để áp lên các cột ngoại trừ 6 cột sản phẩm. \n",
    "\n",
    "**Cách hoạt động**: Hàm nhận vào 1 Series `s`, tính tần số xuất hiện của từng <font color=green>**unique value của `s`**</font> (sử dụng value_counts()) và tìm ra những <font color=green>**value**</font> có tần số xuất hiện thuộc phân vị 51%.\\\n",
    "&nbsp;&nbsp;&nbsp;&nbsp;&nbsp;<u>VD</u>: Xét thuộc tính `Relationship` có <font color=green>**unique value**</font> = ['Married', 'Single'] với tần số xuất hiện lần lượt là [400, 100], thấy rằng trong khoảng phân vị 51% chỉ có <font color=green>**value**</font> = 'Married' thỏa nên hàm sẽ trả về ['Married']"
   ]
  },
  {
   "cell_type": "code",
   "execution_count": 829,
   "id": "bf5de082",
   "metadata": {},
   "outputs": [],
   "source": [
    "def most_freq_val(s):\n",
    "    # lọc ra unique value của cột s có tần số xuất hiện nhiều trong khoảng phân vị [0.51, 1].\n",
    "    # Kết quả: Series có Series.index là unique value của cột s và \n",
    "    ## Series.value là NaN (nếu tần số không thuộc [0.51, 1]) hoặc khác NaN\n",
    "    top_vals = pd.qcut(s.value_counts(), [0.51, 1]) \n",
    "    \n",
    "    # lọc ra index của value xuất hiện nhiều (tức khác NaN)\n",
    "    # Kết quả: là 1 mảng bool\n",
    "    top_vals_ix = ~top_vals.isna()\n",
    "    \n",
    "    # tìm ra được điểm chung lớn nhất\n",
    "    top_vals = top_vals[top_vals_ix].index.to_list()\n",
    "    return top_vals"
   ]
  },
  {
   "cell_type": "markdown",
   "id": "13b161f4",
   "metadata": {},
   "source": [
    "Tiếp theo:\n",
    "- Lọc ra index nhóm khách hàng của sản phẩm `Wines` từ dataframe `top_customers` và lưu những index này vào biến `cust_ix`\n",
    "- Từ index, lấy được cột thông tin cá nhân + thông tin hành vi của nhóm khách hàng này và lưu vào biến `cust`\n",
    "- Áp dụng hàm hợp lên từng cột thông tin khách hàng của `cust` để biết phần lớn nhóm khách chi nhiều tiền cho `Wines` sẽ có đặc điểm là gì"
   ]
  },
  {
   "cell_type": "code",
   "execution_count": 830,
   "id": "db490f3c",
   "metadata": {
    "scrolled": true
   },
   "outputs": [
    {
     "data": {
      "text/plain": [
       "Education          [Graduation, PhD]\n",
       "Web                  [5, 4, 6, 7, 3]\n",
       "Catalog              [4, 6, 3, 5, 2]\n",
       "Store              [10, 5, 8, 9, 12]\n",
       "Relationship               [Married]\n",
       "Camp1                            [0]\n",
       "Camp2                            [0]\n",
       "Camp3                            [0]\n",
       "Camp4                            [0]\n",
       "Camp5                            [0]\n",
       "Camp6                            [0]\n",
       "Age             [Middle-age, Mature]\n",
       "Income                [High, Medium]\n",
       "NumChild                      [0, 1]\n",
       "Name: most_freq_val, dtype: object"
      ]
     },
     "execution_count": 830,
     "metadata": {},
     "output_type": "execute_result"
    }
   ],
   "source": [
    "cust_ix = top_customers.loc['top_customers_ix', 'Wines'] # lọc ra index nhóm khách hàng của Wines\n",
    "cust = customer_seg.loc[cust_ix, ~customer_seg.columns.isin(products)] # lấy thông tin cá nhân + thông tin hành vi của nhóm này\n",
    "cust_of_wines = cust.agg([most_freq_val]).iloc[0] # Kết quả là dataframe 1 dòng nên lấy dòng đầu là đủ\n",
    "cust_of_wines"
   ]
  },
  {
   "cell_type": "markdown",
   "id": "ef50e6cb",
   "metadata": {},
   "source": [
    "Như vậy, với 1 cột `Wines`, ta biết được rằng phần lớn khách hàng có các đặc điểm như: đã tốt nghiệp, độ tuổi tầm trưởng thành (Mature) hoặc trung niên (Middle-age), thu nhập khá trở lên, ....Bây giờ ta đã sẵn sàng để mở rộng làm cho cả 6 cột sản phẩm"
   ]
  },
  {
   "cell_type": "markdown",
   "id": "8317386f",
   "metadata": {},
   "source": [
    "b) Làm trực tiếp trên 6 cột products của `top_customers`\n",
    "\n",
    "- Định nghĩa hàm hợp `feature(prod)` với `prod` là cột Series sản phẩm trong `top_customers`. Công việc của hàm này giống y hệt cell code ngay phía trên, chỉ đổi tên biến và thay vì làm cho 1 cột thì sẽ làm cho cột `prod` bất kỳ"
   ]
  },
  {
   "cell_type": "code",
   "execution_count": 831,
   "id": "97496f5c",
   "metadata": {
    "scrolled": false
   },
   "outputs": [
    {
     "data": {
      "text/html": [
       "<div>\n",
       "<style scoped>\n",
       "    .dataframe tbody tr th:only-of-type {\n",
       "        vertical-align: middle;\n",
       "    }\n",
       "\n",
       "    .dataframe tbody tr th {\n",
       "        vertical-align: top;\n",
       "    }\n",
       "\n",
       "    .dataframe thead tr th {\n",
       "        text-align: left;\n",
       "    }\n",
       "</style>\n",
       "<table border=\"1\" class=\"dataframe\">\n",
       "  <thead>\n",
       "    <tr>\n",
       "      <th></th>\n",
       "      <th>Wines</th>\n",
       "      <th>Fruits</th>\n",
       "      <th>Meats</th>\n",
       "      <th>Fish</th>\n",
       "      <th>Sweets</th>\n",
       "      <th>Golds</th>\n",
       "    </tr>\n",
       "    <tr>\n",
       "      <th></th>\n",
       "      <th>feature</th>\n",
       "      <th>feature</th>\n",
       "      <th>feature</th>\n",
       "      <th>feature</th>\n",
       "      <th>feature</th>\n",
       "      <th>feature</th>\n",
       "    </tr>\n",
       "  </thead>\n",
       "  <tbody>\n",
       "    <tr>\n",
       "      <th>Education</th>\n",
       "      <td>[Graduation, PhD]</td>\n",
       "      <td>[Graduation, PhD]</td>\n",
       "      <td>[Graduation, PhD]</td>\n",
       "      <td>[Graduation, PhD]</td>\n",
       "      <td>[Graduation, PhD]</td>\n",
       "      <td>[Graduation, Master]</td>\n",
       "    </tr>\n",
       "    <tr>\n",
       "      <th>Web</th>\n",
       "      <td>[5, 4, 6, 7, 3]</td>\n",
       "      <td>[4, 5, 3, 6, 7]</td>\n",
       "      <td>[4, 5, 3, 6, 7, 8]</td>\n",
       "      <td>[4, 5, 3, 6, 7]</td>\n",
       "      <td>[4, 5, 6, 3, 7, 8]</td>\n",
       "      <td>[5, 4, 6, 7, 3, 8]</td>\n",
       "    </tr>\n",
       "    <tr>\n",
       "      <th>Catalog</th>\n",
       "      <td>[4, 6, 3, 5, 2]</td>\n",
       "      <td>[4, 2, 6, 3, 5, 7]</td>\n",
       "      <td>[6, 5, 4, 7, 3, 10]</td>\n",
       "      <td>[4, 3, 6, 5, 2, 7]</td>\n",
       "      <td>[4, 6, 5, 3, 2, 7]</td>\n",
       "      <td>[2, 3, 4, 5, 6, 1]</td>\n",
       "    </tr>\n",
       "    <tr>\n",
       "      <th>Store</th>\n",
       "      <td>[10, 5, 8, 9, 12]</td>\n",
       "      <td>[10, 8, 6, 7, 12]</td>\n",
       "      <td>[6, 10, 5, 12, 7, 8, 9]</td>\n",
       "      <td>[5, 6, 10, 8, 12]</td>\n",
       "      <td>[10, 8, 6, 5, 7, 13]</td>\n",
       "      <td>[5, 8, 6, 12, 7, 9, 10]</td>\n",
       "    </tr>\n",
       "    <tr>\n",
       "      <th>Relationship</th>\n",
       "      <td>[Married]</td>\n",
       "      <td>[Married]</td>\n",
       "      <td>[Married]</td>\n",
       "      <td>[Married]</td>\n",
       "      <td>[Married]</td>\n",
       "      <td>[Married]</td>\n",
       "    </tr>\n",
       "    <tr>\n",
       "      <th>Camp1</th>\n",
       "      <td>[0]</td>\n",
       "      <td>[0]</td>\n",
       "      <td>[0]</td>\n",
       "      <td>[0]</td>\n",
       "      <td>[0]</td>\n",
       "      <td>[0]</td>\n",
       "    </tr>\n",
       "    <tr>\n",
       "      <th>Camp2</th>\n",
       "      <td>[0]</td>\n",
       "      <td>[0]</td>\n",
       "      <td>[0]</td>\n",
       "      <td>[0]</td>\n",
       "      <td>[0]</td>\n",
       "      <td>[0]</td>\n",
       "    </tr>\n",
       "    <tr>\n",
       "      <th>Camp3</th>\n",
       "      <td>[0]</td>\n",
       "      <td>[0]</td>\n",
       "      <td>[0]</td>\n",
       "      <td>[0]</td>\n",
       "      <td>[0]</td>\n",
       "      <td>[0]</td>\n",
       "    </tr>\n",
       "    <tr>\n",
       "      <th>Camp4</th>\n",
       "      <td>[0]</td>\n",
       "      <td>[0]</td>\n",
       "      <td>[0]</td>\n",
       "      <td>[0]</td>\n",
       "      <td>[0]</td>\n",
       "      <td>[0]</td>\n",
       "    </tr>\n",
       "    <tr>\n",
       "      <th>Camp5</th>\n",
       "      <td>[0]</td>\n",
       "      <td>[0]</td>\n",
       "      <td>[0]</td>\n",
       "      <td>[0]</td>\n",
       "      <td>[0]</td>\n",
       "      <td>[0]</td>\n",
       "    </tr>\n",
       "    <tr>\n",
       "      <th>Camp6</th>\n",
       "      <td>[0]</td>\n",
       "      <td>[0]</td>\n",
       "      <td>[0]</td>\n",
       "      <td>[0]</td>\n",
       "      <td>[0]</td>\n",
       "      <td>[0]</td>\n",
       "    </tr>\n",
       "    <tr>\n",
       "      <th>Age</th>\n",
       "      <td>[Middle-age, Mature]</td>\n",
       "      <td>[Middle-age, Mature]</td>\n",
       "      <td>[Middle-age, Mature]</td>\n",
       "      <td>[Middle-age, Mature]</td>\n",
       "      <td>[Middle-age, Mature]</td>\n",
       "      <td>[Middle-age, Mature]</td>\n",
       "    </tr>\n",
       "    <tr>\n",
       "      <th>Income</th>\n",
       "      <td>[High, Medium]</td>\n",
       "      <td>[High, Medium]</td>\n",
       "      <td>[High, Medium]</td>\n",
       "      <td>[High, Medium]</td>\n",
       "      <td>[High, Medium]</td>\n",
       "      <td>[High, Medium]</td>\n",
       "    </tr>\n",
       "    <tr>\n",
       "      <th>NumChild</th>\n",
       "      <td>[0, 1]</td>\n",
       "      <td>[0, 1]</td>\n",
       "      <td>[0, 1]</td>\n",
       "      <td>[0, 1]</td>\n",
       "      <td>[0, 1]</td>\n",
       "      <td>[1, 0]</td>\n",
       "    </tr>\n",
       "  </tbody>\n",
       "</table>\n",
       "</div>"
      ],
      "text/plain": [
       "                             Wines                Fruits  \\\n",
       "                           feature               feature   \n",
       "Education        [Graduation, PhD]     [Graduation, PhD]   \n",
       "Web                [5, 4, 6, 7, 3]       [4, 5, 3, 6, 7]   \n",
       "Catalog            [4, 6, 3, 5, 2]    [4, 2, 6, 3, 5, 7]   \n",
       "Store            [10, 5, 8, 9, 12]     [10, 8, 6, 7, 12]   \n",
       "Relationship             [Married]             [Married]   \n",
       "Camp1                          [0]                   [0]   \n",
       "Camp2                          [0]                   [0]   \n",
       "Camp3                          [0]                   [0]   \n",
       "Camp4                          [0]                   [0]   \n",
       "Camp5                          [0]                   [0]   \n",
       "Camp6                          [0]                   [0]   \n",
       "Age           [Middle-age, Mature]  [Middle-age, Mature]   \n",
       "Income              [High, Medium]        [High, Medium]   \n",
       "NumChild                    [0, 1]                [0, 1]   \n",
       "\n",
       "                                Meats                  Fish  \\\n",
       "                              feature               feature   \n",
       "Education           [Graduation, PhD]     [Graduation, PhD]   \n",
       "Web                [4, 5, 3, 6, 7, 8]       [4, 5, 3, 6, 7]   \n",
       "Catalog           [6, 5, 4, 7, 3, 10]    [4, 3, 6, 5, 2, 7]   \n",
       "Store         [6, 10, 5, 12, 7, 8, 9]     [5, 6, 10, 8, 12]   \n",
       "Relationship                [Married]             [Married]   \n",
       "Camp1                             [0]                   [0]   \n",
       "Camp2                             [0]                   [0]   \n",
       "Camp3                             [0]                   [0]   \n",
       "Camp4                             [0]                   [0]   \n",
       "Camp5                             [0]                   [0]   \n",
       "Camp6                             [0]                   [0]   \n",
       "Age              [Middle-age, Mature]  [Middle-age, Mature]   \n",
       "Income                 [High, Medium]        [High, Medium]   \n",
       "NumChild                       [0, 1]                [0, 1]   \n",
       "\n",
       "                            Sweets                    Golds  \n",
       "                           feature                  feature  \n",
       "Education        [Graduation, PhD]     [Graduation, Master]  \n",
       "Web             [4, 5, 6, 3, 7, 8]       [5, 4, 6, 7, 3, 8]  \n",
       "Catalog         [4, 6, 5, 3, 2, 7]       [2, 3, 4, 5, 6, 1]  \n",
       "Store         [10, 8, 6, 5, 7, 13]  [5, 8, 6, 12, 7, 9, 10]  \n",
       "Relationship             [Married]                [Married]  \n",
       "Camp1                          [0]                      [0]  \n",
       "Camp2                          [0]                      [0]  \n",
       "Camp3                          [0]                      [0]  \n",
       "Camp4                          [0]                      [0]  \n",
       "Camp5                          [0]                      [0]  \n",
       "Camp6                          [0]                      [0]  \n",
       "Age           [Middle-age, Mature]     [Middle-age, Mature]  \n",
       "Income              [High, Medium]           [High, Medium]  \n",
       "NumChild                    [0, 1]                   [1, 0]  "
      ]
     },
     "execution_count": 831,
     "metadata": {},
     "output_type": "execute_result"
    }
   ],
   "source": [
    "def feature(prod):\n",
    "    cust_ix = top_customers.loc['top_customers_ix', prod.name] # lọc ra index nhóm khách hàng của prod\n",
    "    cust = customer_seg.loc[cust_ix, ~customer_seg.columns.isin(products)] # lấy thông tin cá nhân + thông tin hành vi của nhóm này\n",
    "    cust_of_prod = cust.agg([most_freq_val]).iloc[0] # Kết quả là dataframe 1 dòng nên lấy dòng đầu là đủ\n",
    "    return cust_of_prod # kết quả là Series như cell code ngay trên\n",
    "\n",
    "final_cust_segmentation = top_customers.agg([feature])\n",
    "final_cust_segmentation"
   ]
  },
  {
   "cell_type": "markdown",
   "id": "9f86bc80",
   "metadata": {},
   "source": [
    "Vì output còn \"hơi xấu\" do:\n",
    "\n",
    "- `final_cust_segmentation.columns` có 2 level:\n",
    "    - level=0: Wines, Fruits, Meats, Fish, Sweets, Golds\n",
    "    - level=1: feature, feature, feature, feature, feature, feature \n",
    "\n",
    "$\\to$ Bỏ đi level=1 để nhìn đẹp và gọn hơn (sử dụng `DataFrame.droplevel`) \n",
    "  \n",
    "- 3 cột `Web`, `Catalog`, `Store` có thể hiện dạng list khó nhìn và khó thống kê  \n",
    "\n",
    "$\\to$ Lấy mean mỗi cột "
   ]
  },
  {
   "cell_type": "code",
   "execution_count": 832,
   "id": "05ca1b78",
   "metadata": {
    "scrolled": false
   },
   "outputs": [
    {
     "data": {
      "text/html": [
       "<div>\n",
       "<style scoped>\n",
       "    .dataframe tbody tr th:only-of-type {\n",
       "        vertical-align: middle;\n",
       "    }\n",
       "\n",
       "    .dataframe tbody tr th {\n",
       "        vertical-align: top;\n",
       "    }\n",
       "\n",
       "    .dataframe thead th {\n",
       "        text-align: right;\n",
       "    }\n",
       "</style>\n",
       "<table border=\"1\" class=\"dataframe\">\n",
       "  <thead>\n",
       "    <tr style=\"text-align: right;\">\n",
       "      <th></th>\n",
       "      <th>Wines</th>\n",
       "      <th>Fruits</th>\n",
       "      <th>Meats</th>\n",
       "      <th>Fish</th>\n",
       "      <th>Sweets</th>\n",
       "      <th>Golds</th>\n",
       "    </tr>\n",
       "  </thead>\n",
       "  <tbody>\n",
       "    <tr>\n",
       "      <th>Education</th>\n",
       "      <td>[Graduation, PhD]</td>\n",
       "      <td>[Graduation, PhD]</td>\n",
       "      <td>[Graduation, PhD]</td>\n",
       "      <td>[Graduation, PhD]</td>\n",
       "      <td>[Graduation, PhD]</td>\n",
       "      <td>[Graduation, Master]</td>\n",
       "    </tr>\n",
       "    <tr>\n",
       "      <th>Web</th>\n",
       "      <td>5.0</td>\n",
       "      <td>5.0</td>\n",
       "      <td>6.0</td>\n",
       "      <td>5.0</td>\n",
       "      <td>6.0</td>\n",
       "      <td>6.0</td>\n",
       "    </tr>\n",
       "    <tr>\n",
       "      <th>Catalog</th>\n",
       "      <td>4.0</td>\n",
       "      <td>4.0</td>\n",
       "      <td>6.0</td>\n",
       "      <td>4.0</td>\n",
       "      <td>4.0</td>\n",
       "      <td>4.0</td>\n",
       "    </tr>\n",
       "    <tr>\n",
       "      <th>Store</th>\n",
       "      <td>9.0</td>\n",
       "      <td>9.0</td>\n",
       "      <td>8.0</td>\n",
       "      <td>8.0</td>\n",
       "      <td>8.0</td>\n",
       "      <td>8.0</td>\n",
       "    </tr>\n",
       "    <tr>\n",
       "      <th>Relationship</th>\n",
       "      <td>[Married]</td>\n",
       "      <td>[Married]</td>\n",
       "      <td>[Married]</td>\n",
       "      <td>[Married]</td>\n",
       "      <td>[Married]</td>\n",
       "      <td>[Married]</td>\n",
       "    </tr>\n",
       "    <tr>\n",
       "      <th>Camp1</th>\n",
       "      <td>[0]</td>\n",
       "      <td>[0]</td>\n",
       "      <td>[0]</td>\n",
       "      <td>[0]</td>\n",
       "      <td>[0]</td>\n",
       "      <td>[0]</td>\n",
       "    </tr>\n",
       "    <tr>\n",
       "      <th>Camp2</th>\n",
       "      <td>[0]</td>\n",
       "      <td>[0]</td>\n",
       "      <td>[0]</td>\n",
       "      <td>[0]</td>\n",
       "      <td>[0]</td>\n",
       "      <td>[0]</td>\n",
       "    </tr>\n",
       "    <tr>\n",
       "      <th>Camp3</th>\n",
       "      <td>[0]</td>\n",
       "      <td>[0]</td>\n",
       "      <td>[0]</td>\n",
       "      <td>[0]</td>\n",
       "      <td>[0]</td>\n",
       "      <td>[0]</td>\n",
       "    </tr>\n",
       "    <tr>\n",
       "      <th>Camp4</th>\n",
       "      <td>[0]</td>\n",
       "      <td>[0]</td>\n",
       "      <td>[0]</td>\n",
       "      <td>[0]</td>\n",
       "      <td>[0]</td>\n",
       "      <td>[0]</td>\n",
       "    </tr>\n",
       "    <tr>\n",
       "      <th>Camp5</th>\n",
       "      <td>[0]</td>\n",
       "      <td>[0]</td>\n",
       "      <td>[0]</td>\n",
       "      <td>[0]</td>\n",
       "      <td>[0]</td>\n",
       "      <td>[0]</td>\n",
       "    </tr>\n",
       "    <tr>\n",
       "      <th>Camp6</th>\n",
       "      <td>[0]</td>\n",
       "      <td>[0]</td>\n",
       "      <td>[0]</td>\n",
       "      <td>[0]</td>\n",
       "      <td>[0]</td>\n",
       "      <td>[0]</td>\n",
       "    </tr>\n",
       "    <tr>\n",
       "      <th>Age</th>\n",
       "      <td>[Middle-age, Mature]</td>\n",
       "      <td>[Middle-age, Mature]</td>\n",
       "      <td>[Middle-age, Mature]</td>\n",
       "      <td>[Middle-age, Mature]</td>\n",
       "      <td>[Middle-age, Mature]</td>\n",
       "      <td>[Middle-age, Mature]</td>\n",
       "    </tr>\n",
       "    <tr>\n",
       "      <th>Income</th>\n",
       "      <td>[High, Medium]</td>\n",
       "      <td>[High, Medium]</td>\n",
       "      <td>[High, Medium]</td>\n",
       "      <td>[High, Medium]</td>\n",
       "      <td>[High, Medium]</td>\n",
       "      <td>[High, Medium]</td>\n",
       "    </tr>\n",
       "    <tr>\n",
       "      <th>NumChild</th>\n",
       "      <td>[0, 1]</td>\n",
       "      <td>[0, 1]</td>\n",
       "      <td>[0, 1]</td>\n",
       "      <td>[0, 1]</td>\n",
       "      <td>[0, 1]</td>\n",
       "      <td>[1, 0]</td>\n",
       "    </tr>\n",
       "  </tbody>\n",
       "</table>\n",
       "</div>"
      ],
      "text/plain": [
       "                             Wines                Fruits  \\\n",
       "Education        [Graduation, PhD]     [Graduation, PhD]   \n",
       "Web                            5.0                   5.0   \n",
       "Catalog                        4.0                   4.0   \n",
       "Store                          9.0                   9.0   \n",
       "Relationship             [Married]             [Married]   \n",
       "Camp1                          [0]                   [0]   \n",
       "Camp2                          [0]                   [0]   \n",
       "Camp3                          [0]                   [0]   \n",
       "Camp4                          [0]                   [0]   \n",
       "Camp5                          [0]                   [0]   \n",
       "Camp6                          [0]                   [0]   \n",
       "Age           [Middle-age, Mature]  [Middle-age, Mature]   \n",
       "Income              [High, Medium]        [High, Medium]   \n",
       "NumChild                    [0, 1]                [0, 1]   \n",
       "\n",
       "                             Meats                  Fish  \\\n",
       "Education        [Graduation, PhD]     [Graduation, PhD]   \n",
       "Web                            6.0                   5.0   \n",
       "Catalog                        6.0                   4.0   \n",
       "Store                          8.0                   8.0   \n",
       "Relationship             [Married]             [Married]   \n",
       "Camp1                          [0]                   [0]   \n",
       "Camp2                          [0]                   [0]   \n",
       "Camp3                          [0]                   [0]   \n",
       "Camp4                          [0]                   [0]   \n",
       "Camp5                          [0]                   [0]   \n",
       "Camp6                          [0]                   [0]   \n",
       "Age           [Middle-age, Mature]  [Middle-age, Mature]   \n",
       "Income              [High, Medium]        [High, Medium]   \n",
       "NumChild                    [0, 1]                [0, 1]   \n",
       "\n",
       "                            Sweets                 Golds  \n",
       "Education        [Graduation, PhD]  [Graduation, Master]  \n",
       "Web                            6.0                   6.0  \n",
       "Catalog                        4.0                   4.0  \n",
       "Store                          8.0                   8.0  \n",
       "Relationship             [Married]             [Married]  \n",
       "Camp1                          [0]                   [0]  \n",
       "Camp2                          [0]                   [0]  \n",
       "Camp3                          [0]                   [0]  \n",
       "Camp4                          [0]                   [0]  \n",
       "Camp5                          [0]                   [0]  \n",
       "Camp6                          [0]                   [0]  \n",
       "Age           [Middle-age, Mature]  [Middle-age, Mature]  \n",
       "Income              [High, Medium]        [High, Medium]  \n",
       "NumChild                    [0, 1]                [1, 0]  "
      ]
     },
     "execution_count": 832,
     "metadata": {},
     "output_type": "execute_result"
    }
   ],
   "source": [
    "final_cust_segmentation = final_cust_segmentation.droplevel(level=1, axis=1)\n",
    "final_cust_segmentation.loc[['Web', 'Catalog', 'Store']] = final_cust_segmentation.loc[['Web', 'Catalog', 'Store']].applymap(lambda lst: np.mean(lst).round())\n",
    "final_cust_segmentation"
   ]
  },
  {
   "cell_type": "markdown",
   "id": "d6b2c6e2",
   "metadata": {},
   "source": [
    "Như vậy, có thể bắt đầu rút trích insights từ đây"
   ]
  },
  {
   "cell_type": "markdown",
   "id": "abd86961",
   "metadata": {},
   "source": [
    "1. Đặc điểm chung của những người hay chi nhiều tiền cho 1 trong 6 sản phẩm này là: (**tốt nghiệp bậc đại học trở lên**), (**hay mua hàng tại cửa hàng**), (**đã cưới**), (**người trưởng thành hoặc trung niên**), (**đạt lương vừa/cao**), (**không có hoặc có 1 con**) và (**không cần thông qua các chiến dịch marketing mới mua hàng**)\n",
    "\n",
    "\n",
    "2. Các khách hàng này phần lớn vẫn ưa chuộng việc mua sắm trực tiếp tại cửa hàng $\\to$ Cần duy trì, nâng cấp các chi nhánh cửa hàng của công ty \n",
    "\n",
    "\n",
    "3. Với nền tảng Web công ty, lượng người mua nhìn chung khá tốt. Riêng với thịt (Meats), đồ ngọt (Sweets) và vàng (Golds) được khách hàng mua online nhiều hơn các món khác $\\to$ Đây có thể là 3 món hàng tiềm năng nên cần tăng số lượng 3 mặt hàng này nhưng vẫn đảm bảo chất lượng và có thể kèm theo khuyến mãi để lôi kéo nhiều khách hàng hơn. Với 3 mặt hàng còn lại, khách hàng cũng ưa chuộng không kém nên ta có thể tăng cường các hình thức khuyến mãi hoặc marketing các mặt hàng này nhiều hơn nữa\n",
    "\n",
    "\n",
    "4. Khách hàng có xu hướng mua nhiều thịt hơn các mặt hàng còn lại thông qua các ấn phẩm/danh mục quảng cáo (Catalog) "
   ]
  },
  {
   "cell_type": "markdown",
   "id": "282db323",
   "metadata": {},
   "source": [
    "## 4. Hành vi mua hàng của những khách hàng có con và không con?\n",
    "\n",
    "**Lợi ích**: nắm được việc hành vi mua hàng của mỗi khách hàng có con, ta sẽ biết những ông bố/bà mẹ hoặc khách hàng không có con ưu tiên mua gì cho gia đình hoặc cho riêng họ\n",
    "\n",
    "Lý do khảo sát nhóm khách hàng này: Như ta đã biết mục I.3, có 71.5% khách hàng có con - chiếm hơn 2/3 số lượng khách hàng. Như vậy là đủ để ta tò mò về thông tin cá nhân và hành vi mua của nhóm khách hàng này. Và không chỉ quan tâm tới những khách hàng có con, công ty cũng nên quan tâm tới hành vi mua hàng ở những người không có con để đưa ra 1 số chiến lược phù hợp cho cả 2 đối tượng này\n",
    "\n",
    "---"
   ]
  },
  {
   "cell_type": "markdown",
   "id": "a3a626c9",
   "metadata": {},
   "source": [
    "\n",
    "Các bước phân tích:\n",
    "- Bước 1: lọc ra dataframe `customers` gồm tất cả khách hàng cùng số con của họ\n",
    "- Bước 2: vì số lượng khách hàng có con (>=1 con) và không con chệnh lệch nhau nhiều nên nếu so sánh thì sẽ bị không công bằng cho nhóm không con. Vì thế nên ta lấy mẫu random sampling ở nhóm có con\n",
    "- Bước 3: tạo thêm cột `HasChild` có giá trị nhị phân 1 - tức có con, và 0 - tức không có con\n",
    "- Bước 4: gom nhóm trên thuộc tính `HasChild` vừa tạo và lấy tổng trên mỗi cột sản phẩm cho mỗi nhóm\n",
    "- Bước 5: trực quan hóa   "
   ]
  },
  {
   "cell_type": "markdown",
   "id": "60c0e0a2",
   "metadata": {},
   "source": [
    "Code bước 1: tận dụng biến `num_child` đã có ở I.3 để có được số con của từng khách hàng"
   ]
  },
  {
   "cell_type": "code",
   "execution_count": 833,
   "id": "49ed6807",
   "metadata": {},
   "outputs": [
    {
     "data": {
      "text/html": [
       "<div>\n",
       "<style scoped>\n",
       "    .dataframe tbody tr th:only-of-type {\n",
       "        vertical-align: middle;\n",
       "    }\n",
       "\n",
       "    .dataframe tbody tr th {\n",
       "        vertical-align: top;\n",
       "    }\n",
       "\n",
       "    .dataframe thead th {\n",
       "        text-align: right;\n",
       "    }\n",
       "</style>\n",
       "<table border=\"1\" class=\"dataframe\">\n",
       "  <thead>\n",
       "    <tr style=\"text-align: right;\">\n",
       "      <th></th>\n",
       "      <th>Education</th>\n",
       "      <th>Relationship</th>\n",
       "      <th>Income</th>\n",
       "      <th>Wines</th>\n",
       "      <th>Fruits</th>\n",
       "      <th>Meats</th>\n",
       "      <th>Fish</th>\n",
       "      <th>Sweets</th>\n",
       "      <th>Golds</th>\n",
       "      <th>DiscountDeals</th>\n",
       "      <th>Web</th>\n",
       "      <th>Catalog</th>\n",
       "      <th>Store</th>\n",
       "      <th>WebVisit</th>\n",
       "      <th>Camp3</th>\n",
       "      <th>Camp4</th>\n",
       "      <th>Camp5</th>\n",
       "      <th>Camp1</th>\n",
       "      <th>Camp2</th>\n",
       "      <th>Camp6</th>\n",
       "      <th>Age</th>\n",
       "      <th>NumChild</th>\n",
       "    </tr>\n",
       "  </thead>\n",
       "  <tbody>\n",
       "    <tr>\n",
       "      <th>0</th>\n",
       "      <td>Graduation</td>\n",
       "      <td>Single</td>\n",
       "      <td>58138.0</td>\n",
       "      <td>635</td>\n",
       "      <td>88</td>\n",
       "      <td>546</td>\n",
       "      <td>172</td>\n",
       "      <td>88</td>\n",
       "      <td>88</td>\n",
       "      <td>3</td>\n",
       "      <td>8</td>\n",
       "      <td>10</td>\n",
       "      <td>4</td>\n",
       "      <td>7</td>\n",
       "      <td>0</td>\n",
       "      <td>0</td>\n",
       "      <td>0</td>\n",
       "      <td>0</td>\n",
       "      <td>0</td>\n",
       "      <td>1</td>\n",
       "      <td>57</td>\n",
       "      <td>0</td>\n",
       "    </tr>\n",
       "    <tr>\n",
       "      <th>1</th>\n",
       "      <td>Graduation</td>\n",
       "      <td>Single</td>\n",
       "      <td>46344.0</td>\n",
       "      <td>11</td>\n",
       "      <td>1</td>\n",
       "      <td>6</td>\n",
       "      <td>2</td>\n",
       "      <td>1</td>\n",
       "      <td>6</td>\n",
       "      <td>2</td>\n",
       "      <td>1</td>\n",
       "      <td>1</td>\n",
       "      <td>2</td>\n",
       "      <td>5</td>\n",
       "      <td>0</td>\n",
       "      <td>0</td>\n",
       "      <td>0</td>\n",
       "      <td>0</td>\n",
       "      <td>0</td>\n",
       "      <td>0</td>\n",
       "      <td>60</td>\n",
       "      <td>2</td>\n",
       "    </tr>\n",
       "    <tr>\n",
       "      <th>2</th>\n",
       "      <td>Graduation</td>\n",
       "      <td>Married</td>\n",
       "      <td>71613.0</td>\n",
       "      <td>426</td>\n",
       "      <td>49</td>\n",
       "      <td>127</td>\n",
       "      <td>111</td>\n",
       "      <td>21</td>\n",
       "      <td>42</td>\n",
       "      <td>1</td>\n",
       "      <td>8</td>\n",
       "      <td>2</td>\n",
       "      <td>10</td>\n",
       "      <td>4</td>\n",
       "      <td>0</td>\n",
       "      <td>0</td>\n",
       "      <td>0</td>\n",
       "      <td>0</td>\n",
       "      <td>0</td>\n",
       "      <td>0</td>\n",
       "      <td>49</td>\n",
       "      <td>0</td>\n",
       "    </tr>\n",
       "    <tr>\n",
       "      <th>3</th>\n",
       "      <td>Graduation</td>\n",
       "      <td>Married</td>\n",
       "      <td>26646.0</td>\n",
       "      <td>11</td>\n",
       "      <td>4</td>\n",
       "      <td>20</td>\n",
       "      <td>10</td>\n",
       "      <td>3</td>\n",
       "      <td>5</td>\n",
       "      <td>2</td>\n",
       "      <td>2</td>\n",
       "      <td>0</td>\n",
       "      <td>4</td>\n",
       "      <td>6</td>\n",
       "      <td>0</td>\n",
       "      <td>0</td>\n",
       "      <td>0</td>\n",
       "      <td>0</td>\n",
       "      <td>0</td>\n",
       "      <td>0</td>\n",
       "      <td>30</td>\n",
       "      <td>1</td>\n",
       "    </tr>\n",
       "    <tr>\n",
       "      <th>4</th>\n",
       "      <td>PhD</td>\n",
       "      <td>Married</td>\n",
       "      <td>58293.0</td>\n",
       "      <td>173</td>\n",
       "      <td>43</td>\n",
       "      <td>118</td>\n",
       "      <td>46</td>\n",
       "      <td>27</td>\n",
       "      <td>15</td>\n",
       "      <td>5</td>\n",
       "      <td>5</td>\n",
       "      <td>3</td>\n",
       "      <td>6</td>\n",
       "      <td>5</td>\n",
       "      <td>0</td>\n",
       "      <td>0</td>\n",
       "      <td>0</td>\n",
       "      <td>0</td>\n",
       "      <td>0</td>\n",
       "      <td>0</td>\n",
       "      <td>33</td>\n",
       "      <td>1</td>\n",
       "    </tr>\n",
       "  </tbody>\n",
       "</table>\n",
       "</div>"
      ],
      "text/plain": [
       "    Education Relationship   Income  Wines  Fruits  Meats  Fish  Sweets  \\\n",
       "0  Graduation       Single  58138.0    635      88    546   172      88   \n",
       "1  Graduation       Single  46344.0     11       1      6     2       1   \n",
       "2  Graduation      Married  71613.0    426      49    127   111      21   \n",
       "3  Graduation      Married  26646.0     11       4     20    10       3   \n",
       "4         PhD      Married  58293.0    173      43    118    46      27   \n",
       "\n",
       "   Golds  DiscountDeals  Web  Catalog  Store  WebVisit  Camp3  Camp4  Camp5  \\\n",
       "0     88              3    8       10      4         7      0      0      0   \n",
       "1      6              2    1        1      2         5      0      0      0   \n",
       "2     42              1    8        2     10         4      0      0      0   \n",
       "3      5              2    2        0      4         6      0      0      0   \n",
       "4     15              5    5        3      6         5      0      0      0   \n",
       "\n",
       "   Camp1  Camp2  Camp6  Age  NumChild  \n",
       "0      0      0      1   57         0  \n",
       "1      0      0      0   60         2  \n",
       "2      0      0      0   49         0  \n",
       "3      0      0      0   30         1  \n",
       "4      0      0      0   33         1  "
      ]
     },
     "execution_count": 833,
     "metadata": {},
     "output_type": "execute_result"
    }
   ],
   "source": [
    "customers = mkt_df.drop(columns=['Kidhome', 'Teenhome', 'Dt_Customer', 'Recency', 'Complain', 'ID'])\n",
    "customers['NumChild'] = num_child # thêm cột num_child ở mục I.3\n",
    "customers.head()"
   ]
  },
  {
   "cell_type": "markdown",
   "id": "66ef5036",
   "metadata": {},
   "source": [
    "Code bước 2: \n",
    "- Đầu tiên, coi tần số xuất hiện của từng nhóm con cái trong dataframe `customers`"
   ]
  },
  {
   "cell_type": "code",
   "execution_count": 834,
   "id": "5563785a",
   "metadata": {},
   "outputs": [
    {
     "data": {
      "text/plain": [
       "1    1115\n",
       "0     632\n",
       "2     416\n",
       "3      50\n",
       "Name: NumChild, dtype: int64"
      ]
     },
     "execution_count": 834,
     "metadata": {},
     "output_type": "execute_result"
    }
   ],
   "source": [
    "child_counts = customers['NumChild'].value_counts()\n",
    "child_counts"
   ]
  },
  {
   "cell_type": "markdown",
   "id": "fcfaa13b",
   "metadata": {},
   "source": [
    "- Thấy rằng số nhóm 0-con là 632 lần xuất hiện. Như vậy để tránh lệch trong so sánh, cần lấy 632 khách hàng có con (632 khách hàng bao gồm 1/2/3 con)\n",
    "- Mà số khách hàng 3 con chỉ có 50 người; vì khá ít nên lấy hết. Như vậy cần sample 632 - 50 = 582 khách hàng có 1 hoặc 2 con. Giả sử ta lấy số lượng mẫu như nhau ở 2 nhóm này, như vậy mỗi nhóm lấy mẫu ngẫu nhiên khoảng 582/2 = 291 người\n",
    "- Tóm lại ta chỉ cần lấy mẫu ngẫu nhiên 291 người cho lần lượt nhóm 1-con và 2-con (lưu vào dataframe `one_child` & `two_child`), sau đó kết hợp với nhóm 3-con và 0-con thành 1 dataframe cuối cùng là `has_child_df`"
   ]
  },
  {
   "cell_type": "code",
   "execution_count": 835,
   "id": "66f265e0",
   "metadata": {},
   "outputs": [],
   "source": [
    "n_sample = int((child_counts[0] - child_counts[3])/2) # result: 291 người\n",
    "one_child = customers.loc[customers['NumChild'] == 1].sample(n=n_sample)\n",
    "two_child = customers.loc[customers['NumChild'] == 2].sample(n=n_sample)\n",
    "has_child_df = pd.concat([one_child, \n",
    "                          two_child, \n",
    "                          customers.loc[(customers['NumChild'] == 3) | (customers['NumChild'] == 0)]])"
   ]
  },
  {
   "cell_type": "markdown",
   "id": "5cb350c0",
   "metadata": {},
   "source": [
    "Code bước 3: tạo cột `HasChild` có giá trị nhị phân để phân loại khách hàng vào nhóm có con (1) hay không có con (0)"
   ]
  },
  {
   "cell_type": "code",
   "execution_count": 836,
   "id": "a8946eba",
   "metadata": {},
   "outputs": [
    {
     "data": {
      "text/plain": [
       "True     632\n",
       "False    632\n",
       "Name: HasChild, dtype: int64"
      ]
     },
     "execution_count": 836,
     "metadata": {},
     "output_type": "execute_result"
    }
   ],
   "source": [
    "has_child_df['HasChild'] = has_child_df['NumChild'] > 0\n",
    "has_child_df['HasChild'].value_counts() # test phân lớp có đồng đều chưa"
   ]
  },
  {
   "cell_type": "markdown",
   "id": "13640600",
   "metadata": {},
   "source": [
    "Code bước 4 & 5: Ta gom nhóm trên cột `HasChild` và lấy tổng tiêu thụ trên mỗi cột sản phẩm và lưu vào dataframe `df`. Sau đó sẽ trực quan hóa kết quả df này bằng bar chart"
   ]
  },
  {
   "cell_type": "code",
   "execution_count": 837,
   "id": "f51ea7d2",
   "metadata": {},
   "outputs": [
    {
     "data": {
      "image/png": "[encoded data removed]",
      "text/plain": [
       "<Figure size 432x288 with 1 Axes>"
      ]
     },
     "metadata": {},
     "output_type": "display_data"
    }
   ],
   "source": [
    "df = has_child_df.groupby('HasChild')[['Wines', 'Fruits', 'Meats', 'Fish', 'Sweets', 'Golds']].sum()\n",
    "df.T.plot.bar(rot=0, ylabel= 'Money spent');"
   ]
  },
  {
   "cell_type": "markdown",
   "id": "a9e9ff84",
   "metadata": {},
   "source": [
    "Nhận xét: \n",
    "- Nhìn chung rượu và thịt vẫn là 2 sản phẩm được chi tiêu nhiều ở 2 nhóm khách hàng\n",
    "- 1 điểm bất ngờ là nhóm khách có con tuy chiếm phần lớn tập khách hàng nhưng lượng tiêu thụ lại ít hơn nhóm khách hàng không có con ở cả 6 sản phẩm. Lý do có thể do các ông bố/bà mẹ phải giành thời gian cho con cái nhiều hơn những người chưa có con nên họ ít đi mua sắm hơn, hoặc có thể họ muốn chi tiêu tiết kiệm cho gia đình nên mua ít hơn"
   ]
  },
  {
   "cell_type": "markdown",
   "id": "60916e4f",
   "metadata": {},
   "source": [
    "### Câu hỏi kéo theo: Khách hàng có con thường chấp nhận offer vào lần marketing thứ mấy (So sánh với nhóm không có con xem thế nào)\n",
    "\n",
    "**Lợi ích**: Khi biết được kích thước gia đình của từng khách hàng và cách họ mua hàng thông qua các chiến dịch marketing, công ty sẽ biết lần marketing nào thì nên đầu tư nhân lực về marketing và trưng bày nhiều sản phẩm như Wines và Meats chiến dịch đó"
   ]
  },
  {
   "cell_type": "markdown",
   "id": "bff34c3a",
   "metadata": {},
   "source": [
    "- Bước 1: gom nhóm trên thuộc tính `HasChild` và tính tổng số lần khách hàng tham gia chiến dịch Camp**i** (1 <= i <= 6)\n",
    "- Bước 2: trực quan hóa"
   ]
  },
  {
   "cell_type": "code",
   "execution_count": 839,
   "id": "1ee48df9",
   "metadata": {
    "scrolled": false
   },
   "outputs": [
    {
     "data": {
      "image/png": "[encoded data removed]",
      "text/plain": [
       "<Figure size 432x288 with 1 Axes>"
      ]
     },
     "metadata": {},
     "output_type": "display_data"
    }
   ],
   "source": [
    "df = has_child_df.groupby('HasChild')[camp].sum() # Bước 1\n",
    "df.T.plot.bar(rot=0, grid=True, ylabel= '#customers'); # bước 2"
   ]
  },
  {
   "cell_type": "markdown",
   "id": "bb38422e",
   "metadata": {},
   "source": [
    "Nhận xét:\n",
    "1. Ở các khách hàng có con, có vẻ họ dễ bị thuyết phục bởi các chiến dịch marketing lần 3,4,6\n",
    "2. Ở các khách hàng không có con, có vẻ họ dễ bị thuyết phục hơn nhóm khách hàng có con và thường tham gia chiến dịch marketing thứ 1,5,6 \n",
    "3. Cần thúc đẩy marketing mạnh nhất ở chiến dịch thứ 6 vì đây là chiến dịch thu hút 2 nhóm khách hàng này nhiều nhất "
   ]
  },
  {
   "cell_type": "markdown",
   "id": "8f4a5577",
   "metadata": {},
   "source": [
    "## 5. Thống kê số lượng duyệt web của khách hàng theo từng độ tuổi?\n",
    "**Lợi ích:** sau khi biết được thì ta có thể dễ dàng xây dựng được nội dung marketing trên trang web để phù hợp với độ tuổi của các khách hàng duyệt web.\n",
    "\n",
    "---"
   ]
  },
  {
   "cell_type": "markdown",
   "id": "cfe8ee06",
   "metadata": {},
   "source": [
    "### Tiền xử lý\n",
    "- Bước 1: tạo dataframe mới `df` gồm cột `WebVisit` và cột `Age`\n",
    "- Bước 2: rời rạc hóa cột `Age` thành các nhóm: `['Young', 'Mature', 'Midlle-age', 'Old']` $\\to$ Đã làm và lưu vào biến `age` ở I.6"
   ]
  },
  {
   "cell_type": "code",
   "execution_count": null,
   "id": "a3f1b78c",
   "metadata": {},
   "outputs": [],
   "source": [
    "df = mkt_df[[\"WebVisit\", \"Age\"]].copy()\n",
    "df[\"Age\"] = age_transformed"
   ]
  },
  {
   "cell_type": "markdown",
   "id": "e301c405",
   "metadata": {},
   "source": [
    "### Phân tích\n",
    "- Bước 1: tính tổng số lần duyệt web trong tháng của các khách hàng trong từng độ tuổi.\n",
    "- Bước 2: Visualize dữ liệu vừa tính được để thấy rõ hơn về phân bố số lần duyệt web của từng độ tuổi của khách hàng."
   ]
  },
  {
   "cell_type": "markdown",
   "id": "e942fe06",
   "metadata": {},
   "source": [
    "Code bước 1:"
   ]
  },
  {
   "cell_type": "code",
   "execution_count": null,
   "id": "cf366cb2",
   "metadata": {},
   "outputs": [
    {
     "data": {
      "text/html": [
       "<div>\n",
       "<style scoped>\n",
       "    .dataframe tbody tr th:only-of-type {\n",
       "        vertical-align: middle;\n",
       "    }\n",
       "\n",
       "    .dataframe tbody tr th {\n",
       "        vertical-align: top;\n",
       "    }\n",
       "\n",
       "    .dataframe thead th {\n",
       "        text-align: right;\n",
       "    }\n",
       "</style>\n",
       "<table border=\"1\" class=\"dataframe\">\n",
       "  <thead>\n",
       "    <tr style=\"text-align: right;\">\n",
       "      <th></th>\n",
       "      <th>WebVisit</th>\n",
       "    </tr>\n",
       "    <tr>\n",
       "      <th>Age</th>\n",
       "      <th></th>\n",
       "    </tr>\n",
       "  </thead>\n",
       "  <tbody>\n",
       "    <tr>\n",
       "      <th>Young</th>\n",
       "      <td>1400</td>\n",
       "    </tr>\n",
       "    <tr>\n",
       "      <th>Mature</th>\n",
       "      <td>5417</td>\n",
       "    </tr>\n",
       "    <tr>\n",
       "      <th>Middle-age</th>\n",
       "      <td>4668</td>\n",
       "    </tr>\n",
       "    <tr>\n",
       "      <th>Old</th>\n",
       "      <td>292</td>\n",
       "    </tr>\n",
       "  </tbody>\n",
       "</table>\n",
       "</div>"
      ],
      "text/plain": [
       "            WebVisit\n",
       "Age                 \n",
       "Young           1400\n",
       "Mature          5417\n",
       "Middle-age      4668\n",
       "Old              292"
      ]
     },
     "execution_count": 781,
     "metadata": {},
     "output_type": "execute_result"
    }
   ],
   "source": [
    "visitweb_per_age = df.groupby(\"Age\").sum()\n",
    "visitweb_per_age"
   ]
  },
  {
   "cell_type": "markdown",
   "id": "adcd517d",
   "metadata": {},
   "source": [
    "Code bước 2:"
   ]
  },
  {
   "cell_type": "code",
   "execution_count": null,
   "id": "145d961b",
   "metadata": {},
   "outputs": [
    {
     "data": {
      "image/png": "[encoded data removed]",
      "text/plain": [
       "<Figure size 504x360 with 1 Axes>"
      ]
     },
     "metadata": {},
     "output_type": "display_data"
    }
   ],
   "source": [
    "visitweb_per_age.sort_values(by='WebVisit').plot.barh(figsize=(7,5));\n",
    "plt.xlabel(\"Number of web visits\");"
   ]
  },
  {
   "cell_type": "markdown",
   "id": "cf16fa6a",
   "metadata": {},
   "source": [
    "Nhận xét\n",
    "- Độ tuổi `Middle-age` (trung niên) và `Mature` (trưởng thành) khá là nhiều vì 2 độ tuổi này là thưởng đóng vai trò là người đi mua sắm chính trong gia đình.\n",
    "- Còn các khách hàng ở độ tuổi `Young` và `Old` thường ít đi mua sắm hơn.\n",
    "\n",
    "$\\to$ Tìm cách để xây dụng nội dung Marketing sao cho hợp lý với độ tuổi `Middle-age` và `Mature`, giúp cho khách hàng có thể dễ dàng tìm được món hàng mà mình yêu thích và khách hàng cũng thấy dễ chịu khi duyệt web."
   ]
  },
  {
   "cell_type": "markdown",
   "id": "c4847e9f",
   "metadata": {},
   "source": [
    "## 6. Ứng với từng chiến dịch Marketing thì những khách hàng chấp nhận ưu đãi trong chiến dịch đó có đặc điểm như thế nào?\n",
    "**Lợi ích:** chúng ta biết được khách hàng nào thường chấp nhận ưu đãi nào $\\to$ có thể xây dựng chiến dịch nào đó có thể bao quát toàn bộ các phân khúc khách hàng không? $\\to$ <font color=\"green\">**làm như vậy thì sẽ giúp giảm bớt được chi phí cho việc triển khai nhiều chiến dịch Marketing**</font><br>\n",
    "\n",
    "Sử dụng các **đặc điểm** sau của khách hàng:<br>\n",
    "- Tuổi (`Age`), thu nhập (`Income`), và học vấn (`Education`), Số lượng con cái (`NumChild`) và tình trạng hôn nhân (`Marital_Status`)\n",
    "- Hành vi mua hàng: \n",
    "    - Tính cách mua hàng - tức khách có mua hàng ở lần marketing thứ i không (`AcceptedCmp`<font color='blue'>i</font> với <font color='blue'>i</font>=1..6) \n",
    "    - Nơi thực hiện mua hàng (`NumWebPurchases`, `NumCatalogPurchases` hay `NumStorePurchases`)\n",
    "\n",
    "---"
   ]
  },
  {
   "cell_type": "markdown",
   "id": "59d5f1e8",
   "metadata": {},
   "source": [
    "### Tiền xử lý\n",
    "- Bước 1: phân cột `Age` thành các nhóm: ['Young', 'Mature', 'Midlle-age', 'Old'] $\\to$ Đã làm ở mục I.6\n",
    "- Bước 2: phân cột `Income` thành 3 nhóm category: [Low, Low to medium, Medium, High] tương ứng với tứ phân vị $\\to$ Sử dụng lại `income_transformed` ở trên thì xong bước 2\n",
    "- Bước 3: tạo dataframe chứa các đặc điểm trên `Age`, `Income`, `Education`, `NumChild`, `Marital_Status`"
   ]
  },
  {
   "cell_type": "markdown",
   "id": "892c1a51",
   "metadata": {},
   "source": [
    "Code bước 3"
   ]
  },
  {
   "cell_type": "code",
   "execution_count": null,
   "id": "9c47dcc2",
   "metadata": {
    "scrolled": true
   },
   "outputs": [
    {
     "data": {
      "text/html": [
       "<div>\n",
       "<style scoped>\n",
       "    .dataframe tbody tr th:only-of-type {\n",
       "        vertical-align: middle;\n",
       "    }\n",
       "\n",
       "    .dataframe tbody tr th {\n",
       "        vertical-align: top;\n",
       "    }\n",
       "\n",
       "    .dataframe thead th {\n",
       "        text-align: right;\n",
       "    }\n",
       "</style>\n",
       "<table border=\"1\" class=\"dataframe\">\n",
       "  <thead>\n",
       "    <tr style=\"text-align: right;\">\n",
       "      <th></th>\n",
       "      <th>Education</th>\n",
       "      <th>Web</th>\n",
       "      <th>Catalog</th>\n",
       "      <th>Store</th>\n",
       "      <th>Wines</th>\n",
       "      <th>Fruits</th>\n",
       "      <th>Meats</th>\n",
       "      <th>Fish</th>\n",
       "      <th>Sweets</th>\n",
       "      <th>Golds</th>\n",
       "      <th>Relationship</th>\n",
       "      <th>Camp1</th>\n",
       "      <th>Camp2</th>\n",
       "      <th>Camp3</th>\n",
       "      <th>Camp4</th>\n",
       "      <th>Camp5</th>\n",
       "      <th>Camp6</th>\n",
       "      <th>Age</th>\n",
       "      <th>Income</th>\n",
       "    </tr>\n",
       "  </thead>\n",
       "  <tbody>\n",
       "    <tr>\n",
       "      <th>0</th>\n",
       "      <td>Graduation</td>\n",
       "      <td>8</td>\n",
       "      <td>10</td>\n",
       "      <td>4</td>\n",
       "      <td>635</td>\n",
       "      <td>88</td>\n",
       "      <td>546</td>\n",
       "      <td>172</td>\n",
       "      <td>88</td>\n",
       "      <td>88</td>\n",
       "      <td>Single</td>\n",
       "      <td>0</td>\n",
       "      <td>0</td>\n",
       "      <td>0</td>\n",
       "      <td>0</td>\n",
       "      <td>0</td>\n",
       "      <td>1</td>\n",
       "      <td>Middle-age</td>\n",
       "      <td>Medium</td>\n",
       "    </tr>\n",
       "    <tr>\n",
       "      <th>1</th>\n",
       "      <td>Graduation</td>\n",
       "      <td>1</td>\n",
       "      <td>1</td>\n",
       "      <td>2</td>\n",
       "      <td>11</td>\n",
       "      <td>1</td>\n",
       "      <td>6</td>\n",
       "      <td>2</td>\n",
       "      <td>1</td>\n",
       "      <td>6</td>\n",
       "      <td>Single</td>\n",
       "      <td>0</td>\n",
       "      <td>0</td>\n",
       "      <td>0</td>\n",
       "      <td>0</td>\n",
       "      <td>0</td>\n",
       "      <td>0</td>\n",
       "      <td>Middle-age</td>\n",
       "      <td>Low to medium</td>\n",
       "    </tr>\n",
       "    <tr>\n",
       "      <th>2</th>\n",
       "      <td>Graduation</td>\n",
       "      <td>8</td>\n",
       "      <td>2</td>\n",
       "      <td>10</td>\n",
       "      <td>426</td>\n",
       "      <td>49</td>\n",
       "      <td>127</td>\n",
       "      <td>111</td>\n",
       "      <td>21</td>\n",
       "      <td>42</td>\n",
       "      <td>Married</td>\n",
       "      <td>0</td>\n",
       "      <td>0</td>\n",
       "      <td>0</td>\n",
       "      <td>0</td>\n",
       "      <td>0</td>\n",
       "      <td>0</td>\n",
       "      <td>Middle-age</td>\n",
       "      <td>High</td>\n",
       "    </tr>\n",
       "    <tr>\n",
       "      <th>3</th>\n",
       "      <td>Graduation</td>\n",
       "      <td>2</td>\n",
       "      <td>0</td>\n",
       "      <td>4</td>\n",
       "      <td>11</td>\n",
       "      <td>4</td>\n",
       "      <td>20</td>\n",
       "      <td>10</td>\n",
       "      <td>3</td>\n",
       "      <td>5</td>\n",
       "      <td>Married</td>\n",
       "      <td>0</td>\n",
       "      <td>0</td>\n",
       "      <td>0</td>\n",
       "      <td>0</td>\n",
       "      <td>0</td>\n",
       "      <td>0</td>\n",
       "      <td>Young</td>\n",
       "      <td>Low</td>\n",
       "    </tr>\n",
       "    <tr>\n",
       "      <th>4</th>\n",
       "      <td>PhD</td>\n",
       "      <td>5</td>\n",
       "      <td>3</td>\n",
       "      <td>6</td>\n",
       "      <td>173</td>\n",
       "      <td>43</td>\n",
       "      <td>118</td>\n",
       "      <td>46</td>\n",
       "      <td>27</td>\n",
       "      <td>15</td>\n",
       "      <td>Married</td>\n",
       "      <td>0</td>\n",
       "      <td>0</td>\n",
       "      <td>0</td>\n",
       "      <td>0</td>\n",
       "      <td>0</td>\n",
       "      <td>0</td>\n",
       "      <td>Mature</td>\n",
       "      <td>Medium</td>\n",
       "    </tr>\n",
       "  </tbody>\n",
       "</table>\n",
       "</div>"
      ],
      "text/plain": [
       "    Education  Web  Catalog  Store  Wines  Fruits  Meats  Fish  Sweets  Golds  \\\n",
       "0  Graduation    8       10      4    635      88    546   172      88     88   \n",
       "1  Graduation    1        1      2     11       1      6     2       1      6   \n",
       "2  Graduation    8        2     10    426      49    127   111      21     42   \n",
       "3  Graduation    2        0      4     11       4     20    10       3      5   \n",
       "4         PhD    5        3      6    173      43    118    46      27     15   \n",
       "\n",
       "  Relationship  Camp1  Camp2  Camp3  Camp4  Camp5  Camp6         Age  \\\n",
       "0       Single      0      0      0      0      0      1  Middle-age   \n",
       "1       Single      0      0      0      0      0      0  Middle-age   \n",
       "2      Married      0      0      0      0      0      0  Middle-age   \n",
       "3      Married      0      0      0      0      0      0       Young   \n",
       "4      Married      0      0      0      0      0      0      Mature   \n",
       "\n",
       "          Income  \n",
       "0         Medium  \n",
       "1  Low to medium  \n",
       "2           High  \n",
       "3            Low  \n",
       "4         Medium  "
      ]
     },
     "execution_count": 783,
     "metadata": {},
     "output_type": "execute_result"
    }
   ],
   "source": [
    "accepted_cmp = [f'Camp{i}' for i in range(1,7)]\n",
    "cols = ['Education', 'Web', 'Catalog', 'Store', 'Wines', 'Fruits', 'Meats',\\\n",
    "        'Fish', 'Sweets', 'Golds', 'Relationship'] + accepted_cmp\n",
    "df = mkt_df[cols].copy()\n",
    "\n",
    "# add columns\n",
    "df['Age'] = age_transformed\n",
    "df['Income'] = income_transformed\n",
    "\n",
    "df.head()"
   ]
  },
  {
   "cell_type": "markdown",
   "id": "d8f133a8",
   "metadata": {},
   "source": [
    "### Phân tích: \n",
    "Dataframe `df` hiện đang lưu thông tin về 6 cột Products + 5 cột thông tin cá nhân + 9 cột hành vi mua hàng\n",
    "- 6 cột Products: [`Wines`, `Fruits`, `Meats`, `Fish`, `Sweets`, `Golds`]\n",
    "- 5 cột thông tin cá nhân: [`Age`, `Income`, `Edu`, `NumChild`, `Relationship`]\n",
    "- 9 cột hành vi mua hàng: [`Web`, `Catalog`, `Store`, `Camp1`, ... `Camp6`]"
   ]
  },
  {
   "cell_type": "markdown",
   "id": "6ce8a1bd",
   "metadata": {},
   "source": [
    "- Bước 1: Đổi giá trị của các cột `Camp`<font color='green'>**i**</font>. VD: cột Camp1 có giá trị 1 thì đổi thành 1, cột Camp2 cóa giá trị 1 thì đổi thành 2,..., cột Camp<font color='green'>i</font> có giá trị 1 thì đổi thành giá trị <font color='green'>i</font>\n",
    "- Bước 2: ứng với từng nhóm khách hàng (i.e nhóm đồng ý với ưu đãi ở lần marketting thứ i) tìm ra tổng của các phần dữ liệu dạng số và tính mode cho các phần dữ liệu dạng Categorical. "
   ]
  },
  {
   "cell_type": "markdown",
   "id": "c7980f31",
   "metadata": {},
   "source": [
    "Bước 1"
   ]
  },
  {
   "cell_type": "code",
   "execution_count": null,
   "id": "af59ff86",
   "metadata": {},
   "outputs": [],
   "source": [
    "for i, col in enumerate(accepted_cmp):\n",
    "    df[col][df[col] > 0] = i + 1"
   ]
  },
  {
   "cell_type": "markdown",
   "id": "e35758b1",
   "metadata": {},
   "source": [
    "Bước 2"
   ]
  },
  {
   "cell_type": "code",
   "execution_count": null,
   "id": "4109d04b",
   "metadata": {},
   "outputs": [],
   "source": [
    "accepted_df = pd.DataFrame()\n",
    "\n",
    "for i, col in enumerate(accepted_cmp):\n",
    "    new_df = df[df[col] > 0]\n",
    "    for column in accepted_cmp:\n",
    "        if column != col:\n",
    "            new_df.drop(column, axis=1, inplace=True)\n",
    "    \n",
    "    new_df.rename(columns={col: 'AcceptedCmp'}, inplace=True)\n",
    "    numeric_df = new_df.select_dtypes(include=['int64', 'float64'])\n",
    "    category_df = new_df[new_df['AcceptedCmp'] > 0].select_dtypes(exclude=['int64', 'float64'])\n",
    "    category_df = pd.concat([category_df, new_df['AcceptedCmp'][new_df['AcceptedCmp'] > 0]], axis=1)\n",
    "    \n",
    "    new_df = pd.concat([numeric_df.groupby('AcceptedCmp').sum().reset_index().drop('AcceptedCmp', axis=1),\\\n",
    "                        category_df.groupby('AcceptedCmp').apply(pd.DataFrame.mode).droplevel(0)], axis=1)\n",
    "    accepted_df = pd.concat([accepted_df, new_df], axis=0)"
   ]
  },
  {
   "cell_type": "code",
   "execution_count": null,
   "id": "d52ea5ee",
   "metadata": {
    "scrolled": true
   },
   "outputs": [
    {
     "data": {
      "text/html": [
       "<div>\n",
       "<style scoped>\n",
       "    .dataframe tbody tr th:only-of-type {\n",
       "        vertical-align: middle;\n",
       "    }\n",
       "\n",
       "    .dataframe tbody tr th {\n",
       "        vertical-align: top;\n",
       "    }\n",
       "\n",
       "    .dataframe thead th {\n",
       "        text-align: right;\n",
       "    }\n",
       "</style>\n",
       "<table border=\"1\" class=\"dataframe\">\n",
       "  <thead>\n",
       "    <tr style=\"text-align: right;\">\n",
       "      <th></th>\n",
       "      <th>Web</th>\n",
       "      <th>Catalog</th>\n",
       "      <th>Store</th>\n",
       "      <th>Wines</th>\n",
       "      <th>Fruits</th>\n",
       "      <th>Meats</th>\n",
       "      <th>Fish</th>\n",
       "      <th>Sweets</th>\n",
       "      <th>Golds</th>\n",
       "      <th>Education</th>\n",
       "      <th>Relationship</th>\n",
       "      <th>Age</th>\n",
       "      <th>Income</th>\n",
       "      <th>AcceptedCmp</th>\n",
       "    </tr>\n",
       "  </thead>\n",
       "  <tbody>\n",
       "    <tr>\n",
       "      <th>0</th>\n",
       "      <td>817</td>\n",
       "      <td>870</td>\n",
       "      <td>1139</td>\n",
       "      <td>107640</td>\n",
       "      <td>7884</td>\n",
       "      <td>61811</td>\n",
       "      <td>13116</td>\n",
       "      <td>9300</td>\n",
       "      <td>11026</td>\n",
       "      <td>Graduation</td>\n",
       "      <td>Married</td>\n",
       "      <td>Middle-age</td>\n",
       "      <td>High</td>\n",
       "      <td>1</td>\n",
       "    </tr>\n",
       "    <tr>\n",
       "      <th>1</th>\n",
       "      <td>147</td>\n",
       "      <td>155</td>\n",
       "      <td>245</td>\n",
       "      <td>26960</td>\n",
       "      <td>689</td>\n",
       "      <td>7509</td>\n",
       "      <td>1162</td>\n",
       "      <td>918</td>\n",
       "      <td>1992</td>\n",
       "      <td>Graduation</td>\n",
       "      <td>Married</td>\n",
       "      <td>Middle-age</td>\n",
       "      <td>High</td>\n",
       "      <td>2</td>\n",
       "    </tr>\n",
       "    <tr>\n",
       "      <th>2</th>\n",
       "      <td>734</td>\n",
       "      <td>612</td>\n",
       "      <td>816</td>\n",
       "      <td>61721</td>\n",
       "      <td>4628</td>\n",
       "      <td>29612</td>\n",
       "      <td>6128</td>\n",
       "      <td>4448</td>\n",
       "      <td>10911</td>\n",
       "      <td>Graduation</td>\n",
       "      <td>Married</td>\n",
       "      <td>Mature</td>\n",
       "      <td>Low to medium</td>\n",
       "      <td>3</td>\n",
       "    </tr>\n",
       "    <tr>\n",
       "      <th>3</th>\n",
       "      <td>929</td>\n",
       "      <td>676</td>\n",
       "      <td>1287</td>\n",
       "      <td>123038</td>\n",
       "      <td>4470</td>\n",
       "      <td>39305</td>\n",
       "      <td>6684</td>\n",
       "      <td>5131</td>\n",
       "      <td>7932</td>\n",
       "      <td>Graduation</td>\n",
       "      <td>Married</td>\n",
       "      <td>Middle-age</td>\n",
       "      <td>High</td>\n",
       "      <td>4</td>\n",
       "    </tr>\n",
       "    <tr>\n",
       "      <th>4</th>\n",
       "      <td>881</td>\n",
       "      <td>971</td>\n",
       "      <td>1335</td>\n",
       "      <td>140795</td>\n",
       "      <td>9011</td>\n",
       "      <td>75238</td>\n",
       "      <td>12191</td>\n",
       "      <td>10455</td>\n",
       "      <td>12319</td>\n",
       "      <td>Graduation</td>\n",
       "      <td>Married</td>\n",
       "      <td>Mature</td>\n",
       "      <td>High</td>\n",
       "      <td>5</td>\n",
       "    </tr>\n",
       "    <tr>\n",
       "      <th>5</th>\n",
       "      <td>1689</td>\n",
       "      <td>1399</td>\n",
       "      <td>2025</td>\n",
       "      <td>167371</td>\n",
       "      <td>12634</td>\n",
       "      <td>97824</td>\n",
       "      <td>17221</td>\n",
       "      <td>12778</td>\n",
       "      <td>20397</td>\n",
       "      <td>Graduation</td>\n",
       "      <td>Single</td>\n",
       "      <td>Mature</td>\n",
       "      <td>High</td>\n",
       "      <td>6</td>\n",
       "    </tr>\n",
       "  </tbody>\n",
       "</table>\n",
       "</div>"
      ],
      "text/plain": [
       "    Web  Catalog  Store   Wines  Fruits  Meats   Fish  Sweets  Golds  \\\n",
       "0   817      870   1139  107640    7884  61811  13116    9300  11026   \n",
       "1   147      155    245   26960     689   7509   1162     918   1992   \n",
       "2   734      612    816   61721    4628  29612   6128    4448  10911   \n",
       "3   929      676   1287  123038    4470  39305   6684    5131   7932   \n",
       "4   881      971   1335  140795    9011  75238  12191   10455  12319   \n",
       "5  1689     1399   2025  167371   12634  97824  17221   12778  20397   \n",
       "\n",
       "    Education Relationship         Age         Income  AcceptedCmp  \n",
       "0  Graduation      Married  Middle-age           High            1  \n",
       "1  Graduation      Married  Middle-age           High            2  \n",
       "2  Graduation      Married      Mature  Low to medium            3  \n",
       "3  Graduation      Married  Middle-age           High            4  \n",
       "4  Graduation      Married      Mature           High            5  \n",
       "5  Graduation       Single      Mature           High            6  "
      ]
     },
     "execution_count": 786,
     "metadata": {},
     "output_type": "execute_result"
    }
   ],
   "source": [
    "accepted_df.reset_index(drop=True, inplace=True)\n",
    "accepted_df"
   ]
  },
  {
   "cell_type": "markdown",
   "id": "62f31ddc",
   "metadata": {},
   "source": [
    "Bước 3: Visualize số lượng các mặt hàng trong `accepted_df` theo từng chiến dịch"
   ]
  },
  {
   "cell_type": "code",
   "execution_count": null,
   "id": "5727a97a",
   "metadata": {
    "scrolled": false
   },
   "outputs": [
    {
     "data": {
      "image/png": "[encoded data removed]",
      "text/plain": [
       "<Figure size 1080x720 with 6 Axes>"
      ]
     },
     "metadata": {},
     "output_type": "display_data"
    }
   ],
   "source": [
    "final_df = pd.melt(accepted_df[['Wines', 'Fruits', 'Meats', 'Fish', 'Sweets', 'Golds', 'AcceptedCmp']], \n",
    "                   id_vars='AcceptedCmp', var_name='products', value_name='amount')\n",
    "sns.catplot(x=\"products\", y=\"amount\", col=\"AcceptedCmp\", data=final_df, kind=\"bar\", col_wrap=3);\n",
    "sns.set_theme(style=\"darkgrid\")"
   ]
  },
  {
   "cell_type": "markdown",
   "id": "84e1bd1c",
   "metadata": {},
   "source": [
    "Nhận xét:\n",
    "- Các khách hàng chấp nhận qua từng chiến dịch Marketing có đặc điểm chung là mua các sản phẩm làm từ thịt và rượu nhiều hơn các loại sản phẩm khác\n",
    "- Vàng (Golds) được mua nhiều ở lần marketing thứ 1,3,5,6\n",
    "- Cá (Fish), đồ ngọt (Sweets) và trái cây (Fruits) được mua nhiều ở lần marketing thứ 1,5,6"
   ]
  },
  {
   "cell_type": "markdown",
   "id": "f8c92f11",
   "metadata": {},
   "source": [
    "Bước 4: Visualize số lượng khách hàng trong `accepted_df` mua hàng ở từng nền tảng"
   ]
  },
  {
   "cell_type": "code",
   "execution_count": null,
   "id": "8d7ac9ce",
   "metadata": {},
   "outputs": [
    {
     "data": {
      "image/png": "[encoded data removed]",
      "text/plain": [
       "<Figure size 1080x720 with 6 Axes>"
      ]
     },
     "metadata": {},
     "output_type": "display_data"
    }
   ],
   "source": [
    "final_df = pd.melt(accepted_df[['Web', 'Catalog', 'Store', 'AcceptedCmp']], \n",
    "                   id_vars='AcceptedCmp', var_name='Platform', value_name='amount')\n",
    "sns.catplot(x=\"Platform\", y=\"amount\", col=\"AcceptedCmp\", data=final_df, kind=\"bar\", col_wrap=3);\n",
    "sns.set_theme(style=\"darkgrid\")"
   ]
  },
  {
   "cell_type": "markdown",
   "id": "aaafadaa",
   "metadata": {},
   "source": [
    "Nhận xét:\n",
    "- Chiến dịch marketing thứ 2 thu hút ít khách hàng nhất so với các chiến dịch còn lại\n",
    "- Chiến dịch marketing thứ 3 thu hút gần như là đều các khách hàng ở cả 3 nền tảng\n",
    "- Nhìn chung xu hướng mọi người ưa chuộng đi ra cửa hàng (Store) nhiều hơn"
   ]
  },
  {
   "cell_type": "markdown",
   "id": "e03edb94",
   "metadata": {},
   "source": [
    "$\\to$ Sau quá trình phân tích ta rút ra được là các khách hàng chấp nhận qua từng chiến dịch Marketing có các đặc điểm chung như là mua các sản phẩm làm từ thịt và rượu nhiều hơn các loại sản phẩm khác và có xu hướng mua hàng qua các nền tảng Web hoặc mua trực tiếp tại cửa hàng. Vậy có thể giảm bớt việc triển khai nhiều chiến dịch Marketing bằng cách đưa ra 1 chiến dịch Marketing phù hợp cho mọi khách hàng."
   ]
  },
  {
   "cell_type": "markdown",
   "id": "d73aad1e",
   "metadata": {},
   "source": [
    "# C. Tham khảo"
   ]
  },
  {
   "cell_type": "markdown",
   "id": "575facd6",
   "metadata": {},
   "source": [
    "1. https://thecleverprogrammer.com/2021/02/08/customer-personality-analysis-with-python/\n",
    "2. https://www.kaggle.com/imakash3011/customer-analysis-eda-report-clustering\n",
    "3. https://www.kaggle.com/dmitryuarov/customers-clustering-eda"
   ]
  },
  {
   "cell_type": "markdown",
   "id": "33c5acbb",
   "metadata": {},
   "source": [
    "# D. Nhìn lại quá trình làm đồ án"
   ]
  },
  {
   "cell_type": "markdown",
   "id": "1f88ae63",
   "metadata": {},
   "source": [
    "## 1. Khó khăn\n",
    "- Nhìn chung, còn vụng về trong việc kết hợp github. Cụ thể là merge và giải quyết conflict notebook; nhánh branch còn lộn xộn\n",
    "- Không thống nhất 1 số bước nhỏ (VD: đổi tên cột cho ngắn) + quy tắc code (VD: cách viết markdown chỗ nào cần bôi đậm, chỗ nào cần gạch đầu dòng để thống nhất) ngay từ đầu nên quay lại bước tiền xử lý + chỉnh sửa lặt vặt xuyên suốt khá nhiều\n",
    "- Khó khăn trong việc đặt câu hỏi ý nghĩa\n",
    "- Khó khăn trong việc kiếm dataset phù hợp"
   ]
  },
  {
   "cell_type": "markdown",
   "id": "d82812c3",
   "metadata": {},
   "source": [
    "## 2. Bài học\n",
    "- Nguyễn Minh Lương (19120571):\n",
    "    - Học được cách sử dụng Git Bash, quản lý các phiên bản Notebook.\n",
    "    - Vận dụng các hàm đã học để áp dụng vào việc phân tích dữ liệu.\n",
    "    - Vận dựng các biểu đồ được học để visualize dữ liệu để đưa ra insight về dữ liệu.\n",
    "\n",
    "- Lê Kiệt (19120554): \n",
    "    - Học được về cách quản lý github và tạo pull request trên github\n",
    "    - Vận dụng loại biểu đồ vào từng loại câu hỏi để nâng cấp đồ thị từ việc chỉ 'show data' cho đến 'tell stories with data'\n",
    "    - Cách biểu đồ trong matplotlib hoạt động chung với dataframe trong pandas ra sao (thông qua df.plot)"
   ]
  },
  {
   "cell_type": "markdown",
   "id": "3f992142",
   "metadata": {},
   "source": [
    "## 3. Cơ hội\n",
    "- Nếu có thêm thời gian thì tụi em cũng không rõ làm gì được thêm :D. Có thể áp dụng thuật toán clustering nào đó cho bài toán phân khúc khách hàng chằng hạn để cho kết quả phân cụm tốt hơn và dễ hiểu hơn"
   ]
  }
 ],
 "metadata": {
  "kernelspec": {
   "display_name": "Python 3 (ipykernel)",
   "language": "python",
   "name": "python3"
  },
  "language_info": {
   "codemirror_mode": {
    "name": "ipython",
    "version": 3
   },
   "file_extension": ".py",
   "mimetype": "text/x-python",
   "name": "python",
   "nbconvert_exporter": "python",
   "pygments_lexer": "ipython3",
   "version": "3.8.8"
  }
 },
 "nbformat": 4,
 "nbformat_minor": 5
}
