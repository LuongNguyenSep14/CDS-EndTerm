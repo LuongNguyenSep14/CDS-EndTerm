{
 "cells": [
  {
   "cell_type": "markdown",
   "id": "a34efdcf",
   "metadata": {},
   "source": [
    "# Import Library"
   ]
  },
  {
   "cell_type": "code",
   "execution_count": 1,
   "id": "b2b0ba94",
   "metadata": {},
   "outputs": [],
   "source": [
    "import pandas as pd\n",
    "import numpy as np\n",
    "import seaborn as sns\n",
    "from matplotlib import pyplot as plt\n",
    "pd.set_option(\"display.max_columns\", None)"
   ]
  },
  {
   "cell_type": "markdown",
   "id": "780e616e",
   "metadata": {},
   "source": [
    "---"
   ]
  },
  {
   "cell_type": "markdown",
   "id": "ab9e4b88",
   "metadata": {},
   "source": [
    "# Thu thập dữ liệu"
   ]
  },
  {
   "cell_type": "markdown",
   "id": "59191777",
   "metadata": {},
   "source": [
    "**Dữ liệu được sử dụng trong NoteBook này là thông tin về các khách hàng tham gia cuộc khảo sát để tìm ra khách hàng lý tưởng. Để giúp cho doanh nghiệp hiểu tốt hơn về khách hàng**\n",
    "> **Context**\\\n",
    "**Problem Statement**\\\n",
    "Customer Personality Analysis is a detailed analysis of a company’s ideal customers. It helps a business to better understand its customers and makes it easier for them to modify products according to the specific needs, behaviors and concerns of different types of customers.\n",
    ">\n",
    ">Customer personality analysis helps a business to modify its product based on its target customers from different types of customer segments. For example, instead of spending money to market a new product to every customer in the company’s database, a company can analyze which customer segment is most likely to buy the product and then market the product only on that particular segment.\n",
    "\n",
    "**Phần mô tả của dữ liệu:**\n",
    ">**Attributes**\\\n",
    "**People**\n",
    ">\n",
    ">- ID: Customer's unique identifier\n",
    ">- Year_Birth: Customer's birth year\n",
    ">- Education: Customer's education level\n",
    ">- Marital_Status: Customer's marital status\n",
    ">- Income: Customer's yearly household income\n",
    ">- Kidhome: Number of children in customer's household\n",
    ">- Teenhome: Number of teenagers in customer's household\n",
    ">- Dt_Customer: Date of customer's enrollment with the company\n",
    ">- Recency: Number of days since customer's last purchase\n",
    ">- Complain: 1 if the customer complained in the last 2 years, 0 otherwise\n",
    ">\n",
    ">**Products**\n",
    ">\n",
    ">- MntWines: Amount spent on wine in last 2 years\n",
    ">- MntFruits: Amount spent on fruits in last 2 years\n",
    ">- MntMeatProducts: Amount spent on meat in last 2 years\n",
    ">- MntFishProducts: Amount spent on fish in last 2 years\n",
    ">- MntSweetProducts: Amount spent on sweets in last 2 years\n",
    ">- MntGoldProds: Amount spent on gold in last 2 years\n",
    ">\n",
    ">**Promotion**\n",
    ">\n",
    ">- NumDealsPurchases: Number of purchases made with a discount\n",
    ">- AcceptedCmp1: 1 if customer accepted the offer in the 1st campaign, 0 otherwise\n",
    ">- AcceptedCmp2: 1 if customer accepted the offer in the 2nd campaign, 0 otherwise\n",
    ">- AcceptedCmp3: 1 if customer accepted the offer in the 3rd campaign, 0 otherwise\n",
    ">- AcceptedCmp4: 1 if customer accepted the offer in the 4th campaign, 0 otherwise\n",
    ">- AcceptedCmp5: 1 if customer accepted the offer in the 5th campaign, 0 otherwise\n",
    ">- Response: 1 if customer accepted the offer in the last campaign, 0 otherwise\n",
    ">\n",
    ">**Place**\n",
    ">\n",
    ">- NumWebPurchases: Number of purchases made through the company’s website\n",
    ">- NumCatalogPurchases: Number of purchases made using a catalogue\n",
    ">- NumStorePurchases: Number of purchases made directly in stores\n",
    ">- NumWebVisitsMonth: Number of visits to company’s website in the last month\n",
    "\n",
    "**Dữ liệu này được Public trên trang Kaggle nhằm mục đích học tập với license như sau:**\n",
    "> License CC0: Public Domain\n",
    "\n",
    "\n",
    "**Cám ơn [LavanyaAkash Patel](https://www.kaggle.com/imakash3011) đã cung cấp tập dữ liệu này**\n",
    "\n",
    "\n",
    "**Mình download dữ liệu tại đây [kaggle](https://www.kaggle.com/imakash3011/customer-personality-analysis)**"
   ]
  },
  {
   "cell_type": "markdown",
   "id": "b7f353f0",
   "metadata": {},
   "source": [
    "---"
   ]
  },
  {
   "cell_type": "markdown",
   "id": "41d34111",
   "metadata": {},
   "source": [
    "# Khám phá dữ liệu"
   ]
  },
  {
   "cell_type": "markdown",
   "id": "29a2da60",
   "metadata": {},
   "source": [
    "## Đọc dữ liệu từ file .csv"
   ]
  },
  {
   "cell_type": "code",
   "execution_count": 2,
   "id": "3fbdf3b1",
   "metadata": {},
   "outputs": [],
   "source": [
    "mkt_df = pd.read_csv(\"../Data/marketing_campaign.csv\", sep='\\t')"
   ]
  },
  {
   "cell_type": "code",
   "execution_count": 3,
   "id": "701a8235",
   "metadata": {},
   "outputs": [
    {
     "data": {
      "text/html": [
       "<div>\n",
       "<style scoped>\n",
       "    .dataframe tbody tr th:only-of-type {\n",
       "        vertical-align: middle;\n",
       "    }\n",
       "\n",
       "    .dataframe tbody tr th {\n",
       "        vertical-align: top;\n",
       "    }\n",
       "\n",
       "    .dataframe thead th {\n",
       "        text-align: right;\n",
       "    }\n",
       "</style>\n",
       "<table border=\"1\" class=\"dataframe\">\n",
       "  <thead>\n",
       "    <tr style=\"text-align: right;\">\n",
       "      <th></th>\n",
       "      <th>ID</th>\n",
       "      <th>Year_Birth</th>\n",
       "      <th>Education</th>\n",
       "      <th>Marital_Status</th>\n",
       "      <th>Income</th>\n",
       "      <th>Kidhome</th>\n",
       "      <th>Teenhome</th>\n",
       "      <th>Dt_Customer</th>\n",
       "      <th>Recency</th>\n",
       "      <th>MntWines</th>\n",
       "      <th>MntFruits</th>\n",
       "      <th>MntMeatProducts</th>\n",
       "      <th>MntFishProducts</th>\n",
       "      <th>MntSweetProducts</th>\n",
       "      <th>MntGoldProds</th>\n",
       "      <th>NumDealsPurchases</th>\n",
       "      <th>NumWebPurchases</th>\n",
       "      <th>NumCatalogPurchases</th>\n",
       "      <th>NumStorePurchases</th>\n",
       "      <th>NumWebVisitsMonth</th>\n",
       "      <th>AcceptedCmp3</th>\n",
       "      <th>AcceptedCmp4</th>\n",
       "      <th>AcceptedCmp5</th>\n",
       "      <th>AcceptedCmp1</th>\n",
       "      <th>AcceptedCmp2</th>\n",
       "      <th>Complain</th>\n",
       "      <th>Z_CostContact</th>\n",
       "      <th>Z_Revenue</th>\n",
       "      <th>Response</th>\n",
       "    </tr>\n",
       "  </thead>\n",
       "  <tbody>\n",
       "    <tr>\n",
       "      <th>0</th>\n",
       "      <td>5524</td>\n",
       "      <td>1957</td>\n",
       "      <td>Graduation</td>\n",
       "      <td>Single</td>\n",
       "      <td>58138.0</td>\n",
       "      <td>0</td>\n",
       "      <td>0</td>\n",
       "      <td>04-09-2012</td>\n",
       "      <td>58</td>\n",
       "      <td>635</td>\n",
       "      <td>88</td>\n",
       "      <td>546</td>\n",
       "      <td>172</td>\n",
       "      <td>88</td>\n",
       "      <td>88</td>\n",
       "      <td>3</td>\n",
       "      <td>8</td>\n",
       "      <td>10</td>\n",
       "      <td>4</td>\n",
       "      <td>7</td>\n",
       "      <td>0</td>\n",
       "      <td>0</td>\n",
       "      <td>0</td>\n",
       "      <td>0</td>\n",
       "      <td>0</td>\n",
       "      <td>0</td>\n",
       "      <td>3</td>\n",
       "      <td>11</td>\n",
       "      <td>1</td>\n",
       "    </tr>\n",
       "    <tr>\n",
       "      <th>1</th>\n",
       "      <td>2174</td>\n",
       "      <td>1954</td>\n",
       "      <td>Graduation</td>\n",
       "      <td>Single</td>\n",
       "      <td>46344.0</td>\n",
       "      <td>1</td>\n",
       "      <td>1</td>\n",
       "      <td>08-03-2014</td>\n",
       "      <td>38</td>\n",
       "      <td>11</td>\n",
       "      <td>1</td>\n",
       "      <td>6</td>\n",
       "      <td>2</td>\n",
       "      <td>1</td>\n",
       "      <td>6</td>\n",
       "      <td>2</td>\n",
       "      <td>1</td>\n",
       "      <td>1</td>\n",
       "      <td>2</td>\n",
       "      <td>5</td>\n",
       "      <td>0</td>\n",
       "      <td>0</td>\n",
       "      <td>0</td>\n",
       "      <td>0</td>\n",
       "      <td>0</td>\n",
       "      <td>0</td>\n",
       "      <td>3</td>\n",
       "      <td>11</td>\n",
       "      <td>0</td>\n",
       "    </tr>\n",
       "    <tr>\n",
       "      <th>2</th>\n",
       "      <td>4141</td>\n",
       "      <td>1965</td>\n",
       "      <td>Graduation</td>\n",
       "      <td>Together</td>\n",
       "      <td>71613.0</td>\n",
       "      <td>0</td>\n",
       "      <td>0</td>\n",
       "      <td>21-08-2013</td>\n",
       "      <td>26</td>\n",
       "      <td>426</td>\n",
       "      <td>49</td>\n",
       "      <td>127</td>\n",
       "      <td>111</td>\n",
       "      <td>21</td>\n",
       "      <td>42</td>\n",
       "      <td>1</td>\n",
       "      <td>8</td>\n",
       "      <td>2</td>\n",
       "      <td>10</td>\n",
       "      <td>4</td>\n",
       "      <td>0</td>\n",
       "      <td>0</td>\n",
       "      <td>0</td>\n",
       "      <td>0</td>\n",
       "      <td>0</td>\n",
       "      <td>0</td>\n",
       "      <td>3</td>\n",
       "      <td>11</td>\n",
       "      <td>0</td>\n",
       "    </tr>\n",
       "    <tr>\n",
       "      <th>3</th>\n",
       "      <td>6182</td>\n",
       "      <td>1984</td>\n",
       "      <td>Graduation</td>\n",
       "      <td>Together</td>\n",
       "      <td>26646.0</td>\n",
       "      <td>1</td>\n",
       "      <td>0</td>\n",
       "      <td>10-02-2014</td>\n",
       "      <td>26</td>\n",
       "      <td>11</td>\n",
       "      <td>4</td>\n",
       "      <td>20</td>\n",
       "      <td>10</td>\n",
       "      <td>3</td>\n",
       "      <td>5</td>\n",
       "      <td>2</td>\n",
       "      <td>2</td>\n",
       "      <td>0</td>\n",
       "      <td>4</td>\n",
       "      <td>6</td>\n",
       "      <td>0</td>\n",
       "      <td>0</td>\n",
       "      <td>0</td>\n",
       "      <td>0</td>\n",
       "      <td>0</td>\n",
       "      <td>0</td>\n",
       "      <td>3</td>\n",
       "      <td>11</td>\n",
       "      <td>0</td>\n",
       "    </tr>\n",
       "    <tr>\n",
       "      <th>4</th>\n",
       "      <td>5324</td>\n",
       "      <td>1981</td>\n",
       "      <td>PhD</td>\n",
       "      <td>Married</td>\n",
       "      <td>58293.0</td>\n",
       "      <td>1</td>\n",
       "      <td>0</td>\n",
       "      <td>19-01-2014</td>\n",
       "      <td>94</td>\n",
       "      <td>173</td>\n",
       "      <td>43</td>\n",
       "      <td>118</td>\n",
       "      <td>46</td>\n",
       "      <td>27</td>\n",
       "      <td>15</td>\n",
       "      <td>5</td>\n",
       "      <td>5</td>\n",
       "      <td>3</td>\n",
       "      <td>6</td>\n",
       "      <td>5</td>\n",
       "      <td>0</td>\n",
       "      <td>0</td>\n",
       "      <td>0</td>\n",
       "      <td>0</td>\n",
       "      <td>0</td>\n",
       "      <td>0</td>\n",
       "      <td>3</td>\n",
       "      <td>11</td>\n",
       "      <td>0</td>\n",
       "    </tr>\n",
       "  </tbody>\n",
       "</table>\n",
       "</div>"
      ],
      "text/plain": [
       "     ID  Year_Birth   Education Marital_Status   Income  Kidhome  Teenhome  \\\n",
       "0  5524        1957  Graduation         Single  58138.0        0         0   \n",
       "1  2174        1954  Graduation         Single  46344.0        1         1   \n",
       "2  4141        1965  Graduation       Together  71613.0        0         0   \n",
       "3  6182        1984  Graduation       Together  26646.0        1         0   \n",
       "4  5324        1981         PhD        Married  58293.0        1         0   \n",
       "\n",
       "  Dt_Customer  Recency  MntWines  MntFruits  MntMeatProducts  MntFishProducts  \\\n",
       "0  04-09-2012       58       635         88              546              172   \n",
       "1  08-03-2014       38        11          1                6                2   \n",
       "2  21-08-2013       26       426         49              127              111   \n",
       "3  10-02-2014       26        11          4               20               10   \n",
       "4  19-01-2014       94       173         43              118               46   \n",
       "\n",
       "   MntSweetProducts  MntGoldProds  NumDealsPurchases  NumWebPurchases  \\\n",
       "0                88            88                  3                8   \n",
       "1                 1             6                  2                1   \n",
       "2                21            42                  1                8   \n",
       "3                 3             5                  2                2   \n",
       "4                27            15                  5                5   \n",
       "\n",
       "   NumCatalogPurchases  NumStorePurchases  NumWebVisitsMonth  AcceptedCmp3  \\\n",
       "0                   10                  4                  7             0   \n",
       "1                    1                  2                  5             0   \n",
       "2                    2                 10                  4             0   \n",
       "3                    0                  4                  6             0   \n",
       "4                    3                  6                  5             0   \n",
       "\n",
       "   AcceptedCmp4  AcceptedCmp5  AcceptedCmp1  AcceptedCmp2  Complain  \\\n",
       "0             0             0             0             0         0   \n",
       "1             0             0             0             0         0   \n",
       "2             0             0             0             0         0   \n",
       "3             0             0             0             0         0   \n",
       "4             0             0             0             0         0   \n",
       "\n",
       "   Z_CostContact  Z_Revenue  Response  \n",
       "0              3         11         1  \n",
       "1              3         11         0  \n",
       "2              3         11         0  \n",
       "3              3         11         0  \n",
       "4              3         11         0  "
      ]
     },
     "execution_count": 3,
     "metadata": {},
     "output_type": "execute_result"
    }
   ],
   "source": [
    "mkt_df = pd.read_csv(\"../Data/marketing_campaign.csv\", sep='\\t') # mkt = marketing\n",
    "mkt_df.head()"
   ]
  },
  {
   "cell_type": "markdown",
   "id": "4d6497da",
   "metadata": {},
   "source": [
    "## Dữ liệu có bao nhiêu dòng và bao nhiêu cột?"
   ]
  },
  {
   "cell_type": "code",
   "execution_count": 4,
   "id": "af83800e",
   "metadata": {},
   "outputs": [
    {
     "name": "stdout",
     "output_type": "stream",
     "text": [
      "Marketing dataset have 2240 rows and 29 columns\n"
     ]
    }
   ],
   "source": [
    "mkt_df_nrows, mkt_df_ncols = mkt_df.shape\n",
    "print(f\"Marketing dataset have {mkt_df_nrows} rows and {mkt_df_ncols} columns\")"
   ]
  },
  {
   "cell_type": "markdown",
   "id": "5c01c0ad",
   "metadata": {},
   "source": [
    "## Mỗi dòng có ý nghĩa gì? Có vấn đề các dòng có ý nghĩa khác nhau không?"
   ]
  },
  {
   "cell_type": "markdown",
   "id": "4eecf70b",
   "metadata": {},
   "source": [
    "- Theo Kaggle, mỗi dòng là thông tin cá nhân + thông tin mua hàng của 1 khách hàng. Nhìn chung các dòng có cùng ý nghĩa với nhau"
   ]
  },
  {
   "cell_type": "markdown",
   "id": "16f81730",
   "metadata": {},
   "source": [
    "## Dữ liệu có các dòng bị lặp không?"
   ]
  },
  {
   "cell_type": "code",
   "execution_count": 5,
   "id": "a4fcbc9f",
   "metadata": {},
   "outputs": [
    {
     "name": "stdout",
     "output_type": "stream",
     "text": [
      "Number of duplicated rows in Marketing dataset: 0\n",
      "Number of duplicated ids in Marketing dataset: 0\n"
     ]
    }
   ],
   "source": [
    "num_duplicated_apps = mkt_df.duplicated().sum()\n",
    "num_duplicated_ids = mkt_df['ID'].duplicated().sum()\n",
    "\n",
    "print(f\"Number of duplicated rows in Marketing dataset: {num_duplicated_apps}\")\n",
    "print(f\"Number of duplicated ids in Marketing dataset: {num_duplicated_ids}\")"
   ]
  },
  {
   "cell_type": "markdown",
   "id": "2691f943",
   "metadata": {},
   "source": [
    "$\\to$ Các dòng không bị trùng nhau hoàn toàn hoặc trùng nhau về ID"
   ]
  },
  {
   "cell_type": "markdown",
   "id": "391e0c52",
   "metadata": {},
   "source": [
    "## Mỗi cột có ý nghĩa gì?"
   ]
  },
  {
   "cell_type": "markdown",
   "id": "a3b3494b",
   "metadata": {},
   "source": [
    "Ý nghĩa của các cột được lưu vào file `columns_explain.csv`, ta sẽ đọc file này vào 1 dataframe gồm 2 cột tên là `Attribute` và `Meaning`"
   ]
  },
  {
   "cell_type": "code",
   "execution_count": 6,
   "id": "efb020ad",
   "metadata": {},
   "outputs": [
    {
     "data": {
      "text/html": [
       "<div>\n",
       "<style scoped>\n",
       "    .dataframe tbody tr th:only-of-type {\n",
       "        vertical-align: middle;\n",
       "    }\n",
       "\n",
       "    .dataframe tbody tr th {\n",
       "        vertical-align: top;\n",
       "    }\n",
       "\n",
       "    .dataframe thead th {\n",
       "        text-align: right;\n",
       "    }\n",
       "</style>\n",
       "<table border=\"1\" class=\"dataframe\">\n",
       "  <thead>\n",
       "    <tr style=\"text-align: right;\">\n",
       "      <th></th>\n",
       "      <th>Attribute</th>\n",
       "      <th>Meaning</th>\n",
       "    </tr>\n",
       "  </thead>\n",
       "  <tbody>\n",
       "    <tr>\n",
       "      <th>0</th>\n",
       "      <td>ID</td>\n",
       "      <td>Customer's unique identifier</td>\n",
       "    </tr>\n",
       "    <tr>\n",
       "      <th>1</th>\n",
       "      <td>Year_Birth</td>\n",
       "      <td>Customer's birth year</td>\n",
       "    </tr>\n",
       "    <tr>\n",
       "      <th>2</th>\n",
       "      <td>Education</td>\n",
       "      <td>Customer's education level</td>\n",
       "    </tr>\n",
       "    <tr>\n",
       "      <th>3</th>\n",
       "      <td>Marital_Status</td>\n",
       "      <td>Customer's marital status</td>\n",
       "    </tr>\n",
       "    <tr>\n",
       "      <th>4</th>\n",
       "      <td>Income</td>\n",
       "      <td>Customer's yearly household income</td>\n",
       "    </tr>\n",
       "    <tr>\n",
       "      <th>5</th>\n",
       "      <td>Kidhome</td>\n",
       "      <td>Number of children in customer's household</td>\n",
       "    </tr>\n",
       "    <tr>\n",
       "      <th>6</th>\n",
       "      <td>Teenhome</td>\n",
       "      <td>Number of teenagers in customer's household</td>\n",
       "    </tr>\n",
       "    <tr>\n",
       "      <th>7</th>\n",
       "      <td>Dt_Customer</td>\n",
       "      <td>Date of customer's enrollment with the company</td>\n",
       "    </tr>\n",
       "    <tr>\n",
       "      <th>8</th>\n",
       "      <td>Recency</td>\n",
       "      <td>Number of days since customer's last purchase</td>\n",
       "    </tr>\n",
       "    <tr>\n",
       "      <th>9</th>\n",
       "      <td>Complain</td>\n",
       "      <td>1 if the customer complained in the last 2 years, 0 otherwise</td>\n",
       "    </tr>\n",
       "    <tr>\n",
       "      <th>10</th>\n",
       "      <td>MntWines</td>\n",
       "      <td>Amount spent on wine in last 2 years</td>\n",
       "    </tr>\n",
       "    <tr>\n",
       "      <th>11</th>\n",
       "      <td>MntFruits</td>\n",
       "      <td>Amount spent on fruits in last 2 years</td>\n",
       "    </tr>\n",
       "    <tr>\n",
       "      <th>12</th>\n",
       "      <td>MntMeatProducts</td>\n",
       "      <td>Amount spent on meat in last 2 years</td>\n",
       "    </tr>\n",
       "    <tr>\n",
       "      <th>13</th>\n",
       "      <td>MntFishProducts</td>\n",
       "      <td>Amount spent on fish in last 2 years</td>\n",
       "    </tr>\n",
       "    <tr>\n",
       "      <th>14</th>\n",
       "      <td>MntSweetProducts</td>\n",
       "      <td>Amount spent on sweets in last 2 years</td>\n",
       "    </tr>\n",
       "    <tr>\n",
       "      <th>15</th>\n",
       "      <td>MntGoldProds</td>\n",
       "      <td>Amount spent on gold in last 2 years</td>\n",
       "    </tr>\n",
       "    <tr>\n",
       "      <th>16</th>\n",
       "      <td>NumDealsPurchases</td>\n",
       "      <td>Number of purchases made with a discount</td>\n",
       "    </tr>\n",
       "    <tr>\n",
       "      <th>17</th>\n",
       "      <td>AcceptedCmp1</td>\n",
       "      <td>1 if customer accepted the offer in the 1st campaign, 0 otherwise</td>\n",
       "    </tr>\n",
       "    <tr>\n",
       "      <th>18</th>\n",
       "      <td>AcceptedCmp2</td>\n",
       "      <td>1 if customer accepted the offer in the 2nd campaign, 0 otherwise</td>\n",
       "    </tr>\n",
       "    <tr>\n",
       "      <th>19</th>\n",
       "      <td>AcceptedCmp3</td>\n",
       "      <td>1 if customer accepted the offer in the 3rd campaign, 0 otherwise</td>\n",
       "    </tr>\n",
       "    <tr>\n",
       "      <th>20</th>\n",
       "      <td>AcceptedCmp4</td>\n",
       "      <td>1 if customer accepted the offer in the 4th campaign, 0 otherwise</td>\n",
       "    </tr>\n",
       "    <tr>\n",
       "      <th>21</th>\n",
       "      <td>AcceptedCmp5</td>\n",
       "      <td>1 if customer accepted the offer in the 5th campaign, 0 otherwise</td>\n",
       "    </tr>\n",
       "    <tr>\n",
       "      <th>22</th>\n",
       "      <td>Response</td>\n",
       "      <td>1 if customer accepted the offer in the last campaign, 0 otherwise</td>\n",
       "    </tr>\n",
       "    <tr>\n",
       "      <th>23</th>\n",
       "      <td>NumWebPurchases</td>\n",
       "      <td>Number of purchases made through the company’s website</td>\n",
       "    </tr>\n",
       "    <tr>\n",
       "      <th>24</th>\n",
       "      <td>NumCatalogPurchases</td>\n",
       "      <td>Number of purchases made using a catalogue</td>\n",
       "    </tr>\n",
       "    <tr>\n",
       "      <th>25</th>\n",
       "      <td>NumStorePurchases</td>\n",
       "      <td>Number of purchases made directly in stores</td>\n",
       "    </tr>\n",
       "    <tr>\n",
       "      <th>26</th>\n",
       "      <td>NumWebVisitsMonth</td>\n",
       "      <td>Number of visits to company’s website in the last month</td>\n",
       "    </tr>\n",
       "  </tbody>\n",
       "</table>\n",
       "</div>"
      ],
      "text/plain": [
       "              Attribute  \\\n",
       "0                    ID   \n",
       "1            Year_Birth   \n",
       "2             Education   \n",
       "3        Marital_Status   \n",
       "4                Income   \n",
       "5               Kidhome   \n",
       "6              Teenhome   \n",
       "7           Dt_Customer   \n",
       "8               Recency   \n",
       "9              Complain   \n",
       "10             MntWines   \n",
       "11            MntFruits   \n",
       "12      MntMeatProducts   \n",
       "13      MntFishProducts   \n",
       "14     MntSweetProducts   \n",
       "15         MntGoldProds   \n",
       "16    NumDealsPurchases   \n",
       "17         AcceptedCmp1   \n",
       "18         AcceptedCmp2   \n",
       "19         AcceptedCmp3   \n",
       "20         AcceptedCmp4   \n",
       "21         AcceptedCmp5   \n",
       "22             Response   \n",
       "23      NumWebPurchases   \n",
       "24  NumCatalogPurchases   \n",
       "25    NumStorePurchases   \n",
       "26    NumWebVisitsMonth   \n",
       "\n",
       "                                                               Meaning  \n",
       "0                                         Customer's unique identifier  \n",
       "1                                                Customer's birth year  \n",
       "2                                           Customer's education level  \n",
       "3                                            Customer's marital status  \n",
       "4                                   Customer's yearly household income  \n",
       "5                           Number of children in customer's household  \n",
       "6                          Number of teenagers in customer's household  \n",
       "7                       Date of customer's enrollment with the company  \n",
       "8                        Number of days since customer's last purchase  \n",
       "9        1 if the customer complained in the last 2 years, 0 otherwise  \n",
       "10                                Amount spent on wine in last 2 years  \n",
       "11                              Amount spent on fruits in last 2 years  \n",
       "12                                Amount spent on meat in last 2 years  \n",
       "13                                Amount spent on fish in last 2 years  \n",
       "14                              Amount spent on sweets in last 2 years  \n",
       "15                                Amount spent on gold in last 2 years  \n",
       "16                            Number of purchases made with a discount  \n",
       "17   1 if customer accepted the offer in the 1st campaign, 0 otherwise  \n",
       "18   1 if customer accepted the offer in the 2nd campaign, 0 otherwise  \n",
       "19   1 if customer accepted the offer in the 3rd campaign, 0 otherwise  \n",
       "20   1 if customer accepted the offer in the 4th campaign, 0 otherwise  \n",
       "21   1 if customer accepted the offer in the 5th campaign, 0 otherwise  \n",
       "22  1 if customer accepted the offer in the last campaign, 0 otherwise  \n",
       "23              Number of purchases made through the company’s website  \n",
       "24                          Number of purchases made using a catalogue  \n",
       "25                         Number of purchases made directly in stores  \n",
       "26             Number of visits to company’s website in the last month  "
      ]
     },
     "execution_count": 6,
     "metadata": {},
     "output_type": "execute_result"
    }
   ],
   "source": [
    "pd.set_option('display.max_colwidth', None) # in đầy đủ thông tin, thay vì \"...\" \n",
    "pd.read_csv('../Data/columns_explain.csv', sep='\\t', names = ['Attribute', 'Meaning'])"
   ]
  },
  {
   "cell_type": "markdown",
   "id": "95baf9f4",
   "metadata": {},
   "source": [
    "Thấy rằng tổng cộng có 29 thuộc tính nhưng chỉ có 27 thuộc tính được mô tả, thiếu 2 thuộc tính `Z_CostContact` và `Z_Revenue`. Vì không rõ ý nghĩa của 2 thuộc tính này nên nhóm quyết định bỏ đi 2 cột này. Mặt khác, chính tác giả trong 1 bài discussion trên kaggle cũng nói rằng nên bỏ 2 cột này đi (Link discussion: https://www.kaggle.com/imakash3011/customer-personality-analysis/discussion/267556)\n",
    "\n",
    "Ngoài ra, theo mô tả cột `Response` thì nó chính là AcceptedCmp thứ 6, hay `AcceptedCmp6`"
   ]
  },
  {
   "cell_type": "code",
   "execution_count": 7,
   "id": "9a8c86e5",
   "metadata": {},
   "outputs": [
    {
     "data": {
      "text/plain": [
       "Index(['ID', 'Year_Birth', 'Education', 'Marital_Status', 'Income', 'Kidhome',\n",
       "       'Teenhome', 'Dt_Customer', 'Recency', 'MntWines', 'MntFruits',\n",
       "       'MntMeatProducts', 'MntFishProducts', 'MntSweetProducts',\n",
       "       'MntGoldProds', 'NumDealsPurchases', 'NumWebPurchases',\n",
       "       'NumCatalogPurchases', 'NumStorePurchases', 'NumWebVisitsMonth',\n",
       "       'AcceptedCmp3', 'AcceptedCmp4', 'AcceptedCmp5', 'AcceptedCmp1',\n",
       "       'AcceptedCmp2', 'Complain', 'AcceptedCmp6'],\n",
       "      dtype='object')"
      ]
     },
     "execution_count": 7,
     "metadata": {},
     "output_type": "execute_result"
    }
   ],
   "source": [
    "mkt_df = mkt_df.drop(columns=['Z_CostContact', 'Z_Revenue']) # bỏ đi 2 cột\n",
    "mkt_df.rename(columns={'Response': 'AcceptedCmp6'}, inplace=True) # đổi tên cột Response\n",
    "mkt_df.columns"
   ]
  },
  {
   "cell_type": "markdown",
   "id": "dc4aae6b",
   "metadata": {},
   "source": [
    "## Mỗi cột hiện đang có kiểu dữ liệu gì? Có cột nào có kiểu dữ liệu chưa phù hợp để có thể xử lý tiếp không?"
   ]
  },
  {
   "cell_type": "code",
   "execution_count": 8,
   "id": "ca32b037",
   "metadata": {},
   "outputs": [
    {
     "data": {
      "text/html": [
       "<div>\n",
       "<style scoped>\n",
       "    .dataframe tbody tr th:only-of-type {\n",
       "        vertical-align: middle;\n",
       "    }\n",
       "\n",
       "    .dataframe tbody tr th {\n",
       "        vertical-align: top;\n",
       "    }\n",
       "\n",
       "    .dataframe thead th {\n",
       "        text-align: right;\n",
       "    }\n",
       "</style>\n",
       "<table border=\"1\" class=\"dataframe\">\n",
       "  <thead>\n",
       "    <tr style=\"text-align: right;\">\n",
       "      <th></th>\n",
       "      <th>type</th>\n",
       "    </tr>\n",
       "  </thead>\n",
       "  <tbody>\n",
       "    <tr>\n",
       "      <th>ID</th>\n",
       "      <td>int64</td>\n",
       "    </tr>\n",
       "    <tr>\n",
       "      <th>Year_Birth</th>\n",
       "      <td>int64</td>\n",
       "    </tr>\n",
       "    <tr>\n",
       "      <th>Education</th>\n",
       "      <td>object</td>\n",
       "    </tr>\n",
       "    <tr>\n",
       "      <th>Marital_Status</th>\n",
       "      <td>object</td>\n",
       "    </tr>\n",
       "    <tr>\n",
       "      <th>Income</th>\n",
       "      <td>float64</td>\n",
       "    </tr>\n",
       "    <tr>\n",
       "      <th>Kidhome</th>\n",
       "      <td>int64</td>\n",
       "    </tr>\n",
       "    <tr>\n",
       "      <th>Teenhome</th>\n",
       "      <td>int64</td>\n",
       "    </tr>\n",
       "    <tr>\n",
       "      <th>Dt_Customer</th>\n",
       "      <td>object</td>\n",
       "    </tr>\n",
       "    <tr>\n",
       "      <th>Recency</th>\n",
       "      <td>int64</td>\n",
       "    </tr>\n",
       "    <tr>\n",
       "      <th>MntWines</th>\n",
       "      <td>int64</td>\n",
       "    </tr>\n",
       "    <tr>\n",
       "      <th>MntFruits</th>\n",
       "      <td>int64</td>\n",
       "    </tr>\n",
       "    <tr>\n",
       "      <th>MntMeatProducts</th>\n",
       "      <td>int64</td>\n",
       "    </tr>\n",
       "    <tr>\n",
       "      <th>MntFishProducts</th>\n",
       "      <td>int64</td>\n",
       "    </tr>\n",
       "    <tr>\n",
       "      <th>MntSweetProducts</th>\n",
       "      <td>int64</td>\n",
       "    </tr>\n",
       "    <tr>\n",
       "      <th>MntGoldProds</th>\n",
       "      <td>int64</td>\n",
       "    </tr>\n",
       "    <tr>\n",
       "      <th>NumDealsPurchases</th>\n",
       "      <td>int64</td>\n",
       "    </tr>\n",
       "    <tr>\n",
       "      <th>NumWebPurchases</th>\n",
       "      <td>int64</td>\n",
       "    </tr>\n",
       "    <tr>\n",
       "      <th>NumCatalogPurchases</th>\n",
       "      <td>int64</td>\n",
       "    </tr>\n",
       "    <tr>\n",
       "      <th>NumStorePurchases</th>\n",
       "      <td>int64</td>\n",
       "    </tr>\n",
       "    <tr>\n",
       "      <th>NumWebVisitsMonth</th>\n",
       "      <td>int64</td>\n",
       "    </tr>\n",
       "    <tr>\n",
       "      <th>AcceptedCmp3</th>\n",
       "      <td>int64</td>\n",
       "    </tr>\n",
       "    <tr>\n",
       "      <th>AcceptedCmp4</th>\n",
       "      <td>int64</td>\n",
       "    </tr>\n",
       "    <tr>\n",
       "      <th>AcceptedCmp5</th>\n",
       "      <td>int64</td>\n",
       "    </tr>\n",
       "    <tr>\n",
       "      <th>AcceptedCmp1</th>\n",
       "      <td>int64</td>\n",
       "    </tr>\n",
       "    <tr>\n",
       "      <th>AcceptedCmp2</th>\n",
       "      <td>int64</td>\n",
       "    </tr>\n",
       "    <tr>\n",
       "      <th>Complain</th>\n",
       "      <td>int64</td>\n",
       "    </tr>\n",
       "    <tr>\n",
       "      <th>AcceptedCmp6</th>\n",
       "      <td>int64</td>\n",
       "    </tr>\n",
       "  </tbody>\n",
       "</table>\n",
       "</div>"
      ],
      "text/plain": [
       "                        type\n",
       "ID                     int64\n",
       "Year_Birth             int64\n",
       "Education             object\n",
       "Marital_Status        object\n",
       "Income               float64\n",
       "Kidhome                int64\n",
       "Teenhome               int64\n",
       "Dt_Customer           object\n",
       "Recency                int64\n",
       "MntWines               int64\n",
       "MntFruits              int64\n",
       "MntMeatProducts        int64\n",
       "MntFishProducts        int64\n",
       "MntSweetProducts       int64\n",
       "MntGoldProds           int64\n",
       "NumDealsPurchases      int64\n",
       "NumWebPurchases        int64\n",
       "NumCatalogPurchases    int64\n",
       "NumStorePurchases      int64\n",
       "NumWebVisitsMonth      int64\n",
       "AcceptedCmp3           int64\n",
       "AcceptedCmp4           int64\n",
       "AcceptedCmp5           int64\n",
       "AcceptedCmp1           int64\n",
       "AcceptedCmp2           int64\n",
       "Complain               int64\n",
       "AcceptedCmp6           int64"
      ]
     },
     "execution_count": 8,
     "metadata": {},
     "output_type": "execute_result"
    }
   ],
   "source": [
    "mkt_df.dtypes.to_frame(name='type')"
   ]
  },
  {
   "cell_type": "markdown",
   "id": "8dbee9a6",
   "metadata": {},
   "source": [
    "Cột `Dt_Customer` nên có kiểu dữ liệu dạng ngày tháng, nhưng hiện giờ đang có kiểu dữ liệu `object`. Ta hãy thử tìm hiểu về các giá trị của cột này."
   ]
  },
  {
   "cell_type": "code",
   "execution_count": 9,
   "id": "2cedf4df",
   "metadata": {},
   "outputs": [
    {
     "data": {
      "text/plain": [
       "2114    24-07-2013\n",
       "1886    19-01-2014\n",
       "375     18-08-2012\n",
       "355     29-11-2013\n",
       "290     04-07-2013\n",
       "726     23-11-2013\n",
       "1742    28-05-2014\n",
       "842     12-05-2014\n",
       "1713    10-11-2012\n",
       "666     16-05-2013\n",
       "Name: Dt_Customer, dtype: object"
      ]
     },
     "execution_count": 9,
     "metadata": {},
     "output_type": "execute_result"
    }
   ],
   "source": [
    "mkt_df[\"Dt_Customer\"].sample(10)"
   ]
  },
  {
   "cell_type": "markdown",
   "id": "f141d746",
   "metadata": {},
   "source": [
    "Ta nên đưa cột này về dạng `datetime` để có thể tiếp tục khám phá (tính min, max, median,...)"
   ]
  },
  {
   "cell_type": "markdown",
   "id": "923b9966",
   "metadata": {},
   "source": [
    "---"
   ]
  },
  {
   "cell_type": "markdown",
   "id": "a305d641",
   "metadata": {},
   "source": [
    "# Tiền xử lý"
   ]
  },
  {
   "cell_type": "code",
   "execution_count": 10,
   "id": "3e84653c",
   "metadata": {},
   "outputs": [],
   "source": [
    "mkt_df['Dt_Customer'] = pd.to_datetime(mkt_df['Dt_Customer'], format='%d-%m-%Y')"
   ]
  },
  {
   "cell_type": "markdown",
   "id": "461d0686",
   "metadata": {},
   "source": [
    "Xem lại kiểu dữ liệu của cột `Dt_Customer`"
   ]
  },
  {
   "cell_type": "code",
   "execution_count": 11,
   "id": "ba3ff039",
   "metadata": {},
   "outputs": [
    {
     "data": {
      "text/plain": [
       "dtype('<M8[ns]')"
      ]
     },
     "execution_count": 11,
     "metadata": {},
     "output_type": "execute_result"
    }
   ],
   "source": [
    "mkt_df[\"Dt_Customer\"].dtype"
   ]
  },
  {
   "cell_type": "markdown",
   "id": "6e59e2c2",
   "metadata": {},
   "source": [
    "## Phân bố dữ liệu"
   ]
  },
  {
   "cell_type": "markdown",
   "id": "41b4c150",
   "metadata": {},
   "source": [
    "### Với mỗi cột có kiểu dữ liệu dạng numeric, các giá trị được phân bố như thế nào? "
   ]
  },
  {
   "cell_type": "markdown",
   "id": "2192b228",
   "metadata": {},
   "source": [
    "- Nhóm cột numeric = tất cả các cột - [`ID`, `Education`, `Marital_Status`]. Lưu ý: xếp cột `Dt_Customer` có kiểu DateTime vào nhóm các cột numeric luôn\n",
    "- Với mỗi cột numeric, tính các giá trị sau và xuất ra dưới dạng DataFrame:\n",
    "    - `missing_ratio`: Tỉ lệ % giá trị thiếu (từ 0 đến 100)\n",
    "    - `min`\n",
    "    - `max`\n",
    "    - `nunique`: số lượng các phần tử khác nhau (unique) của từng cột "
   ]
  },
  {
   "cell_type": "code",
   "execution_count": 12,
   "id": "3607e388",
   "metadata": {
    "scrolled": false
   },
   "outputs": [
    {
     "data": {
      "text/html": [
       "<div>\n",
       "<style scoped>\n",
       "    .dataframe tbody tr th:only-of-type {\n",
       "        vertical-align: middle;\n",
       "    }\n",
       "\n",
       "    .dataframe tbody tr th {\n",
       "        vertical-align: top;\n",
       "    }\n",
       "\n",
       "    .dataframe thead th {\n",
       "        text-align: right;\n",
       "    }\n",
       "</style>\n",
       "<table border=\"1\" class=\"dataframe\">\n",
       "  <thead>\n",
       "    <tr style=\"text-align: right;\">\n",
       "      <th></th>\n",
       "      <th>Year_Birth</th>\n",
       "      <th>Income</th>\n",
       "      <th>Kidhome</th>\n",
       "      <th>Teenhome</th>\n",
       "      <th>Dt_Customer</th>\n",
       "      <th>Recency</th>\n",
       "      <th>MntWines</th>\n",
       "      <th>MntFruits</th>\n",
       "      <th>MntMeatProducts</th>\n",
       "      <th>MntFishProducts</th>\n",
       "      <th>MntSweetProducts</th>\n",
       "      <th>MntGoldProds</th>\n",
       "      <th>NumDealsPurchases</th>\n",
       "      <th>NumWebPurchases</th>\n",
       "      <th>NumCatalogPurchases</th>\n",
       "      <th>NumStorePurchases</th>\n",
       "      <th>NumWebVisitsMonth</th>\n",
       "      <th>AcceptedCmp3</th>\n",
       "      <th>AcceptedCmp4</th>\n",
       "      <th>AcceptedCmp5</th>\n",
       "      <th>AcceptedCmp1</th>\n",
       "      <th>AcceptedCmp2</th>\n",
       "      <th>Complain</th>\n",
       "      <th>AcceptedCmp6</th>\n",
       "    </tr>\n",
       "  </thead>\n",
       "  <tbody>\n",
       "    <tr>\n",
       "      <th>missing_ratio</th>\n",
       "      <td>0.0</td>\n",
       "      <td>1.071429</td>\n",
       "      <td>0.0</td>\n",
       "      <td>0.0</td>\n",
       "      <td>0.0</td>\n",
       "      <td>0.0</td>\n",
       "      <td>0.0</td>\n",
       "      <td>0.0</td>\n",
       "      <td>0.0</td>\n",
       "      <td>0.0</td>\n",
       "      <td>0.0</td>\n",
       "      <td>0.0</td>\n",
       "      <td>0.0</td>\n",
       "      <td>0.0</td>\n",
       "      <td>0.0</td>\n",
       "      <td>0.0</td>\n",
       "      <td>0.0</td>\n",
       "      <td>0.0</td>\n",
       "      <td>0.0</td>\n",
       "      <td>0.0</td>\n",
       "      <td>0.0</td>\n",
       "      <td>0.0</td>\n",
       "      <td>0.0</td>\n",
       "      <td>0.0</td>\n",
       "    </tr>\n",
       "    <tr>\n",
       "      <th>min</th>\n",
       "      <td>1893.0</td>\n",
       "      <td>1730.000000</td>\n",
       "      <td>0.0</td>\n",
       "      <td>0.0</td>\n",
       "      <td>2012-07-30 00:00:00</td>\n",
       "      <td>0.0</td>\n",
       "      <td>0.0</td>\n",
       "      <td>0.0</td>\n",
       "      <td>0.0</td>\n",
       "      <td>0.0</td>\n",
       "      <td>0.0</td>\n",
       "      <td>0.0</td>\n",
       "      <td>0.0</td>\n",
       "      <td>0.0</td>\n",
       "      <td>0.0</td>\n",
       "      <td>0.0</td>\n",
       "      <td>0.0</td>\n",
       "      <td>0.0</td>\n",
       "      <td>0.0</td>\n",
       "      <td>0.0</td>\n",
       "      <td>0.0</td>\n",
       "      <td>0.0</td>\n",
       "      <td>0.0</td>\n",
       "      <td>0.0</td>\n",
       "    </tr>\n",
       "    <tr>\n",
       "      <th>max</th>\n",
       "      <td>1996.0</td>\n",
       "      <td>666666.000000</td>\n",
       "      <td>2.0</td>\n",
       "      <td>2.0</td>\n",
       "      <td>2014-06-29 00:00:00</td>\n",
       "      <td>99.0</td>\n",
       "      <td>1493.0</td>\n",
       "      <td>199.0</td>\n",
       "      <td>1725.0</td>\n",
       "      <td>259.0</td>\n",
       "      <td>263.0</td>\n",
       "      <td>362.0</td>\n",
       "      <td>15.0</td>\n",
       "      <td>27.0</td>\n",
       "      <td>28.0</td>\n",
       "      <td>13.0</td>\n",
       "      <td>20.0</td>\n",
       "      <td>1.0</td>\n",
       "      <td>1.0</td>\n",
       "      <td>1.0</td>\n",
       "      <td>1.0</td>\n",
       "      <td>1.0</td>\n",
       "      <td>1.0</td>\n",
       "      <td>1.0</td>\n",
       "    </tr>\n",
       "    <tr>\n",
       "      <th>nunique</th>\n",
       "      <td>59.0</td>\n",
       "      <td>1974.000000</td>\n",
       "      <td>3.0</td>\n",
       "      <td>3.0</td>\n",
       "      <td>663</td>\n",
       "      <td>100.0</td>\n",
       "      <td>776.0</td>\n",
       "      <td>158.0</td>\n",
       "      <td>558.0</td>\n",
       "      <td>182.0</td>\n",
       "      <td>177.0</td>\n",
       "      <td>213.0</td>\n",
       "      <td>15.0</td>\n",
       "      <td>15.0</td>\n",
       "      <td>14.0</td>\n",
       "      <td>14.0</td>\n",
       "      <td>16.0</td>\n",
       "      <td>2.0</td>\n",
       "      <td>2.0</td>\n",
       "      <td>2.0</td>\n",
       "      <td>2.0</td>\n",
       "      <td>2.0</td>\n",
       "      <td>2.0</td>\n",
       "      <td>2.0</td>\n",
       "    </tr>\n",
       "  </tbody>\n",
       "</table>\n",
       "</div>"
      ],
      "text/plain": [
       "               Year_Birth         Income  Kidhome  Teenhome  \\\n",
       "missing_ratio         0.0       1.071429      0.0       0.0   \n",
       "min                1893.0    1730.000000      0.0       0.0   \n",
       "max                1996.0  666666.000000      2.0       2.0   \n",
       "nunique              59.0    1974.000000      3.0       3.0   \n",
       "\n",
       "                       Dt_Customer  Recency  MntWines  MntFruits  \\\n",
       "missing_ratio                  0.0      0.0       0.0        0.0   \n",
       "min            2012-07-30 00:00:00      0.0       0.0        0.0   \n",
       "max            2014-06-29 00:00:00     99.0    1493.0      199.0   \n",
       "nunique                        663    100.0     776.0      158.0   \n",
       "\n",
       "               MntMeatProducts  MntFishProducts  MntSweetProducts  \\\n",
       "missing_ratio              0.0              0.0               0.0   \n",
       "min                        0.0              0.0               0.0   \n",
       "max                     1725.0            259.0             263.0   \n",
       "nunique                  558.0            182.0             177.0   \n",
       "\n",
       "               MntGoldProds  NumDealsPurchases  NumWebPurchases  \\\n",
       "missing_ratio           0.0                0.0              0.0   \n",
       "min                     0.0                0.0              0.0   \n",
       "max                   362.0               15.0             27.0   \n",
       "nunique               213.0               15.0             15.0   \n",
       "\n",
       "               NumCatalogPurchases  NumStorePurchases  NumWebVisitsMonth  \\\n",
       "missing_ratio                  0.0                0.0                0.0   \n",
       "min                            0.0                0.0                0.0   \n",
       "max                           28.0               13.0               20.0   \n",
       "nunique                       14.0               14.0               16.0   \n",
       "\n",
       "               AcceptedCmp3  AcceptedCmp4  AcceptedCmp5  AcceptedCmp1  \\\n",
       "missing_ratio           0.0           0.0           0.0           0.0   \n",
       "min                     0.0           0.0           0.0           0.0   \n",
       "max                     1.0           1.0           1.0           1.0   \n",
       "nunique                 2.0           2.0           2.0           2.0   \n",
       "\n",
       "               AcceptedCmp2  Complain  AcceptedCmp6  \n",
       "missing_ratio           0.0       0.0           0.0  \n",
       "min                     0.0       0.0           0.0  \n",
       "max                     1.0       1.0           1.0  \n",
       "nunique                 2.0       2.0           2.0  "
      ]
     },
     "execution_count": 12,
     "metadata": {},
     "output_type": "execute_result"
    }
   ],
   "source": [
    "nume_cols = mkt_df.select_dtypes([np.int64, np.float64, np.datetime64]).columns[1:] # bỏ index 0, tức cột ID\n",
    "def missing_ratio(s):\n",
    "    return s.isna().sum() * 100 / len(s)\n",
    "\n",
    "nume_describe = mkt_df[nume_cols].agg([missing_ratio, pd.Series.min, pd.Series.max, pd.Series.nunique])\n",
    "nume_describe"
   ]
  },
  {
   "cell_type": "markdown",
   "id": "14a5d7b9",
   "metadata": {},
   "source": [
    "$\\to$ Cột `Year_Birth` có min là 1893, tức nếu năm nay là năm 2021 thì người này đã được 128 tuổi! Ta tiền xử lý cột này ở cell dưới\n",
    "\n",
    "$\\to$ Cột `Income` thiếu khoảng 1% giá trị cột. Vì khá ít nên quyết định bỏ đi những mẫu thiếu `Income`"
   ]
  },
  {
   "cell_type": "markdown",
   "id": "03fa89d2",
   "metadata": {},
   "source": [
    "## Tiền xử lý"
   ]
  },
  {
   "cell_type": "markdown",
   "id": "96a3cef7",
   "metadata": {},
   "source": [
    "Cột `Year_Birth`\n",
    "- Vì ta không biết được dữ liệu được lấy vào năm bao nhiêu, nên ta sẽ lấy ngày lớn nhất trong cột `Dt_Customer` làm gốc thời gian để tính tuổi. Trong bối cảnh phân tích thì cần loại bỏ đi những khách hàng đã quá 100 tuổi\n",
    "- Như vậy, cột `Year_Birth` cũng nên được thay bằng cột `Age` để vừa thuận tiện cho khai thác dữ liệu lúc sau, vừa để dễ nhìn hơn"
   ]
  },
  {
   "cell_type": "code",
   "execution_count": 13,
   "id": "6a8f7c6a",
   "metadata": {},
   "outputs": [
    {
     "data": {
      "text/plain": [
       "(2240, 27)"
      ]
     },
     "execution_count": 13,
     "metadata": {},
     "output_type": "execute_result"
    }
   ],
   "source": [
    "max_dt = nume_describe.loc['max', 'Dt_Customer'] # tỉm ngày lớn nhất trong cột Dt_Customer\n",
    "mkt_df['Age'] = max_dt.year - mkt_df['Year_Birth'] # thêm cột Age vào mkt_df\n",
    "mkt_df = mkt_df.drop(columns='Year_Birth') # xóa cột Year_Birth vì nó không giúp ích\n",
    "mkt_df.shape"
   ]
  },
  {
   "cell_type": "markdown",
   "id": "25acbba0",
   "metadata": {},
   "source": [
    "- Loại bỏ khách hàng có tuổi >= 100"
   ]
  },
  {
   "cell_type": "code",
   "execution_count": 14,
   "id": "2031b93f",
   "metadata": {},
   "outputs": [
    {
     "data": {
      "text/plain": [
       "(2237, 27)"
      ]
     },
     "execution_count": 14,
     "metadata": {},
     "output_type": "execute_result"
    }
   ],
   "source": [
    "mkt_df.drop(mkt_df[mkt_df['Age'] >= 100].index, inplace=True)\n",
    "mkt_df.shape"
   ]
  },
  {
   "cell_type": "markdown",
   "id": "79076a87",
   "metadata": {},
   "source": [
    "Cột `Income`\n",
    "- Xóa các dòng có chứa giá trị bị thiếu ở cột `Income`"
   ]
  },
  {
   "cell_type": "code",
   "execution_count": 15,
   "id": "74f57103",
   "metadata": {},
   "outputs": [],
   "source": [
    "mask = mkt_df[\"Income\"].isna()\n",
    "mkt_df.drop(mkt_df[mask].index, inplace=True)"
   ]
  },
  {
   "cell_type": "markdown",
   "id": "4d9801fd",
   "metadata": {},
   "source": [
    "- Kiểm tra lại cột `Income`"
   ]
  },
  {
   "cell_type": "code",
   "execution_count": 16,
   "id": "b7d9fd1e",
   "metadata": {
    "scrolled": false
   },
   "outputs": [
    {
     "data": {
      "text/plain": [
       "0"
      ]
     },
     "execution_count": 16,
     "metadata": {},
     "output_type": "execute_result"
    }
   ],
   "source": [
    "mkt_df[\"Income\"].isna().sum()"
   ]
  },
  {
   "cell_type": "markdown",
   "id": "e89795b4",
   "metadata": {},
   "source": [
    "---"
   ]
  },
  {
   "cell_type": "markdown",
   "id": "7f3ca0ba",
   "metadata": {},
   "source": [
    "# Quay lại bước khám phá dữ liệu"
   ]
  },
  {
   "cell_type": "markdown",
   "id": "eb3026a1",
   "metadata": {},
   "source": [
    "### Với mỗi cột có kiểu dữ liệu không phải dạng số, các giá trị được phân bố như thế nào?"
   ]
  },
  {
   "cell_type": "markdown",
   "id": "b7ead8eb",
   "metadata": {},
   "source": [
    "Lấy ra các cột dữ liệu không phải dạng số"
   ]
  },
  {
   "cell_type": "code",
   "execution_count": 17,
   "id": "b64dc11b",
   "metadata": {},
   "outputs": [],
   "source": [
    "cat_cols = mkt_df.select_dtypes(include=[\"object\"])"
   ]
  },
  {
   "cell_type": "markdown",
   "id": "a14b79b5",
   "metadata": {},
   "source": [
    "Tên của các cột"
   ]
  },
  {
   "cell_type": "code",
   "execution_count": 18,
   "id": "b1cde638",
   "metadata": {},
   "outputs": [
    {
     "data": {
      "text/plain": [
       "Index(['Education', 'Marital_Status'], dtype='object')"
      ]
     },
     "execution_count": 18,
     "metadata": {},
     "output_type": "execute_result"
    }
   ],
   "source": [
    "cat_cols.columns"
   ]
  },
  {
   "cell_type": "markdown",
   "id": "8951b4bb",
   "metadata": {},
   "source": [
    "Xem giá trị missing_ratio, min và max của các cột không phải dữ liệu numeric"
   ]
  },
  {
   "cell_type": "code",
   "execution_count": 19,
   "id": "d05b5b57",
   "metadata": {},
   "outputs": [
    {
     "data": {
      "text/html": [
       "<div>\n",
       "<style scoped>\n",
       "    .dataframe tbody tr th:only-of-type {\n",
       "        vertical-align: middle;\n",
       "    }\n",
       "\n",
       "    .dataframe tbody tr th {\n",
       "        vertical-align: top;\n",
       "    }\n",
       "\n",
       "    .dataframe thead th {\n",
       "        text-align: right;\n",
       "    }\n",
       "</style>\n",
       "<table border=\"1\" class=\"dataframe\">\n",
       "  <thead>\n",
       "    <tr style=\"text-align: right;\">\n",
       "      <th></th>\n",
       "      <th>Education</th>\n",
       "      <th>Marital_Status</th>\n",
       "    </tr>\n",
       "  </thead>\n",
       "  <tbody>\n",
       "    <tr>\n",
       "      <th>missing_ratio</th>\n",
       "      <td>0.0</td>\n",
       "      <td>0.0</td>\n",
       "    </tr>\n",
       "    <tr>\n",
       "      <th>min</th>\n",
       "      <td>Basic</td>\n",
       "      <td>YOLO</td>\n",
       "    </tr>\n",
       "    <tr>\n",
       "      <th>max</th>\n",
       "      <td>Graduation</td>\n",
       "      <td>Married</td>\n",
       "    </tr>\n",
       "  </tbody>\n",
       "</table>\n",
       "</div>"
      ],
      "text/plain": [
       "                Education Marital_Status\n",
       "missing_ratio         0.0            0.0\n",
       "min                 Basic           YOLO\n",
       "max            Graduation        Married"
      ]
     },
     "execution_count": 19,
     "metadata": {},
     "output_type": "execute_result"
    }
   ],
   "source": [
    "def min(df:pd.DataFrame):\n",
    "    return df.value_counts().idxmin()\n",
    "\n",
    "def max(df:pd.DataFrame):\n",
    "    return df.value_counts().idxmax()\n",
    "\n",
    "cat_cols.apply([missing_ratio, min, max])"
   ]
  },
  {
   "cell_type": "markdown",
   "id": "145257c9",
   "metadata": {},
   "source": [
    "- cột `Education`: ta coi thử các giá trị unique có gì bất thường không"
   ]
  },
  {
   "cell_type": "code",
   "execution_count": 20,
   "id": "7c1c41b9",
   "metadata": {},
   "outputs": [
    {
     "data": {
      "text/plain": [
       "Graduation    1116\n",
       "PhD            480\n",
       "Master         365\n",
       "2n Cycle       198\n",
       "Basic           54\n",
       "Name: Education, dtype: int64"
      ]
     },
     "execution_count": 20,
     "metadata": {},
     "output_type": "execute_result"
    }
   ],
   "source": [
    "mkt_df['Education'].value_counts()"
   ]
  },
  {
   "cell_type": "markdown",
   "id": "57e93a60",
   "metadata": {},
   "source": [
    "- cột `Marital_Status`. Đầu tiên, coi thử các giá trị unique của cột này"
   ]
  },
  {
   "cell_type": "code",
   "execution_count": 21,
   "id": "eccded83",
   "metadata": {},
   "outputs": [
    {
     "data": {
      "text/plain": [
       "array(['Single', 'Together', 'Married', 'Divorced', 'Widow', 'Alone',\n",
       "       'Absurd', 'YOLO'], dtype=object)"
      ]
     },
     "execution_count": 21,
     "metadata": {},
     "output_type": "execute_result"
    }
   ],
   "source": [
    "cat_cols[\"Marital_Status\"].unique()"
   ]
  },
  {
   "cell_type": "markdown",
   "id": "75ffb0e4",
   "metadata": {},
   "source": [
    "Vể mặt ngữ nghĩa, dễ thấy rằng các giá trị cột này thực chất có thể phân vào 2 nhóm: \n",
    "- `Married`: Married, Together\n",
    "- `Single`: Single, Divorced, Widow, Alone, Absurd, YOLO (You Only Live Once)"
   ]
  },
  {
   "cell_type": "code",
   "execution_count": 22,
   "id": "466a7130",
   "metadata": {},
   "outputs": [],
   "source": [
    "mkt_df[\"Marital_Status\"] = mkt_df[\"Marital_Status\"].apply(\n",
    "    lambda status: 'Married' if status in ['Married', 'Together'] else 'Single'\n",
    "    )"
   ]
  },
  {
   "cell_type": "markdown",
   "id": "def75a0a",
   "metadata": {},
   "source": [
    "Xem lại các giá trị của cột `Marital_Status`"
   ]
  },
  {
   "cell_type": "code",
   "execution_count": 23,
   "id": "f9b45450",
   "metadata": {},
   "outputs": [
    {
     "data": {
      "text/plain": [
       "array(['Single', 'Married'], dtype=object)"
      ]
     },
     "execution_count": 23,
     "metadata": {},
     "output_type": "execute_result"
    }
   ],
   "source": [
    "mkt_df['Marital_Status'].unique()"
   ]
  },
  {
   "cell_type": "markdown",
   "id": "579a1b05",
   "metadata": {},
   "source": [
    "# Đặt câu hỏi "
   ]
  },
  {
   "cell_type": "markdown",
   "id": "b403b987",
   "metadata": {},
   "source": [
    "## I. Câu hỏi về đối tượng được khảo sát\n",
    "Ở phần này, 1 số câu hỏi + đồ thị đơn giản được đưa ra để hiểu hơn về tập dữ liệu"
   ]
  },
  {
   "cell_type": "markdown",
   "id": "1b3a2718",
   "metadata": {},
   "source": [
    "1. Phân bố tình trạng hôn nhân của khách hàng khảo sát"
   ]
  },
  {
   "cell_type": "code",
   "execution_count": 24,
   "id": "d1f36006",
   "metadata": {},
   "outputs": [
    {
     "data": {
      "image/png": "[encoded data removed]",
      "text/plain": [
       "<Figure size 504x360 with 1 Axes>"
      ]
     },
     "metadata": {},
     "output_type": "display_data"
    }
   ],
   "source": [
    "plt.figure(figsize= (10,7), facecolor='white') # set white background\n",
    "mkt_df['Marital_Status'].value_counts().plot.pie(figsize=(7, 5), autopct='%.1f%%');"
   ]
  },
  {
   "cell_type": "markdown",
   "id": "e0bfcf2d",
   "metadata": {},
   "source": [
    "2. Phân bố học vấn của khách hàng khảo sát"
   ]
  },
  {
   "cell_type": "code",
   "execution_count": 25,
   "id": "9dd0ecfb",
   "metadata": {},
   "outputs": [
    {
     "data": {
      "image/png": "[encoded data removed]",
      "text/plain": [
       "<Figure size 504x360 with 1 Axes>"
      ]
     },
     "metadata": {
      "needs_background": "light"
     },
     "output_type": "display_data"
    }
   ],
   "source": [
    "mkt_df['Education'].value_counts().plot.barh(figsize=(7, 5))\n",
    "plt.xlabel(\"Số lượng\")\n",
    "plt.ylabel(\"Học vấn\");"
   ]
  },
  {
   "cell_type": "markdown",
   "id": "8c518dbc",
   "metadata": {},
   "source": [
    "3. Phân bố số con của khách hàng"
   ]
  },
  {
   "cell_type": "code",
   "execution_count": 26,
   "id": "5170d468",
   "metadata": {
    "scrolled": true
   },
   "outputs": [
    {
     "data": {
      "image/png": "[encoded data removed]",
      "text/plain": [
       "<Figure size 576x432 with 1 Axes>"
      ]
     },
     "metadata": {},
     "output_type": "display_data"
    }
   ],
   "source": [
    "# plt.figure(figsize= (10,7), facecolor='white') # set white background\n",
    "num_child = mkt_df['Kidhome'] + mkt_df['Teenhome']\n",
    "num_child.value_counts().plot.pie(figsize=(8, 6), autopct='%.1f%%');"
   ]
  },
  {
   "cell_type": "markdown",
   "id": "cf3b9d61",
   "metadata": {},
   "source": [
    "$\\to$ Như vậy có khoảng 71.5% khách hàng có con, cũng khá nhiều...Ta sẽ tận dụng thông tin này sau"
   ]
  },
  {
   "cell_type": "markdown",
   "id": "5a0ae3fc",
   "metadata": {},
   "source": [
    "4. Thống kê số lượt mua hàng qua các nền tảng "
   ]
  },
  {
   "cell_type": "code",
   "execution_count": 27,
   "id": "cb8c20d1",
   "metadata": {},
   "outputs": [
    {
     "data": {
      "image/png": "[encoded data removed]",
      "text/plain": [
       "<Figure size 720x504 with 1 Axes>"
      ]
     },
     "metadata": {},
     "output_type": "display_data"
    }
   ],
   "source": [
    "plt.figure(figsize= (10,7), facecolor='white') # set white background\n",
    "platforms = mkt_df[['NumWebPurchases', 'NumCatalogPurchases', 'NumStorePurchases']].sum()\n",
    "plt.pie(platforms, labels= platforms.index, autopct='%.1f%%');"
   ]
  },
  {
   "cell_type": "markdown",
   "id": "67def5ee",
   "metadata": {},
   "source": [
    "5. Thống kê tỷ lệ khách hàng tham gia từng chiến dịch marketing"
   ]
  },
  {
   "cell_type": "code",
   "execution_count": 64,
   "id": "ecf1cc91",
   "metadata": {
    "scrolled": false
   },
   "outputs": [
    {
     "data": {
      "image/png": "[encoded data removed]",
      "text/plain": [
       "<Figure size 432x288 with 1 Axes>"
      ]
     },
     "metadata": {
      "needs_background": "light"
     },
     "output_type": "display_data"
    }
   ],
   "source": [
    "pct_cmp = mkt_df.filter(regex='(AcceptedCmp)').sum() / mkt_df.shape[0] * 100\n",
    "pct_cmp.to_frame(name='percent').plot.bar(rot=0, grid=True)\n",
    "plt.xticks(range(0,6), [f'AC{i}' for i in range(1,7)]); # AC = Accepted Campaign"
   ]
  },
  {
   "cell_type": "markdown",
   "id": "057a14f0",
   "metadata": {},
   "source": [
    "$\\to$ Phần lớn khách hàng đồng ý mua hàng ở chiến dịch markting cuối cùng"
   ]
  },
  {
   "cell_type": "markdown",
   "id": "e95e6838",
   "metadata": {},
   "source": [
    "6. Phân bố tuổi như thế nào?"
   ]
  },
  {
   "cell_type": "code",
   "execution_count": 53,
   "id": "77b7c6c1",
   "metadata": {},
   "outputs": [
    {
     "data": {
      "image/png": "[encoded data removed]",
      "text/plain": [
       "<Figure size 432x288 with 1 Axes>"
      ]
     },
     "metadata": {
      "needs_background": "light"
     },
     "output_type": "display_data"
    }
   ],
   "source": [
    "mkt_df['Age'].plot.hist(bins=50);\n",
    "plt.xlabel('Age');"
   ]
  },
  {
   "cell_type": "markdown",
   "id": "12adc503",
   "metadata": {},
   "source": [
    "7. Phân bố thu nhập khách hàng như thế nào?"
   ]
  },
  {
   "cell_type": "code",
   "execution_count": 56,
   "id": "8dcde9b3",
   "metadata": {
    "scrolled": true
   },
   "outputs": [
    {
     "data": {
      "image/png": "[encoded data removed]",
      "text/plain": [
       "<Figure size 432x288 with 1 Axes>"
      ]
     },
     "metadata": {
      "needs_background": "light"
     },
     "output_type": "display_data"
    }
   ],
   "source": [
    "mkt_df['Income'].plot.hist(bins=60, range=(0,200000))\n",
    "plt.xlabel('Income');"
   ]
  },
  {
   "cell_type": "markdown",
   "id": "e4e8a8af",
   "metadata": {},
   "source": [
    "$\\to$ Như vậy phần lớn khách hàng có thu nhập nằm trong khoảng [0, 100K]"
   ]
  },
  {
   "cell_type": "markdown",
   "id": "2105f4bd",
   "metadata": {},
   "source": [
    "8. Lượng mua qua các hình thức: Web, trực tiếp tại cửa hàng (Store), danh mục quảng cáo (Catalog) phân bố như thế nào? So sánh giữa 3 hình thức này xem hình thức nào ưu thế hơn?"
   ]
  },
  {
   "cell_type": "code",
   "execution_count": 161,
   "id": "418256df",
   "metadata": {
    "scrolled": true
   },
   "outputs": [
    {
     "data": {
      "text/plain": [
       "Text(0.5, 0, 'products')"
      ]
     },
     "execution_count": 161,
     "metadata": {},
     "output_type": "execute_result"
    },
    {
     "data": {
      "image/png": "[encoded data removed]",
      "text/plain": [
       "<Figure size 432x288 with 1 Axes>"
      ]
     },
     "metadata": {},
     "output_type": "display_data"
    }
   ],
   "source": [
    "df = mkt_df[['NumWebPurchases', 'NumStorePurchases', 'NumCatalogPurchases']]\n",
    "sns.kdeplot(data=df);\n",
    "plt.xlabel('products');"
   ]
  },
  {
   "cell_type": "markdown",
   "id": "e61f6165",
   "metadata": {},
   "source": [
    "1. Số lượng mua hàng qua 3 hình thức: Store > Web > Catalog\n",
    "2. Nhìn chung phần lớn đơn hàng có dưới 4 sản phẩm ở cả 3 hình thức \n",
    "3. Nhìn chung số mặt hàng trong 1 đơn hàng bất kỳ nằm trong khoảng [0, 15]"
   ]
  },
  {
   "cell_type": "markdown",
   "id": "105b5d72",
   "metadata": {},
   "source": [
    "## II. Các câu hỏi in-depth"
   ]
  },
  {
   "cell_type": "markdown",
   "id": "9c6a5d12",
   "metadata": {},
   "source": [
    "Danh sách câu hỏi:\n",
    "\n",
    "1. \n",
    "2. "
   ]
  },
  {
   "cell_type": "markdown",
   "id": "77ff3043",
   "metadata": {},
   "source": [
    "## Ứng với mỗi sản phẩm công ty, phân khúc khách hàng nào sẽ mua sản phẩm đó nhiều nhất?\n",
    "Lợi ích: Xác định được khách hàng mục tiêu. Từ đó nhắm sản phẩm tương ứng tới phân khúc khách hàng đó để tối đa hóa số lượng sản phẩm bán ra. Từ đó tăng doanh thu cho công ty\n",
    "\n",
    "**\"phân khúc khách hàng\"** sẽ được quyết định dựa trên:\n",
    "- Nhân khẩu học: Tuổi (`Age`), thu nhập (`Income`), và học vấn (`Education`), Số lượng con cái (`NumChild`) và tình trạng hôn nhân (`Marital_Status`)\n",
    "- Hành vi mua hàng: \n",
    "    - Tính cách mua hàng - tức khách có mua hàng ở lần marketing thứ i không (`AcceptedCmp`<font color='blue'>i</font> với <font color='blue'>i</font>=1..6) \n",
    "    - Nơi thực hiện mua hàng (`NumWebPurchases`, `NumCatalogPurchases` hay `NumStorePurchases`)\n",
    "\n",
    "**\"sản phẩm công ty\"** chính là 6 sản phẩm hiện có trong tập dữ liệu: [`MntWines`, `MntFruits`, `MntMeatProducts`, `MntFishProducts`, `MntSweetProducts`, `MntGoldProds`]\n",
    "\n",
    "---"
   ]
  },
  {
   "cell_type": "markdown",
   "id": "185ce52e",
   "metadata": {},
   "source": [
    "### Tiền xử lý\n",
    "- Bước 1: thêm cột `NumChild` vào `customer_seg` để thể hiện số con của từng khách hàng. Tận dụng Series `num_child` ở mục I.3 -> Xong bước 1\n",
    "- Bước 2: mã hóa cột `AcceptedCmp`<font color='blue'>i</font> thành chuỗi 6 bit được đánh chỉ số từ 1 -> 6 từ trái qua phải, mỗi bit i ứng với  `AcceptedCmp`<font color='blue'>i</font>\n",
    "- Bước 3: phân cột `Income` thành 3 nhóm category: [Low, Low to medium, Medium, High] tương ứng với tứ phân vị   \n",
    "- Bước 4: phân cột `Age` thành các nhóm: ['Young', 'Mature', 'Midlle-age', 'Old']\n",
    "- Bước 5: chuẩn bị dataframe `customer_seg` gồm các cột đã đề cập để chuẩn bị cho quá trình phân tích dữ liệu sắp tới"
   ]
  },
  {
   "cell_type": "code",
   "execution_count": 31,
   "id": "49285ccd",
   "metadata": {},
   "outputs": [],
   "source": [
    "# Code bước 2\n",
    "cmp = mkt_df.filter(regex='AcceptedCmp').astype(str) # đổi các cột AcceptedCmpi sang kiểu string\n",
    "cmp = cmp.sum(axis=1, numeric_only=False) # cộng chuỗi 6 cột này theo axis=1"
   ]
  },
  {
   "cell_type": "code",
   "execution_count": 78,
   "id": "6d97c2d2",
   "metadata": {},
   "outputs": [
    {
     "data": {
      "text/plain": [
       "0              Medium\n",
       "1       Low to medium\n",
       "2                High\n",
       "3                 Low\n",
       "4              Medium\n",
       "            ...      \n",
       "2235           Medium\n",
       "2236           Medium\n",
       "2237           Medium\n",
       "2238             High\n",
       "2239           Medium\n",
       "Name: Income, Length: 2213, dtype: category\n",
       "Categories (4, object): ['Low' < 'Low to medium' < 'Medium' < 'High']"
      ]
     },
     "execution_count": 78,
     "metadata": {},
     "output_type": "execute_result"
    }
   ],
   "source": [
    "# Code bước 3\n",
    "income_group = ['Low', 'Low to medium', 'Medium', 'High']\n",
    "income = pd.qcut(mkt_df['Income'], q=4, labels=income_group)\n",
    "income"
   ]
  },
  {
   "cell_type": "code",
   "execution_count": 33,
   "id": "2e1957d5",
   "metadata": {},
   "outputs": [],
   "source": [
    "# Code bước 4\n",
    "age_group = ['Young', 'Mature', 'Midlle-age', 'Old']\n",
    "age_range = [0, 30, 45, 65, 101] # từng cặp là từng nhóm tuổi. VD: [0-30] tuổi, [30-45] tuổi\n",
    "age = pd.cut(mkt_df['Age'], bins=age_range, labels=age_group)"
   ]
  },
  {
   "cell_type": "code",
   "execution_count": 34,
   "id": "d4c00798",
   "metadata": {},
   "outputs": [
    {
     "data": {
      "text/plain": [
       "Index(['ID', 'Education', 'Marital_Status', 'Income', 'Kidhome', 'Teenhome',\n",
       "       'Dt_Customer', 'Recency', 'MntWines', 'MntFruits', 'MntMeatProducts',\n",
       "       'MntFishProducts', 'MntSweetProducts', 'MntGoldProds',\n",
       "       'NumDealsPurchases', 'NumWebPurchases', 'NumCatalogPurchases',\n",
       "       'NumStorePurchases', 'NumWebVisitsMonth', 'AcceptedCmp3',\n",
       "       'AcceptedCmp4', 'AcceptedCmp5', 'AcceptedCmp1', 'AcceptedCmp2',\n",
       "       'Complain', 'AcceptedCmp6', 'Age'],\n",
       "      dtype='object')"
      ]
     },
     "execution_count": 34,
     "metadata": {},
     "output_type": "execute_result"
    }
   ],
   "source": [
    "mkt_df.columns"
   ]
  },
  {
   "cell_type": "code",
   "execution_count": 35,
   "id": "f51366f1",
   "metadata": {
    "scrolled": true
   },
   "outputs": [
    {
     "data": {
      "text/html": [
       "<div>\n",
       "<style scoped>\n",
       "    .dataframe tbody tr th:only-of-type {\n",
       "        vertical-align: middle;\n",
       "    }\n",
       "\n",
       "    .dataframe tbody tr th {\n",
       "        vertical-align: top;\n",
       "    }\n",
       "\n",
       "    .dataframe thead th {\n",
       "        text-align: right;\n",
       "    }\n",
       "</style>\n",
       "<table border=\"1\" class=\"dataframe\">\n",
       "  <thead>\n",
       "    <tr style=\"text-align: right;\">\n",
       "      <th></th>\n",
       "      <th>Edu</th>\n",
       "      <th>Web</th>\n",
       "      <th>Catalog</th>\n",
       "      <th>Store</th>\n",
       "      <th>Wines</th>\n",
       "      <th>Fruits</th>\n",
       "      <th>Meats</th>\n",
       "      <th>Fish</th>\n",
       "      <th>Sweets</th>\n",
       "      <th>Golds</th>\n",
       "      <th>Relationship</th>\n",
       "      <th>AcceptedCmp1</th>\n",
       "      <th>AcceptedCmp2</th>\n",
       "      <th>AcceptedCmp3</th>\n",
       "      <th>AcceptedCmp4</th>\n",
       "      <th>AcceptedCmp5</th>\n",
       "      <th>AcceptedCmp6</th>\n",
       "      <th>Age</th>\n",
       "      <th>Income</th>\n",
       "      <th>NumChild</th>\n",
       "    </tr>\n",
       "  </thead>\n",
       "  <tbody>\n",
       "    <tr>\n",
       "      <th>0</th>\n",
       "      <td>Graduation</td>\n",
       "      <td>8</td>\n",
       "      <td>10</td>\n",
       "      <td>4</td>\n",
       "      <td>635</td>\n",
       "      <td>88</td>\n",
       "      <td>546</td>\n",
       "      <td>172</td>\n",
       "      <td>88</td>\n",
       "      <td>88</td>\n",
       "      <td>Single</td>\n",
       "      <td>0</td>\n",
       "      <td>0</td>\n",
       "      <td>0</td>\n",
       "      <td>0</td>\n",
       "      <td>0</td>\n",
       "      <td>1</td>\n",
       "      <td>Midlle-age</td>\n",
       "      <td>Medium</td>\n",
       "      <td>0</td>\n",
       "    </tr>\n",
       "    <tr>\n",
       "      <th>1</th>\n",
       "      <td>Graduation</td>\n",
       "      <td>1</td>\n",
       "      <td>1</td>\n",
       "      <td>2</td>\n",
       "      <td>11</td>\n",
       "      <td>1</td>\n",
       "      <td>6</td>\n",
       "      <td>2</td>\n",
       "      <td>1</td>\n",
       "      <td>6</td>\n",
       "      <td>Single</td>\n",
       "      <td>0</td>\n",
       "      <td>0</td>\n",
       "      <td>0</td>\n",
       "      <td>0</td>\n",
       "      <td>0</td>\n",
       "      <td>0</td>\n",
       "      <td>Midlle-age</td>\n",
       "      <td>Low to medium</td>\n",
       "      <td>2</td>\n",
       "    </tr>\n",
       "    <tr>\n",
       "      <th>2</th>\n",
       "      <td>Graduation</td>\n",
       "      <td>8</td>\n",
       "      <td>2</td>\n",
       "      <td>10</td>\n",
       "      <td>426</td>\n",
       "      <td>49</td>\n",
       "      <td>127</td>\n",
       "      <td>111</td>\n",
       "      <td>21</td>\n",
       "      <td>42</td>\n",
       "      <td>Married</td>\n",
       "      <td>0</td>\n",
       "      <td>0</td>\n",
       "      <td>0</td>\n",
       "      <td>0</td>\n",
       "      <td>0</td>\n",
       "      <td>0</td>\n",
       "      <td>Midlle-age</td>\n",
       "      <td>High</td>\n",
       "      <td>0</td>\n",
       "    </tr>\n",
       "    <tr>\n",
       "      <th>3</th>\n",
       "      <td>Graduation</td>\n",
       "      <td>2</td>\n",
       "      <td>0</td>\n",
       "      <td>4</td>\n",
       "      <td>11</td>\n",
       "      <td>4</td>\n",
       "      <td>20</td>\n",
       "      <td>10</td>\n",
       "      <td>3</td>\n",
       "      <td>5</td>\n",
       "      <td>Married</td>\n",
       "      <td>0</td>\n",
       "      <td>0</td>\n",
       "      <td>0</td>\n",
       "      <td>0</td>\n",
       "      <td>0</td>\n",
       "      <td>0</td>\n",
       "      <td>Young</td>\n",
       "      <td>Low</td>\n",
       "      <td>1</td>\n",
       "    </tr>\n",
       "    <tr>\n",
       "      <th>4</th>\n",
       "      <td>PhD</td>\n",
       "      <td>5</td>\n",
       "      <td>3</td>\n",
       "      <td>6</td>\n",
       "      <td>173</td>\n",
       "      <td>43</td>\n",
       "      <td>118</td>\n",
       "      <td>46</td>\n",
       "      <td>27</td>\n",
       "      <td>15</td>\n",
       "      <td>Married</td>\n",
       "      <td>0</td>\n",
       "      <td>0</td>\n",
       "      <td>0</td>\n",
       "      <td>0</td>\n",
       "      <td>0</td>\n",
       "      <td>0</td>\n",
       "      <td>Mature</td>\n",
       "      <td>Medium</td>\n",
       "      <td>1</td>\n",
       "    </tr>\n",
       "  </tbody>\n",
       "</table>\n",
       "</div>"
      ],
      "text/plain": [
       "          Edu  Web  Catalog  Store  Wines  Fruits  Meats  Fish  Sweets  Golds  \\\n",
       "0  Graduation    8       10      4    635      88    546   172      88     88   \n",
       "1  Graduation    1        1      2     11       1      6     2       1      6   \n",
       "2  Graduation    8        2     10    426      49    127   111      21     42   \n",
       "3  Graduation    2        0      4     11       4     20    10       3      5   \n",
       "4         PhD    5        3      6    173      43    118    46      27     15   \n",
       "\n",
       "  Relationship  AcceptedCmp1  AcceptedCmp2  AcceptedCmp3  AcceptedCmp4  \\\n",
       "0       Single             0             0             0             0   \n",
       "1       Single             0             0             0             0   \n",
       "2      Married             0             0             0             0   \n",
       "3      Married             0             0             0             0   \n",
       "4      Married             0             0             0             0   \n",
       "\n",
       "   AcceptedCmp5  AcceptedCmp6         Age         Income  NumChild  \n",
       "0             0             1  Midlle-age         Medium         0  \n",
       "1             0             0  Midlle-age  Low to medium         2  \n",
       "2             0             0  Midlle-age           High         0  \n",
       "3             0             0       Young            Low         1  \n",
       "4             0             0      Mature         Medium         1  "
      ]
     },
     "execution_count": 35,
     "metadata": {},
     "output_type": "execute_result"
    }
   ],
   "source": [
    "# Code bước 5\n",
    "accepted_cmp = ['AcceptedCmp'+str(i) for i in range(1,7)]\n",
    "cols = ['Education', 'NumWebPurchases', 'NumCatalogPurchases', 'NumStorePurchases', 'MntWines', 'MntFruits', 'MntMeatProducts',\\\n",
    "        'MntFishProducts', 'MntSweetProducts', 'MntGoldProds', 'Marital_Status'] + accepted_cmp\n",
    "customer_seg = mkt_df[cols].copy()\n",
    "\n",
    "# add columns\n",
    "customer_seg['Age'] = age # add cột Age\n",
    "customer_seg['Income'] = income # add cột Income\n",
    "# customer_seg['Cmp'] = cmp # add cột Cmp\n",
    "\n",
    "customer_seg['NumChild'] = num_child # add cột NumChild\n",
    "\n",
    "# đổi lại tên cột cho ngắn và dễ nhìn\n",
    "customer_seg.rename(columns = {'MntWines': 'Wines', 'MntFruits': 'Fruits', \n",
    "                               'MntMeatProducts': 'Meats', 'MntFishProducts': 'Fish', \n",
    "                               'MntSweetProducts': 'Sweets', 'MntGoldProds': 'Golds',\n",
    "                               'NumWebPurchases': 'Web', 'NumCatalogPurchases': 'Catalog',\n",
    "                               'NumStorePurchases': 'Store', 'Education': 'Edu', \n",
    "                               'Marital_Status': 'Relationship'}, inplace=True)\n",
    "\n",
    "customer_seg.head()"
   ]
  },
  {
   "cell_type": "markdown",
   "id": "c7b6e565",
   "metadata": {},
   "source": [
    "### Phân tích: \n",
    "Dataframe `customer_seg` hiện đang lưu thông tin về 6 cột Products + 5 cột thông tin cá nhân + 4 cột hành vi mua hàng\n",
    "- 6 cột Products: [`Wines`, `Fruits`, `Meats`, `Fish`, `Sweets`, `Golds`]\n",
    "- 5 cột thông tin cá nhân: [`Age`, `Income`, `Edu`, `NumChild`, `Relationship`]\n",
    "- 4 cột hành vi mua hàng: [`Web`, `Catalog`, `Store`, `Cmp`]\n",
    "\n",
    "Ta phân tích ứng với từng sản phẩm trong Products thì phân khúc khách hàng của sản phẩm đó bao gồm những khách hàng có tính chất như thế nào? (VD: ứng với sản phẩm **Wines** thì những khách hàng có `Relationship=Single`,... có xu hướng mua nhiều hơn). Tóm tắt các bước làm (sẽ nói chi tiết ở từng bước)\n",
    "- Bước 1: với mỗi sản phẩm, thống kê top các khách hàng mua sản phẩm đó nhiều nhất. \"Top các khách hàng mua nhiều nhất\" được dựa trên tứ phân vị [0.75, 1] của từng cột sản phẩm và được lưu vào dataframe `top_customers`\n",
    "- Bước 2 (dự đoán phân khúc khách hàng): với mỗi một top khách hàng tìm dược ở bước 1, tìm ra điểm chung **lớn nhất** của các khách hàng này là gì dựa theo **thông tin cá nhân** và **hành vi mua hàng**. Kết quả là 1 dataframe `cust_by_prod` gồm 6 cột tương ứng 6 sản phẩm và 9 dòng = 5 dòng **thông tin cá nhân** + 4 dòng **hành vi mua hàng**"
   ]
  },
  {
   "cell_type": "markdown",
   "id": "70a0b172",
   "metadata": {},
   "source": [
    "#### Code bước 1\n",
    "- Định nghĩa 1 hàm hợp top_customers_ix(s) nhận vào s là 1 cột product, trả ra chỉ số index của top khách hàng mua sản phẩm s và số lượng mua của những khách này phải nằm trong khoảng phân vị [0.75, 1]. \n",
    "- Sau đó áp dụng hàm hợp này lên cho 6 cột products "
   ]
  },
  {
   "cell_type": "code",
   "execution_count": 36,
   "id": "995b51a1",
   "metadata": {
    "scrolled": true
   },
   "outputs": [
    {
     "data": {
      "text/html": [
       "<div>\n",
       "<style scoped>\n",
       "    .dataframe tbody tr th:only-of-type {\n",
       "        vertical-align: middle;\n",
       "    }\n",
       "\n",
       "    .dataframe tbody tr th {\n",
       "        vertical-align: top;\n",
       "    }\n",
       "\n",
       "    .dataframe thead th {\n",
       "        text-align: right;\n",
       "    }\n",
       "</style>\n",
       "<table border=\"1\" class=\"dataframe\">\n",
       "  <thead>\n",
       "    <tr style=\"text-align: right;\">\n",
       "      <th></th>\n",
       "      <th>Wines</th>\n",
       "      <th>Fruits</th>\n",
       "      <th>Meats</th>\n",
       "      <th>Fish</th>\n",
       "      <th>Sweets</th>\n",
       "      <th>Golds</th>\n",
       "    </tr>\n",
       "  </thead>\n",
       "  <tbody>\n",
       "    <tr>\n",
       "      <th>top_customers_ix</th>\n",
       "      <td>[0, 5, 15, 18, 22, 29, 36, 49, 51, 53, 55, 60, 62, 63, 67, 69, 73, 76, 77, 79, 96, 103, 111, 112, 116, 124, 131, 135, 140, 141, 143, 145, 154, 155, 159, 161, 163, 175, 176, 182, 188, 196, 197, 202, 203, 209, 211, 217, 219, 222, 224, 227, 228, 231, 234, 240, 243, 244, 246, 247, 248, 249, 254, 256, 261, 270, 275, 279, 292, 295, 299, 301, 305, 307, 308, 313, 323, 325, 332, 336, 338, 342, 351, 353, 354, 357, 358, 360, 361, 368, 369, 373, 378, 387, 389, 390, 394, 395, 401, 412, ...]</td>\n",
       "      <td>[0, 2, 4, 5, 6, 12, 18, 29, 34, 40, 45, 49, 51, 53, 55, 56, 64, 68, 69, 70, 72, 76, 77, 88, 99, 102, 103, 104, 107, 109, 110, 113, 116, 117, 120, 125, 126, 130, 132, 140, 144, 168, 175, 176, 198, 201, 202, 209, 228, 231, 240, 241, 243, 247, 248, 252, 253, 257, 261, 266, 268, 270, 276, 277, 286, 288, 292, 305, 313, 317, 323, 335, 336, 338, 345, 347, 350, 351, 353, 357, 360, 368, 387, 390, 392, 394, 401, 403, 411, 413, 414, 418, 423, 424, 426, 432, 433, 436, 447, 451, ...]</td>\n",
       "      <td>[0, 12, 18, 21, 29, 34, 40, 45, 49, 51, 53, 55, 56, 60, 64, 67, 69, 70, 72, 76, 77, 84, 88, 98, 103, 104, 107, 110, 111, 116, 126, 135, 140, 141, 142, 155, 159, 161, 163, 164, 168, 175, 179, 188, 191, 197, 198, 201, 202, 209, 211, 214, 217, 221, 228, 234, 240, 241, 243, 246, 248, 252, 254, 266, 268, 270, 277, 278, 287, 288, 292, 298, 307, 313, 323, 325, 335, 336, 338, 340, 347, 350, 351, 352, 353, 357, 360, 366, 368, 373, 390, 392, 395, 414, 415, 417, 424, 426, 427, 430, ...]</td>\n",
       "      <td>[0, 2, 6, 12, 15, 17, 20, 34, 39, 40, 45, 49, 53, 55, 56, 60, 64, 67, 69, 70, 72, 76, 77, 88, 98, 99, 102, 103, 104, 107, 116, 117, 126, 130, 140, 144, 159, 166, 168, 175, 176, 179, 188, 191, 198, 201, 203, 210, 214, 221, 228, 231, 240, 241, 243, 246, 247, 248, 249, 266, 268, 270, 276, 277, 282, 286, 287, 288, 292, 298, 305, 313, 317, 323, 335, 336, 340, 345, 347, 351, 353, 357, 358, 360, 366, 368, 382, 392, 395, 401, 411, 413, 415, 417, 418, 424, 426, 429, 432, 447, ...]</td>\n",
       "      <td>[0, 5, 6, 12, 15, 20, 29, 34, 39, 40, 49, 50, 51, 53, 55, 56, 64, 68, 70, 72, 77, 84, 88, 99, 102, 103, 107, 110, 111, 116, 117, 120, 124, 130, 132, 135, 140, 142, 143, 145, 159, 168, 175, 176, 188, 191, 197, 198, 202, 203, 211, 214, 217, 228, 231, 237, 240, 241, 248, 249, 252, 254, 266, 268, 270, 276, 278, 286, 287, 288, 298, 305, 307, 313, 325, 335, 336, 340, 345, 347, 350, 351, 357, 360, 366, 368, 382, 387, 390, 392, 399, 401, 411, 413, 418, 423, 426, 427, 429, 432, ...]</td>\n",
       "      <td>[0, 18, 24, 31, 40, 45, 53, 54, 55, 60, 62, 68, 69, 72, 83, 84, 88, 96, 98, 102, 103, 107, 110, 111, 112, 114, 117, 124, 125, 126, 130, 132, 142, 144, 152, 154, 159, 168, 176, 179, 182, 187, 191, 198, 199, 201, 203, 209, 215, 218, 224, 226, 227, 243, 244, 246, 247, 248, 249, 252, 266, 267, 268, 270, 276, 279, 281, 283, 286, 287, 292, 305, 320, 323, 325, 335, 338, 345, 347, 351, 360, 364, 365, 368, 373, 378, 386, 387, 389, 390, 392, 394, 403, 414, 418, 423, 427, 429, 431, 432, ...]</td>\n",
       "    </tr>\n",
       "  </tbody>\n",
       "</table>\n",
       "</div>"
      ],
      "text/plain": [
       "                                                                                                                                                                                                                                                                                                                                                                                                                                                                                                               Wines  \\\n",
       "top_customers_ix  [0, 5, 15, 18, 22, 29, 36, 49, 51, 53, 55, 60, 62, 63, 67, 69, 73, 76, 77, 79, 96, 103, 111, 112, 116, 124, 131, 135, 140, 141, 143, 145, 154, 155, 159, 161, 163, 175, 176, 182, 188, 196, 197, 202, 203, 209, 211, 217, 219, 222, 224, 227, 228, 231, 234, 240, 243, 244, 246, 247, 248, 249, 254, 256, 261, 270, 275, 279, 292, 295, 299, 301, 305, 307, 308, 313, 323, 325, 332, 336, 338, 342, 351, 353, 354, 357, 358, 360, 361, 368, 369, 373, 378, 387, 389, 390, 394, 395, 401, 412, ...]   \n",
       "\n",
       "                                                                                                                                                                                                                                                                                                                                                                                                                                                                                                       Fruits  \\\n",
       "top_customers_ix  [0, 2, 4, 5, 6, 12, 18, 29, 34, 40, 45, 49, 51, 53, 55, 56, 64, 68, 69, 70, 72, 76, 77, 88, 99, 102, 103, 104, 107, 109, 110, 113, 116, 117, 120, 125, 126, 130, 132, 140, 144, 168, 175, 176, 198, 201, 202, 209, 228, 231, 240, 241, 243, 247, 248, 252, 253, 257, 261, 266, 268, 270, 276, 277, 286, 288, 292, 305, 313, 317, 323, 335, 336, 338, 345, 347, 350, 351, 353, 357, 360, 368, 387, 390, 392, 394, 401, 403, 411, 413, 414, 418, 423, 424, 426, 432, 433, 436, 447, 451, ...]   \n",
       "\n",
       "                                                                                                                                                                                                                                                                                                                                                                                                                                                                                                             Meats  \\\n",
       "top_customers_ix  [0, 12, 18, 21, 29, 34, 40, 45, 49, 51, 53, 55, 56, 60, 64, 67, 69, 70, 72, 76, 77, 84, 88, 98, 103, 104, 107, 110, 111, 116, 126, 135, 140, 141, 142, 155, 159, 161, 163, 164, 168, 175, 179, 188, 191, 197, 198, 201, 202, 209, 211, 214, 217, 221, 228, 234, 240, 241, 243, 246, 248, 252, 254, 266, 268, 270, 277, 278, 287, 288, 292, 298, 307, 313, 323, 325, 335, 336, 338, 340, 347, 350, 351, 352, 353, 357, 360, 366, 368, 373, 390, 392, 395, 414, 415, 417, 424, 426, 427, 430, ...]   \n",
       "\n",
       "                                                                                                                                                                                                                                                                                                                                                                                                                                                                                                          Fish  \\\n",
       "top_customers_ix  [0, 2, 6, 12, 15, 17, 20, 34, 39, 40, 45, 49, 53, 55, 56, 60, 64, 67, 69, 70, 72, 76, 77, 88, 98, 99, 102, 103, 104, 107, 116, 117, 126, 130, 140, 144, 159, 166, 168, 175, 176, 179, 188, 191, 198, 201, 203, 210, 214, 221, 228, 231, 240, 241, 243, 246, 247, 248, 249, 266, 268, 270, 276, 277, 282, 286, 287, 288, 292, 298, 305, 313, 317, 323, 335, 336, 340, 345, 347, 351, 353, 357, 358, 360, 366, 368, 382, 392, 395, 401, 411, 413, 415, 417, 418, 424, 426, 429, 432, 447, ...]   \n",
       "\n",
       "                                                                                                                                                                                                                                                                                                                                                                                                                                                                                                          Sweets  \\\n",
       "top_customers_ix  [0, 5, 6, 12, 15, 20, 29, 34, 39, 40, 49, 50, 51, 53, 55, 56, 64, 68, 70, 72, 77, 84, 88, 99, 102, 103, 107, 110, 111, 116, 117, 120, 124, 130, 132, 135, 140, 142, 143, 145, 159, 168, 175, 176, 188, 191, 197, 198, 202, 203, 211, 214, 217, 228, 231, 237, 240, 241, 248, 249, 252, 254, 266, 268, 270, 276, 278, 286, 287, 288, 298, 305, 307, 313, 325, 335, 336, 340, 345, 347, 350, 351, 357, 360, 366, 368, 382, 387, 390, 392, 399, 401, 411, 413, 418, 423, 426, 427, 429, 432, ...]   \n",
       "\n",
       "                                                                                                                                                                                                                                                                                                                                                                                                                                                                                                                  Golds  \n",
       "top_customers_ix  [0, 18, 24, 31, 40, 45, 53, 54, 55, 60, 62, 68, 69, 72, 83, 84, 88, 96, 98, 102, 103, 107, 110, 111, 112, 114, 117, 124, 125, 126, 130, 132, 142, 144, 152, 154, 159, 168, 176, 179, 182, 187, 191, 198, 199, 201, 203, 209, 215, 218, 224, 226, 227, 243, 244, 246, 247, 248, 249, 252, 266, 267, 268, 270, 276, 279, 281, 283, 286, 287, 292, 305, 320, 323, 325, 335, 338, 345, 347, 351, 360, 364, 365, 368, 373, 378, 386, 387, 389, 390, 392, 394, 403, 414, 418, 423, 427, 429, 431, 432, ...]  "
      ]
     },
     "execution_count": 36,
     "metadata": {},
     "output_type": "execute_result"
    }
   ],
   "source": [
    "def top_customers_ix(s): # ix = index\n",
    "    major_buy_mnt = pd.qcut(s, [.75, 1]) # lấy các dòng có SL mua món hàng thuộc vào phân vị cuối\n",
    "    cust_ix = major_buy_mnt[~major_buy_mnt.isna()].index # lấy index các dòng thỏa DK trên, cũng là index các khách hàng\n",
    "    return cust_ix.to_list() # return danh sách index khách hàng\n",
    "\n",
    "products = ['Wines', 'Fruits', 'Meats', 'Fish', 'Sweets', 'Golds']\n",
    "top_customers = customer_seg[products].agg([top_customers_ix])\n",
    "top_customers"
   ]
  },
  {
   "cell_type": "markdown",
   "id": "ef2045a0",
   "metadata": {},
   "source": [
    "#### Code bước 2\n",
    "Để code được bước 2, ta sẽ thử nghiệm với 1 cột `Wines` trước để biết được output có hình dáng ra sao. Sau đó mới tính toán và áp dụng cho 6 cột products"
   ]
  },
  {
   "cell_type": "markdown",
   "id": "e24d51d9",
   "metadata": {},
   "source": [
    "a) Thử nghiệm với cột `Wines`\n",
    "\n",
    "Đầu tiên, định nghĩa hàm hợp `most_freq_val` để áp lên 9 cột: [`Age`, `Income`, `Edu`, `NumChild`, `Relationship`, `Web`, `Catalog`, `Store`, `Cmp`]. Hàm này sẽ tính tần số xuất hiện của từng <font color=green>**giá trị của thuộc tính**</font> (sử dụng value_counts()) và tìm ra <font color=green>**giá trị của thuộc tính**</font> nào có tần số xuất hiện nhiều nhất (\"nhiều nhất\" theo nghĩa là tần số xuất hiện thuộc khoảng phân vị [0.51, 1] - hay hơn 1 nửa).\\\n",
    "&nbsp;&nbsp;&nbsp;&nbsp;&nbsp;<u>VD</u>: Xét thuộc tính `Relationship` có <font color=green>**giá trị của thuộc tính**</font> = ['Married', 'Single'] với tần số xuất hiện lần lượt là [400, 100], thấy rằng trong khoảng phân vị [0.51, 1] chỉ có giá trị 'Married' thỏa nên hàm sẽ trả về ['Married']"
   ]
  },
  {
   "cell_type": "code",
   "execution_count": 37,
   "id": "bf5de082",
   "metadata": {},
   "outputs": [],
   "source": [
    "def most_freq_val(s):\n",
    "    # lọc ra các giá trị của thuộc tính s có tần số xuất hiện nhiều trong khoảng phân vị [0.75, 1].\n",
    "    # Kết quả: là 1 Series với Series.index = [tên giá trị của thuộc tính] và Series.data là NaN (nếu tần số không nằm trong  \n",
    "    ## khoảng phân vị [0.51, 1]) và các giá trị khác NaN (nếu tần số nằm trong khoảng phân vị [0.75, 1])\n",
    "    top_vals = pd.qcut(s.value_counts(), [0.51, 1]) \n",
    "    \n",
    "    # lọc ra index (chính là tên giá trị thuộc tính) của tần số xuất hiện trong khoảng phân vị [0.75, 1] (tức khác NaN)\n",
    "    # Kết quả: là 1 mảng bool\n",
    "    top_vals_ix = ~top_vals.isna()\n",
    "    \n",
    "    # Lọc ra Series.index thỏa True trong top_vals_ix và convert sang dạng list\n",
    "    top_vals = top_vals[top_vals_ix].index.to_list()\n",
    "    return top_vals"
   ]
  },
  {
   "cell_type": "markdown",
   "id": "13b161f4",
   "metadata": {},
   "source": [
    "Tiếp theo:\n",
    "- Lọc ra index nhóm khách hàng của sản phẩm `Wines` từ dataframe `top_customers` và lưu những index này vào biến `cust_ix`\n",
    "- Từ index, lấy được thông tin khách hàng (thông tin cá nhân + thông tin hành vi) của nhóm khách hàng này và lưu vào biến `cust`\n",
    "- Áp dụng hàm hợp lên từng cột thông tin khách hàng của `cust` để biết phần lớn nhóm khách mua nhiều `Wines` sẽ có đặc điểm là gì"
   ]
  },
  {
   "cell_type": "code",
   "execution_count": 38,
   "id": "db490f3c",
   "metadata": {
    "scrolled": true
   },
   "outputs": [
    {
     "data": {
      "text/plain": [
       "Edu                [Graduation, PhD]\n",
       "Web                  [4, 5, 6, 7, 3]\n",
       "Catalog              [4, 6, 3, 5, 2]\n",
       "Store              [10, 5, 8, 9, 12]\n",
       "Relationship               [Married]\n",
       "AcceptedCmp1                     [0]\n",
       "AcceptedCmp2                     [0]\n",
       "AcceptedCmp3                     [0]\n",
       "AcceptedCmp4                     [0]\n",
       "AcceptedCmp5                     [0]\n",
       "AcceptedCmp6                     [0]\n",
       "Age             [Midlle-age, Mature]\n",
       "Income                [High, Medium]\n",
       "NumChild                      [0, 1]\n",
       "Name: most_freq_val, dtype: object"
      ]
     },
     "execution_count": 38,
     "metadata": {},
     "output_type": "execute_result"
    }
   ],
   "source": [
    "cust_ix = top_customers.loc['top_customers_ix', 'Wines'] # lọc ra index nhóm khách hàng của Wines\n",
    "cust = customer_seg.loc[cust_ix, ~customer_seg.columns.isin(products)] # lấy thông tin cá nhân + thông tin hành vi của nhóm này\n",
    "cust_of_wines = cust.agg([most_freq_val]).iloc[0] # Kết quả là dataframe 1 dòng nên lấy dòng đầu là đủ\n",
    "cust_of_wines"
   ]
  },
  {
   "cell_type": "markdown",
   "id": "ef50e6cb",
   "metadata": {},
   "source": [
    "Như vậy, với 1 cột `Wines`, ta biết được rằng phần lớn khách hàng có các đặc điểm như: đã tốt nghiệp, độ tuổi tầm trung niên (Middle-age), thu nhập cao, ....Bây giờ ta đã sẵn sàng để mở rộng làm cho cả 6 cột"
   ]
  },
  {
   "cell_type": "markdown",
   "id": "8317386f",
   "metadata": {},
   "source": [
    "b) Làm trực tiếp trên 6 cột products của `top_customers`\n",
    "\n",
    "- Định nghĩa hàm hợp `feature(prod)` với `prod` là cột Series sản phẩm trong `top_customers`. Công việc của hàm này giống y hệt cell code ngay phía trên, chỉ đổi tên biến và thay vì làm cho 1 cột thì sẽ làm cho cột `prod` bất kỳ"
   ]
  },
  {
   "cell_type": "code",
   "execution_count": 39,
   "id": "97496f5c",
   "metadata": {
    "scrolled": false
   },
   "outputs": [
    {
     "data": {
      "text/html": [
       "<div>\n",
       "<style scoped>\n",
       "    .dataframe tbody tr th:only-of-type {\n",
       "        vertical-align: middle;\n",
       "    }\n",
       "\n",
       "    .dataframe tbody tr th {\n",
       "        vertical-align: top;\n",
       "    }\n",
       "\n",
       "    .dataframe thead tr th {\n",
       "        text-align: left;\n",
       "    }\n",
       "</style>\n",
       "<table border=\"1\" class=\"dataframe\">\n",
       "  <thead>\n",
       "    <tr>\n",
       "      <th></th>\n",
       "      <th>Wines</th>\n",
       "      <th>Fruits</th>\n",
       "      <th>Meats</th>\n",
       "      <th>Fish</th>\n",
       "      <th>Sweets</th>\n",
       "      <th>Golds</th>\n",
       "    </tr>\n",
       "    <tr>\n",
       "      <th></th>\n",
       "      <th>feature</th>\n",
       "      <th>feature</th>\n",
       "      <th>feature</th>\n",
       "      <th>feature</th>\n",
       "      <th>feature</th>\n",
       "      <th>feature</th>\n",
       "    </tr>\n",
       "  </thead>\n",
       "  <tbody>\n",
       "    <tr>\n",
       "      <th>Edu</th>\n",
       "      <td>[Graduation, PhD]</td>\n",
       "      <td>[Graduation, PhD]</td>\n",
       "      <td>[Graduation, PhD]</td>\n",
       "      <td>[Graduation, PhD]</td>\n",
       "      <td>[Graduation, PhD]</td>\n",
       "      <td>[Graduation, Master]</td>\n",
       "    </tr>\n",
       "    <tr>\n",
       "      <th>Web</th>\n",
       "      <td>[4, 5, 6, 7, 3]</td>\n",
       "      <td>[4, 5, 3, 6, 7]</td>\n",
       "      <td>[4, 5, 3, 6, 7, 8]</td>\n",
       "      <td>[4, 5, 3, 6, 7]</td>\n",
       "      <td>[4, 5, 6, 3, 7, 8]</td>\n",
       "      <td>[5, 4, 6, 7, 3, 8]</td>\n",
       "    </tr>\n",
       "    <tr>\n",
       "      <th>Catalog</th>\n",
       "      <td>[4, 6, 3, 5, 2]</td>\n",
       "      <td>[4, 2, 6, 3, 5, 7]</td>\n",
       "      <td>[6, 5, 4, 7, 3, 10]</td>\n",
       "      <td>[4, 3, 6, 5, 2, 7]</td>\n",
       "      <td>[4, 6, 5, 3, 2, 7]</td>\n",
       "      <td>[2, 3, 4, 5, 6, 1]</td>\n",
       "    </tr>\n",
       "    <tr>\n",
       "      <th>Store</th>\n",
       "      <td>[10, 5, 8, 9, 12]</td>\n",
       "      <td>[10, 8, 6, 7, 12]</td>\n",
       "      <td>[6, 10, 5, 12, 7, 8, 9]</td>\n",
       "      <td>[5, 6, 10, 8, 12]</td>\n",
       "      <td>[10, 8, 6, 5, 7, 13]</td>\n",
       "      <td>[5, 8, 6, 12, 7, 9, 10]</td>\n",
       "    </tr>\n",
       "    <tr>\n",
       "      <th>Relationship</th>\n",
       "      <td>[Married]</td>\n",
       "      <td>[Married]</td>\n",
       "      <td>[Married]</td>\n",
       "      <td>[Married]</td>\n",
       "      <td>[Married]</td>\n",
       "      <td>[Married]</td>\n",
       "    </tr>\n",
       "    <tr>\n",
       "      <th>AcceptedCmp1</th>\n",
       "      <td>[0]</td>\n",
       "      <td>[0]</td>\n",
       "      <td>[0]</td>\n",
       "      <td>[0]</td>\n",
       "      <td>[0]</td>\n",
       "      <td>[0]</td>\n",
       "    </tr>\n",
       "    <tr>\n",
       "      <th>AcceptedCmp2</th>\n",
       "      <td>[0]</td>\n",
       "      <td>[0]</td>\n",
       "      <td>[0]</td>\n",
       "      <td>[0]</td>\n",
       "      <td>[0]</td>\n",
       "      <td>[0]</td>\n",
       "    </tr>\n",
       "    <tr>\n",
       "      <th>AcceptedCmp3</th>\n",
       "      <td>[0]</td>\n",
       "      <td>[0]</td>\n",
       "      <td>[0]</td>\n",
       "      <td>[0]</td>\n",
       "      <td>[0]</td>\n",
       "      <td>[0]</td>\n",
       "    </tr>\n",
       "    <tr>\n",
       "      <th>AcceptedCmp4</th>\n",
       "      <td>[0]</td>\n",
       "      <td>[0]</td>\n",
       "      <td>[0]</td>\n",
       "      <td>[0]</td>\n",
       "      <td>[0]</td>\n",
       "      <td>[0]</td>\n",
       "    </tr>\n",
       "    <tr>\n",
       "      <th>AcceptedCmp5</th>\n",
       "      <td>[0]</td>\n",
       "      <td>[0]</td>\n",
       "      <td>[0]</td>\n",
       "      <td>[0]</td>\n",
       "      <td>[0]</td>\n",
       "      <td>[0]</td>\n",
       "    </tr>\n",
       "    <tr>\n",
       "      <th>AcceptedCmp6</th>\n",
       "      <td>[0]</td>\n",
       "      <td>[0]</td>\n",
       "      <td>[0]</td>\n",
       "      <td>[0]</td>\n",
       "      <td>[0]</td>\n",
       "      <td>[0]</td>\n",
       "    </tr>\n",
       "    <tr>\n",
       "      <th>Age</th>\n",
       "      <td>[Midlle-age, Mature]</td>\n",
       "      <td>[Midlle-age, Mature]</td>\n",
       "      <td>[Midlle-age, Mature]</td>\n",
       "      <td>[Midlle-age, Mature]</td>\n",
       "      <td>[Midlle-age, Mature]</td>\n",
       "      <td>[Midlle-age, Mature]</td>\n",
       "    </tr>\n",
       "    <tr>\n",
       "      <th>Income</th>\n",
       "      <td>[High, Medium]</td>\n",
       "      <td>[High, Medium]</td>\n",
       "      <td>[High, Medium]</td>\n",
       "      <td>[High, Medium]</td>\n",
       "      <td>[High, Medium]</td>\n",
       "      <td>[High, Medium]</td>\n",
       "    </tr>\n",
       "    <tr>\n",
       "      <th>NumChild</th>\n",
       "      <td>[0, 1]</td>\n",
       "      <td>[0, 1]</td>\n",
       "      <td>[0, 1]</td>\n",
       "      <td>[0, 1]</td>\n",
       "      <td>[0, 1]</td>\n",
       "      <td>[1, 0]</td>\n",
       "    </tr>\n",
       "  </tbody>\n",
       "</table>\n",
       "</div>"
      ],
      "text/plain": [
       "                             Wines                Fruits  \\\n",
       "                           feature               feature   \n",
       "Edu              [Graduation, PhD]     [Graduation, PhD]   \n",
       "Web                [4, 5, 6, 7, 3]       [4, 5, 3, 6, 7]   \n",
       "Catalog            [4, 6, 3, 5, 2]    [4, 2, 6, 3, 5, 7]   \n",
       "Store            [10, 5, 8, 9, 12]     [10, 8, 6, 7, 12]   \n",
       "Relationship             [Married]             [Married]   \n",
       "AcceptedCmp1                   [0]                   [0]   \n",
       "AcceptedCmp2                   [0]                   [0]   \n",
       "AcceptedCmp3                   [0]                   [0]   \n",
       "AcceptedCmp4                   [0]                   [0]   \n",
       "AcceptedCmp5                   [0]                   [0]   \n",
       "AcceptedCmp6                   [0]                   [0]   \n",
       "Age           [Midlle-age, Mature]  [Midlle-age, Mature]   \n",
       "Income              [High, Medium]        [High, Medium]   \n",
       "NumChild                    [0, 1]                [0, 1]   \n",
       "\n",
       "                                Meats                  Fish  \\\n",
       "                              feature               feature   \n",
       "Edu                 [Graduation, PhD]     [Graduation, PhD]   \n",
       "Web                [4, 5, 3, 6, 7, 8]       [4, 5, 3, 6, 7]   \n",
       "Catalog           [6, 5, 4, 7, 3, 10]    [4, 3, 6, 5, 2, 7]   \n",
       "Store         [6, 10, 5, 12, 7, 8, 9]     [5, 6, 10, 8, 12]   \n",
       "Relationship                [Married]             [Married]   \n",
       "AcceptedCmp1                      [0]                   [0]   \n",
       "AcceptedCmp2                      [0]                   [0]   \n",
       "AcceptedCmp3                      [0]                   [0]   \n",
       "AcceptedCmp4                      [0]                   [0]   \n",
       "AcceptedCmp5                      [0]                   [0]   \n",
       "AcceptedCmp6                      [0]                   [0]   \n",
       "Age              [Midlle-age, Mature]  [Midlle-age, Mature]   \n",
       "Income                 [High, Medium]        [High, Medium]   \n",
       "NumChild                       [0, 1]                [0, 1]   \n",
       "\n",
       "                            Sweets                    Golds  \n",
       "                           feature                  feature  \n",
       "Edu              [Graduation, PhD]     [Graduation, Master]  \n",
       "Web             [4, 5, 6, 3, 7, 8]       [5, 4, 6, 7, 3, 8]  \n",
       "Catalog         [4, 6, 5, 3, 2, 7]       [2, 3, 4, 5, 6, 1]  \n",
       "Store         [10, 8, 6, 5, 7, 13]  [5, 8, 6, 12, 7, 9, 10]  \n",
       "Relationship             [Married]                [Married]  \n",
       "AcceptedCmp1                   [0]                      [0]  \n",
       "AcceptedCmp2                   [0]                      [0]  \n",
       "AcceptedCmp3                   [0]                      [0]  \n",
       "AcceptedCmp4                   [0]                      [0]  \n",
       "AcceptedCmp5                   [0]                      [0]  \n",
       "AcceptedCmp6                   [0]                      [0]  \n",
       "Age           [Midlle-age, Mature]     [Midlle-age, Mature]  \n",
       "Income              [High, Medium]           [High, Medium]  \n",
       "NumChild                    [0, 1]                   [1, 0]  "
      ]
     },
     "execution_count": 39,
     "metadata": {},
     "output_type": "execute_result"
    }
   ],
   "source": [
    "def feature(prod):\n",
    "    cust_ix = top_customers.loc['top_customers_ix', prod.name] # lọc ra index nhóm khách hàng của prod\n",
    "    cust = customer_seg.loc[cust_ix, ~customer_seg.columns.isin(products)] # lấy thông tin cá nhân + thông tin hành vi của nhóm này\n",
    "    cust_of_prod = cust.agg([most_freq_val]).iloc[0] # Kết quả là dataframe 1 dòng nên lấy dòng đầu là đủ\n",
    "    return cust_of_prod # kết quả là Series như cell code ngay trên\n",
    "\n",
    "final_cust_segmentation = top_customers.agg([feature])\n",
    "final_cust_segmentation"
   ]
  },
  {
   "cell_type": "markdown",
   "id": "9f86bc80",
   "metadata": {},
   "source": [
    "Vì output còn \"hơi xấu\" do:\n",
    "\n",
    "- `final_cust_segmentation.columns` có 2 level:\n",
    "    - level=0: Wines, Fruits, Meats, Fish, Sweets, Golds\n",
    "    - level=1: feature, feature, feature, feature, feature, feature \n",
    "\n",
    "<p> $\\to$ Bỏ đi level=1 để nhìn đẹp và gọn hơn (sử dụng `DataFrame.droplevel`) \n",
    "  \n",
    "- 3 cột `Web`, `Catalog`, `Store` có thể hiện dạng list khó nhìn và khó thống kê  \n",
    "\n",
    "<p> $\\to$ Lấy mean mỗi cột "
   ]
  },
  {
   "cell_type": "code",
   "execution_count": 40,
   "id": "05ca1b78",
   "metadata": {
    "scrolled": false
   },
   "outputs": [
    {
     "data": {
      "text/html": [
       "<div>\n",
       "<style scoped>\n",
       "    .dataframe tbody tr th:only-of-type {\n",
       "        vertical-align: middle;\n",
       "    }\n",
       "\n",
       "    .dataframe tbody tr th {\n",
       "        vertical-align: top;\n",
       "    }\n",
       "\n",
       "    .dataframe thead th {\n",
       "        text-align: right;\n",
       "    }\n",
       "</style>\n",
       "<table border=\"1\" class=\"dataframe\">\n",
       "  <thead>\n",
       "    <tr style=\"text-align: right;\">\n",
       "      <th></th>\n",
       "      <th>Wines</th>\n",
       "      <th>Fruits</th>\n",
       "      <th>Meats</th>\n",
       "      <th>Fish</th>\n",
       "      <th>Sweets</th>\n",
       "      <th>Golds</th>\n",
       "    </tr>\n",
       "  </thead>\n",
       "  <tbody>\n",
       "    <tr>\n",
       "      <th>Edu</th>\n",
       "      <td>[Graduation, PhD]</td>\n",
       "      <td>[Graduation, PhD]</td>\n",
       "      <td>[Graduation, PhD]</td>\n",
       "      <td>[Graduation, PhD]</td>\n",
       "      <td>[Graduation, PhD]</td>\n",
       "      <td>[Graduation, Master]</td>\n",
       "    </tr>\n",
       "    <tr>\n",
       "      <th>Web</th>\n",
       "      <td>5.0</td>\n",
       "      <td>5.0</td>\n",
       "      <td>6.0</td>\n",
       "      <td>5.0</td>\n",
       "      <td>6.0</td>\n",
       "      <td>6.0</td>\n",
       "    </tr>\n",
       "    <tr>\n",
       "      <th>Catalog</th>\n",
       "      <td>4.0</td>\n",
       "      <td>4.0</td>\n",
       "      <td>6.0</td>\n",
       "      <td>4.0</td>\n",
       "      <td>4.0</td>\n",
       "      <td>4.0</td>\n",
       "    </tr>\n",
       "    <tr>\n",
       "      <th>Store</th>\n",
       "      <td>9.0</td>\n",
       "      <td>9.0</td>\n",
       "      <td>8.0</td>\n",
       "      <td>8.0</td>\n",
       "      <td>8.0</td>\n",
       "      <td>8.0</td>\n",
       "    </tr>\n",
       "    <tr>\n",
       "      <th>Relationship</th>\n",
       "      <td>[Married]</td>\n",
       "      <td>[Married]</td>\n",
       "      <td>[Married]</td>\n",
       "      <td>[Married]</td>\n",
       "      <td>[Married]</td>\n",
       "      <td>[Married]</td>\n",
       "    </tr>\n",
       "    <tr>\n",
       "      <th>AcceptedCmp1</th>\n",
       "      <td>[0]</td>\n",
       "      <td>[0]</td>\n",
       "      <td>[0]</td>\n",
       "      <td>[0]</td>\n",
       "      <td>[0]</td>\n",
       "      <td>[0]</td>\n",
       "    </tr>\n",
       "    <tr>\n",
       "      <th>AcceptedCmp2</th>\n",
       "      <td>[0]</td>\n",
       "      <td>[0]</td>\n",
       "      <td>[0]</td>\n",
       "      <td>[0]</td>\n",
       "      <td>[0]</td>\n",
       "      <td>[0]</td>\n",
       "    </tr>\n",
       "    <tr>\n",
       "      <th>AcceptedCmp3</th>\n",
       "      <td>[0]</td>\n",
       "      <td>[0]</td>\n",
       "      <td>[0]</td>\n",
       "      <td>[0]</td>\n",
       "      <td>[0]</td>\n",
       "      <td>[0]</td>\n",
       "    </tr>\n",
       "    <tr>\n",
       "      <th>AcceptedCmp4</th>\n",
       "      <td>[0]</td>\n",
       "      <td>[0]</td>\n",
       "      <td>[0]</td>\n",
       "      <td>[0]</td>\n",
       "      <td>[0]</td>\n",
       "      <td>[0]</td>\n",
       "    </tr>\n",
       "    <tr>\n",
       "      <th>AcceptedCmp5</th>\n",
       "      <td>[0]</td>\n",
       "      <td>[0]</td>\n",
       "      <td>[0]</td>\n",
       "      <td>[0]</td>\n",
       "      <td>[0]</td>\n",
       "      <td>[0]</td>\n",
       "    </tr>\n",
       "    <tr>\n",
       "      <th>AcceptedCmp6</th>\n",
       "      <td>[0]</td>\n",
       "      <td>[0]</td>\n",
       "      <td>[0]</td>\n",
       "      <td>[0]</td>\n",
       "      <td>[0]</td>\n",
       "      <td>[0]</td>\n",
       "    </tr>\n",
       "    <tr>\n",
       "      <th>Age</th>\n",
       "      <td>[Midlle-age, Mature]</td>\n",
       "      <td>[Midlle-age, Mature]</td>\n",
       "      <td>[Midlle-age, Mature]</td>\n",
       "      <td>[Midlle-age, Mature]</td>\n",
       "      <td>[Midlle-age, Mature]</td>\n",
       "      <td>[Midlle-age, Mature]</td>\n",
       "    </tr>\n",
       "    <tr>\n",
       "      <th>Income</th>\n",
       "      <td>[High, Medium]</td>\n",
       "      <td>[High, Medium]</td>\n",
       "      <td>[High, Medium]</td>\n",
       "      <td>[High, Medium]</td>\n",
       "      <td>[High, Medium]</td>\n",
       "      <td>[High, Medium]</td>\n",
       "    </tr>\n",
       "    <tr>\n",
       "      <th>NumChild</th>\n",
       "      <td>[0, 1]</td>\n",
       "      <td>[0, 1]</td>\n",
       "      <td>[0, 1]</td>\n",
       "      <td>[0, 1]</td>\n",
       "      <td>[0, 1]</td>\n",
       "      <td>[1, 0]</td>\n",
       "    </tr>\n",
       "  </tbody>\n",
       "</table>\n",
       "</div>"
      ],
      "text/plain": [
       "                             Wines                Fruits  \\\n",
       "Edu              [Graduation, PhD]     [Graduation, PhD]   \n",
       "Web                            5.0                   5.0   \n",
       "Catalog                        4.0                   4.0   \n",
       "Store                          9.0                   9.0   \n",
       "Relationship             [Married]             [Married]   \n",
       "AcceptedCmp1                   [0]                   [0]   \n",
       "AcceptedCmp2                   [0]                   [0]   \n",
       "AcceptedCmp3                   [0]                   [0]   \n",
       "AcceptedCmp4                   [0]                   [0]   \n",
       "AcceptedCmp5                   [0]                   [0]   \n",
       "AcceptedCmp6                   [0]                   [0]   \n",
       "Age           [Midlle-age, Mature]  [Midlle-age, Mature]   \n",
       "Income              [High, Medium]        [High, Medium]   \n",
       "NumChild                    [0, 1]                [0, 1]   \n",
       "\n",
       "                             Meats                  Fish  \\\n",
       "Edu              [Graduation, PhD]     [Graduation, PhD]   \n",
       "Web                            6.0                   5.0   \n",
       "Catalog                        6.0                   4.0   \n",
       "Store                          8.0                   8.0   \n",
       "Relationship             [Married]             [Married]   \n",
       "AcceptedCmp1                   [0]                   [0]   \n",
       "AcceptedCmp2                   [0]                   [0]   \n",
       "AcceptedCmp3                   [0]                   [0]   \n",
       "AcceptedCmp4                   [0]                   [0]   \n",
       "AcceptedCmp5                   [0]                   [0]   \n",
       "AcceptedCmp6                   [0]                   [0]   \n",
       "Age           [Midlle-age, Mature]  [Midlle-age, Mature]   \n",
       "Income              [High, Medium]        [High, Medium]   \n",
       "NumChild                    [0, 1]                [0, 1]   \n",
       "\n",
       "                            Sweets                 Golds  \n",
       "Edu              [Graduation, PhD]  [Graduation, Master]  \n",
       "Web                            6.0                   6.0  \n",
       "Catalog                        4.0                   4.0  \n",
       "Store                          8.0                   8.0  \n",
       "Relationship             [Married]             [Married]  \n",
       "AcceptedCmp1                   [0]                   [0]  \n",
       "AcceptedCmp2                   [0]                   [0]  \n",
       "AcceptedCmp3                   [0]                   [0]  \n",
       "AcceptedCmp4                   [0]                   [0]  \n",
       "AcceptedCmp5                   [0]                   [0]  \n",
       "AcceptedCmp6                   [0]                   [0]  \n",
       "Age           [Midlle-age, Mature]  [Midlle-age, Mature]  \n",
       "Income              [High, Medium]        [High, Medium]  \n",
       "NumChild                    [0, 1]                [1, 0]  "
      ]
     },
     "execution_count": 40,
     "metadata": {},
     "output_type": "execute_result"
    }
   ],
   "source": [
    "final_cust_segmentation = final_cust_segmentation.droplevel(level=1, axis=1)\n",
    "final_cust_segmentation.loc[['Web', 'Catalog', 'Store']] = final_cust_segmentation.loc[['Web', 'Catalog', 'Store']].applymap(lambda lst: np.mean(lst).round())\n",
    "final_cust_segmentation"
   ]
  },
  {
   "cell_type": "markdown",
   "id": "d6b2c6e2",
   "metadata": {},
   "source": [
    "Như vậy, có thể bắt đầu rút trích insights từ đây"
   ]
  },
  {
   "cell_type": "markdown",
   "id": "abd86961",
   "metadata": {},
   "source": [
    "1. Đặc điểm chung của những người hay mua từng loại trong 6 sản phẩm này là họ thường: (tốt nghiệp bậc đại học trở lên), (hay mua hàng tại cửa hàng), (đã cưới), (người trưởng thành hoặc trung niên), (đạt lương vừa/cao), (không có hoặc có 1 con) và (không cần thông qua các chiến dịch marketing mới mua hàng - `AcceptedCmp`**i**)\n",
    "\n",
    "\n",
    "2. Các khách hàng này phần lớn vẫn ưa chuộng việc mua sắm trực tiếp tại cửa hàng $\\to$ Cần duy trì, nâng cấp các chi nhánh cửa hàng của công ty \n",
    "\n",
    "\n",
    "3. Với nền tảng Web công ty, lượng người mua nhìn chung khá tốt. Riêng với thịt (Meats), đồ ngọt (Sweets) và vàng (Golds) được khách hàng mua online nhiều hơn các món khác $\\to$ Đây có thể là 3 món hàng tiềm năng nên cần tăng số lượng 3 mặt hàng này nhưng vẫn đảm bảo chất lượng và có thể kèm theo khuyến mãi để lôi kéo nhiều khách hàng hơn. Với 3 mặt hàng còn lại, khách hàng cũng ưa chuộng không kém nên ta có thể tăng cường các hình thức khuyến mãi hoặc marketing các mặt hàng này nhiều hơn nữa\n",
    "\n",
    "\n",
    "4. Khách hàng có xu hướng mua nhiều thịt hơn các mặt hàng còn lại thông qua các ấn phẩm/danh mục quảng cáo (Catalog) "
   ]
  },
  {
   "cell_type": "markdown",
   "id": "282db323",
   "metadata": {},
   "source": [
    "## Mức độ chi tiêu của những khách hàng có con?\n",
    "\n",
    "Lợi ích: nắm được việc chi tiêu nhiều hay ít của mỗi khách hàng có con, ta sẽ biết cách họ chi tiêu với mỗi sản phẩm như thế nào và hành vi mua hàng của họ\n",
    "\n",
    "Lý do khảo sát nhóm khách hàng này: Như ta đã biết mục I.3, có 71.5% khách hàng có con - chiếm hơn 2/3 số lượng khách hàng. Như vậy là đủ để ta tò mò về nhóm khách hàng này"
   ]
  },
  {
   "cell_type": "code",
   "execution_count": 41,
   "id": "49ed6807",
   "metadata": {},
   "outputs": [
    {
     "data": {
      "text/html": [
       "<div>\n",
       "<style scoped>\n",
       "    .dataframe tbody tr th:only-of-type {\n",
       "        vertical-align: middle;\n",
       "    }\n",
       "\n",
       "    .dataframe tbody tr th {\n",
       "        vertical-align: top;\n",
       "    }\n",
       "\n",
       "    .dataframe thead th {\n",
       "        text-align: right;\n",
       "    }\n",
       "</style>\n",
       "<table border=\"1\" class=\"dataframe\">\n",
       "  <thead>\n",
       "    <tr style=\"text-align: right;\">\n",
       "      <th></th>\n",
       "      <th>Edu</th>\n",
       "      <th>Relationship</th>\n",
       "      <th>Income</th>\n",
       "      <th>Wines</th>\n",
       "      <th>Fruits</th>\n",
       "      <th>Meats</th>\n",
       "      <th>Fish</th>\n",
       "      <th>Sweets</th>\n",
       "      <th>Golds</th>\n",
       "      <th>TotalDeals</th>\n",
       "      <th>Web</th>\n",
       "      <th>Catalog</th>\n",
       "      <th>Store</th>\n",
       "      <th>NumWebVisitsMonth</th>\n",
       "      <th>AcceptedCmp3</th>\n",
       "      <th>AcceptedCmp4</th>\n",
       "      <th>AcceptedCmp5</th>\n",
       "      <th>AcceptedCmp1</th>\n",
       "      <th>AcceptedCmp2</th>\n",
       "      <th>AcceptedCmp6</th>\n",
       "      <th>Age</th>\n",
       "      <th>NumChild</th>\n",
       "    </tr>\n",
       "  </thead>\n",
       "  <tbody>\n",
       "    <tr>\n",
       "      <th>1</th>\n",
       "      <td>Graduation</td>\n",
       "      <td>Single</td>\n",
       "      <td>46344.0</td>\n",
       "      <td>11</td>\n",
       "      <td>1</td>\n",
       "      <td>6</td>\n",
       "      <td>2</td>\n",
       "      <td>1</td>\n",
       "      <td>6</td>\n",
       "      <td>2</td>\n",
       "      <td>1</td>\n",
       "      <td>1</td>\n",
       "      <td>2</td>\n",
       "      <td>5</td>\n",
       "      <td>0</td>\n",
       "      <td>0</td>\n",
       "      <td>0</td>\n",
       "      <td>0</td>\n",
       "      <td>0</td>\n",
       "      <td>0</td>\n",
       "      <td>60</td>\n",
       "      <td>2</td>\n",
       "    </tr>\n",
       "    <tr>\n",
       "      <th>3</th>\n",
       "      <td>Graduation</td>\n",
       "      <td>Married</td>\n",
       "      <td>26646.0</td>\n",
       "      <td>11</td>\n",
       "      <td>4</td>\n",
       "      <td>20</td>\n",
       "      <td>10</td>\n",
       "      <td>3</td>\n",
       "      <td>5</td>\n",
       "      <td>2</td>\n",
       "      <td>2</td>\n",
       "      <td>0</td>\n",
       "      <td>4</td>\n",
       "      <td>6</td>\n",
       "      <td>0</td>\n",
       "      <td>0</td>\n",
       "      <td>0</td>\n",
       "      <td>0</td>\n",
       "      <td>0</td>\n",
       "      <td>0</td>\n",
       "      <td>30</td>\n",
       "      <td>1</td>\n",
       "    </tr>\n",
       "    <tr>\n",
       "      <th>4</th>\n",
       "      <td>PhD</td>\n",
       "      <td>Married</td>\n",
       "      <td>58293.0</td>\n",
       "      <td>173</td>\n",
       "      <td>43</td>\n",
       "      <td>118</td>\n",
       "      <td>46</td>\n",
       "      <td>27</td>\n",
       "      <td>15</td>\n",
       "      <td>5</td>\n",
       "      <td>5</td>\n",
       "      <td>3</td>\n",
       "      <td>6</td>\n",
       "      <td>5</td>\n",
       "      <td>0</td>\n",
       "      <td>0</td>\n",
       "      <td>0</td>\n",
       "      <td>0</td>\n",
       "      <td>0</td>\n",
       "      <td>0</td>\n",
       "      <td>33</td>\n",
       "      <td>1</td>\n",
       "    </tr>\n",
       "    <tr>\n",
       "      <th>5</th>\n",
       "      <td>Master</td>\n",
       "      <td>Married</td>\n",
       "      <td>62513.0</td>\n",
       "      <td>520</td>\n",
       "      <td>42</td>\n",
       "      <td>98</td>\n",
       "      <td>0</td>\n",
       "      <td>42</td>\n",
       "      <td>14</td>\n",
       "      <td>2</td>\n",
       "      <td>6</td>\n",
       "      <td>4</td>\n",
       "      <td>10</td>\n",
       "      <td>6</td>\n",
       "      <td>0</td>\n",
       "      <td>0</td>\n",
       "      <td>0</td>\n",
       "      <td>0</td>\n",
       "      <td>0</td>\n",
       "      <td>0</td>\n",
       "      <td>47</td>\n",
       "      <td>1</td>\n",
       "    </tr>\n",
       "    <tr>\n",
       "      <th>6</th>\n",
       "      <td>Graduation</td>\n",
       "      <td>Single</td>\n",
       "      <td>55635.0</td>\n",
       "      <td>235</td>\n",
       "      <td>65</td>\n",
       "      <td>164</td>\n",
       "      <td>50</td>\n",
       "      <td>49</td>\n",
       "      <td>27</td>\n",
       "      <td>4</td>\n",
       "      <td>7</td>\n",
       "      <td>3</td>\n",
       "      <td>7</td>\n",
       "      <td>6</td>\n",
       "      <td>0</td>\n",
       "      <td>0</td>\n",
       "      <td>0</td>\n",
       "      <td>0</td>\n",
       "      <td>0</td>\n",
       "      <td>0</td>\n",
       "      <td>43</td>\n",
       "      <td>1</td>\n",
       "    </tr>\n",
       "    <tr>\n",
       "      <th>...</th>\n",
       "      <td>...</td>\n",
       "      <td>...</td>\n",
       "      <td>...</td>\n",
       "      <td>...</td>\n",
       "      <td>...</td>\n",
       "      <td>...</td>\n",
       "      <td>...</td>\n",
       "      <td>...</td>\n",
       "      <td>...</td>\n",
       "      <td>...</td>\n",
       "      <td>...</td>\n",
       "      <td>...</td>\n",
       "      <td>...</td>\n",
       "      <td>...</td>\n",
       "      <td>...</td>\n",
       "      <td>...</td>\n",
       "      <td>...</td>\n",
       "      <td>...</td>\n",
       "      <td>...</td>\n",
       "      <td>...</td>\n",
       "      <td>...</td>\n",
       "      <td>...</td>\n",
       "    </tr>\n",
       "    <tr>\n",
       "      <th>2234</th>\n",
       "      <td>Graduation</td>\n",
       "      <td>Married</td>\n",
       "      <td>34421.0</td>\n",
       "      <td>3</td>\n",
       "      <td>3</td>\n",
       "      <td>7</td>\n",
       "      <td>6</td>\n",
       "      <td>2</td>\n",
       "      <td>9</td>\n",
       "      <td>1</td>\n",
       "      <td>1</td>\n",
       "      <td>0</td>\n",
       "      <td>2</td>\n",
       "      <td>7</td>\n",
       "      <td>0</td>\n",
       "      <td>0</td>\n",
       "      <td>0</td>\n",
       "      <td>0</td>\n",
       "      <td>0</td>\n",
       "      <td>0</td>\n",
       "      <td>40</td>\n",
       "      <td>1</td>\n",
       "    </tr>\n",
       "    <tr>\n",
       "      <th>2235</th>\n",
       "      <td>Graduation</td>\n",
       "      <td>Married</td>\n",
       "      <td>61223.0</td>\n",
       "      <td>709</td>\n",
       "      <td>43</td>\n",
       "      <td>182</td>\n",
       "      <td>42</td>\n",
       "      <td>118</td>\n",
       "      <td>247</td>\n",
       "      <td>2</td>\n",
       "      <td>9</td>\n",
       "      <td>3</td>\n",
       "      <td>4</td>\n",
       "      <td>5</td>\n",
       "      <td>0</td>\n",
       "      <td>0</td>\n",
       "      <td>0</td>\n",
       "      <td>0</td>\n",
       "      <td>0</td>\n",
       "      <td>0</td>\n",
       "      <td>47</td>\n",
       "      <td>1</td>\n",
       "    </tr>\n",
       "    <tr>\n",
       "      <th>2236</th>\n",
       "      <td>PhD</td>\n",
       "      <td>Married</td>\n",
       "      <td>64014.0</td>\n",
       "      <td>406</td>\n",
       "      <td>0</td>\n",
       "      <td>30</td>\n",
       "      <td>0</td>\n",
       "      <td>0</td>\n",
       "      <td>8</td>\n",
       "      <td>7</td>\n",
       "      <td>8</td>\n",
       "      <td>2</td>\n",
       "      <td>5</td>\n",
       "      <td>7</td>\n",
       "      <td>0</td>\n",
       "      <td>0</td>\n",
       "      <td>0</td>\n",
       "      <td>1</td>\n",
       "      <td>0</td>\n",
       "      <td>0</td>\n",
       "      <td>68</td>\n",
       "      <td>3</td>\n",
       "    </tr>\n",
       "    <tr>\n",
       "      <th>2238</th>\n",
       "      <td>Master</td>\n",
       "      <td>Married</td>\n",
       "      <td>69245.0</td>\n",
       "      <td>428</td>\n",
       "      <td>30</td>\n",
       "      <td>214</td>\n",
       "      <td>80</td>\n",
       "      <td>30</td>\n",
       "      <td>61</td>\n",
       "      <td>2</td>\n",
       "      <td>6</td>\n",
       "      <td>5</td>\n",
       "      <td>10</td>\n",
       "      <td>3</td>\n",
       "      <td>0</td>\n",
       "      <td>0</td>\n",
       "      <td>0</td>\n",
       "      <td>0</td>\n",
       "      <td>0</td>\n",
       "      <td>0</td>\n",
       "      <td>58</td>\n",
       "      <td>1</td>\n",
       "    </tr>\n",
       "    <tr>\n",
       "      <th>2239</th>\n",
       "      <td>PhD</td>\n",
       "      <td>Married</td>\n",
       "      <td>52869.0</td>\n",
       "      <td>84</td>\n",
       "      <td>3</td>\n",
       "      <td>61</td>\n",
       "      <td>2</td>\n",
       "      <td>1</td>\n",
       "      <td>21</td>\n",
       "      <td>3</td>\n",
       "      <td>3</td>\n",
       "      <td>1</td>\n",
       "      <td>4</td>\n",
       "      <td>7</td>\n",
       "      <td>0</td>\n",
       "      <td>0</td>\n",
       "      <td>0</td>\n",
       "      <td>0</td>\n",
       "      <td>0</td>\n",
       "      <td>1</td>\n",
       "      <td>60</td>\n",
       "      <td>2</td>\n",
       "    </tr>\n",
       "  </tbody>\n",
       "</table>\n",
       "<p>1581 rows × 22 columns</p>\n",
       "</div>"
      ],
      "text/plain": [
       "             Edu Relationship   Income  Wines  Fruits  Meats  Fish  Sweets  \\\n",
       "1     Graduation       Single  46344.0     11       1      6     2       1   \n",
       "3     Graduation      Married  26646.0     11       4     20    10       3   \n",
       "4            PhD      Married  58293.0    173      43    118    46      27   \n",
       "5         Master      Married  62513.0    520      42     98     0      42   \n",
       "6     Graduation       Single  55635.0    235      65    164    50      49   \n",
       "...          ...          ...      ...    ...     ...    ...   ...     ...   \n",
       "2234  Graduation      Married  34421.0      3       3      7     6       2   \n",
       "2235  Graduation      Married  61223.0    709      43    182    42     118   \n",
       "2236         PhD      Married  64014.0    406       0     30     0       0   \n",
       "2238      Master      Married  69245.0    428      30    214    80      30   \n",
       "2239         PhD      Married  52869.0     84       3     61     2       1   \n",
       "\n",
       "      Golds  TotalDeals  Web  Catalog  Store  NumWebVisitsMonth  AcceptedCmp3  \\\n",
       "1         6           2    1        1      2                  5             0   \n",
       "3         5           2    2        0      4                  6             0   \n",
       "4        15           5    5        3      6                  5             0   \n",
       "5        14           2    6        4     10                  6             0   \n",
       "6        27           4    7        3      7                  6             0   \n",
       "...     ...         ...  ...      ...    ...                ...           ...   \n",
       "2234      9           1    1        0      2                  7             0   \n",
       "2235    247           2    9        3      4                  5             0   \n",
       "2236      8           7    8        2      5                  7             0   \n",
       "2238     61           2    6        5     10                  3             0   \n",
       "2239     21           3    3        1      4                  7             0   \n",
       "\n",
       "      AcceptedCmp4  AcceptedCmp5  AcceptedCmp1  AcceptedCmp2  AcceptedCmp6  \\\n",
       "1                0             0             0             0             0   \n",
       "3                0             0             0             0             0   \n",
       "4                0             0             0             0             0   \n",
       "5                0             0             0             0             0   \n",
       "6                0             0             0             0             0   \n",
       "...            ...           ...           ...           ...           ...   \n",
       "2234             0             0             0             0             0   \n",
       "2235             0             0             0             0             0   \n",
       "2236             0             0             1             0             0   \n",
       "2238             0             0             0             0             0   \n",
       "2239             0             0             0             0             1   \n",
       "\n",
       "      Age  NumChild  \n",
       "1      60         2  \n",
       "3      30         1  \n",
       "4      33         1  \n",
       "5      47         1  \n",
       "6      43         1  \n",
       "...   ...       ...  \n",
       "2234   40         1  \n",
       "2235   47         1  \n",
       "2236   68         3  \n",
       "2238   58         1  \n",
       "2239   60         2  \n",
       "\n",
       "[1581 rows x 22 columns]"
      ]
     },
     "execution_count": 41,
     "metadata": {},
     "output_type": "execute_result"
    }
   ],
   "source": [
    "parent = mkt_df.drop(columns=['Kidhome', 'Teenhome', 'Dt_Customer', 'Recency', 'Complain', 'ID']).rename(columns={\n",
    "    'MntWines': 'Wines', 'MntFruits': 'Fruits', \n",
    "   'MntMeatProducts': 'Meats', 'MntFishProducts': 'Fish', \n",
    "   'MntSweetProducts': 'Sweets', 'MntGoldProds': 'Golds',\n",
    "   'NumWebPurchases': 'Web', 'NumCatalogPurchases': 'Catalog',\n",
    "   'NumStorePurchases': 'Store', 'Education': 'Edu', \n",
    "   'Marital_Status': 'Relationship', 'NumDealsPurchases': 'TotalDeals'\n",
    "})\n",
    "\n",
    "parent['NumChild'] = num_child\n",
    "parent = parent[parent['NumChild'] > 0]\n",
    "parent"
   ]
  },
  {
   "cell_type": "code",
   "execution_count": 151,
   "id": "ae296022",
   "metadata": {
    "scrolled": true
   },
   "outputs": [
    {
     "data": {
      "text/html": [
       "<div>\n",
       "<style scoped>\n",
       "    .dataframe tbody tr th:only-of-type {\n",
       "        vertical-align: middle;\n",
       "    }\n",
       "\n",
       "    .dataframe tbody tr th {\n",
       "        vertical-align: top;\n",
       "    }\n",
       "\n",
       "    .dataframe thead th {\n",
       "        text-align: right;\n",
       "    }\n",
       "</style>\n",
       "<table border=\"1\" class=\"dataframe\">\n",
       "  <thead>\n",
       "    <tr style=\"text-align: right;\">\n",
       "      <th></th>\n",
       "      <th>Wines</th>\n",
       "      <th>Fruits</th>\n",
       "      <th>Meats</th>\n",
       "      <th>Fish</th>\n",
       "      <th>Sweets</th>\n",
       "      <th>Golds</th>\n",
       "    </tr>\n",
       "    <tr>\n",
       "      <th>NumChild</th>\n",
       "      <th></th>\n",
       "      <th></th>\n",
       "      <th></th>\n",
       "      <th></th>\n",
       "      <th></th>\n",
       "      <th></th>\n",
       "    </tr>\n",
       "  </thead>\n",
       "  <tbody>\n",
       "    <tr>\n",
       "      <th>1</th>\n",
       "      <td>299910</td>\n",
       "      <td>21741</td>\n",
       "      <td>110807</td>\n",
       "      <td>29929</td>\n",
       "      <td>22519</td>\n",
       "      <td>45247</td>\n",
       "    </tr>\n",
       "    <tr>\n",
       "      <th>2</th>\n",
       "      <td>59133</td>\n",
       "      <td>3269</td>\n",
       "      <td>21504</td>\n",
       "      <td>4694</td>\n",
       "      <td>3456</td>\n",
       "      <td>10586</td>\n",
       "    </tr>\n",
       "    <tr>\n",
       "      <th>3</th>\n",
       "      <td>8067</td>\n",
       "      <td>299</td>\n",
       "      <td>2981</td>\n",
       "      <td>268</td>\n",
       "      <td>254</td>\n",
       "      <td>906</td>\n",
       "    </tr>\n",
       "  </tbody>\n",
       "</table>\n",
       "</div>"
      ],
      "text/plain": [
       "           Wines  Fruits   Meats   Fish  Sweets  Golds\n",
       "NumChild                                              \n",
       "1         299910   21741  110807  29929   22519  45247\n",
       "2          59133    3269   21504   4694    3456  10586\n",
       "3           8067     299    2981    268     254    906"
      ]
     },
     "execution_count": 151,
     "metadata": {},
     "output_type": "execute_result"
    }
   ],
   "source": [
    "parent_deals = parent.groupby('NumChild')[['Wines', 'Fruits', 'Meats', 'Fish', 'Sweets', 'Golds']].sum()\n",
    "parent_deals"
   ]
  },
  {
   "cell_type": "code",
   "execution_count": 150,
   "id": "19f4444b",
   "metadata": {
    "scrolled": true
   },
   "outputs": [
    {
     "data": {
      "image/png": "[encoded data removed]",
      "text/plain": [
       "<Figure size 1080x360 with 3 Axes>"
      ]
     },
     "metadata": {},
     "output_type": "display_data"
    }
   ],
   "source": [
    "df = pd.melt(parent_deals.reset_index(), id_vars='NumChild', var_name= 'products', value_name='amount')\n",
    "sns.catplot(x=\"products\", y=\"amount\", col=\"NumChild\", data=df, kind=\"bar\");\n",
    "sns.set_theme(style=\"darkgrid\")"
   ]
  },
  {
   "cell_type": "markdown",
   "id": "a9e9ff84",
   "metadata": {},
   "source": [
    "Nhận xét:\n",
    "1. Nhìn chung rượu vẫn là sản phẩm tiêu thụ số 1 trong các hộ gia đình có con. Riêng gia đình 1 con thì lượng tiêu thụ cao gấp khoảng 5 lần so với gia đình 2 con và cao gấp khoảng 30 lần so với 3 con!\n",
    "\n",
    "2. Nhìn chung thịt vẫn là ưu tiên thứ 2 sau rượu ở các nhóm gia đình có con; thứ 3 là vàng (Gold). Các sản phẩm còn lại tiêu thụ 1 lượng không đáng kể so với các sản phẩm khác trong cùng nhóm"
   ]
  },
  {
   "cell_type": "markdown",
   "id": "60916e4f",
   "metadata": {},
   "source": [
    "### Khách hàng có con thường chấp nhận offer vào lần marketing thứ mấy (So sánh với nhóm không có con xem thế nào)"
   ]
  },
  {
   "cell_type": "code",
   "execution_count": 163,
   "id": "1ee48df9",
   "metadata": {
    "scrolled": true
   },
   "outputs": [
    {
     "data": {
      "image/png": "[encoded data removed]",
      "text/plain": [
       "<Figure size 432x288 with 1 Axes>"
      ]
     },
     "metadata": {},
     "output_type": "display_data"
    }
   ],
   "source": [
    "def say_yes(s):\n",
    "    return s[s == 1].count()\n",
    "\n",
    "parent_camp = parent[accepted_cmp]\n",
    "labels = [f'AC{i}' for i in range(1,7)]\n",
    "parent_camp.agg(say_yes).plot.bar(rot=0, grid=True)\n",
    "plt.xticks(range(0,len(labels)), labels);"
   ]
  },
  {
   "cell_type": "markdown",
   "id": "bb38422e",
   "metadata": {},
   "source": [
    "$\\to$ Dễ thấy ngay ở lần marketing thứ 3,4 và 6, khách hàng có con có xu hướng dể chấp nhận mua hàng hơn. Thế khách hàng không con thì sao?"
   ]
  },
  {
   "cell_type": "code",
   "execution_count": 76,
   "id": "eab1d727",
   "metadata": {},
   "outputs": [
    {
     "data": {
      "image/png": "[encoded data removed]",
      "text/plain": [
       "<Figure size 432x288 with 1 Axes>"
      ]
     },
     "metadata": {
      "needs_background": "light"
     },
     "output_type": "display_data"
    }
   ],
   "source": [
    "non_parent_ix = ~mkt_df.index.isin(parent.index)\n",
    "non_parent = mkt_df.loc[non_parent_ix].copy()\n",
    "non_parent = non_parent[accepted_cmp]\n",
    "# non_parent['NumChild'] = num_child[non_parent_ix]\n",
    "# non_parent['NumChild']\n",
    "\n",
    "labels = [f'AC{i}' for i in range(1,7)]\n",
    "non_parent.agg(say_yes).plot.bar(rot=0, grid=True)\n",
    "plt.xticks(range(0,len(labels)), labels);"
   ]
  },
  {
   "cell_type": "markdown",
   "id": "61d08989",
   "metadata": {},
   "source": [
    "## Tổng số lượng đơn hàng của tất cả khách hàng\n",
    "\n",
    "Lợi ích: nắm rõ được là công ty đang sa sút hay bình ổn, hay có nhiều đơn hàng đồng nghĩa với việc thu về lợi nhuận nhiều hơn"
   ]
  },
  {
   "cell_type": "code",
   "execution_count": 155,
   "id": "be61756e",
   "metadata": {
    "scrolled": true
   },
   "outputs": [
    {
     "data": {
      "image/png": "[encoded data removed]",
      "text/plain": [
       "<Figure size 360x360 with 1 Axes>"
      ]
     },
     "metadata": {},
     "output_type": "display_data"
    }
   ],
   "source": [
    "total_buy = mkt_df['NumWebPurchases'] + mkt_df['NumCatalogPurchases'] + mkt_df['NumStorePurchases'] \\\n",
    "                                                                      + mkt_df['NumDealsPurchases']\n",
    "# tìm x mà tại đó y đạt max\n",
    "freq = total_buy.value_counts()\n",
    "peek_1 = freq[freq.index.isin(range(1,11))].idxmax()\n",
    "peek_2 = freq[freq.index.isin(range(15,20))].idxmax()\n",
    "\n",
    "g = sns.displot(total_buy,color = 'mediumblue', kde=True);\n",
    "plt.xticks([0, peek_1, 10, peek_2, 20, 30, 40]);\n",
    "plt.xlabel('total_purchase');"
   ]
  },
  {
   "cell_type": "markdown",
   "id": "8a479364",
   "metadata": {},
   "source": [
    "$\\to$ Đồ thị có 2 đỉnh. Có vẻ như số lượng đơn hàng 7 món và 17 món khá phổ biến từ ngày có được dataset này tới khoảng năm cuối năm 2014"
   ]
  },
  {
   "cell_type": "markdown",
   "id": "e3b54fc6",
   "metadata": {},
   "source": [
    "## Với nhóm khách hàng mua hàng ít hơn trung bình, có điều gì ở họ mà làm cho việc mua sản phẩm ở công ty thấp thế?"
   ]
  },
  {
   "cell_type": "code",
   "execution_count": 104,
   "id": "7f352547",
   "metadata": {},
   "outputs": [
    {
     "data": {
      "text/plain": [
       "range(0, 45)"
      ]
     },
     "execution_count": 104,
     "metadata": {},
     "output_type": "execute_result"
    }
   ],
   "source": [
    "sns.displot(x='weight', data=mkt_df, kind='kde', hue='origin');"
   ]
  }
 ],
 "metadata": {
  "kernelspec": {
   "display_name": "Python 3 (ipykernel)",
   "language": "python",
   "name": "python3"
  },
  "language_info": {
   "codemirror_mode": {
    "name": "ipython",
    "version": 3
   },
   "file_extension": ".py",
   "mimetype": "text/x-python",
   "name": "python",
   "nbconvert_exporter": "python",
   "pygments_lexer": "ipython3",
   "version": "3.8.8"
  }
 },
 "nbformat": 4,
 "nbformat_minor": 5
}
